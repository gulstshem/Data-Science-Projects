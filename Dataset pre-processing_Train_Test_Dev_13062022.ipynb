{
 "cells": [
  {
   "cell_type": "markdown",
   "metadata": {},
   "source": [
    "## Dataset pre-processing_Train_Test_Dev_13062022# Preparing the data for modeling"
   ]
  },
  {
   "cell_type": "markdown",
   "metadata": {},
   "source": [
    "## Subsetting the dataset\n",
    " \n",
    "When our flat-file is ready for modeling we have to procede to generate the partitions that we will use for modeling. No matter which method we will use for training our data, we have to generate first a test dataset. This test dataset has to be set on hold aside and only used at the end of the whole process of training and selecting the best model.\n",
    " \n",
    "After we selected the test dataset we proceed to use the rest of the data for training the models. There are three main strategies for that:\n",
    " \n",
    "* Dividing into train and dev\n",
    "* Using Cross-validation\n",
    "* Using Bootstrapping\n",
    "\n",
    "\n",
    "## Test dataset"
   ]
  },
  {
   "cell_type": "code",
   "execution_count": null,
   "metadata": {},
   "outputs": [],
   "source": []
  },
  {
   "cell_type": "code",
   "execution_count": 3,
   "metadata": {},
   "outputs": [],
   "source": [
    "data <- read.csv('BGP_FS_10062022.csv')"
   ]
  },
  {
   "cell_type": "code",
   "execution_count": null,
   "metadata": {},
   "outputs": [],
   "source": [
    "#write.csv(data, file=\"data_11062022.csv\")"
   ]
  },
  {
   "cell_type": "code",
   "execution_count": 4,
   "metadata": {},
   "outputs": [
    {
     "data": {
      "text/html": [
       "<table class=\"dataframe\">\n",
       "<caption>A data.frame: 6 × 22</caption>\n",
       "<thead>\n",
       "\t<tr><th></th><th scope=col>ID</th><th scope=col>lng</th><th scope=col>ChWt_Min_W3</th><th scope=col>ChWt_Min_W4</th><th scope=col>ChWt_Min_W5</th><th scope=col>ChWt_AVG_W1</th><th scope=col>ChWt_STD_W1</th><th scope=col>Min_seaLvlPressure_W2</th><th scope=col>Min_seaLvlPressure_W3</th><th scope=col>Min_seaLvlPressure_W4</th><th scope=col>...</th><th scope=col>Avg_seaLvlPressure_W5</th><th scope=col>Stm_Max_W4.high</th><th scope=col>Stm_Max_W5.high</th><th scope=col>Stm_Min_W1.high</th><th scope=col>Stm_Min_W5.high</th><th scope=col>Stm_AVG_W1.high</th><th scope=col>Stm_AVG_W5.high</th><th scope=col>Stm_STD_W1.high</th><th scope=col>Stm_STD_W5.high</th><th scope=col>El_Nxt_Mnth_Avg_OC</th></tr>\n",
       "\t<tr><th></th><th scope=col>&lt;int&gt;</th><th scope=col>&lt;dbl&gt;</th><th scope=col>&lt;dbl&gt;</th><th scope=col>&lt;dbl&gt;</th><th scope=col>&lt;dbl&gt;</th><th scope=col>&lt;dbl&gt;</th><th scope=col>&lt;dbl&gt;</th><th scope=col>&lt;dbl&gt;</th><th scope=col>&lt;dbl&gt;</th><th scope=col>&lt;dbl&gt;</th><th scope=col>...</th><th scope=col>&lt;dbl&gt;</th><th scope=col>&lt;int&gt;</th><th scope=col>&lt;int&gt;</th><th scope=col>&lt;int&gt;</th><th scope=col>&lt;int&gt;</th><th scope=col>&lt;int&gt;</th><th scope=col>&lt;int&gt;</th><th scope=col>&lt;int&gt;</th><th scope=col>&lt;int&gt;</th><th scope=col>&lt;dbl&gt;</th></tr>\n",
       "</thead>\n",
       "<tbody>\n",
       "\t<tr><th scope=row>1</th><td>1</td><td>-75.6972</td><td>0</td><td>0</td><td>0</td><td>0.0000000</td><td>0.000000</td><td>6.912842</td><td>6.915525</td><td>6.905753</td><td>...</td><td>6.919005</td><td>0</td><td>0</td><td>0</td><td>0</td><td>0</td><td>0</td><td>0</td><td>0</td><td>4.057455</td></tr>\n",
       "\t<tr><th scope=row>2</th><td>2</td><td>-75.6972</td><td>0</td><td>0</td><td>0</td><td>0.0000000</td><td>0.000000</td><td>6.912842</td><td>6.915525</td><td>6.905753</td><td>...</td><td>6.919005</td><td>0</td><td>0</td><td>0</td><td>0</td><td>0</td><td>0</td><td>0</td><td>0</td><td>4.696928</td></tr>\n",
       "\t<tr><th scope=row>3</th><td>3</td><td>-75.6960</td><td>0</td><td>0</td><td>0</td><td>0.0000000</td><td>0.000000</td><td>6.912842</td><td>6.915525</td><td>6.905753</td><td>...</td><td>6.919005</td><td>0</td><td>0</td><td>0</td><td>0</td><td>0</td><td>0</td><td>0</td><td>0</td><td>3.069193</td></tr>\n",
       "\t<tr><th scope=row>4</th><td>4</td><td>-75.6972</td><td>0</td><td>0</td><td>0</td><td>0.4463035</td><td>1.202956</td><td>6.912842</td><td>6.915525</td><td>6.905753</td><td>...</td><td>6.919005</td><td>0</td><td>0</td><td>0</td><td>0</td><td>0</td><td>0</td><td>0</td><td>0</td><td>5.260250</td></tr>\n",
       "\t<tr><th scope=row>5</th><td>5</td><td>-75.6960</td><td>0</td><td>0</td><td>0</td><td>0.0000000</td><td>0.000000</td><td>6.912842</td><td>6.915525</td><td>6.905753</td><td>...</td><td>6.919005</td><td>0</td><td>0</td><td>0</td><td>0</td><td>0</td><td>0</td><td>0</td><td>0</td><td>4.046030</td></tr>\n",
       "\t<tr><th scope=row>6</th><td>6</td><td>-75.6972</td><td>0</td><td>0</td><td>0</td><td>1.6471662</td><td>2.420635</td><td>6.912842</td><td>6.915525</td><td>6.905753</td><td>...</td><td>6.919005</td><td>0</td><td>0</td><td>0</td><td>0</td><td>0</td><td>0</td><td>0</td><td>0</td><td>4.268104</td></tr>\n",
       "</tbody>\n",
       "</table>\n"
      ],
      "text/latex": [
       "A data.frame: 6 × 22\n",
       "\\begin{tabular}{r|lllllllllllllllllllll}\n",
       "  & ID & lng & ChWt\\_Min\\_W3 & ChWt\\_Min\\_W4 & ChWt\\_Min\\_W5 & ChWt\\_AVG\\_W1 & ChWt\\_STD\\_W1 & Min\\_seaLvlPressure\\_W2 & Min\\_seaLvlPressure\\_W3 & Min\\_seaLvlPressure\\_W4 & ... & Avg\\_seaLvlPressure\\_W5 & Stm\\_Max\\_W4.high & Stm\\_Max\\_W5.high & Stm\\_Min\\_W1.high & Stm\\_Min\\_W5.high & Stm\\_AVG\\_W1.high & Stm\\_AVG\\_W5.high & Stm\\_STD\\_W1.high & Stm\\_STD\\_W5.high & El\\_Nxt\\_Mnth\\_Avg\\_OC\\\\\n",
       "  & <int> & <dbl> & <dbl> & <dbl> & <dbl> & <dbl> & <dbl> & <dbl> & <dbl> & <dbl> & ... & <dbl> & <int> & <int> & <int> & <int> & <int> & <int> & <int> & <int> & <dbl>\\\\\n",
       "\\hline\n",
       "\t1 & 1 & -75.6972 & 0 & 0 & 0 & 0.0000000 & 0.000000 & 6.912842 & 6.915525 & 6.905753 & ... & 6.919005 & 0 & 0 & 0 & 0 & 0 & 0 & 0 & 0 & 4.057455\\\\\n",
       "\t2 & 2 & -75.6972 & 0 & 0 & 0 & 0.0000000 & 0.000000 & 6.912842 & 6.915525 & 6.905753 & ... & 6.919005 & 0 & 0 & 0 & 0 & 0 & 0 & 0 & 0 & 4.696928\\\\\n",
       "\t3 & 3 & -75.6960 & 0 & 0 & 0 & 0.0000000 & 0.000000 & 6.912842 & 6.915525 & 6.905753 & ... & 6.919005 & 0 & 0 & 0 & 0 & 0 & 0 & 0 & 0 & 3.069193\\\\\n",
       "\t4 & 4 & -75.6972 & 0 & 0 & 0 & 0.4463035 & 1.202956 & 6.912842 & 6.915525 & 6.905753 & ... & 6.919005 & 0 & 0 & 0 & 0 & 0 & 0 & 0 & 0 & 5.260250\\\\\n",
       "\t5 & 5 & -75.6960 & 0 & 0 & 0 & 0.0000000 & 0.000000 & 6.912842 & 6.915525 & 6.905753 & ... & 6.919005 & 0 & 0 & 0 & 0 & 0 & 0 & 0 & 0 & 4.046030\\\\\n",
       "\t6 & 6 & -75.6972 & 0 & 0 & 0 & 1.6471662 & 2.420635 & 6.912842 & 6.915525 & 6.905753 & ... & 6.919005 & 0 & 0 & 0 & 0 & 0 & 0 & 0 & 0 & 4.268104\\\\\n",
       "\\end{tabular}\n"
      ],
      "text/markdown": [
       "\n",
       "A data.frame: 6 × 22\n",
       "\n",
       "| <!--/--> | ID &lt;int&gt; | lng &lt;dbl&gt; | ChWt_Min_W3 &lt;dbl&gt; | ChWt_Min_W4 &lt;dbl&gt; | ChWt_Min_W5 &lt;dbl&gt; | ChWt_AVG_W1 &lt;dbl&gt; | ChWt_STD_W1 &lt;dbl&gt; | Min_seaLvlPressure_W2 &lt;dbl&gt; | Min_seaLvlPressure_W3 &lt;dbl&gt; | Min_seaLvlPressure_W4 &lt;dbl&gt; | ... ... | Avg_seaLvlPressure_W5 &lt;dbl&gt; | Stm_Max_W4.high &lt;int&gt; | Stm_Max_W5.high &lt;int&gt; | Stm_Min_W1.high &lt;int&gt; | Stm_Min_W5.high &lt;int&gt; | Stm_AVG_W1.high &lt;int&gt; | Stm_AVG_W5.high &lt;int&gt; | Stm_STD_W1.high &lt;int&gt; | Stm_STD_W5.high &lt;int&gt; | El_Nxt_Mnth_Avg_OC &lt;dbl&gt; |\n",
       "|---|---|---|---|---|---|---|---|---|---|---|---|---|---|---|---|---|---|---|---|---|---|\n",
       "| 1 | 1 | -75.6972 | 0 | 0 | 0 | 0.0000000 | 0.000000 | 6.912842 | 6.915525 | 6.905753 | ... | 6.919005 | 0 | 0 | 0 | 0 | 0 | 0 | 0 | 0 | 4.057455 |\n",
       "| 2 | 2 | -75.6972 | 0 | 0 | 0 | 0.0000000 | 0.000000 | 6.912842 | 6.915525 | 6.905753 | ... | 6.919005 | 0 | 0 | 0 | 0 | 0 | 0 | 0 | 0 | 4.696928 |\n",
       "| 3 | 3 | -75.6960 | 0 | 0 | 0 | 0.0000000 | 0.000000 | 6.912842 | 6.915525 | 6.905753 | ... | 6.919005 | 0 | 0 | 0 | 0 | 0 | 0 | 0 | 0 | 3.069193 |\n",
       "| 4 | 4 | -75.6972 | 0 | 0 | 0 | 0.4463035 | 1.202956 | 6.912842 | 6.915525 | 6.905753 | ... | 6.919005 | 0 | 0 | 0 | 0 | 0 | 0 | 0 | 0 | 5.260250 |\n",
       "| 5 | 5 | -75.6960 | 0 | 0 | 0 | 0.0000000 | 0.000000 | 6.912842 | 6.915525 | 6.905753 | ... | 6.919005 | 0 | 0 | 0 | 0 | 0 | 0 | 0 | 0 | 4.046030 |\n",
       "| 6 | 6 | -75.6972 | 0 | 0 | 0 | 1.6471662 | 2.420635 | 6.912842 | 6.915525 | 6.905753 | ... | 6.919005 | 0 | 0 | 0 | 0 | 0 | 0 | 0 | 0 | 4.268104 |\n",
       "\n"
      ],
      "text/plain": [
       "  ID lng      ChWt_Min_W3 ChWt_Min_W4 ChWt_Min_W5 ChWt_AVG_W1 ChWt_STD_W1\n",
       "1 1  -75.6972 0           0           0           0.0000000   0.000000   \n",
       "2 2  -75.6972 0           0           0           0.0000000   0.000000   \n",
       "3 3  -75.6960 0           0           0           0.0000000   0.000000   \n",
       "4 4  -75.6972 0           0           0           0.4463035   1.202956   \n",
       "5 5  -75.6960 0           0           0           0.0000000   0.000000   \n",
       "6 6  -75.6972 0           0           0           1.6471662   2.420635   \n",
       "  Min_seaLvlPressure_W2 Min_seaLvlPressure_W3 Min_seaLvlPressure_W4 ...\n",
       "1 6.912842              6.915525              6.905753              ...\n",
       "2 6.912842              6.915525              6.905753              ...\n",
       "3 6.912842              6.915525              6.905753              ...\n",
       "4 6.912842              6.915525              6.905753              ...\n",
       "5 6.912842              6.915525              6.905753              ...\n",
       "6 6.912842              6.915525              6.905753              ...\n",
       "  Avg_seaLvlPressure_W5 Stm_Max_W4.high Stm_Max_W5.high Stm_Min_W1.high\n",
       "1 6.919005              0               0               0              \n",
       "2 6.919005              0               0               0              \n",
       "3 6.919005              0               0               0              \n",
       "4 6.919005              0               0               0              \n",
       "5 6.919005              0               0               0              \n",
       "6 6.919005              0               0               0              \n",
       "  Stm_Min_W5.high Stm_AVG_W1.high Stm_AVG_W5.high Stm_STD_W1.high\n",
       "1 0               0               0               0              \n",
       "2 0               0               0               0              \n",
       "3 0               0               0               0              \n",
       "4 0               0               0               0              \n",
       "5 0               0               0               0              \n",
       "6 0               0               0               0              \n",
       "  Stm_STD_W5.high El_Nxt_Mnth_Avg_OC\n",
       "1 0               4.057455          \n",
       "2 0               4.696928          \n",
       "3 0               3.069193          \n",
       "4 0               5.260250          \n",
       "5 0               4.046030          \n",
       "6 0               4.268104          "
      ]
     },
     "metadata": {},
     "output_type": "display_data"
    }
   ],
   "source": [
    "head(data)"
   ]
  },
  {
   "cell_type": "code",
   "execution_count": 5,
   "metadata": {},
   "outputs": [
    {
     "data": {
      "text/html": [
       "<style>\n",
       ".list-inline {list-style: none; margin:0; padding: 0}\n",
       ".list-inline>li {display: inline-block}\n",
       ".list-inline>li:not(:last-child)::after {content: \"\\00b7\"; padding: 0 .5ex}\n",
       "</style>\n",
       "<ol class=list-inline><li>10272</li><li>22</li></ol>\n"
      ],
      "text/latex": [
       "\\begin{enumerate*}\n",
       "\\item 10272\n",
       "\\item 22\n",
       "\\end{enumerate*}\n"
      ],
      "text/markdown": [
       "1. 10272\n",
       "2. 22\n",
       "\n",
       "\n"
      ],
      "text/plain": [
       "[1] 10272    22"
      ]
     },
     "metadata": {},
     "output_type": "display_data"
    }
   ],
   "source": [
    "dim(data)"
   ]
  },
  {
   "cell_type": "code",
   "execution_count": 4,
   "metadata": {},
   "outputs": [],
   "source": [
    "data$Stm_Max_W4.high <- factor(data$Stm_Max_W4.high)\n",
    "data$Stm_Max_W5.high <- factor(data$Stm_Max_W5.high)\n",
    "data$Stm_Min_W1.high <- factor(data$Stm_Min_W1.high)\n",
    "data$Stm_Min_W5.high <- factor(data$Stm_Min_W5.high)\n",
    "data$Stm_AVG_W1.high <- factor(data$Stm_AVG_W1.high)\n",
    "data$Stm_AVG_W5.high <- factor(data$Stm_AVG_W5.high)\n",
    "data$Stm_STD_W1.high <- factor(data$Stm_STD_W1.high)\n",
    "data$Stm_STD_W5.high <- factor(data$Stm_STD_W5.high)\n"
   ]
  },
  {
   "cell_type": "code",
   "execution_count": 6,
   "metadata": {
    "scrolled": true
   },
   "outputs": [
    {
     "data": {
      "text/plain": [
       "       ID             lng           ChWt_Min_W3      ChWt_Min_W4    \n",
       " Min.   :    1   Min.   :-111.93   Min.   : 0.000   Min.   : 0.000  \n",
       " 1st Qu.: 2569   1st Qu.: -97.74   1st Qu.: 0.000   1st Qu.: 0.000  \n",
       " Median : 5136   Median : -93.26   Median : 2.187   Median : 2.470  \n",
       " Mean   : 5136   Mean   : -89.96   Mean   : 2.903   Mean   : 3.034  \n",
       " 3rd Qu.: 7704   3rd Qu.: -76.49   3rd Qu.: 5.172   3rd Qu.: 5.352  \n",
       " Max.   :10272   Max.   : -74.70   Max.   :15.663   Max.   :15.414  \n",
       "  ChWt_Min_W5      ChWt_AVG_W1      ChWt_STD_W1     Min_seaLvlPressure_W2\n",
       " Min.   : 0.000   Min.   : 0.000   Min.   : 0.000   Min.   :6.892        \n",
       " 1st Qu.: 0.000   1st Qu.: 3.983   1st Qu.: 3.401   1st Qu.:6.911        \n",
       " Median : 2.496   Median : 5.750   Median : 4.985   Median :6.917        \n",
       " Mean   : 2.983   Mean   : 5.644   Mean   : 4.944   Mean   :6.916        \n",
       " 3rd Qu.: 5.198   3rd Qu.: 7.112   3rd Qu.: 6.068   3rd Qu.:6.920        \n",
       " Max.   :15.705   Max.   :15.763   Max.   :14.236   Max.   :6.933        \n",
       " Min_seaLvlPressure_W3 Min_seaLvlPressure_W4 Min_seaLvlPressure_W5\n",
       " Min.   :6.897         Min.   :6.890         Min.   :6.892        \n",
       " 1st Qu.:6.911         1st Qu.:6.911         1st Qu.:6.911        \n",
       " Median :6.915         Median :6.916         Median :6.919        \n",
       " Mean   :6.915         Mean   :6.915         Mean   :6.917        \n",
       " 3rd Qu.:6.918         3rd Qu.:6.919         3rd Qu.:6.922        \n",
       " Max.   :6.925         Max.   :6.927         Max.   :6.936        \n",
       " Avg_seaLvlPressure_W4 Avg_seaLvlPressure_W5 Stm_Max_W4.high  \n",
       " Min.   :6.914         Min.   :6.904         Min.   :0.00000  \n",
       " 1st Qu.:6.922         1st Qu.:6.919         1st Qu.:0.00000  \n",
       " Median :6.925         Median :6.924         Median :0.00000  \n",
       " Mean   :6.924         Mean   :6.923         Mean   :0.08908  \n",
       " 3rd Qu.:6.927         3rd Qu.:6.926         3rd Qu.:0.00000  \n",
       " Max.   :6.935         Max.   :6.939         Max.   :1.00000  \n",
       " Stm_Max_W5.high   Stm_Min_W1.high   Stm_Min_W5.high   Stm_AVG_W1.high  \n",
       " Min.   :0.00000   Min.   :0.00000   Min.   :0.00000   Min.   :0.00000  \n",
       " 1st Qu.:0.00000   1st Qu.:0.00000   1st Qu.:0.00000   1st Qu.:0.00000  \n",
       " Median :0.00000   Median :0.00000   Median :0.00000   Median :0.00000  \n",
       " Mean   :0.08976   Mean   :0.09034   Mean   :0.09063   Mean   :0.09034  \n",
       " 3rd Qu.:0.00000   3rd Qu.:0.00000   3rd Qu.:0.00000   3rd Qu.:0.00000  \n",
       " Max.   :1.00000   Max.   :1.00000   Max.   :1.00000   Max.   :1.00000  \n",
       " Stm_AVG_W5.high   Stm_STD_W1.high   Stm_STD_W5.high   El_Nxt_Mnth_Avg_OC\n",
       " Min.   :0.00000   Min.   :0.00000   Min.   :0.00000   Min.   :0.03044   \n",
       " 1st Qu.:0.00000   1st Qu.:0.00000   1st Qu.:0.00000   1st Qu.:3.42329   \n",
       " Median :0.00000   Median :0.00000   Median :0.00000   Median :4.36741   \n",
       " Mean   :0.09063   Mean   :0.09034   Mean   :0.09054   Mean   :4.34023   \n",
       " 3rd Qu.:0.00000   3rd Qu.:0.00000   3rd Qu.:0.00000   3rd Qu.:5.20792   \n",
       " Max.   :1.00000   Max.   :1.00000   Max.   :1.00000   Max.   :8.57844   "
      ]
     },
     "metadata": {},
     "output_type": "display_data"
    }
   ],
   "source": [
    "summary(data)"
   ]
  },
  {
   "cell_type": "code",
   "execution_count": 7,
   "metadata": {},
   "outputs": [
    {
     "data": {
      "text/html": [
       "<style>\n",
       ".list-inline {list-style: none; margin:0; padding: 0}\n",
       ".list-inline>li {display: inline-block}\n",
       ".list-inline>li:not(:last-child)::after {content: \"\\00b7\"; padding: 0 .5ex}\n",
       "</style>\n",
       "<ol class=list-inline><li>'lng'</li><li>'ChWt_Min_W3'</li><li>'ChWt_Min_W4'</li><li>'ChWt_Min_W5'</li><li>'ChWt_AVG_W1'</li><li>'ChWt_STD_W1'</li><li>'Min_seaLvlPressure_W2'</li><li>'Min_seaLvlPressure_W3'</li><li>'Min_seaLvlPressure_W4'</li><li>'Min_seaLvlPressure_W5'</li><li>'Avg_seaLvlPressure_W4'</li><li>'Avg_seaLvlPressure_W5'</li><li>'Stm_Max_W4.high'</li><li>'Stm_Max_W5.high'</li><li>'Stm_Min_W1.high'</li><li>'Stm_Min_W5.high'</li><li>'Stm_AVG_W1.high'</li><li>'Stm_AVG_W5.high'</li><li>'Stm_STD_W1.high'</li><li>'Stm_STD_W5.high'</li><li>'El_Nxt_Mnth_Avg_OC'</li></ol>\n"
      ],
      "text/latex": [
       "\\begin{enumerate*}\n",
       "\\item 'lng'\n",
       "\\item 'ChWt\\_Min\\_W3'\n",
       "\\item 'ChWt\\_Min\\_W4'\n",
       "\\item 'ChWt\\_Min\\_W5'\n",
       "\\item 'ChWt\\_AVG\\_W1'\n",
       "\\item 'ChWt\\_STD\\_W1'\n",
       "\\item 'Min\\_seaLvlPressure\\_W2'\n",
       "\\item 'Min\\_seaLvlPressure\\_W3'\n",
       "\\item 'Min\\_seaLvlPressure\\_W4'\n",
       "\\item 'Min\\_seaLvlPressure\\_W5'\n",
       "\\item 'Avg\\_seaLvlPressure\\_W4'\n",
       "\\item 'Avg\\_seaLvlPressure\\_W5'\n",
       "\\item 'Stm\\_Max\\_W4.high'\n",
       "\\item 'Stm\\_Max\\_W5.high'\n",
       "\\item 'Stm\\_Min\\_W1.high'\n",
       "\\item 'Stm\\_Min\\_W5.high'\n",
       "\\item 'Stm\\_AVG\\_W1.high'\n",
       "\\item 'Stm\\_AVG\\_W5.high'\n",
       "\\item 'Stm\\_STD\\_W1.high'\n",
       "\\item 'Stm\\_STD\\_W5.high'\n",
       "\\item 'El\\_Nxt\\_Mnth\\_Avg\\_OC'\n",
       "\\end{enumerate*}\n"
      ],
      "text/markdown": [
       "1. 'lng'\n",
       "2. 'ChWt_Min_W3'\n",
       "3. 'ChWt_Min_W4'\n",
       "4. 'ChWt_Min_W5'\n",
       "5. 'ChWt_AVG_W1'\n",
       "6. 'ChWt_STD_W1'\n",
       "7. 'Min_seaLvlPressure_W2'\n",
       "8. 'Min_seaLvlPressure_W3'\n",
       "9. 'Min_seaLvlPressure_W4'\n",
       "10. 'Min_seaLvlPressure_W5'\n",
       "11. 'Avg_seaLvlPressure_W4'\n",
       "12. 'Avg_seaLvlPressure_W5'\n",
       "13. 'Stm_Max_W4.high'\n",
       "14. 'Stm_Max_W5.high'\n",
       "15. 'Stm_Min_W1.high'\n",
       "16. 'Stm_Min_W5.high'\n",
       "17. 'Stm_AVG_W1.high'\n",
       "18. 'Stm_AVG_W5.high'\n",
       "19. 'Stm_STD_W1.high'\n",
       "20. 'Stm_STD_W5.high'\n",
       "21. 'El_Nxt_Mnth_Avg_OC'\n",
       "\n",
       "\n"
      ],
      "text/plain": [
       " [1] \"lng\"                   \"ChWt_Min_W3\"           \"ChWt_Min_W4\"          \n",
       " [4] \"ChWt_Min_W5\"           \"ChWt_AVG_W1\"           \"ChWt_STD_W1\"          \n",
       " [7] \"Min_seaLvlPressure_W2\" \"Min_seaLvlPressure_W3\" \"Min_seaLvlPressure_W4\"\n",
       "[10] \"Min_seaLvlPressure_W5\" \"Avg_seaLvlPressure_W4\" \"Avg_seaLvlPressure_W5\"\n",
       "[13] \"Stm_Max_W4.high\"       \"Stm_Max_W5.high\"       \"Stm_Min_W1.high\"      \n",
       "[16] \"Stm_Min_W5.high\"       \"Stm_AVG_W1.high\"       \"Stm_AVG_W5.high\"      \n",
       "[19] \"Stm_STD_W1.high\"       \"Stm_STD_W5.high\"       \"El_Nxt_Mnth_Avg_OC\"   "
      ]
     },
     "metadata": {},
     "output_type": "display_data"
    }
   ],
   "source": [
    "vn <- setdiff(names(data),c(\"ID\"))\n",
    "vn\n"
   ]
  },
  {
   "cell_type": "code",
   "execution_count": 8,
   "metadata": {},
   "outputs": [],
   "source": [
    "#library(devtools)\n",
    "#install_github(\"karpatit/mechkar\")\n",
    "#require(mechkar)\n",
    "source(\"mechkar.r\")"
   ]
  },
  {
   "cell_type": "code",
   "execution_count": 9,
   "metadata": {
    "scrolled": true
   },
   "outputs": [
    {
     "name": "stdout",
     "output_type": "stream",
     "text": [
      "  |======================================================================| 100%"
     ]
    }
   ],
   "source": [
    "tab1 <- Table1(data = data,x = vn,y = \"Stm_STD_W5.high\")"
   ]
  },
  {
   "cell_type": "code",
   "execution_count": 11,
   "metadata": {},
   "outputs": [],
   "source": [
    "colnames(tab1)[6]<-'pval'\n"
   ]
  },
  {
   "cell_type": "code",
   "execution_count": 12,
   "metadata": {
    "scrolled": true
   },
   "outputs": [
    {
     "data": {
      "text/html": [
       "<table class=\"dataframe\">\n",
       "<caption>A data.frame: 43 × 6</caption>\n",
       "<thead>\n",
       "\t<tr><th></th><th scope=col>Variables</th><th scope=col></th><th scope=col>Population</th><th scope=col>0</th><th scope=col>1</th><th scope=col>pval</th></tr>\n",
       "\t<tr><th></th><th scope=col>&lt;chr&gt;</th><th scope=col>&lt;chr&gt;</th><th scope=col>&lt;chr&gt;</th><th scope=col>&lt;chr&gt;</th><th scope=col>&lt;chr&gt;</th><th scope=col>&lt;chr&gt;</th></tr>\n",
       "</thead>\n",
       "<tbody>\n",
       "\t<tr><th scope=row>1</th><td>Avg_seaLvlPressure_W4</td><td>Mean (SD)   </td><td>6.9 (0.0)          </td><td>6.9 (0.0)          </td><td>6.9 (0.0)          </td><td>      </td></tr>\n",
       "\t<tr><th scope=row>2</th><td>Avg_seaLvlPressure_W4</td><td>Median (IQR)</td><td><span style=white-space:pre-wrap>6.9 (6.9-6.9)      </span></td><td><span style=white-space:pre-wrap>6.9 (6.9-6.9)      </span></td><td><span style=white-space:pre-wrap>6.9 (6.9-6.9)      </span></td><td>&lt;0.001</td></tr>\n",
       "\t<tr><th scope=row>3</th><td>Avg_seaLvlPressure_W5</td><td>Mean (SD)   </td><td>6.9 (0.0)          </td><td>6.9 (0.0)          </td><td>6.9 (0.0)          </td><td>      </td></tr>\n",
       "\t<tr><th scope=row>4</th><td>Avg_seaLvlPressure_W5</td><td>Median (IQR)</td><td><span style=white-space:pre-wrap>6.9 (6.9-6.9)      </span></td><td><span style=white-space:pre-wrap>6.9 (6.9-6.9)      </span></td><td><span style=white-space:pre-wrap>6.9 (6.9-6.9)      </span></td><td>&lt;0.001</td></tr>\n",
       "\t<tr><th scope=row>5</th><td>ChWt_AVG_W1          </td><td>Mean (SD)   </td><td>5.6 (3.3)          </td><td>5.6 (3.2)          </td><td>5.6 (4.3)          </td><td>      </td></tr>\n",
       "\t<tr><th scope=row>6</th><td>ChWt_AVG_W1          </td><td>Median (IQR)</td><td>5.7 (4.0-7.1)      </td><td>5.8 (4.1-7.1)      </td><td>5.4 (2.3-8.0)      </td><td>0.979 </td></tr>\n",
       "\t<tr><th scope=row>7</th><td>ChWt_Min_W3          </td><td>Mean (SD)   </td><td>2.9 (3.1)          </td><td>2.9 (3.1)          </td><td>2.9 (3.7)          </td><td>      </td></tr>\n",
       "\t<tr><th scope=row>8</th><td>ChWt_Min_W3          </td><td>Median (IQR)</td><td>2.2 (0.0-5.2)      </td><td>2.3 (0.0-5.2)      </td><td>1.3 (0.0-5.0)      </td><td>0.93  </td></tr>\n",
       "\t<tr><th scope=row>9</th><td>ChWt_Min_W4          </td><td>Mean (SD)   </td><td>3.0 (3.3)          </td><td>3.0 (3.2)          </td><td>3.4 (3.8)          </td><td>      </td></tr>\n",
       "\t<tr><th scope=row>10</th><td>ChWt_Min_W4          </td><td>Median (IQR)</td><td>2.5 (0.0-5.4)      </td><td>2.5 (0.0-5.3)      </td><td>2.4 (0.0-5.8)      </td><td>0.001 </td></tr>\n",
       "\t<tr><th scope=row>11</th><td>ChWt_Min_W5          </td><td>Mean (SD)   </td><td>3.0 (3.2)          </td><td>3.0 (3.1)          </td><td>3.2 (3.8)          </td><td>      </td></tr>\n",
       "\t<tr><th scope=row>12</th><td>ChWt_Min_W5          </td><td>Median (IQR)</td><td>2.5 (0.0-5.2)      </td><td>2.5 (0.0-5.2)      </td><td>2.2 (0.0-5.4)      </td><td>0.041 </td></tr>\n",
       "\t<tr><th scope=row>13</th><td>ChWt_STD_W1          </td><td>Mean (SD)   </td><td>4.9 (3.0)          </td><td>4.9 (2.9)          </td><td>5.0 (4.1)          </td><td>      </td></tr>\n",
       "\t<tr><th scope=row>14</th><td>ChWt_STD_W1          </td><td>Median (IQR)</td><td>5.0 (3.4-6.1)      </td><td>5.0 (3.6-6.0)      </td><td>4.7 (1.6-6.9)      </td><td>0.581 </td></tr>\n",
       "\t<tr><th scope=row>15</th><td>El_Nxt_Mnth_Avg_OC   </td><td>Mean (SD)   </td><td>4.3 (1.3)          </td><td>4.2 (1.2)          </td><td>5.5 (1.2)          </td><td>      </td></tr>\n",
       "\t<tr><th scope=row>16</th><td><span style=white-space:pre-wrap>El_Nxt_Mnth_Avg_OC   </span></td><td>Median (IQR)</td><td><span style=white-space:pre-wrap>4.4 (3.4-5.2)      </span></td><td><span style=white-space:pre-wrap>4.2 (3.4-5.1)      </span></td><td><span style=white-space:pre-wrap>5.5 (4.8-6.3)      </span></td><td>&lt;0.001</td></tr>\n",
       "\t<tr><th scope=row>17</th><td>Individuals          </td><td>n           </td><td>10272              </td><td>9342               </td><td>930                </td><td>      </td></tr>\n",
       "\t<tr><th scope=row>18</th><td>lng                  </td><td>Mean (SD)   </td><td>-90.0 (12.9)       </td><td>-90.3 (13.2)       </td><td>-86.5 (8.5)        </td><td>      </td></tr>\n",
       "\t<tr><th scope=row>19</th><td><span style=white-space:pre-wrap>lng                  </span></td><td>Median (IQR)</td><td>-93.3 (-97.7--76.5)</td><td>-93.3 (-97.7--76.5)</td><td>-93.3 (-93.3--76.5)</td><td>&lt;0.001</td></tr>\n",
       "\t<tr><th scope=row>20</th><td>Min_seaLvlPressure_W2</td><td>Mean (SD)   </td><td>6.9 (0.0)          </td><td>6.9 (0.0)          </td><td>6.9 (0.0)          </td><td>      </td></tr>\n",
       "\t<tr><th scope=row>21</th><td>Min_seaLvlPressure_W2</td><td>Median (IQR)</td><td><span style=white-space:pre-wrap>6.9 (6.9-6.9)      </span></td><td><span style=white-space:pre-wrap>6.9 (6.9-6.9)      </span></td><td><span style=white-space:pre-wrap>6.9 (6.9-6.9)      </span></td><td>&lt;0.001</td></tr>\n",
       "\t<tr><th scope=row>22</th><td>Min_seaLvlPressure_W3</td><td>Mean (SD)   </td><td>6.9 (0.0)          </td><td>6.9 (0.0)          </td><td>6.9 (0.0)          </td><td>      </td></tr>\n",
       "\t<tr><th scope=row>23</th><td>Min_seaLvlPressure_W3</td><td>Median (IQR)</td><td><span style=white-space:pre-wrap>6.9 (6.9-6.9)      </span></td><td><span style=white-space:pre-wrap>6.9 (6.9-6.9)      </span></td><td><span style=white-space:pre-wrap>6.9 (6.9-6.9)      </span></td><td>&lt;0.001</td></tr>\n",
       "\t<tr><th scope=row>24</th><td>Min_seaLvlPressure_W4</td><td>Mean (SD)   </td><td>6.9 (0.0)          </td><td>6.9 (0.0)          </td><td>6.9 (0.0)          </td><td>      </td></tr>\n",
       "\t<tr><th scope=row>25</th><td>Min_seaLvlPressure_W4</td><td>Median (IQR)</td><td><span style=white-space:pre-wrap>6.9 (6.9-6.9)      </span></td><td><span style=white-space:pre-wrap>6.9 (6.9-6.9)      </span></td><td><span style=white-space:pre-wrap>6.9 (6.9-6.9)      </span></td><td>&lt;0.001</td></tr>\n",
       "\t<tr><th scope=row>26</th><td>Min_seaLvlPressure_W5</td><td>Mean (SD)   </td><td>6.9 (0.0)          </td><td>6.9 (0.0)          </td><td>6.9 (0.0)          </td><td>      </td></tr>\n",
       "\t<tr><th scope=row>27</th><td>Min_seaLvlPressure_W5</td><td>Median (IQR)</td><td><span style=white-space:pre-wrap>6.9 (6.9-6.9)      </span></td><td><span style=white-space:pre-wrap>6.9 (6.9-6.9)      </span></td><td><span style=white-space:pre-wrap>6.9 (6.9-6.9)      </span></td><td>&lt;0.001</td></tr>\n",
       "\t<tr><th scope=row>28</th><td>Stm_AVG_W1.high      </td><td>Mean (SD)   </td><td>0.1 (0.3)          </td><td>0.0 (0.2)          </td><td>0.7 (0.4)          </td><td>      </td></tr>\n",
       "\t<tr><th scope=row>29</th><td><span style=white-space:pre-wrap>Stm_AVG_W1.high      </span></td><td>Median (IQR)</td><td><span style=white-space:pre-wrap>0.0 (0.0-0.0)      </span></td><td><span style=white-space:pre-wrap>0.0 (0.0-0.0)      </span></td><td><span style=white-space:pre-wrap>1.0 (0.0-1.0)      </span></td><td>&lt;0.001</td></tr>\n",
       "\t<tr><th scope=row>30</th><td>Stm_AVG_W5.high      </td><td>Mean (SD)   </td><td>0.1 (0.3)          </td><td>0.0 (0.1)          </td><td>0.8 (0.4)          </td><td>      </td></tr>\n",
       "\t<tr><th scope=row>31</th><td><span style=white-space:pre-wrap>Stm_AVG_W5.high      </span></td><td>Median (IQR)</td><td><span style=white-space:pre-wrap>0.0 (0.0-0.0)      </span></td><td><span style=white-space:pre-wrap>0.0 (0.0-0.0)      </span></td><td><span style=white-space:pre-wrap>1.0 (1.0-1.0)      </span></td><td>&lt;0.001</td></tr>\n",
       "\t<tr><th scope=row>32</th><td>Stm_Max_W4.high      </td><td>Mean (SD)   </td><td>0.1 (0.3)          </td><td>0.0 (0.1)          </td><td>0.8 (0.4)          </td><td>      </td></tr>\n",
       "\t<tr><th scope=row>33</th><td><span style=white-space:pre-wrap>Stm_Max_W4.high      </span></td><td>Median (IQR)</td><td><span style=white-space:pre-wrap>0.0 (0.0-0.0)      </span></td><td><span style=white-space:pre-wrap>0.0 (0.0-0.0)      </span></td><td><span style=white-space:pre-wrap>1.0 (1.0-1.0)      </span></td><td>&lt;0.001</td></tr>\n",
       "\t<tr><th scope=row>34</th><td>Stm_Max_W5.high      </td><td>Mean (SD)   </td><td>0.1 (0.3)          </td><td>0.0 (0.1)          </td><td>0.9 (0.3)          </td><td>      </td></tr>\n",
       "\t<tr><th scope=row>35</th><td><span style=white-space:pre-wrap>Stm_Max_W5.high      </span></td><td>Median (IQR)</td><td><span style=white-space:pre-wrap>0.0 (0.0-0.0)      </span></td><td><span style=white-space:pre-wrap>0.0 (0.0-0.0)      </span></td><td><span style=white-space:pre-wrap>1.0 (1.0-1.0)      </span></td><td>&lt;0.001</td></tr>\n",
       "\t<tr><th scope=row>36</th><td>Stm_Min_W1.high      </td><td>Mean (SD)   </td><td>0.1 (0.3)          </td><td>0.0 (0.2)          </td><td>0.6 (0.5)          </td><td>      </td></tr>\n",
       "\t<tr><th scope=row>37</th><td><span style=white-space:pre-wrap>Stm_Min_W1.high      </span></td><td>Median (IQR)</td><td><span style=white-space:pre-wrap>0.0 (0.0-0.0)      </span></td><td><span style=white-space:pre-wrap>0.0 (0.0-0.0)      </span></td><td><span style=white-space:pre-wrap>1.0 (0.0-1.0)      </span></td><td>&lt;0.001</td></tr>\n",
       "\t<tr><th scope=row>38</th><td>Stm_Min_W5.high      </td><td>Mean (SD)   </td><td>0.1 (0.3)          </td><td>0.0 (0.2)          </td><td>0.6 (0.5)          </td><td>      </td></tr>\n",
       "\t<tr><th scope=row>39</th><td><span style=white-space:pre-wrap>Stm_Min_W5.high      </span></td><td>Median (IQR)</td><td><span style=white-space:pre-wrap>0.0 (0.0-0.0)      </span></td><td><span style=white-space:pre-wrap>0.0 (0.0-0.0)      </span></td><td><span style=white-space:pre-wrap>1.0 (0.0-1.0)      </span></td><td>&lt;0.001</td></tr>\n",
       "\t<tr><th scope=row>40</th><td>Stm_STD_W1.high      </td><td>Mean (SD)   </td><td>0.1 (0.3)          </td><td>0.0 (0.1)          </td><td>0.8 (0.4)          </td><td>      </td></tr>\n",
       "\t<tr><th scope=row>41</th><td><span style=white-space:pre-wrap>Stm_STD_W1.high      </span></td><td>Median (IQR)</td><td><span style=white-space:pre-wrap>0.0 (0.0-0.0)      </span></td><td><span style=white-space:pre-wrap>0.0 (0.0-0.0)      </span></td><td><span style=white-space:pre-wrap>1.0 (1.0-1.0)      </span></td><td>&lt;0.001</td></tr>\n",
       "\t<tr><th scope=row>42</th><td>Stm_STD_W5.high      </td><td>Mean (SD)   </td><td>0.1 (0.3)          </td><td>NA                 </td><td>NA                 </td><td>      </td></tr>\n",
       "\t<tr><th scope=row>43</th><td><span style=white-space:pre-wrap>Stm_STD_W5.high      </span></td><td>Median (IQR)</td><td><span style=white-space:pre-wrap>0.0 (0.0-0.0)      </span></td><td><span style=white-space:pre-wrap>NA                 </span></td><td><span style=white-space:pre-wrap>NA                 </span></td><td>&lt;0.001</td></tr>\n",
       "</tbody>\n",
       "</table>\n"
      ],
      "text/latex": [
       "A data.frame: 43 × 6\n",
       "\\begin{tabular}{r|llllll}\n",
       "  & Variables &  & Population & 0 & 1 & pval\\\\\n",
       "  & <chr> & <chr> & <chr> & <chr> & <chr> & <chr>\\\\\n",
       "\\hline\n",
       "\t1 & Avg\\_seaLvlPressure\\_W4 & Mean (SD)    & 6.9 (0.0)           & 6.9 (0.0)           & 6.9 (0.0)           &       \\\\\n",
       "\t2 & Avg\\_seaLvlPressure\\_W4 & Median (IQR) & 6.9 (6.9-6.9)       & 6.9 (6.9-6.9)       & 6.9 (6.9-6.9)       & <0.001\\\\\n",
       "\t3 & Avg\\_seaLvlPressure\\_W5 & Mean (SD)    & 6.9 (0.0)           & 6.9 (0.0)           & 6.9 (0.0)           &       \\\\\n",
       "\t4 & Avg\\_seaLvlPressure\\_W5 & Median (IQR) & 6.9 (6.9-6.9)       & 6.9 (6.9-6.9)       & 6.9 (6.9-6.9)       & <0.001\\\\\n",
       "\t5 & ChWt\\_AVG\\_W1           & Mean (SD)    & 5.6 (3.3)           & 5.6 (3.2)           & 5.6 (4.3)           &       \\\\\n",
       "\t6 & ChWt\\_AVG\\_W1           & Median (IQR) & 5.7 (4.0-7.1)       & 5.8 (4.1-7.1)       & 5.4 (2.3-8.0)       & 0.979 \\\\\n",
       "\t7 & ChWt\\_Min\\_W3           & Mean (SD)    & 2.9 (3.1)           & 2.9 (3.1)           & 2.9 (3.7)           &       \\\\\n",
       "\t8 & ChWt\\_Min\\_W3           & Median (IQR) & 2.2 (0.0-5.2)       & 2.3 (0.0-5.2)       & 1.3 (0.0-5.0)       & 0.93  \\\\\n",
       "\t9 & ChWt\\_Min\\_W4           & Mean (SD)    & 3.0 (3.3)           & 3.0 (3.2)           & 3.4 (3.8)           &       \\\\\n",
       "\t10 & ChWt\\_Min\\_W4           & Median (IQR) & 2.5 (0.0-5.4)       & 2.5 (0.0-5.3)       & 2.4 (0.0-5.8)       & 0.001 \\\\\n",
       "\t11 & ChWt\\_Min\\_W5           & Mean (SD)    & 3.0 (3.2)           & 3.0 (3.1)           & 3.2 (3.8)           &       \\\\\n",
       "\t12 & ChWt\\_Min\\_W5           & Median (IQR) & 2.5 (0.0-5.2)       & 2.5 (0.0-5.2)       & 2.2 (0.0-5.4)       & 0.041 \\\\\n",
       "\t13 & ChWt\\_STD\\_W1           & Mean (SD)    & 4.9 (3.0)           & 4.9 (2.9)           & 5.0 (4.1)           &       \\\\\n",
       "\t14 & ChWt\\_STD\\_W1           & Median (IQR) & 5.0 (3.4-6.1)       & 5.0 (3.6-6.0)       & 4.7 (1.6-6.9)       & 0.581 \\\\\n",
       "\t15 & El\\_Nxt\\_Mnth\\_Avg\\_OC    & Mean (SD)    & 4.3 (1.3)           & 4.2 (1.2)           & 5.5 (1.2)           &       \\\\\n",
       "\t16 & El\\_Nxt\\_Mnth\\_Avg\\_OC    & Median (IQR) & 4.4 (3.4-5.2)       & 4.2 (3.4-5.1)       & 5.5 (4.8-6.3)       & <0.001\\\\\n",
       "\t17 & Individuals           & n            & 10272               & 9342                & 930                 &       \\\\\n",
       "\t18 & lng                   & Mean (SD)    & -90.0 (12.9)        & -90.3 (13.2)        & -86.5 (8.5)         &       \\\\\n",
       "\t19 & lng                   & Median (IQR) & -93.3 (-97.7--76.5) & -93.3 (-97.7--76.5) & -93.3 (-93.3--76.5) & <0.001\\\\\n",
       "\t20 & Min\\_seaLvlPressure\\_W2 & Mean (SD)    & 6.9 (0.0)           & 6.9 (0.0)           & 6.9 (0.0)           &       \\\\\n",
       "\t21 & Min\\_seaLvlPressure\\_W2 & Median (IQR) & 6.9 (6.9-6.9)       & 6.9 (6.9-6.9)       & 6.9 (6.9-6.9)       & <0.001\\\\\n",
       "\t22 & Min\\_seaLvlPressure\\_W3 & Mean (SD)    & 6.9 (0.0)           & 6.9 (0.0)           & 6.9 (0.0)           &       \\\\\n",
       "\t23 & Min\\_seaLvlPressure\\_W3 & Median (IQR) & 6.9 (6.9-6.9)       & 6.9 (6.9-6.9)       & 6.9 (6.9-6.9)       & <0.001\\\\\n",
       "\t24 & Min\\_seaLvlPressure\\_W4 & Mean (SD)    & 6.9 (0.0)           & 6.9 (0.0)           & 6.9 (0.0)           &       \\\\\n",
       "\t25 & Min\\_seaLvlPressure\\_W4 & Median (IQR) & 6.9 (6.9-6.9)       & 6.9 (6.9-6.9)       & 6.9 (6.9-6.9)       & <0.001\\\\\n",
       "\t26 & Min\\_seaLvlPressure\\_W5 & Mean (SD)    & 6.9 (0.0)           & 6.9 (0.0)           & 6.9 (0.0)           &       \\\\\n",
       "\t27 & Min\\_seaLvlPressure\\_W5 & Median (IQR) & 6.9 (6.9-6.9)       & 6.9 (6.9-6.9)       & 6.9 (6.9-6.9)       & <0.001\\\\\n",
       "\t28 & Stm\\_AVG\\_W1.high       & Mean (SD)    & 0.1 (0.3)           & 0.0 (0.2)           & 0.7 (0.4)           &       \\\\\n",
       "\t29 & Stm\\_AVG\\_W1.high       & Median (IQR) & 0.0 (0.0-0.0)       & 0.0 (0.0-0.0)       & 1.0 (0.0-1.0)       & <0.001\\\\\n",
       "\t30 & Stm\\_AVG\\_W5.high       & Mean (SD)    & 0.1 (0.3)           & 0.0 (0.1)           & 0.8 (0.4)           &       \\\\\n",
       "\t31 & Stm\\_AVG\\_W5.high       & Median (IQR) & 0.0 (0.0-0.0)       & 0.0 (0.0-0.0)       & 1.0 (1.0-1.0)       & <0.001\\\\\n",
       "\t32 & Stm\\_Max\\_W4.high       & Mean (SD)    & 0.1 (0.3)           & 0.0 (0.1)           & 0.8 (0.4)           &       \\\\\n",
       "\t33 & Stm\\_Max\\_W4.high       & Median (IQR) & 0.0 (0.0-0.0)       & 0.0 (0.0-0.0)       & 1.0 (1.0-1.0)       & <0.001\\\\\n",
       "\t34 & Stm\\_Max\\_W5.high       & Mean (SD)    & 0.1 (0.3)           & 0.0 (0.1)           & 0.9 (0.3)           &       \\\\\n",
       "\t35 & Stm\\_Max\\_W5.high       & Median (IQR) & 0.0 (0.0-0.0)       & 0.0 (0.0-0.0)       & 1.0 (1.0-1.0)       & <0.001\\\\\n",
       "\t36 & Stm\\_Min\\_W1.high       & Mean (SD)    & 0.1 (0.3)           & 0.0 (0.2)           & 0.6 (0.5)           &       \\\\\n",
       "\t37 & Stm\\_Min\\_W1.high       & Median (IQR) & 0.0 (0.0-0.0)       & 0.0 (0.0-0.0)       & 1.0 (0.0-1.0)       & <0.001\\\\\n",
       "\t38 & Stm\\_Min\\_W5.high       & Mean (SD)    & 0.1 (0.3)           & 0.0 (0.2)           & 0.6 (0.5)           &       \\\\\n",
       "\t39 & Stm\\_Min\\_W5.high       & Median (IQR) & 0.0 (0.0-0.0)       & 0.0 (0.0-0.0)       & 1.0 (0.0-1.0)       & <0.001\\\\\n",
       "\t40 & Stm\\_STD\\_W1.high       & Mean (SD)    & 0.1 (0.3)           & 0.0 (0.1)           & 0.8 (0.4)           &       \\\\\n",
       "\t41 & Stm\\_STD\\_W1.high       & Median (IQR) & 0.0 (0.0-0.0)       & 0.0 (0.0-0.0)       & 1.0 (1.0-1.0)       & <0.001\\\\\n",
       "\t42 & Stm\\_STD\\_W5.high       & Mean (SD)    & 0.1 (0.3)           & NA                  & NA                  &       \\\\\n",
       "\t43 & Stm\\_STD\\_W5.high       & Median (IQR) & 0.0 (0.0-0.0)       & NA                  & NA                  & <0.001\\\\\n",
       "\\end{tabular}\n"
      ],
      "text/markdown": [
       "\n",
       "A data.frame: 43 × 6\n",
       "\n",
       "| <!--/--> | Variables &lt;chr&gt; | <!----> &lt;chr&gt; | Population &lt;chr&gt; | 0 &lt;chr&gt; | 1 &lt;chr&gt; | pval &lt;chr&gt; |\n",
       "|---|---|---|---|---|---|---|\n",
       "| 1 | Avg_seaLvlPressure_W4 | Mean (SD)    | 6.9 (0.0)           | 6.9 (0.0)           | 6.9 (0.0)           | <!----> |\n",
       "| 2 | Avg_seaLvlPressure_W4 | Median (IQR) | 6.9 (6.9-6.9)       | 6.9 (6.9-6.9)       | 6.9 (6.9-6.9)       | &lt;0.001 |\n",
       "| 3 | Avg_seaLvlPressure_W5 | Mean (SD)    | 6.9 (0.0)           | 6.9 (0.0)           | 6.9 (0.0)           | <!----> |\n",
       "| 4 | Avg_seaLvlPressure_W5 | Median (IQR) | 6.9 (6.9-6.9)       | 6.9 (6.9-6.9)       | 6.9 (6.9-6.9)       | &lt;0.001 |\n",
       "| 5 | ChWt_AVG_W1           | Mean (SD)    | 5.6 (3.3)           | 5.6 (3.2)           | 5.6 (4.3)           | <!----> |\n",
       "| 6 | ChWt_AVG_W1           | Median (IQR) | 5.7 (4.0-7.1)       | 5.8 (4.1-7.1)       | 5.4 (2.3-8.0)       | 0.979  |\n",
       "| 7 | ChWt_Min_W3           | Mean (SD)    | 2.9 (3.1)           | 2.9 (3.1)           | 2.9 (3.7)           | <!----> |\n",
       "| 8 | ChWt_Min_W3           | Median (IQR) | 2.2 (0.0-5.2)       | 2.3 (0.0-5.2)       | 1.3 (0.0-5.0)       | 0.93   |\n",
       "| 9 | ChWt_Min_W4           | Mean (SD)    | 3.0 (3.3)           | 3.0 (3.2)           | 3.4 (3.8)           | <!----> |\n",
       "| 10 | ChWt_Min_W4           | Median (IQR) | 2.5 (0.0-5.4)       | 2.5 (0.0-5.3)       | 2.4 (0.0-5.8)       | 0.001  |\n",
       "| 11 | ChWt_Min_W5           | Mean (SD)    | 3.0 (3.2)           | 3.0 (3.1)           | 3.2 (3.8)           | <!----> |\n",
       "| 12 | ChWt_Min_W5           | Median (IQR) | 2.5 (0.0-5.2)       | 2.5 (0.0-5.2)       | 2.2 (0.0-5.4)       | 0.041  |\n",
       "| 13 | ChWt_STD_W1           | Mean (SD)    | 4.9 (3.0)           | 4.9 (2.9)           | 5.0 (4.1)           | <!----> |\n",
       "| 14 | ChWt_STD_W1           | Median (IQR) | 5.0 (3.4-6.1)       | 5.0 (3.6-6.0)       | 4.7 (1.6-6.9)       | 0.581  |\n",
       "| 15 | El_Nxt_Mnth_Avg_OC    | Mean (SD)    | 4.3 (1.3)           | 4.2 (1.2)           | 5.5 (1.2)           | <!----> |\n",
       "| 16 | El_Nxt_Mnth_Avg_OC    | Median (IQR) | 4.4 (3.4-5.2)       | 4.2 (3.4-5.1)       | 5.5 (4.8-6.3)       | &lt;0.001 |\n",
       "| 17 | Individuals           | n            | 10272               | 9342                | 930                 | <!----> |\n",
       "| 18 | lng                   | Mean (SD)    | -90.0 (12.9)        | -90.3 (13.2)        | -86.5 (8.5)         | <!----> |\n",
       "| 19 | lng                   | Median (IQR) | -93.3 (-97.7--76.5) | -93.3 (-97.7--76.5) | -93.3 (-93.3--76.5) | &lt;0.001 |\n",
       "| 20 | Min_seaLvlPressure_W2 | Mean (SD)    | 6.9 (0.0)           | 6.9 (0.0)           | 6.9 (0.0)           | <!----> |\n",
       "| 21 | Min_seaLvlPressure_W2 | Median (IQR) | 6.9 (6.9-6.9)       | 6.9 (6.9-6.9)       | 6.9 (6.9-6.9)       | &lt;0.001 |\n",
       "| 22 | Min_seaLvlPressure_W3 | Mean (SD)    | 6.9 (0.0)           | 6.9 (0.0)           | 6.9 (0.0)           | <!----> |\n",
       "| 23 | Min_seaLvlPressure_W3 | Median (IQR) | 6.9 (6.9-6.9)       | 6.9 (6.9-6.9)       | 6.9 (6.9-6.9)       | &lt;0.001 |\n",
       "| 24 | Min_seaLvlPressure_W4 | Mean (SD)    | 6.9 (0.0)           | 6.9 (0.0)           | 6.9 (0.0)           | <!----> |\n",
       "| 25 | Min_seaLvlPressure_W4 | Median (IQR) | 6.9 (6.9-6.9)       | 6.9 (6.9-6.9)       | 6.9 (6.9-6.9)       | &lt;0.001 |\n",
       "| 26 | Min_seaLvlPressure_W5 | Mean (SD)    | 6.9 (0.0)           | 6.9 (0.0)           | 6.9 (0.0)           | <!----> |\n",
       "| 27 | Min_seaLvlPressure_W5 | Median (IQR) | 6.9 (6.9-6.9)       | 6.9 (6.9-6.9)       | 6.9 (6.9-6.9)       | &lt;0.001 |\n",
       "| 28 | Stm_AVG_W1.high       | Mean (SD)    | 0.1 (0.3)           | 0.0 (0.2)           | 0.7 (0.4)           | <!----> |\n",
       "| 29 | Stm_AVG_W1.high       | Median (IQR) | 0.0 (0.0-0.0)       | 0.0 (0.0-0.0)       | 1.0 (0.0-1.0)       | &lt;0.001 |\n",
       "| 30 | Stm_AVG_W5.high       | Mean (SD)    | 0.1 (0.3)           | 0.0 (0.1)           | 0.8 (0.4)           | <!----> |\n",
       "| 31 | Stm_AVG_W5.high       | Median (IQR) | 0.0 (0.0-0.0)       | 0.0 (0.0-0.0)       | 1.0 (1.0-1.0)       | &lt;0.001 |\n",
       "| 32 | Stm_Max_W4.high       | Mean (SD)    | 0.1 (0.3)           | 0.0 (0.1)           | 0.8 (0.4)           | <!----> |\n",
       "| 33 | Stm_Max_W4.high       | Median (IQR) | 0.0 (0.0-0.0)       | 0.0 (0.0-0.0)       | 1.0 (1.0-1.0)       | &lt;0.001 |\n",
       "| 34 | Stm_Max_W5.high       | Mean (SD)    | 0.1 (0.3)           | 0.0 (0.1)           | 0.9 (0.3)           | <!----> |\n",
       "| 35 | Stm_Max_W5.high       | Median (IQR) | 0.0 (0.0-0.0)       | 0.0 (0.0-0.0)       | 1.0 (1.0-1.0)       | &lt;0.001 |\n",
       "| 36 | Stm_Min_W1.high       | Mean (SD)    | 0.1 (0.3)           | 0.0 (0.2)           | 0.6 (0.5)           | <!----> |\n",
       "| 37 | Stm_Min_W1.high       | Median (IQR) | 0.0 (0.0-0.0)       | 0.0 (0.0-0.0)       | 1.0 (0.0-1.0)       | &lt;0.001 |\n",
       "| 38 | Stm_Min_W5.high       | Mean (SD)    | 0.1 (0.3)           | 0.0 (0.2)           | 0.6 (0.5)           | <!----> |\n",
       "| 39 | Stm_Min_W5.high       | Median (IQR) | 0.0 (0.0-0.0)       | 0.0 (0.0-0.0)       | 1.0 (0.0-1.0)       | &lt;0.001 |\n",
       "| 40 | Stm_STD_W1.high       | Mean (SD)    | 0.1 (0.3)           | 0.0 (0.1)           | 0.8 (0.4)           | <!----> |\n",
       "| 41 | Stm_STD_W1.high       | Median (IQR) | 0.0 (0.0-0.0)       | 0.0 (0.0-0.0)       | 1.0 (1.0-1.0)       | &lt;0.001 |\n",
       "| 42 | Stm_STD_W5.high       | Mean (SD)    | 0.1 (0.3)           | NA                  | NA                  | <!----> |\n",
       "| 43 | Stm_STD_W5.high       | Median (IQR) | 0.0 (0.0-0.0)       | NA                  | NA                  | &lt;0.001 |\n",
       "\n"
      ],
      "text/plain": [
       "   Variables                          Population          0                  \n",
       "1  Avg_seaLvlPressure_W4 Mean (SD)    6.9 (0.0)           6.9 (0.0)          \n",
       "2  Avg_seaLvlPressure_W4 Median (IQR) 6.9 (6.9-6.9)       6.9 (6.9-6.9)      \n",
       "3  Avg_seaLvlPressure_W5 Mean (SD)    6.9 (0.0)           6.9 (0.0)          \n",
       "4  Avg_seaLvlPressure_W5 Median (IQR) 6.9 (6.9-6.9)       6.9 (6.9-6.9)      \n",
       "5  ChWt_AVG_W1           Mean (SD)    5.6 (3.3)           5.6 (3.2)          \n",
       "6  ChWt_AVG_W1           Median (IQR) 5.7 (4.0-7.1)       5.8 (4.1-7.1)      \n",
       "7  ChWt_Min_W3           Mean (SD)    2.9 (3.1)           2.9 (3.1)          \n",
       "8  ChWt_Min_W3           Median (IQR) 2.2 (0.0-5.2)       2.3 (0.0-5.2)      \n",
       "9  ChWt_Min_W4           Mean (SD)    3.0 (3.3)           3.0 (3.2)          \n",
       "10 ChWt_Min_W4           Median (IQR) 2.5 (0.0-5.4)       2.5 (0.0-5.3)      \n",
       "11 ChWt_Min_W5           Mean (SD)    3.0 (3.2)           3.0 (3.1)          \n",
       "12 ChWt_Min_W5           Median (IQR) 2.5 (0.0-5.2)       2.5 (0.0-5.2)      \n",
       "13 ChWt_STD_W1           Mean (SD)    4.9 (3.0)           4.9 (2.9)          \n",
       "14 ChWt_STD_W1           Median (IQR) 5.0 (3.4-6.1)       5.0 (3.6-6.0)      \n",
       "15 El_Nxt_Mnth_Avg_OC    Mean (SD)    4.3 (1.3)           4.2 (1.2)          \n",
       "16 El_Nxt_Mnth_Avg_OC    Median (IQR) 4.4 (3.4-5.2)       4.2 (3.4-5.1)      \n",
       "17 Individuals           n            10272               9342               \n",
       "18 lng                   Mean (SD)    -90.0 (12.9)        -90.3 (13.2)       \n",
       "19 lng                   Median (IQR) -93.3 (-97.7--76.5) -93.3 (-97.7--76.5)\n",
       "20 Min_seaLvlPressure_W2 Mean (SD)    6.9 (0.0)           6.9 (0.0)          \n",
       "21 Min_seaLvlPressure_W2 Median (IQR) 6.9 (6.9-6.9)       6.9 (6.9-6.9)      \n",
       "22 Min_seaLvlPressure_W3 Mean (SD)    6.9 (0.0)           6.9 (0.0)          \n",
       "23 Min_seaLvlPressure_W3 Median (IQR) 6.9 (6.9-6.9)       6.9 (6.9-6.9)      \n",
       "24 Min_seaLvlPressure_W4 Mean (SD)    6.9 (0.0)           6.9 (0.0)          \n",
       "25 Min_seaLvlPressure_W4 Median (IQR) 6.9 (6.9-6.9)       6.9 (6.9-6.9)      \n",
       "26 Min_seaLvlPressure_W5 Mean (SD)    6.9 (0.0)           6.9 (0.0)          \n",
       "27 Min_seaLvlPressure_W5 Median (IQR) 6.9 (6.9-6.9)       6.9 (6.9-6.9)      \n",
       "28 Stm_AVG_W1.high       Mean (SD)    0.1 (0.3)           0.0 (0.2)          \n",
       "29 Stm_AVG_W1.high       Median (IQR) 0.0 (0.0-0.0)       0.0 (0.0-0.0)      \n",
       "30 Stm_AVG_W5.high       Mean (SD)    0.1 (0.3)           0.0 (0.1)          \n",
       "31 Stm_AVG_W5.high       Median (IQR) 0.0 (0.0-0.0)       0.0 (0.0-0.0)      \n",
       "32 Stm_Max_W4.high       Mean (SD)    0.1 (0.3)           0.0 (0.1)          \n",
       "33 Stm_Max_W4.high       Median (IQR) 0.0 (0.0-0.0)       0.0 (0.0-0.0)      \n",
       "34 Stm_Max_W5.high       Mean (SD)    0.1 (0.3)           0.0 (0.1)          \n",
       "35 Stm_Max_W5.high       Median (IQR) 0.0 (0.0-0.0)       0.0 (0.0-0.0)      \n",
       "36 Stm_Min_W1.high       Mean (SD)    0.1 (0.3)           0.0 (0.2)          \n",
       "37 Stm_Min_W1.high       Median (IQR) 0.0 (0.0-0.0)       0.0 (0.0-0.0)      \n",
       "38 Stm_Min_W5.high       Mean (SD)    0.1 (0.3)           0.0 (0.2)          \n",
       "39 Stm_Min_W5.high       Median (IQR) 0.0 (0.0-0.0)       0.0 (0.0-0.0)      \n",
       "40 Stm_STD_W1.high       Mean (SD)    0.1 (0.3)           0.0 (0.1)          \n",
       "41 Stm_STD_W1.high       Median (IQR) 0.0 (0.0-0.0)       0.0 (0.0-0.0)      \n",
       "42 Stm_STD_W5.high       Mean (SD)    0.1 (0.3)           NA                 \n",
       "43 Stm_STD_W5.high       Median (IQR) 0.0 (0.0-0.0)       NA                 \n",
       "   1                   pval  \n",
       "1  6.9 (0.0)                 \n",
       "2  6.9 (6.9-6.9)       <0.001\n",
       "3  6.9 (0.0)                 \n",
       "4  6.9 (6.9-6.9)       <0.001\n",
       "5  5.6 (4.3)                 \n",
       "6  5.4 (2.3-8.0)       0.979 \n",
       "7  2.9 (3.7)                 \n",
       "8  1.3 (0.0-5.0)       0.93  \n",
       "9  3.4 (3.8)                 \n",
       "10 2.4 (0.0-5.8)       0.001 \n",
       "11 3.2 (3.8)                 \n",
       "12 2.2 (0.0-5.4)       0.041 \n",
       "13 5.0 (4.1)                 \n",
       "14 4.7 (1.6-6.9)       0.581 \n",
       "15 5.5 (1.2)                 \n",
       "16 5.5 (4.8-6.3)       <0.001\n",
       "17 930                       \n",
       "18 -86.5 (8.5)               \n",
       "19 -93.3 (-93.3--76.5) <0.001\n",
       "20 6.9 (0.0)                 \n",
       "21 6.9 (6.9-6.9)       <0.001\n",
       "22 6.9 (0.0)                 \n",
       "23 6.9 (6.9-6.9)       <0.001\n",
       "24 6.9 (0.0)                 \n",
       "25 6.9 (6.9-6.9)       <0.001\n",
       "26 6.9 (0.0)                 \n",
       "27 6.9 (6.9-6.9)       <0.001\n",
       "28 0.7 (0.4)                 \n",
       "29 1.0 (0.0-1.0)       <0.001\n",
       "30 0.8 (0.4)                 \n",
       "31 1.0 (1.0-1.0)       <0.001\n",
       "32 0.8 (0.4)                 \n",
       "33 1.0 (1.0-1.0)       <0.001\n",
       "34 0.9 (0.3)                 \n",
       "35 1.0 (1.0-1.0)       <0.001\n",
       "36 0.6 (0.5)                 \n",
       "37 1.0 (0.0-1.0)       <0.001\n",
       "38 0.6 (0.5)                 \n",
       "39 1.0 (0.0-1.0)       <0.001\n",
       "40 0.8 (0.4)                 \n",
       "41 1.0 (1.0-1.0)       <0.001\n",
       "42 NA                        \n",
       "43 NA                  <0.001"
      ]
     },
     "metadata": {},
     "output_type": "display_data"
    }
   ],
   "source": [
    "tab1"
   ]
  },
  {
   "cell_type": "code",
   "execution_count": 16,
   "metadata": {},
   "outputs": [],
   "source": [
    "############### TRAIN_TEST #######################\n",
    "train_test <- function(data=NULL,train_name=NULL,test_name=NULL,prop=NULL,seed=1,tableone=FALSE)\n",
    "{ \n",
    "    pval <- NULL\n",
    "  checkTrainTest <- function(train=NULL,test=NULL) {\n",
    "     train[[\"traintest_ind_\"]] <- 1\n",
    "     test[[\"traintest_ind_\"]] <- 2\n",
    "     data <- rbind(train, test)\n",
    "     tab <- Table1(data=data, y=\"traintest_ind_\",x=names(train),messages = F)\n",
    "     vars <- subset(tab, pval < 0.1)$V1\n",
    "     if (length(vars)==1) {\n",
    "        message(\"You got a perfectly balanced training and test datasets\")\n",
    "        message(\" \")\n",
    "     } else {\n",
    "        message(\"WARNING: The following variables are not balanced between the training and test datasets:\")\n",
    "       for (v in vars) {  message(paste(\"*\",v))  }\n",
    "          message(\"You can try to change the seed value until you get a balanced partition.\")\n",
    "          message(\"Alternatively, you can ommit this warning and exclude those variables from your model\")\n",
    "          message(\" \")\n",
    "       }\n",
    "       return(tab)\n",
    "  }\n",
    "  ## set the seed to make your partition reproductible\n",
    "  set.seed(seed)\n",
    "  smp_size <- floor(prop * nrow(data))\n",
    "  train_ind <- sample(seq_len(nrow(data)), size = smp_size)\n",
    "  assign(train_name, data[train_ind, ], envir=globalenv())\n",
    "  assign(test_name, data[-train_ind, ], envir=globalenv())\n",
    "  tab = checkTrainTest(get(train_name),get(test_name))\n",
    "  message(paste(\"Dataset partitioned into:\"))\n",
    "  message(paste(\" + Train dataset:\", train_name))\n",
    "  message(paste(\" + Test dataset:\", test_name))\n",
    "  if(tableone==TRUE) {\n",
    "     return(tab)\n",
    "  } \n",
    "}\n"
   ]
  },
  {
   "cell_type": "markdown",
   "metadata": {},
   "source": [
    "## Test dataset"
   ]
  },
  {
   "cell_type": "code",
   "execution_count": 45,
   "metadata": {
    "scrolled": true
   },
   "outputs": [
    {
     "name": "stdout",
     "output_type": "stream",
     "text": [
      "  |======================================================================| 100%"
     ]
    },
    {
     "name": "stderr",
     "output_type": "stream",
     "text": [
      "WARNING: The following variables are not balanced between the training and test datasets:\n",
      "\n",
      "You can try to change the seed value until you get a balanced partition.\n",
      "\n",
      "Alternatively, you can ommit this warning and exclude those variables from your model\n",
      "\n",
      " \n",
      "\n",
      "Dataset partitioned into:\n",
      "\n",
      " + Train dataset: temp\n",
      "\n",
      " + Test dataset: test\n",
      "\n"
     ]
    }
   ],
   "source": [
    "tab1 <- train_test(data = data[,vn], train_name = \"temp\", test_name = \"test\",prop = 0.8, seed = 19, tableone=F)"
   ]
  },
  {
   "cell_type": "code",
   "execution_count": 46,
   "metadata": {},
   "outputs": [
    {
     "data": {
      "text/plain": [
       "NULL"
      ]
     },
     "metadata": {},
     "output_type": "display_data"
    }
   ],
   "source": [
    "tab1"
   ]
  },
  {
   "cell_type": "code",
   "execution_count": 47,
   "metadata": {},
   "outputs": [
    {
     "data": {
      "text/html": [
       "<style>\n",
       ".list-inline {list-style: none; margin:0; padding: 0}\n",
       ".list-inline>li {display: inline-block}\n",
       ".list-inline>li:not(:last-child)::after {content: \"\\00b7\"; padding: 0 .5ex}\n",
       "</style>\n",
       "<ol class=list-inline><li>8217</li><li>21</li></ol>\n"
      ],
      "text/latex": [
       "\\begin{enumerate*}\n",
       "\\item 8217\n",
       "\\item 21\n",
       "\\end{enumerate*}\n"
      ],
      "text/markdown": [
       "1. 8217\n",
       "2. 21\n",
       "\n",
       "\n"
      ],
      "text/plain": [
       "[1] 8217   21"
      ]
     },
     "metadata": {},
     "output_type": "display_data"
    },
    {
     "data": {
      "text/html": [
       "<style>\n",
       ".list-inline {list-style: none; margin:0; padding: 0}\n",
       ".list-inline>li {display: inline-block}\n",
       ".list-inline>li:not(:last-child)::after {content: \"\\00b7\"; padding: 0 .5ex}\n",
       "</style>\n",
       "<ol class=list-inline><li>2055</li><li>21</li></ol>\n"
      ],
      "text/latex": [
       "\\begin{enumerate*}\n",
       "\\item 2055\n",
       "\\item 21\n",
       "\\end{enumerate*}\n"
      ],
      "text/markdown": [
       "1. 2055\n",
       "2. 21\n",
       "\n",
       "\n"
      ],
      "text/plain": [
       "[1] 2055   21"
      ]
     },
     "metadata": {},
     "output_type": "display_data"
    }
   ],
   "source": [
    "dim(temp)\n",
    "dim(test)"
   ]
  },
  {
   "cell_type": "code",
   "execution_count": 48,
   "metadata": {
    "scrolled": true
   },
   "outputs": [
    {
     "data": {
      "text/html": [
       "<table class=\"dataframe\">\n",
       "<caption>A data.frame: 8217 × 21</caption>\n",
       "<thead>\n",
       "\t<tr><th></th><th scope=col>lng</th><th scope=col>ChWt_Min_W3</th><th scope=col>ChWt_Min_W4</th><th scope=col>ChWt_Min_W5</th><th scope=col>ChWt_AVG_W1</th><th scope=col>ChWt_STD_W1</th><th scope=col>Min_seaLvlPressure_W2</th><th scope=col>Min_seaLvlPressure_W3</th><th scope=col>Min_seaLvlPressure_W4</th><th scope=col>Min_seaLvlPressure_W5</th><th scope=col>...</th><th scope=col>Avg_seaLvlPressure_W5</th><th scope=col>Stm_Max_W4.high</th><th scope=col>Stm_Max_W5.high</th><th scope=col>Stm_Min_W1.high</th><th scope=col>Stm_Min_W5.high</th><th scope=col>Stm_AVG_W1.high</th><th scope=col>Stm_AVG_W5.high</th><th scope=col>Stm_STD_W1.high</th><th scope=col>Stm_STD_W5.high</th><th scope=col>El_Nxt_Mnth_Avg_OC</th></tr>\n",
       "\t<tr><th></th><th scope=col>&lt;dbl&gt;</th><th scope=col>&lt;dbl&gt;</th><th scope=col>&lt;dbl&gt;</th><th scope=col>&lt;dbl&gt;</th><th scope=col>&lt;dbl&gt;</th><th scope=col>&lt;dbl&gt;</th><th scope=col>&lt;dbl&gt;</th><th scope=col>&lt;dbl&gt;</th><th scope=col>&lt;dbl&gt;</th><th scope=col>&lt;dbl&gt;</th><th scope=col>...</th><th scope=col>&lt;dbl&gt;</th><th scope=col>&lt;int&gt;</th><th scope=col>&lt;int&gt;</th><th scope=col>&lt;int&gt;</th><th scope=col>&lt;int&gt;</th><th scope=col>&lt;int&gt;</th><th scope=col>&lt;int&gt;</th><th scope=col>&lt;int&gt;</th><th scope=col>&lt;int&gt;</th><th scope=col>&lt;dbl&gt;</th></tr>\n",
       "</thead>\n",
       "<tbody>\n",
       "\t<tr><th scope=row>7677</th><td> -74.70000</td><td> 4.780277</td><td> 4.888043</td><td> 5.710857</td><td> 5.490536</td><td> 4.906688</td><td>6.913240</td><td>6.920079</td><td>6.918893</td><td>6.921954</td><td>...</td><td>6.924961</td><td>0</td><td>0</td><td>0</td><td>0</td><td>0</td><td>0</td><td>0</td><td>0</td><td>5.056964</td></tr>\n",
       "\t<tr><th scope=row>9910</th><td>-111.92814</td><td> 0.000000</td><td> 0.000000</td><td> 0.000000</td><td> 6.654466</td><td> 6.449148</td><td>6.913141</td><td>6.913936</td><td>6.913638</td><td>6.918893</td><td>...</td><td>6.922738</td><td>0</td><td>0</td><td>0</td><td>0</td><td>0</td><td>0</td><td>0</td><td>0</td><td>2.950513</td></tr>\n",
       "\t<tr><th scope=row>4483</th><td> -76.48529</td><td> 2.982748</td><td> 3.574077</td><td> 4.904965</td><td> 5.748845</td><td> 5.190721</td><td>6.915128</td><td>6.918893</td><td>6.918596</td><td>6.920573</td><td>...</td><td>6.924338</td><td>0</td><td>0</td><td>0</td><td>0</td><td>0</td><td>0</td><td>0</td><td>0</td><td>5.074206</td></tr>\n",
       "\t<tr><th scope=row>7557</th><td> -81.37904</td><td> 0.000000</td><td> 3.248097</td><td> 3.248097</td><td> 5.161737</td><td> 4.734006</td><td>6.921362</td><td>6.921757</td><td>6.919091</td><td>6.920375</td><td>...</td><td>6.924096</td><td>0</td><td>0</td><td>0</td><td>0</td><td>0</td><td>0</td><td>0</td><td>0</td><td>2.036789</td></tr>\n",
       "\t<tr><th scope=row>2745</th><td> -76.48529</td><td> 4.242062</td><td> 4.575626</td><td> 4.526143</td><td> 4.028224</td><td> 2.995754</td><td>6.907355</td><td>6.905553</td><td>6.896087</td><td>6.905052</td><td>...</td><td>6.911593</td><td>0</td><td>0</td><td>0</td><td>0</td><td>0</td><td>0</td><td>0</td><td>0</td><td>6.546848</td></tr>\n",
       "\t<tr><th scope=row>4803</th><td> -93.25540</td><td> 5.509716</td><td> 6.027436</td><td> 5.410059</td><td> 6.952169</td><td> 6.397475</td><td>6.908555</td><td>6.915029</td><td>6.915823</td><td>6.922939</td><td>...</td><td>6.924697</td><td>0</td><td>0</td><td>0</td><td>0</td><td>0</td><td>0</td><td>0</td><td>0</td><td>2.757656</td></tr>\n",
       "\t<tr><th scope=row>5677</th><td> -93.25540</td><td> 4.199029</td><td> 4.106973</td><td> 2.983103</td><td> 5.306891</td><td> 4.872378</td><td>6.911747</td><td>6.913439</td><td>6.913340</td><td>6.922151</td><td>...</td><td>6.925175</td><td>0</td><td>0</td><td>0</td><td>0</td><td>0</td><td>0</td><td>0</td><td>0</td><td>5.489663</td></tr>\n",
       "\t<tr><th scope=row>10255</th><td> -97.74310</td><td> 7.502572</td><td> 7.699669</td><td> 4.919473</td><td> 7.693074</td><td> 5.555519</td><td>6.919387</td><td>6.920277</td><td>6.918695</td><td>6.924612</td><td>...</td><td>6.927715</td><td>0</td><td>0</td><td>0</td><td>0</td><td>0</td><td>0</td><td>0</td><td>0</td><td>3.761563</td></tr>\n",
       "\t<tr><th scope=row>2685</th><td> -97.74310</td><td> 6.339434</td><td> 0.000000</td><td> 6.649832</td><td> 5.696793</td><td> 4.651368</td><td>6.918695</td><td>6.918003</td><td>6.910551</td><td>6.922151</td><td>...</td><td>6.925214</td><td>0</td><td>0</td><td>0</td><td>0</td><td>0</td><td>0</td><td>0</td><td>0</td><td>3.504075</td></tr>\n",
       "\t<tr><th scope=row>10155</th><td> -81.37904</td><td> 3.640527</td><td> 0.000000</td><td> 0.000000</td><td> 6.584818</td><td> 5.822534</td><td>6.921461</td><td>6.920869</td><td>6.920573</td><td>6.922348</td><td>...</td><td>6.925026</td><td>0</td><td>0</td><td>0</td><td>0</td><td>0</td><td>0</td><td>0</td><td>0</td><td>4.248132</td></tr>\n",
       "\t<tr><th scope=row>9668</th><td> -76.48529</td><td> 4.590536</td><td> 4.551131</td><td> 4.342135</td><td> 5.710922</td><td> 4.871611</td><td>6.916913</td><td>6.923530</td><td>6.919190</td><td>6.931960</td><td>...</td><td>6.935436</td><td>0</td><td>0</td><td>0</td><td>0</td><td>0</td><td>0</td><td>0</td><td>0</td><td>3.045477</td></tr>\n",
       "\t<tr><th scope=row>4436</th><td> -97.74310</td><td> 7.375028</td><td> 7.343612</td><td> 7.269763</td><td> 7.392825</td><td> 6.768941</td><td>6.918398</td><td>6.919783</td><td>6.917508</td><td>6.920573</td><td>...</td><td>6.923128</td><td>0</td><td>0</td><td>0</td><td>0</td><td>0</td><td>0</td><td>0</td><td>0</td><td>4.903720</td></tr>\n",
       "\t<tr><th scope=row>5784</th><td> -93.25540</td><td> 0.000000</td><td> 0.000000</td><td> 0.000000</td><td> 4.435043</td><td> 4.522121</td><td>6.911747</td><td>6.913439</td><td>6.913340</td><td>6.922151</td><td>...</td><td>6.925175</td><td>0</td><td>0</td><td>0</td><td>0</td><td>0</td><td>0</td><td>0</td><td>0</td><td>2.629650</td></tr>\n",
       "\t<tr><th scope=row>4031</th><td> -93.25540</td><td> 1.738236</td><td> 1.738236</td><td> 1.738236</td><td> 2.511837</td><td> 1.726383</td><td>6.907355</td><td>6.908355</td><td>6.912345</td><td>6.908455</td><td>...</td><td>6.913116</td><td>1</td><td>1</td><td>1</td><td>1</td><td>1</td><td>1</td><td>1</td><td>1</td><td>5.871892</td></tr>\n",
       "\t<tr><th scope=row>7173</th><td> -93.25540</td><td>10.093105</td><td>10.934027</td><td> 0.000000</td><td>13.118707</td><td>12.798276</td><td>6.911448</td><td>6.913837</td><td>6.917309</td><td>6.920968</td><td>...</td><td>6.924064</td><td>1</td><td>1</td><td>1</td><td>0</td><td>1</td><td>1</td><td>0</td><td>1</td><td>6.018842</td></tr>\n",
       "\t<tr><th scope=row>2133</th><td>-111.92814</td><td> 0.000000</td><td> 0.000000</td><td> 0.000000</td><td> 2.616178</td><td> 3.063686</td><td>6.922250</td><td>6.911150</td><td>6.911150</td><td>6.918992</td><td>...</td><td>6.924457</td><td>0</td><td>0</td><td>0</td><td>0</td><td>0</td><td>0</td><td>0</td><td>0</td><td>2.286244</td></tr>\n",
       "\t<tr><th scope=row>1115</th><td> -76.48529</td><td> 4.975471</td><td> 5.186148</td><td> 5.011674</td><td> 5.606186</td><td> 3.195106</td><td>6.917508</td><td>6.916319</td><td>6.921757</td><td>6.923136</td><td>...</td><td>6.929031</td><td>0</td><td>0</td><td>0</td><td>0</td><td>0</td><td>0</td><td>0</td><td>0</td><td>2.194619</td></tr>\n",
       "\t<tr><th scope=row>9648</th><td> -76.48529</td><td> 4.866288</td><td> 4.830721</td><td> 4.815122</td><td> 6.355348</td><td> 5.387954</td><td>6.916913</td><td>6.923530</td><td>6.919190</td><td>6.931960</td><td>...</td><td>6.935436</td><td>0</td><td>0</td><td>0</td><td>0</td><td>0</td><td>0</td><td>0</td><td>0</td><td>5.298849</td></tr>\n",
       "\t<tr><th scope=row>8112</th><td>-111.92814</td><td> 3.866019</td><td> 3.985500</td><td> 0.000000</td><td> 5.392641</td><td> 4.171507</td><td>6.923333</td><td>6.912444</td><td>6.916319</td><td>6.918102</td><td>...</td><td>6.923641</td><td>0</td><td>0</td><td>0</td><td>0</td><td>0</td><td>0</td><td>0</td><td>0</td><td>3.521189</td></tr>\n",
       "\t<tr><th scope=row>2195</th><td>-111.92814</td><td> 0.000000</td><td> 0.000000</td><td> 0.000000</td><td> 3.066527</td><td> 4.663353</td><td>6.922250</td><td>6.911150</td><td>6.911150</td><td>6.918992</td><td>...</td><td>6.924457</td><td>0</td><td>0</td><td>0</td><td>0</td><td>0</td><td>0</td><td>0</td><td>0</td><td>3.448667</td></tr>\n",
       "\t<tr><th scope=row>3181</th><td> -93.25540</td><td> 0.000000</td><td> 0.000000</td><td> 0.000000</td><td> 0.000000</td><td> 0.000000</td><td>6.918102</td><td>6.896897</td><td>6.904550</td><td>6.913041</td><td>...</td><td>6.923543</td><td>0</td><td>0</td><td>0</td><td>0</td><td>0</td><td>0</td><td>0</td><td>0</td><td>4.974181</td></tr>\n",
       "\t<tr><th scope=row>2492</th><td> -81.37904</td><td> 0.000000</td><td> 0.000000</td><td> 0.000000</td><td> 5.872426</td><td> 5.551617</td><td>6.924612</td><td>6.925300</td><td>6.927264</td><td>6.923333</td><td>...</td><td>6.930020</td><td>0</td><td>0</td><td>0</td><td>0</td><td>0</td><td>0</td><td>0</td><td>0</td><td>2.375354</td></tr>\n",
       "\t<tr><th scope=row>5884</th><td> -81.37904</td><td> 0.000000</td><td> 0.000000</td><td> 0.000000</td><td> 6.031759</td><td> 5.411765</td><td>6.918794</td><td>6.919881</td><td>6.921954</td><td>6.923038</td><td>...</td><td>6.924520</td><td>0</td><td>0</td><td>0</td><td>0</td><td>0</td><td>0</td><td>0</td><td>0</td><td>4.374128</td></tr>\n",
       "\t<tr><th scope=row>9736</th><td> -81.37904</td><td> 0.000000</td><td> 0.000000</td><td>12.864254</td><td>13.819031</td><td>12.650374</td><td>6.917409</td><td>6.923432</td><td>6.919881</td><td>6.930495</td><td>...</td><td>6.932444</td><td>1</td><td>1</td><td>1</td><td>1</td><td>1</td><td>1</td><td>1</td><td>1</td><td>3.248122</td></tr>\n",
       "\t<tr><th scope=row>208</th><td> -76.48529</td><td> 6.389849</td><td> 6.421331</td><td> 6.434353</td><td> 6.590387</td><td> 4.730342</td><td>6.906755</td><td>6.922053</td><td>6.912643</td><td>6.925595</td><td>...</td><td>6.928832</td><td>0</td><td>0</td><td>0</td><td>0</td><td>0</td><td>0</td><td>1</td><td>0</td><td>4.882667</td></tr>\n",
       "\t<tr><th scope=row>31</th><td> -75.69600</td><td> 0.000000</td><td> 0.000000</td><td> 0.000000</td><td> 0.000000</td><td> 0.000000</td><td>6.912842</td><td>6.915525</td><td>6.905753</td><td>6.916021</td><td>...</td><td>6.919005</td><td>0</td><td>0</td><td>0</td><td>0</td><td>0</td><td>0</td><td>0</td><td>0</td><td>2.705094</td></tr>\n",
       "\t<tr><th scope=row>7357</th><td>-111.92814</td><td> 3.659628</td><td> 2.085660</td><td> 3.823694</td><td> 5.950700</td><td> 5.355493</td><td>6.911448</td><td>6.910751</td><td>6.912544</td><td>6.910950</td><td>...</td><td>6.916244</td><td>0</td><td>0</td><td>0</td><td>0</td><td>0</td><td>0</td><td>0</td><td>0</td><td>4.208537</td></tr>\n",
       "\t<tr><th scope=row>8077</th><td> -75.69720</td><td> 7.506465</td><td> 6.101105</td><td> 0.000000</td><td>12.028576</td><td>10.831287</td><td>6.913936</td><td>6.910751</td><td>6.920672</td><td>6.909254</td><td>...</td><td>6.920118</td><td>0</td><td>0</td><td>0</td><td>0</td><td>0</td><td>0</td><td>0</td><td>0</td><td>4.481187</td></tr>\n",
       "\t<tr><th scope=row>2713</th><td> -97.74310</td><td> 4.456869</td><td> 2.754832</td><td> 2.830557</td><td> 5.853402</td><td> 5.560295</td><td>6.918695</td><td>6.918003</td><td>6.910551</td><td>6.922151</td><td>...</td><td>6.925214</td><td>0</td><td>0</td><td>0</td><td>0</td><td>0</td><td>0</td><td>0</td><td>0</td><td>4.137260</td></tr>\n",
       "\t<tr><th scope=row>8641</th><td> -97.74310</td><td> 0.000000</td><td> 0.000000</td><td> 7.423888</td><td> 8.293906</td><td> 6.890465</td><td>6.923333</td><td>6.915723</td><td>6.925792</td><td>6.923136</td><td>...</td><td>6.927378</td><td>0</td><td>0</td><td>0</td><td>0</td><td>0</td><td>0</td><td>0</td><td>0</td><td>6.180402</td></tr>\n",
       "\t<tr><th scope=row>...</th><td>...</td><td>...</td><td>...</td><td>...</td><td>...</td><td>...</td><td>...</td><td>...</td><td>...</td><td>...</td><td></td><td>...</td><td>...</td><td>...</td><td>...</td><td>...</td><td>...</td><td>...</td><td>...</td><td>...</td><td>...</td></tr>\n",
       "\t<tr><th scope=row>5924</th><td> -81.37904</td><td>0.0000000</td><td>0.0000000</td><td>4.5138813</td><td>5.1818390</td><td>4.3199466</td><td>6.918794</td><td>6.919881</td><td>6.921954</td><td>6.923038</td><td>...</td><td>6.924520</td><td>0</td><td>0</td><td>0</td><td>0</td><td>0</td><td>0</td><td>0</td><td>0</td><td>0.7550736</td></tr>\n",
       "\t<tr><th scope=row>7799</th><td> -97.74310</td><td>4.0713471</td><td>0.8050910</td><td>3.6532341</td><td>6.4632421</td><td>5.3035243</td><td>6.924416</td><td>6.918003</td><td>6.908255</td><td>6.910452</td><td>...</td><td>6.918844</td><td>0</td><td>0</td><td>0</td><td>0</td><td>0</td><td>0</td><td>0</td><td>0</td><td>3.8167370</td></tr>\n",
       "\t<tr><th scope=row>8795</th><td> -76.48529</td><td>0.0000000</td><td>0.0000000</td><td>0.0000000</td><td>4.2396466</td><td>4.1610578</td><td>6.924022</td><td>6.913638</td><td>6.911847</td><td>6.919289</td><td>...</td><td>6.926560</td><td>0</td><td>0</td><td>0</td><td>0</td><td>0</td><td>0</td><td>0</td><td>0</td><td>2.9269074</td></tr>\n",
       "\t<tr><th scope=row>5849</th><td> -81.37904</td><td>5.5636898</td><td>6.1284256</td><td>6.3237825</td><td>7.3367381</td><td>6.1493462</td><td>6.918794</td><td>6.919881</td><td>6.921954</td><td>6.923038</td><td>...</td><td>6.924520</td><td>0</td><td>0</td><td>0</td><td>0</td><td>0</td><td>0</td><td>0</td><td>0</td><td>3.5797304</td></tr>\n",
       "\t<tr><th scope=row>10045</th><td> -93.25540</td><td>2.1871406</td><td>1.8362866</td><td>1.6853428</td><td>4.9557293</td><td>4.7704592</td><td>6.917309</td><td>6.915525</td><td>6.917210</td><td>6.931276</td><td>...</td><td>6.936560</td><td>0</td><td>0</td><td>0</td><td>0</td><td>0</td><td>0</td><td>0</td><td>0</td><td>3.9956612</td></tr>\n",
       "\t<tr><th scope=row>4937</th><td> -93.25540</td><td>0.0000000</td><td>0.0000000</td><td>2.8567805</td><td>4.6587418</td><td>4.9457165</td><td>6.908555</td><td>6.915029</td><td>6.915823</td><td>6.922939</td><td>...</td><td>6.924697</td><td>0</td><td>0</td><td>0</td><td>0</td><td>0</td><td>0</td><td>0</td><td>0</td><td>3.2149959</td></tr>\n",
       "\t<tr><th scope=row>2767</th><td> -76.48529</td><td>0.0000000</td><td>0.0000000</td><td>0.0000000</td><td>3.1606044</td><td>2.2909809</td><td>6.907355</td><td>6.905553</td><td>6.896087</td><td>6.905052</td><td>...</td><td>6.911593</td><td>0</td><td>0</td><td>1</td><td>0</td><td>1</td><td>0</td><td>1</td><td>0</td><td>3.1289754</td></tr>\n",
       "\t<tr><th scope=row>3346</th><td> -81.37904</td><td>5.0864735</td><td>4.6048211</td><td>4.9205421</td><td>6.1856848</td><td>5.6534820</td><td>6.919783</td><td>6.918893</td><td>6.917409</td><td>6.927852</td><td>...</td><td>6.930136</td><td>0</td><td>0</td><td>0</td><td>0</td><td>0</td><td>0</td><td>0</td><td>0</td><td>2.5086036</td></tr>\n",
       "\t<tr><th scope=row>1922</th><td> -76.48529</td><td>4.5889819</td><td>4.6940644</td><td>4.7303930</td><td>4.8323682</td><td>2.6689452</td><td>6.916913</td><td>6.909554</td><td>6.917904</td><td>6.908655</td><td>...</td><td>6.916028</td><td>1</td><td>1</td><td>1</td><td>1</td><td>1</td><td>1</td><td>0</td><td>0</td><td>5.5440291</td></tr>\n",
       "\t<tr><th scope=row>1717</th><td> -74.70000</td><td>0.0000000</td><td>0.0000000</td><td>0.0000000</td><td>0.0000000</td><td>0.0000000</td><td>6.918992</td><td>6.899219</td><td>6.904951</td><td>6.923924</td><td>...</td><td>6.934380</td><td>0</td><td>0</td><td>0</td><td>0</td><td>0</td><td>0</td><td>0</td><td>0</td><td>4.2287699</td></tr>\n",
       "\t<tr><th scope=row>6697</th><td> -81.37904</td><td>0.0000000</td><td>0.0000000</td><td>2.5930583</td><td>4.9360005</td><td>3.9410493</td><td>6.921855</td><td>6.917904</td><td>6.922841</td><td>6.921658</td><td>...</td><td>6.926059</td><td>0</td><td>0</td><td>0</td><td>0</td><td>0</td><td>0</td><td>0</td><td>0</td><td>1.1096015</td></tr>\n",
       "\t<tr><th scope=row>10100</th><td> -75.69720</td><td>0.6903433</td><td>0.7576701</td><td>0.6476790</td><td>4.0579471</td><td>3.8227047</td><td>6.910651</td><td>6.917706</td><td>6.916814</td><td>6.935759</td><td>...</td><td>6.938798</td><td>0</td><td>0</td><td>0</td><td>0</td><td>0</td><td>0</td><td>0</td><td>0</td><td>5.0589296</td></tr>\n",
       "\t<tr><th scope=row>1520</th><td> -93.25540</td><td>0.7755563</td><td>1.2070481</td><td>1.1153711</td><td>4.3206431</td><td>4.0644347</td><td>6.916418</td><td>6.915624</td><td>6.917409</td><td>6.927460</td><td>...</td><td>6.929817</td><td>0</td><td>0</td><td>0</td><td>0</td><td>0</td><td>0</td><td>0</td><td>0</td><td>4.1178657</td></tr>\n",
       "\t<tr><th scope=row>7591</th><td> -81.37904</td><td>0.0000000</td><td>0.0000000</td><td>0.0000000</td><td>5.6429469</td><td>5.9360558</td><td>6.921362</td><td>6.921757</td><td>6.919091</td><td>6.920375</td><td>...</td><td>6.924096</td><td>0</td><td>0</td><td>0</td><td>0</td><td>0</td><td>0</td><td>0</td><td>0</td><td>5.0841300</td></tr>\n",
       "\t<tr><th scope=row>6409</th><td>-111.92814</td><td>6.8409956</td><td>6.7703307</td><td>6.6578033</td><td>7.3736308</td><td>6.2081821</td><td>6.913240</td><td>6.915029</td><td>6.911349</td><td>6.912743</td><td>...</td><td>6.918253</td><td>0</td><td>0</td><td>0</td><td>0</td><td>0</td><td>0</td><td>0</td><td>0</td><td>5.1706673</td></tr>\n",
       "\t<tr><th scope=row>703</th><td> -81.37904</td><td>5.0069458</td><td>0.0000000</td><td>5.5150911</td><td>6.7982203</td><td>6.0133739</td><td>6.921362</td><td>6.921264</td><td>6.919980</td><td>6.921066</td><td>...</td><td>6.923547</td><td>0</td><td>0</td><td>0</td><td>0</td><td>0</td><td>0</td><td>0</td><td>0</td><td>6.4219428</td></tr>\n",
       "\t<tr><th scope=row>583</th><td> -93.25540</td><td>0.0000000</td><td>0.0000000</td><td>0.0000000</td><td>0.4611600</td><td>1.0795691</td><td>6.911448</td><td>6.917904</td><td>6.908955</td><td>6.925792</td><td>...</td><td>6.928573</td><td>1</td><td>1</td><td>1</td><td>1</td><td>1</td><td>1</td><td>1</td><td>1</td><td>5.8301679</td></tr>\n",
       "\t<tr><th scope=row>6003</th><td> -93.25540</td><td>0.0000000</td><td>0.0000000</td><td>0.0000000</td><td>0.0000000</td><td>0.0000000</td><td>6.910850</td><td>6.909853</td><td>6.906054</td><td>6.906354</td><td>...</td><td>6.918496</td><td>0</td><td>0</td><td>0</td><td>0</td><td>0</td><td>0</td><td>0</td><td>0</td><td>5.1034192</td></tr>\n",
       "\t<tr><th scope=row>7111</th><td> -76.48529</td><td>2.3995394</td><td>2.8054975</td><td>3.0988212</td><td>2.9291544</td><td>2.3465752</td><td>6.909853</td><td>6.915823</td><td>6.920672</td><td>6.921362</td><td>...</td><td>6.924816</td><td>0</td><td>0</td><td>0</td><td>0</td><td>0</td><td>0</td><td>1</td><td>0</td><td>4.8526248</td></tr>\n",
       "\t<tr><th scope=row>91</th><td> -97.74310</td><td>6.5921747</td><td>6.8642584</td><td>7.0381241</td><td>7.0086520</td><td>6.1560664</td><td>6.918695</td><td>6.916913</td><td>6.909454</td><td>6.909254</td><td>...</td><td>6.913588</td><td>0</td><td>0</td><td>0</td><td>0</td><td>0</td><td>0</td><td>0</td><td>0</td><td>4.6527611</td></tr>\n",
       "\t<tr><th scope=row>831</th><td> -74.70000</td><td>0.0000000</td><td>0.0000000</td><td>0.0000000</td><td>2.1237370</td><td>2.3046209</td><td>6.913240</td><td>6.923530</td><td>6.914632</td><td>6.922939</td><td>...</td><td>6.927080</td><td>0</td><td>0</td><td>0</td><td>0</td><td>0</td><td>0</td><td>0</td><td>0</td><td>2.7576559</td></tr>\n",
       "\t<tr><th scope=row>9711</th><td> -81.37904</td><td>0.0000000</td><td>0.0000000</td><td>0.0000000</td><td>0.0000000</td><td>0.0000000</td><td>6.917409</td><td>6.923432</td><td>6.919881</td><td>6.930495</td><td>...</td><td>6.932444</td><td>0</td><td>0</td><td>0</td><td>0</td><td>0</td><td>0</td><td>0</td><td>0</td><td>3.2481216</td></tr>\n",
       "\t<tr><th scope=row>1968</th><td> -76.48529</td><td>0.0000000</td><td>0.0000000</td><td>0.0000000</td><td>0.5005447</td><td>0.5848062</td><td>6.916913</td><td>6.909554</td><td>6.917904</td><td>6.908655</td><td>...</td><td>6.916028</td><td>0</td><td>0</td><td>0</td><td>0</td><td>0</td><td>0</td><td>0</td><td>0</td><td>4.1641547</td></tr>\n",
       "\t<tr><th scope=row>6659</th><td> -93.25540</td><td>0.0000000</td><td>0.0000000</td><td>0.0000000</td><td>0.0000000</td><td>0.0000000</td><td>6.909054</td><td>6.907255</td><td>6.911249</td><td>6.906555</td><td>...</td><td>6.917052</td><td>0</td><td>0</td><td>0</td><td>0</td><td>0</td><td>0</td><td>0</td><td>0</td><td>4.9036686</td></tr>\n",
       "\t<tr><th scope=row>1605</th><td> -81.37904</td><td>0.0000000</td><td>0.0000000</td><td>0.0000000</td><td>5.5991939</td><td>5.2786525</td><td>6.922348</td><td>6.921855</td><td>6.922250</td><td>6.920474</td><td>...</td><td>6.922129</td><td>0</td><td>0</td><td>0</td><td>0</td><td>0</td><td>0</td><td>0</td><td>0</td><td>4.3114592</td></tr>\n",
       "\t<tr><th scope=row>2110</th><td>-111.92814</td><td>0.0000000</td><td>1.4676900</td><td>0.1167158</td><td>2.0526537</td><td>2.0492339</td><td>6.922250</td><td>6.911150</td><td>6.911150</td><td>6.918992</td><td>...</td><td>6.924457</td><td>0</td><td>0</td><td>0</td><td>0</td><td>0</td><td>0</td><td>0</td><td>0</td><td>0.8918730</td></tr>\n",
       "\t<tr><th scope=row>8038</th><td> -76.48529</td><td>0.0000000</td><td>0.0000000</td><td>0.0000000</td><td>0.0000000</td><td>0.0000000</td><td>6.913936</td><td>6.910751</td><td>6.920672</td><td>6.909254</td><td>...</td><td>6.920118</td><td>0</td><td>0</td><td>0</td><td>0</td><td>0</td><td>0</td><td>0</td><td>0</td><td>3.4232898</td></tr>\n",
       "\t<tr><th scope=row>5163</th><td> -76.48529</td><td>4.8136207</td><td>5.1040224</td><td>4.9496864</td><td>5.6676833</td><td>4.6037509</td><td>6.911050</td><td>6.905954</td><td>6.915327</td><td>6.918398</td><td>...</td><td>6.920540</td><td>0</td><td>0</td><td>0</td><td>0</td><td>0</td><td>0</td><td>0</td><td>0</td><td>3.7097850</td></tr>\n",
       "\t<tr><th scope=row>7948</th><td> -76.48529</td><td>3.9694708</td><td>3.7286313</td><td>3.7456638</td><td>4.8157672</td><td>4.1557445</td><td>6.911946</td><td>6.910551</td><td>6.921264</td><td>6.904550</td><td>...</td><td>6.917697</td><td>0</td><td>0</td><td>0</td><td>0</td><td>0</td><td>0</td><td>0</td><td>0</td><td>4.4431553</td></tr>\n",
       "\t<tr><th scope=row>2209</th><td>-111.92814</td><td>4.7146692</td><td>4.6623319</td><td>4.6658296</td><td>5.7026033</td><td>5.2149558</td><td>6.922250</td><td>6.911150</td><td>6.911150</td><td>6.918992</td><td>...</td><td>6.924457</td><td>0</td><td>0</td><td>0</td><td>0</td><td>0</td><td>0</td><td>0</td><td>0</td><td>5.0164804</td></tr>\n",
       "</tbody>\n",
       "</table>\n"
      ],
      "text/latex": [
       "A data.frame: 8217 × 21\n",
       "\\begin{tabular}{r|lllllllllllllllllllll}\n",
       "  & lng & ChWt\\_Min\\_W3 & ChWt\\_Min\\_W4 & ChWt\\_Min\\_W5 & ChWt\\_AVG\\_W1 & ChWt\\_STD\\_W1 & Min\\_seaLvlPressure\\_W2 & Min\\_seaLvlPressure\\_W3 & Min\\_seaLvlPressure\\_W4 & Min\\_seaLvlPressure\\_W5 & ... & Avg\\_seaLvlPressure\\_W5 & Stm\\_Max\\_W4.high & Stm\\_Max\\_W5.high & Stm\\_Min\\_W1.high & Stm\\_Min\\_W5.high & Stm\\_AVG\\_W1.high & Stm\\_AVG\\_W5.high & Stm\\_STD\\_W1.high & Stm\\_STD\\_W5.high & El\\_Nxt\\_Mnth\\_Avg\\_OC\\\\\n",
       "  & <dbl> & <dbl> & <dbl> & <dbl> & <dbl> & <dbl> & <dbl> & <dbl> & <dbl> & <dbl> & ... & <dbl> & <int> & <int> & <int> & <int> & <int> & <int> & <int> & <int> & <dbl>\\\\\n",
       "\\hline\n",
       "\t7677 &  -74.70000 &  4.780277 &  4.888043 &  5.710857 &  5.490536 &  4.906688 & 6.913240 & 6.920079 & 6.918893 & 6.921954 & ... & 6.924961 & 0 & 0 & 0 & 0 & 0 & 0 & 0 & 0 & 5.056964\\\\\n",
       "\t9910 & -111.92814 &  0.000000 &  0.000000 &  0.000000 &  6.654466 &  6.449148 & 6.913141 & 6.913936 & 6.913638 & 6.918893 & ... & 6.922738 & 0 & 0 & 0 & 0 & 0 & 0 & 0 & 0 & 2.950513\\\\\n",
       "\t4483 &  -76.48529 &  2.982748 &  3.574077 &  4.904965 &  5.748845 &  5.190721 & 6.915128 & 6.918893 & 6.918596 & 6.920573 & ... & 6.924338 & 0 & 0 & 0 & 0 & 0 & 0 & 0 & 0 & 5.074206\\\\\n",
       "\t7557 &  -81.37904 &  0.000000 &  3.248097 &  3.248097 &  5.161737 &  4.734006 & 6.921362 & 6.921757 & 6.919091 & 6.920375 & ... & 6.924096 & 0 & 0 & 0 & 0 & 0 & 0 & 0 & 0 & 2.036789\\\\\n",
       "\t2745 &  -76.48529 &  4.242062 &  4.575626 &  4.526143 &  4.028224 &  2.995754 & 6.907355 & 6.905553 & 6.896087 & 6.905052 & ... & 6.911593 & 0 & 0 & 0 & 0 & 0 & 0 & 0 & 0 & 6.546848\\\\\n",
       "\t4803 &  -93.25540 &  5.509716 &  6.027436 &  5.410059 &  6.952169 &  6.397475 & 6.908555 & 6.915029 & 6.915823 & 6.922939 & ... & 6.924697 & 0 & 0 & 0 & 0 & 0 & 0 & 0 & 0 & 2.757656\\\\\n",
       "\t5677 &  -93.25540 &  4.199029 &  4.106973 &  2.983103 &  5.306891 &  4.872378 & 6.911747 & 6.913439 & 6.913340 & 6.922151 & ... & 6.925175 & 0 & 0 & 0 & 0 & 0 & 0 & 0 & 0 & 5.489663\\\\\n",
       "\t10255 &  -97.74310 &  7.502572 &  7.699669 &  4.919473 &  7.693074 &  5.555519 & 6.919387 & 6.920277 & 6.918695 & 6.924612 & ... & 6.927715 & 0 & 0 & 0 & 0 & 0 & 0 & 0 & 0 & 3.761563\\\\\n",
       "\t2685 &  -97.74310 &  6.339434 &  0.000000 &  6.649832 &  5.696793 &  4.651368 & 6.918695 & 6.918003 & 6.910551 & 6.922151 & ... & 6.925214 & 0 & 0 & 0 & 0 & 0 & 0 & 0 & 0 & 3.504075\\\\\n",
       "\t10155 &  -81.37904 &  3.640527 &  0.000000 &  0.000000 &  6.584818 &  5.822534 & 6.921461 & 6.920869 & 6.920573 & 6.922348 & ... & 6.925026 & 0 & 0 & 0 & 0 & 0 & 0 & 0 & 0 & 4.248132\\\\\n",
       "\t9668 &  -76.48529 &  4.590536 &  4.551131 &  4.342135 &  5.710922 &  4.871611 & 6.916913 & 6.923530 & 6.919190 & 6.931960 & ... & 6.935436 & 0 & 0 & 0 & 0 & 0 & 0 & 0 & 0 & 3.045477\\\\\n",
       "\t4436 &  -97.74310 &  7.375028 &  7.343612 &  7.269763 &  7.392825 &  6.768941 & 6.918398 & 6.919783 & 6.917508 & 6.920573 & ... & 6.923128 & 0 & 0 & 0 & 0 & 0 & 0 & 0 & 0 & 4.903720\\\\\n",
       "\t5784 &  -93.25540 &  0.000000 &  0.000000 &  0.000000 &  4.435043 &  4.522121 & 6.911747 & 6.913439 & 6.913340 & 6.922151 & ... & 6.925175 & 0 & 0 & 0 & 0 & 0 & 0 & 0 & 0 & 2.629650\\\\\n",
       "\t4031 &  -93.25540 &  1.738236 &  1.738236 &  1.738236 &  2.511837 &  1.726383 & 6.907355 & 6.908355 & 6.912345 & 6.908455 & ... & 6.913116 & 1 & 1 & 1 & 1 & 1 & 1 & 1 & 1 & 5.871892\\\\\n",
       "\t7173 &  -93.25540 & 10.093105 & 10.934027 &  0.000000 & 13.118707 & 12.798276 & 6.911448 & 6.913837 & 6.917309 & 6.920968 & ... & 6.924064 & 1 & 1 & 1 & 0 & 1 & 1 & 0 & 1 & 6.018842\\\\\n",
       "\t2133 & -111.92814 &  0.000000 &  0.000000 &  0.000000 &  2.616178 &  3.063686 & 6.922250 & 6.911150 & 6.911150 & 6.918992 & ... & 6.924457 & 0 & 0 & 0 & 0 & 0 & 0 & 0 & 0 & 2.286244\\\\\n",
       "\t1115 &  -76.48529 &  4.975471 &  5.186148 &  5.011674 &  5.606186 &  3.195106 & 6.917508 & 6.916319 & 6.921757 & 6.923136 & ... & 6.929031 & 0 & 0 & 0 & 0 & 0 & 0 & 0 & 0 & 2.194619\\\\\n",
       "\t9648 &  -76.48529 &  4.866288 &  4.830721 &  4.815122 &  6.355348 &  5.387954 & 6.916913 & 6.923530 & 6.919190 & 6.931960 & ... & 6.935436 & 0 & 0 & 0 & 0 & 0 & 0 & 0 & 0 & 5.298849\\\\\n",
       "\t8112 & -111.92814 &  3.866019 &  3.985500 &  0.000000 &  5.392641 &  4.171507 & 6.923333 & 6.912444 & 6.916319 & 6.918102 & ... & 6.923641 & 0 & 0 & 0 & 0 & 0 & 0 & 0 & 0 & 3.521189\\\\\n",
       "\t2195 & -111.92814 &  0.000000 &  0.000000 &  0.000000 &  3.066527 &  4.663353 & 6.922250 & 6.911150 & 6.911150 & 6.918992 & ... & 6.924457 & 0 & 0 & 0 & 0 & 0 & 0 & 0 & 0 & 3.448667\\\\\n",
       "\t3181 &  -93.25540 &  0.000000 &  0.000000 &  0.000000 &  0.000000 &  0.000000 & 6.918102 & 6.896897 & 6.904550 & 6.913041 & ... & 6.923543 & 0 & 0 & 0 & 0 & 0 & 0 & 0 & 0 & 4.974181\\\\\n",
       "\t2492 &  -81.37904 &  0.000000 &  0.000000 &  0.000000 &  5.872426 &  5.551617 & 6.924612 & 6.925300 & 6.927264 & 6.923333 & ... & 6.930020 & 0 & 0 & 0 & 0 & 0 & 0 & 0 & 0 & 2.375354\\\\\n",
       "\t5884 &  -81.37904 &  0.000000 &  0.000000 &  0.000000 &  6.031759 &  5.411765 & 6.918794 & 6.919881 & 6.921954 & 6.923038 & ... & 6.924520 & 0 & 0 & 0 & 0 & 0 & 0 & 0 & 0 & 4.374128\\\\\n",
       "\t9736 &  -81.37904 &  0.000000 &  0.000000 & 12.864254 & 13.819031 & 12.650374 & 6.917409 & 6.923432 & 6.919881 & 6.930495 & ... & 6.932444 & 1 & 1 & 1 & 1 & 1 & 1 & 1 & 1 & 3.248122\\\\\n",
       "\t208 &  -76.48529 &  6.389849 &  6.421331 &  6.434353 &  6.590387 &  4.730342 & 6.906755 & 6.922053 & 6.912643 & 6.925595 & ... & 6.928832 & 0 & 0 & 0 & 0 & 0 & 0 & 1 & 0 & 4.882667\\\\\n",
       "\t31 &  -75.69600 &  0.000000 &  0.000000 &  0.000000 &  0.000000 &  0.000000 & 6.912842 & 6.915525 & 6.905753 & 6.916021 & ... & 6.919005 & 0 & 0 & 0 & 0 & 0 & 0 & 0 & 0 & 2.705094\\\\\n",
       "\t7357 & -111.92814 &  3.659628 &  2.085660 &  3.823694 &  5.950700 &  5.355493 & 6.911448 & 6.910751 & 6.912544 & 6.910950 & ... & 6.916244 & 0 & 0 & 0 & 0 & 0 & 0 & 0 & 0 & 4.208537\\\\\n",
       "\t8077 &  -75.69720 &  7.506465 &  6.101105 &  0.000000 & 12.028576 & 10.831287 & 6.913936 & 6.910751 & 6.920672 & 6.909254 & ... & 6.920118 & 0 & 0 & 0 & 0 & 0 & 0 & 0 & 0 & 4.481187\\\\\n",
       "\t2713 &  -97.74310 &  4.456869 &  2.754832 &  2.830557 &  5.853402 &  5.560295 & 6.918695 & 6.918003 & 6.910551 & 6.922151 & ... & 6.925214 & 0 & 0 & 0 & 0 & 0 & 0 & 0 & 0 & 4.137260\\\\\n",
       "\t8641 &  -97.74310 &  0.000000 &  0.000000 &  7.423888 &  8.293906 &  6.890465 & 6.923333 & 6.915723 & 6.925792 & 6.923136 & ... & 6.927378 & 0 & 0 & 0 & 0 & 0 & 0 & 0 & 0 & 6.180402\\\\\n",
       "\t... & ... & ... & ... & ... & ... & ... & ... & ... & ... & ... &  & ... & ... & ... & ... & ... & ... & ... & ... & ... & ...\\\\\n",
       "\t5924 &  -81.37904 & 0.0000000 & 0.0000000 & 4.5138813 & 5.1818390 & 4.3199466 & 6.918794 & 6.919881 & 6.921954 & 6.923038 & ... & 6.924520 & 0 & 0 & 0 & 0 & 0 & 0 & 0 & 0 & 0.7550736\\\\\n",
       "\t7799 &  -97.74310 & 4.0713471 & 0.8050910 & 3.6532341 & 6.4632421 & 5.3035243 & 6.924416 & 6.918003 & 6.908255 & 6.910452 & ... & 6.918844 & 0 & 0 & 0 & 0 & 0 & 0 & 0 & 0 & 3.8167370\\\\\n",
       "\t8795 &  -76.48529 & 0.0000000 & 0.0000000 & 0.0000000 & 4.2396466 & 4.1610578 & 6.924022 & 6.913638 & 6.911847 & 6.919289 & ... & 6.926560 & 0 & 0 & 0 & 0 & 0 & 0 & 0 & 0 & 2.9269074\\\\\n",
       "\t5849 &  -81.37904 & 5.5636898 & 6.1284256 & 6.3237825 & 7.3367381 & 6.1493462 & 6.918794 & 6.919881 & 6.921954 & 6.923038 & ... & 6.924520 & 0 & 0 & 0 & 0 & 0 & 0 & 0 & 0 & 3.5797304\\\\\n",
       "\t10045 &  -93.25540 & 2.1871406 & 1.8362866 & 1.6853428 & 4.9557293 & 4.7704592 & 6.917309 & 6.915525 & 6.917210 & 6.931276 & ... & 6.936560 & 0 & 0 & 0 & 0 & 0 & 0 & 0 & 0 & 3.9956612\\\\\n",
       "\t4937 &  -93.25540 & 0.0000000 & 0.0000000 & 2.8567805 & 4.6587418 & 4.9457165 & 6.908555 & 6.915029 & 6.915823 & 6.922939 & ... & 6.924697 & 0 & 0 & 0 & 0 & 0 & 0 & 0 & 0 & 3.2149959\\\\\n",
       "\t2767 &  -76.48529 & 0.0000000 & 0.0000000 & 0.0000000 & 3.1606044 & 2.2909809 & 6.907355 & 6.905553 & 6.896087 & 6.905052 & ... & 6.911593 & 0 & 0 & 1 & 0 & 1 & 0 & 1 & 0 & 3.1289754\\\\\n",
       "\t3346 &  -81.37904 & 5.0864735 & 4.6048211 & 4.9205421 & 6.1856848 & 5.6534820 & 6.919783 & 6.918893 & 6.917409 & 6.927852 & ... & 6.930136 & 0 & 0 & 0 & 0 & 0 & 0 & 0 & 0 & 2.5086036\\\\\n",
       "\t1922 &  -76.48529 & 4.5889819 & 4.6940644 & 4.7303930 & 4.8323682 & 2.6689452 & 6.916913 & 6.909554 & 6.917904 & 6.908655 & ... & 6.916028 & 1 & 1 & 1 & 1 & 1 & 1 & 0 & 0 & 5.5440291\\\\\n",
       "\t1717 &  -74.70000 & 0.0000000 & 0.0000000 & 0.0000000 & 0.0000000 & 0.0000000 & 6.918992 & 6.899219 & 6.904951 & 6.923924 & ... & 6.934380 & 0 & 0 & 0 & 0 & 0 & 0 & 0 & 0 & 4.2287699\\\\\n",
       "\t6697 &  -81.37904 & 0.0000000 & 0.0000000 & 2.5930583 & 4.9360005 & 3.9410493 & 6.921855 & 6.917904 & 6.922841 & 6.921658 & ... & 6.926059 & 0 & 0 & 0 & 0 & 0 & 0 & 0 & 0 & 1.1096015\\\\\n",
       "\t10100 &  -75.69720 & 0.6903433 & 0.7576701 & 0.6476790 & 4.0579471 & 3.8227047 & 6.910651 & 6.917706 & 6.916814 & 6.935759 & ... & 6.938798 & 0 & 0 & 0 & 0 & 0 & 0 & 0 & 0 & 5.0589296\\\\\n",
       "\t1520 &  -93.25540 & 0.7755563 & 1.2070481 & 1.1153711 & 4.3206431 & 4.0644347 & 6.916418 & 6.915624 & 6.917409 & 6.927460 & ... & 6.929817 & 0 & 0 & 0 & 0 & 0 & 0 & 0 & 0 & 4.1178657\\\\\n",
       "\t7591 &  -81.37904 & 0.0000000 & 0.0000000 & 0.0000000 & 5.6429469 & 5.9360558 & 6.921362 & 6.921757 & 6.919091 & 6.920375 & ... & 6.924096 & 0 & 0 & 0 & 0 & 0 & 0 & 0 & 0 & 5.0841300\\\\\n",
       "\t6409 & -111.92814 & 6.8409956 & 6.7703307 & 6.6578033 & 7.3736308 & 6.2081821 & 6.913240 & 6.915029 & 6.911349 & 6.912743 & ... & 6.918253 & 0 & 0 & 0 & 0 & 0 & 0 & 0 & 0 & 5.1706673\\\\\n",
       "\t703 &  -81.37904 & 5.0069458 & 0.0000000 & 5.5150911 & 6.7982203 & 6.0133739 & 6.921362 & 6.921264 & 6.919980 & 6.921066 & ... & 6.923547 & 0 & 0 & 0 & 0 & 0 & 0 & 0 & 0 & 6.4219428\\\\\n",
       "\t583 &  -93.25540 & 0.0000000 & 0.0000000 & 0.0000000 & 0.4611600 & 1.0795691 & 6.911448 & 6.917904 & 6.908955 & 6.925792 & ... & 6.928573 & 1 & 1 & 1 & 1 & 1 & 1 & 1 & 1 & 5.8301679\\\\\n",
       "\t6003 &  -93.25540 & 0.0000000 & 0.0000000 & 0.0000000 & 0.0000000 & 0.0000000 & 6.910850 & 6.909853 & 6.906054 & 6.906354 & ... & 6.918496 & 0 & 0 & 0 & 0 & 0 & 0 & 0 & 0 & 5.1034192\\\\\n",
       "\t7111 &  -76.48529 & 2.3995394 & 2.8054975 & 3.0988212 & 2.9291544 & 2.3465752 & 6.909853 & 6.915823 & 6.920672 & 6.921362 & ... & 6.924816 & 0 & 0 & 0 & 0 & 0 & 0 & 1 & 0 & 4.8526248\\\\\n",
       "\t91 &  -97.74310 & 6.5921747 & 6.8642584 & 7.0381241 & 7.0086520 & 6.1560664 & 6.918695 & 6.916913 & 6.909454 & 6.909254 & ... & 6.913588 & 0 & 0 & 0 & 0 & 0 & 0 & 0 & 0 & 4.6527611\\\\\n",
       "\t831 &  -74.70000 & 0.0000000 & 0.0000000 & 0.0000000 & 2.1237370 & 2.3046209 & 6.913240 & 6.923530 & 6.914632 & 6.922939 & ... & 6.927080 & 0 & 0 & 0 & 0 & 0 & 0 & 0 & 0 & 2.7576559\\\\\n",
       "\t9711 &  -81.37904 & 0.0000000 & 0.0000000 & 0.0000000 & 0.0000000 & 0.0000000 & 6.917409 & 6.923432 & 6.919881 & 6.930495 & ... & 6.932444 & 0 & 0 & 0 & 0 & 0 & 0 & 0 & 0 & 3.2481216\\\\\n",
       "\t1968 &  -76.48529 & 0.0000000 & 0.0000000 & 0.0000000 & 0.5005447 & 0.5848062 & 6.916913 & 6.909554 & 6.917904 & 6.908655 & ... & 6.916028 & 0 & 0 & 0 & 0 & 0 & 0 & 0 & 0 & 4.1641547\\\\\n",
       "\t6659 &  -93.25540 & 0.0000000 & 0.0000000 & 0.0000000 & 0.0000000 & 0.0000000 & 6.909054 & 6.907255 & 6.911249 & 6.906555 & ... & 6.917052 & 0 & 0 & 0 & 0 & 0 & 0 & 0 & 0 & 4.9036686\\\\\n",
       "\t1605 &  -81.37904 & 0.0000000 & 0.0000000 & 0.0000000 & 5.5991939 & 5.2786525 & 6.922348 & 6.921855 & 6.922250 & 6.920474 & ... & 6.922129 & 0 & 0 & 0 & 0 & 0 & 0 & 0 & 0 & 4.3114592\\\\\n",
       "\t2110 & -111.92814 & 0.0000000 & 1.4676900 & 0.1167158 & 2.0526537 & 2.0492339 & 6.922250 & 6.911150 & 6.911150 & 6.918992 & ... & 6.924457 & 0 & 0 & 0 & 0 & 0 & 0 & 0 & 0 & 0.8918730\\\\\n",
       "\t8038 &  -76.48529 & 0.0000000 & 0.0000000 & 0.0000000 & 0.0000000 & 0.0000000 & 6.913936 & 6.910751 & 6.920672 & 6.909254 & ... & 6.920118 & 0 & 0 & 0 & 0 & 0 & 0 & 0 & 0 & 3.4232898\\\\\n",
       "\t5163 &  -76.48529 & 4.8136207 & 5.1040224 & 4.9496864 & 5.6676833 & 4.6037509 & 6.911050 & 6.905954 & 6.915327 & 6.918398 & ... & 6.920540 & 0 & 0 & 0 & 0 & 0 & 0 & 0 & 0 & 3.7097850\\\\\n",
       "\t7948 &  -76.48529 & 3.9694708 & 3.7286313 & 3.7456638 & 4.8157672 & 4.1557445 & 6.911946 & 6.910551 & 6.921264 & 6.904550 & ... & 6.917697 & 0 & 0 & 0 & 0 & 0 & 0 & 0 & 0 & 4.4431553\\\\\n",
       "\t2209 & -111.92814 & 4.7146692 & 4.6623319 & 4.6658296 & 5.7026033 & 5.2149558 & 6.922250 & 6.911150 & 6.911150 & 6.918992 & ... & 6.924457 & 0 & 0 & 0 & 0 & 0 & 0 & 0 & 0 & 5.0164804\\\\\n",
       "\\end{tabular}\n"
      ],
      "text/markdown": [
       "\n",
       "A data.frame: 8217 × 21\n",
       "\n",
       "| <!--/--> | lng &lt;dbl&gt; | ChWt_Min_W3 &lt;dbl&gt; | ChWt_Min_W4 &lt;dbl&gt; | ChWt_Min_W5 &lt;dbl&gt; | ChWt_AVG_W1 &lt;dbl&gt; | ChWt_STD_W1 &lt;dbl&gt; | Min_seaLvlPressure_W2 &lt;dbl&gt; | Min_seaLvlPressure_W3 &lt;dbl&gt; | Min_seaLvlPressure_W4 &lt;dbl&gt; | Min_seaLvlPressure_W5 &lt;dbl&gt; | ... ... | Avg_seaLvlPressure_W5 &lt;dbl&gt; | Stm_Max_W4.high &lt;int&gt; | Stm_Max_W5.high &lt;int&gt; | Stm_Min_W1.high &lt;int&gt; | Stm_Min_W5.high &lt;int&gt; | Stm_AVG_W1.high &lt;int&gt; | Stm_AVG_W5.high &lt;int&gt; | Stm_STD_W1.high &lt;int&gt; | Stm_STD_W5.high &lt;int&gt; | El_Nxt_Mnth_Avg_OC &lt;dbl&gt; |\n",
       "|---|---|---|---|---|---|---|---|---|---|---|---|---|---|---|---|---|---|---|---|---|---|\n",
       "| 7677 |  -74.70000 |  4.780277 |  4.888043 |  5.710857 |  5.490536 |  4.906688 | 6.913240 | 6.920079 | 6.918893 | 6.921954 | ... | 6.924961 | 0 | 0 | 0 | 0 | 0 | 0 | 0 | 0 | 5.056964 |\n",
       "| 9910 | -111.92814 |  0.000000 |  0.000000 |  0.000000 |  6.654466 |  6.449148 | 6.913141 | 6.913936 | 6.913638 | 6.918893 | ... | 6.922738 | 0 | 0 | 0 | 0 | 0 | 0 | 0 | 0 | 2.950513 |\n",
       "| 4483 |  -76.48529 |  2.982748 |  3.574077 |  4.904965 |  5.748845 |  5.190721 | 6.915128 | 6.918893 | 6.918596 | 6.920573 | ... | 6.924338 | 0 | 0 | 0 | 0 | 0 | 0 | 0 | 0 | 5.074206 |\n",
       "| 7557 |  -81.37904 |  0.000000 |  3.248097 |  3.248097 |  5.161737 |  4.734006 | 6.921362 | 6.921757 | 6.919091 | 6.920375 | ... | 6.924096 | 0 | 0 | 0 | 0 | 0 | 0 | 0 | 0 | 2.036789 |\n",
       "| 2745 |  -76.48529 |  4.242062 |  4.575626 |  4.526143 |  4.028224 |  2.995754 | 6.907355 | 6.905553 | 6.896087 | 6.905052 | ... | 6.911593 | 0 | 0 | 0 | 0 | 0 | 0 | 0 | 0 | 6.546848 |\n",
       "| 4803 |  -93.25540 |  5.509716 |  6.027436 |  5.410059 |  6.952169 |  6.397475 | 6.908555 | 6.915029 | 6.915823 | 6.922939 | ... | 6.924697 | 0 | 0 | 0 | 0 | 0 | 0 | 0 | 0 | 2.757656 |\n",
       "| 5677 |  -93.25540 |  4.199029 |  4.106973 |  2.983103 |  5.306891 |  4.872378 | 6.911747 | 6.913439 | 6.913340 | 6.922151 | ... | 6.925175 | 0 | 0 | 0 | 0 | 0 | 0 | 0 | 0 | 5.489663 |\n",
       "| 10255 |  -97.74310 |  7.502572 |  7.699669 |  4.919473 |  7.693074 |  5.555519 | 6.919387 | 6.920277 | 6.918695 | 6.924612 | ... | 6.927715 | 0 | 0 | 0 | 0 | 0 | 0 | 0 | 0 | 3.761563 |\n",
       "| 2685 |  -97.74310 |  6.339434 |  0.000000 |  6.649832 |  5.696793 |  4.651368 | 6.918695 | 6.918003 | 6.910551 | 6.922151 | ... | 6.925214 | 0 | 0 | 0 | 0 | 0 | 0 | 0 | 0 | 3.504075 |\n",
       "| 10155 |  -81.37904 |  3.640527 |  0.000000 |  0.000000 |  6.584818 |  5.822534 | 6.921461 | 6.920869 | 6.920573 | 6.922348 | ... | 6.925026 | 0 | 0 | 0 | 0 | 0 | 0 | 0 | 0 | 4.248132 |\n",
       "| 9668 |  -76.48529 |  4.590536 |  4.551131 |  4.342135 |  5.710922 |  4.871611 | 6.916913 | 6.923530 | 6.919190 | 6.931960 | ... | 6.935436 | 0 | 0 | 0 | 0 | 0 | 0 | 0 | 0 | 3.045477 |\n",
       "| 4436 |  -97.74310 |  7.375028 |  7.343612 |  7.269763 |  7.392825 |  6.768941 | 6.918398 | 6.919783 | 6.917508 | 6.920573 | ... | 6.923128 | 0 | 0 | 0 | 0 | 0 | 0 | 0 | 0 | 4.903720 |\n",
       "| 5784 |  -93.25540 |  0.000000 |  0.000000 |  0.000000 |  4.435043 |  4.522121 | 6.911747 | 6.913439 | 6.913340 | 6.922151 | ... | 6.925175 | 0 | 0 | 0 | 0 | 0 | 0 | 0 | 0 | 2.629650 |\n",
       "| 4031 |  -93.25540 |  1.738236 |  1.738236 |  1.738236 |  2.511837 |  1.726383 | 6.907355 | 6.908355 | 6.912345 | 6.908455 | ... | 6.913116 | 1 | 1 | 1 | 1 | 1 | 1 | 1 | 1 | 5.871892 |\n",
       "| 7173 |  -93.25540 | 10.093105 | 10.934027 |  0.000000 | 13.118707 | 12.798276 | 6.911448 | 6.913837 | 6.917309 | 6.920968 | ... | 6.924064 | 1 | 1 | 1 | 0 | 1 | 1 | 0 | 1 | 6.018842 |\n",
       "| 2133 | -111.92814 |  0.000000 |  0.000000 |  0.000000 |  2.616178 |  3.063686 | 6.922250 | 6.911150 | 6.911150 | 6.918992 | ... | 6.924457 | 0 | 0 | 0 | 0 | 0 | 0 | 0 | 0 | 2.286244 |\n",
       "| 1115 |  -76.48529 |  4.975471 |  5.186148 |  5.011674 |  5.606186 |  3.195106 | 6.917508 | 6.916319 | 6.921757 | 6.923136 | ... | 6.929031 | 0 | 0 | 0 | 0 | 0 | 0 | 0 | 0 | 2.194619 |\n",
       "| 9648 |  -76.48529 |  4.866288 |  4.830721 |  4.815122 |  6.355348 |  5.387954 | 6.916913 | 6.923530 | 6.919190 | 6.931960 | ... | 6.935436 | 0 | 0 | 0 | 0 | 0 | 0 | 0 | 0 | 5.298849 |\n",
       "| 8112 | -111.92814 |  3.866019 |  3.985500 |  0.000000 |  5.392641 |  4.171507 | 6.923333 | 6.912444 | 6.916319 | 6.918102 | ... | 6.923641 | 0 | 0 | 0 | 0 | 0 | 0 | 0 | 0 | 3.521189 |\n",
       "| 2195 | -111.92814 |  0.000000 |  0.000000 |  0.000000 |  3.066527 |  4.663353 | 6.922250 | 6.911150 | 6.911150 | 6.918992 | ... | 6.924457 | 0 | 0 | 0 | 0 | 0 | 0 | 0 | 0 | 3.448667 |\n",
       "| 3181 |  -93.25540 |  0.000000 |  0.000000 |  0.000000 |  0.000000 |  0.000000 | 6.918102 | 6.896897 | 6.904550 | 6.913041 | ... | 6.923543 | 0 | 0 | 0 | 0 | 0 | 0 | 0 | 0 | 4.974181 |\n",
       "| 2492 |  -81.37904 |  0.000000 |  0.000000 |  0.000000 |  5.872426 |  5.551617 | 6.924612 | 6.925300 | 6.927264 | 6.923333 | ... | 6.930020 | 0 | 0 | 0 | 0 | 0 | 0 | 0 | 0 | 2.375354 |\n",
       "| 5884 |  -81.37904 |  0.000000 |  0.000000 |  0.000000 |  6.031759 |  5.411765 | 6.918794 | 6.919881 | 6.921954 | 6.923038 | ... | 6.924520 | 0 | 0 | 0 | 0 | 0 | 0 | 0 | 0 | 4.374128 |\n",
       "| 9736 |  -81.37904 |  0.000000 |  0.000000 | 12.864254 | 13.819031 | 12.650374 | 6.917409 | 6.923432 | 6.919881 | 6.930495 | ... | 6.932444 | 1 | 1 | 1 | 1 | 1 | 1 | 1 | 1 | 3.248122 |\n",
       "| 208 |  -76.48529 |  6.389849 |  6.421331 |  6.434353 |  6.590387 |  4.730342 | 6.906755 | 6.922053 | 6.912643 | 6.925595 | ... | 6.928832 | 0 | 0 | 0 | 0 | 0 | 0 | 1 | 0 | 4.882667 |\n",
       "| 31 |  -75.69600 |  0.000000 |  0.000000 |  0.000000 |  0.000000 |  0.000000 | 6.912842 | 6.915525 | 6.905753 | 6.916021 | ... | 6.919005 | 0 | 0 | 0 | 0 | 0 | 0 | 0 | 0 | 2.705094 |\n",
       "| 7357 | -111.92814 |  3.659628 |  2.085660 |  3.823694 |  5.950700 |  5.355493 | 6.911448 | 6.910751 | 6.912544 | 6.910950 | ... | 6.916244 | 0 | 0 | 0 | 0 | 0 | 0 | 0 | 0 | 4.208537 |\n",
       "| 8077 |  -75.69720 |  7.506465 |  6.101105 |  0.000000 | 12.028576 | 10.831287 | 6.913936 | 6.910751 | 6.920672 | 6.909254 | ... | 6.920118 | 0 | 0 | 0 | 0 | 0 | 0 | 0 | 0 | 4.481187 |\n",
       "| 2713 |  -97.74310 |  4.456869 |  2.754832 |  2.830557 |  5.853402 |  5.560295 | 6.918695 | 6.918003 | 6.910551 | 6.922151 | ... | 6.925214 | 0 | 0 | 0 | 0 | 0 | 0 | 0 | 0 | 4.137260 |\n",
       "| 8641 |  -97.74310 |  0.000000 |  0.000000 |  7.423888 |  8.293906 |  6.890465 | 6.923333 | 6.915723 | 6.925792 | 6.923136 | ... | 6.927378 | 0 | 0 | 0 | 0 | 0 | 0 | 0 | 0 | 6.180402 |\n",
       "| ... | ... | ... | ... | ... | ... | ... | ... | ... | ... | ... | <!----> | ... | ... | ... | ... | ... | ... | ... | ... | ... | ... |\n",
       "| 5924 |  -81.37904 | 0.0000000 | 0.0000000 | 4.5138813 | 5.1818390 | 4.3199466 | 6.918794 | 6.919881 | 6.921954 | 6.923038 | ... | 6.924520 | 0 | 0 | 0 | 0 | 0 | 0 | 0 | 0 | 0.7550736 |\n",
       "| 7799 |  -97.74310 | 4.0713471 | 0.8050910 | 3.6532341 | 6.4632421 | 5.3035243 | 6.924416 | 6.918003 | 6.908255 | 6.910452 | ... | 6.918844 | 0 | 0 | 0 | 0 | 0 | 0 | 0 | 0 | 3.8167370 |\n",
       "| 8795 |  -76.48529 | 0.0000000 | 0.0000000 | 0.0000000 | 4.2396466 | 4.1610578 | 6.924022 | 6.913638 | 6.911847 | 6.919289 | ... | 6.926560 | 0 | 0 | 0 | 0 | 0 | 0 | 0 | 0 | 2.9269074 |\n",
       "| 5849 |  -81.37904 | 5.5636898 | 6.1284256 | 6.3237825 | 7.3367381 | 6.1493462 | 6.918794 | 6.919881 | 6.921954 | 6.923038 | ... | 6.924520 | 0 | 0 | 0 | 0 | 0 | 0 | 0 | 0 | 3.5797304 |\n",
       "| 10045 |  -93.25540 | 2.1871406 | 1.8362866 | 1.6853428 | 4.9557293 | 4.7704592 | 6.917309 | 6.915525 | 6.917210 | 6.931276 | ... | 6.936560 | 0 | 0 | 0 | 0 | 0 | 0 | 0 | 0 | 3.9956612 |\n",
       "| 4937 |  -93.25540 | 0.0000000 | 0.0000000 | 2.8567805 | 4.6587418 | 4.9457165 | 6.908555 | 6.915029 | 6.915823 | 6.922939 | ... | 6.924697 | 0 | 0 | 0 | 0 | 0 | 0 | 0 | 0 | 3.2149959 |\n",
       "| 2767 |  -76.48529 | 0.0000000 | 0.0000000 | 0.0000000 | 3.1606044 | 2.2909809 | 6.907355 | 6.905553 | 6.896087 | 6.905052 | ... | 6.911593 | 0 | 0 | 1 | 0 | 1 | 0 | 1 | 0 | 3.1289754 |\n",
       "| 3346 |  -81.37904 | 5.0864735 | 4.6048211 | 4.9205421 | 6.1856848 | 5.6534820 | 6.919783 | 6.918893 | 6.917409 | 6.927852 | ... | 6.930136 | 0 | 0 | 0 | 0 | 0 | 0 | 0 | 0 | 2.5086036 |\n",
       "| 1922 |  -76.48529 | 4.5889819 | 4.6940644 | 4.7303930 | 4.8323682 | 2.6689452 | 6.916913 | 6.909554 | 6.917904 | 6.908655 | ... | 6.916028 | 1 | 1 | 1 | 1 | 1 | 1 | 0 | 0 | 5.5440291 |\n",
       "| 1717 |  -74.70000 | 0.0000000 | 0.0000000 | 0.0000000 | 0.0000000 | 0.0000000 | 6.918992 | 6.899219 | 6.904951 | 6.923924 | ... | 6.934380 | 0 | 0 | 0 | 0 | 0 | 0 | 0 | 0 | 4.2287699 |\n",
       "| 6697 |  -81.37904 | 0.0000000 | 0.0000000 | 2.5930583 | 4.9360005 | 3.9410493 | 6.921855 | 6.917904 | 6.922841 | 6.921658 | ... | 6.926059 | 0 | 0 | 0 | 0 | 0 | 0 | 0 | 0 | 1.1096015 |\n",
       "| 10100 |  -75.69720 | 0.6903433 | 0.7576701 | 0.6476790 | 4.0579471 | 3.8227047 | 6.910651 | 6.917706 | 6.916814 | 6.935759 | ... | 6.938798 | 0 | 0 | 0 | 0 | 0 | 0 | 0 | 0 | 5.0589296 |\n",
       "| 1520 |  -93.25540 | 0.7755563 | 1.2070481 | 1.1153711 | 4.3206431 | 4.0644347 | 6.916418 | 6.915624 | 6.917409 | 6.927460 | ... | 6.929817 | 0 | 0 | 0 | 0 | 0 | 0 | 0 | 0 | 4.1178657 |\n",
       "| 7591 |  -81.37904 | 0.0000000 | 0.0000000 | 0.0000000 | 5.6429469 | 5.9360558 | 6.921362 | 6.921757 | 6.919091 | 6.920375 | ... | 6.924096 | 0 | 0 | 0 | 0 | 0 | 0 | 0 | 0 | 5.0841300 |\n",
       "| 6409 | -111.92814 | 6.8409956 | 6.7703307 | 6.6578033 | 7.3736308 | 6.2081821 | 6.913240 | 6.915029 | 6.911349 | 6.912743 | ... | 6.918253 | 0 | 0 | 0 | 0 | 0 | 0 | 0 | 0 | 5.1706673 |\n",
       "| 703 |  -81.37904 | 5.0069458 | 0.0000000 | 5.5150911 | 6.7982203 | 6.0133739 | 6.921362 | 6.921264 | 6.919980 | 6.921066 | ... | 6.923547 | 0 | 0 | 0 | 0 | 0 | 0 | 0 | 0 | 6.4219428 |\n",
       "| 583 |  -93.25540 | 0.0000000 | 0.0000000 | 0.0000000 | 0.4611600 | 1.0795691 | 6.911448 | 6.917904 | 6.908955 | 6.925792 | ... | 6.928573 | 1 | 1 | 1 | 1 | 1 | 1 | 1 | 1 | 5.8301679 |\n",
       "| 6003 |  -93.25540 | 0.0000000 | 0.0000000 | 0.0000000 | 0.0000000 | 0.0000000 | 6.910850 | 6.909853 | 6.906054 | 6.906354 | ... | 6.918496 | 0 | 0 | 0 | 0 | 0 | 0 | 0 | 0 | 5.1034192 |\n",
       "| 7111 |  -76.48529 | 2.3995394 | 2.8054975 | 3.0988212 | 2.9291544 | 2.3465752 | 6.909853 | 6.915823 | 6.920672 | 6.921362 | ... | 6.924816 | 0 | 0 | 0 | 0 | 0 | 0 | 1 | 0 | 4.8526248 |\n",
       "| 91 |  -97.74310 | 6.5921747 | 6.8642584 | 7.0381241 | 7.0086520 | 6.1560664 | 6.918695 | 6.916913 | 6.909454 | 6.909254 | ... | 6.913588 | 0 | 0 | 0 | 0 | 0 | 0 | 0 | 0 | 4.6527611 |\n",
       "| 831 |  -74.70000 | 0.0000000 | 0.0000000 | 0.0000000 | 2.1237370 | 2.3046209 | 6.913240 | 6.923530 | 6.914632 | 6.922939 | ... | 6.927080 | 0 | 0 | 0 | 0 | 0 | 0 | 0 | 0 | 2.7576559 |\n",
       "| 9711 |  -81.37904 | 0.0000000 | 0.0000000 | 0.0000000 | 0.0000000 | 0.0000000 | 6.917409 | 6.923432 | 6.919881 | 6.930495 | ... | 6.932444 | 0 | 0 | 0 | 0 | 0 | 0 | 0 | 0 | 3.2481216 |\n",
       "| 1968 |  -76.48529 | 0.0000000 | 0.0000000 | 0.0000000 | 0.5005447 | 0.5848062 | 6.916913 | 6.909554 | 6.917904 | 6.908655 | ... | 6.916028 | 0 | 0 | 0 | 0 | 0 | 0 | 0 | 0 | 4.1641547 |\n",
       "| 6659 |  -93.25540 | 0.0000000 | 0.0000000 | 0.0000000 | 0.0000000 | 0.0000000 | 6.909054 | 6.907255 | 6.911249 | 6.906555 | ... | 6.917052 | 0 | 0 | 0 | 0 | 0 | 0 | 0 | 0 | 4.9036686 |\n",
       "| 1605 |  -81.37904 | 0.0000000 | 0.0000000 | 0.0000000 | 5.5991939 | 5.2786525 | 6.922348 | 6.921855 | 6.922250 | 6.920474 | ... | 6.922129 | 0 | 0 | 0 | 0 | 0 | 0 | 0 | 0 | 4.3114592 |\n",
       "| 2110 | -111.92814 | 0.0000000 | 1.4676900 | 0.1167158 | 2.0526537 | 2.0492339 | 6.922250 | 6.911150 | 6.911150 | 6.918992 | ... | 6.924457 | 0 | 0 | 0 | 0 | 0 | 0 | 0 | 0 | 0.8918730 |\n",
       "| 8038 |  -76.48529 | 0.0000000 | 0.0000000 | 0.0000000 | 0.0000000 | 0.0000000 | 6.913936 | 6.910751 | 6.920672 | 6.909254 | ... | 6.920118 | 0 | 0 | 0 | 0 | 0 | 0 | 0 | 0 | 3.4232898 |\n",
       "| 5163 |  -76.48529 | 4.8136207 | 5.1040224 | 4.9496864 | 5.6676833 | 4.6037509 | 6.911050 | 6.905954 | 6.915327 | 6.918398 | ... | 6.920540 | 0 | 0 | 0 | 0 | 0 | 0 | 0 | 0 | 3.7097850 |\n",
       "| 7948 |  -76.48529 | 3.9694708 | 3.7286313 | 3.7456638 | 4.8157672 | 4.1557445 | 6.911946 | 6.910551 | 6.921264 | 6.904550 | ... | 6.917697 | 0 | 0 | 0 | 0 | 0 | 0 | 0 | 0 | 4.4431553 |\n",
       "| 2209 | -111.92814 | 4.7146692 | 4.6623319 | 4.6658296 | 5.7026033 | 5.2149558 | 6.922250 | 6.911150 | 6.911150 | 6.918992 | ... | 6.924457 | 0 | 0 | 0 | 0 | 0 | 0 | 0 | 0 | 5.0164804 |\n",
       "\n"
      ],
      "text/plain": [
       "      lng        ChWt_Min_W3 ChWt_Min_W4 ChWt_Min_W5 ChWt_AVG_W1 ChWt_STD_W1\n",
       "7677   -74.70000  4.780277    4.888043    5.710857    5.490536    4.906688  \n",
       "9910  -111.92814  0.000000    0.000000    0.000000    6.654466    6.449148  \n",
       "4483   -76.48529  2.982748    3.574077    4.904965    5.748845    5.190721  \n",
       "7557   -81.37904  0.000000    3.248097    3.248097    5.161737    4.734006  \n",
       "2745   -76.48529  4.242062    4.575626    4.526143    4.028224    2.995754  \n",
       "4803   -93.25540  5.509716    6.027436    5.410059    6.952169    6.397475  \n",
       "5677   -93.25540  4.199029    4.106973    2.983103    5.306891    4.872378  \n",
       "10255  -97.74310  7.502572    7.699669    4.919473    7.693074    5.555519  \n",
       "2685   -97.74310  6.339434    0.000000    6.649832    5.696793    4.651368  \n",
       "10155  -81.37904  3.640527    0.000000    0.000000    6.584818    5.822534  \n",
       "9668   -76.48529  4.590536    4.551131    4.342135    5.710922    4.871611  \n",
       "4436   -97.74310  7.375028    7.343612    7.269763    7.392825    6.768941  \n",
       "5784   -93.25540  0.000000    0.000000    0.000000    4.435043    4.522121  \n",
       "4031   -93.25540  1.738236    1.738236    1.738236    2.511837    1.726383  \n",
       "7173   -93.25540 10.093105   10.934027    0.000000   13.118707   12.798276  \n",
       "2133  -111.92814  0.000000    0.000000    0.000000    2.616178    3.063686  \n",
       "1115   -76.48529  4.975471    5.186148    5.011674    5.606186    3.195106  \n",
       "9648   -76.48529  4.866288    4.830721    4.815122    6.355348    5.387954  \n",
       "8112  -111.92814  3.866019    3.985500    0.000000    5.392641    4.171507  \n",
       "2195  -111.92814  0.000000    0.000000    0.000000    3.066527    4.663353  \n",
       "3181   -93.25540  0.000000    0.000000    0.000000    0.000000    0.000000  \n",
       "2492   -81.37904  0.000000    0.000000    0.000000    5.872426    5.551617  \n",
       "5884   -81.37904  0.000000    0.000000    0.000000    6.031759    5.411765  \n",
       "9736   -81.37904  0.000000    0.000000   12.864254   13.819031   12.650374  \n",
       "208    -76.48529  6.389849    6.421331    6.434353    6.590387    4.730342  \n",
       "31     -75.69600  0.000000    0.000000    0.000000    0.000000    0.000000  \n",
       "7357  -111.92814  3.659628    2.085660    3.823694    5.950700    5.355493  \n",
       "8077   -75.69720  7.506465    6.101105    0.000000   12.028576   10.831287  \n",
       "2713   -97.74310  4.456869    2.754832    2.830557    5.853402    5.560295  \n",
       "8641   -97.74310  0.000000    0.000000    7.423888    8.293906    6.890465  \n",
       "...   ...        ...         ...         ...         ...         ...        \n",
       "5924   -81.37904 0.0000000   0.0000000   4.5138813   5.1818390   4.3199466  \n",
       "7799   -97.74310 4.0713471   0.8050910   3.6532341   6.4632421   5.3035243  \n",
       "8795   -76.48529 0.0000000   0.0000000   0.0000000   4.2396466   4.1610578  \n",
       "5849   -81.37904 5.5636898   6.1284256   6.3237825   7.3367381   6.1493462  \n",
       "10045  -93.25540 2.1871406   1.8362866   1.6853428   4.9557293   4.7704592  \n",
       "4937   -93.25540 0.0000000   0.0000000   2.8567805   4.6587418   4.9457165  \n",
       "2767   -76.48529 0.0000000   0.0000000   0.0000000   3.1606044   2.2909809  \n",
       "3346   -81.37904 5.0864735   4.6048211   4.9205421   6.1856848   5.6534820  \n",
       "1922   -76.48529 4.5889819   4.6940644   4.7303930   4.8323682   2.6689452  \n",
       "1717   -74.70000 0.0000000   0.0000000   0.0000000   0.0000000   0.0000000  \n",
       "6697   -81.37904 0.0000000   0.0000000   2.5930583   4.9360005   3.9410493  \n",
       "10100  -75.69720 0.6903433   0.7576701   0.6476790   4.0579471   3.8227047  \n",
       "1520   -93.25540 0.7755563   1.2070481   1.1153711   4.3206431   4.0644347  \n",
       "7591   -81.37904 0.0000000   0.0000000   0.0000000   5.6429469   5.9360558  \n",
       "6409  -111.92814 6.8409956   6.7703307   6.6578033   7.3736308   6.2081821  \n",
       "703    -81.37904 5.0069458   0.0000000   5.5150911   6.7982203   6.0133739  \n",
       "583    -93.25540 0.0000000   0.0000000   0.0000000   0.4611600   1.0795691  \n",
       "6003   -93.25540 0.0000000   0.0000000   0.0000000   0.0000000   0.0000000  \n",
       "7111   -76.48529 2.3995394   2.8054975   3.0988212   2.9291544   2.3465752  \n",
       "91     -97.74310 6.5921747   6.8642584   7.0381241   7.0086520   6.1560664  \n",
       "831    -74.70000 0.0000000   0.0000000   0.0000000   2.1237370   2.3046209  \n",
       "9711   -81.37904 0.0000000   0.0000000   0.0000000   0.0000000   0.0000000  \n",
       "1968   -76.48529 0.0000000   0.0000000   0.0000000   0.5005447   0.5848062  \n",
       "6659   -93.25540 0.0000000   0.0000000   0.0000000   0.0000000   0.0000000  \n",
       "1605   -81.37904 0.0000000   0.0000000   0.0000000   5.5991939   5.2786525  \n",
       "2110  -111.92814 0.0000000   1.4676900   0.1167158   2.0526537   2.0492339  \n",
       "8038   -76.48529 0.0000000   0.0000000   0.0000000   0.0000000   0.0000000  \n",
       "5163   -76.48529 4.8136207   5.1040224   4.9496864   5.6676833   4.6037509  \n",
       "7948   -76.48529 3.9694708   3.7286313   3.7456638   4.8157672   4.1557445  \n",
       "2209  -111.92814 4.7146692   4.6623319   4.6658296   5.7026033   5.2149558  \n",
       "      Min_seaLvlPressure_W2 Min_seaLvlPressure_W3 Min_seaLvlPressure_W4\n",
       "7677  6.913240              6.920079              6.918893             \n",
       "9910  6.913141              6.913936              6.913638             \n",
       "4483  6.915128              6.918893              6.918596             \n",
       "7557  6.921362              6.921757              6.919091             \n",
       "2745  6.907355              6.905553              6.896087             \n",
       "4803  6.908555              6.915029              6.915823             \n",
       "5677  6.911747              6.913439              6.913340             \n",
       "10255 6.919387              6.920277              6.918695             \n",
       "2685  6.918695              6.918003              6.910551             \n",
       "10155 6.921461              6.920869              6.920573             \n",
       "9668  6.916913              6.923530              6.919190             \n",
       "4436  6.918398              6.919783              6.917508             \n",
       "5784  6.911747              6.913439              6.913340             \n",
       "4031  6.907355              6.908355              6.912345             \n",
       "7173  6.911448              6.913837              6.917309             \n",
       "2133  6.922250              6.911150              6.911150             \n",
       "1115  6.917508              6.916319              6.921757             \n",
       "9648  6.916913              6.923530              6.919190             \n",
       "8112  6.923333              6.912444              6.916319             \n",
       "2195  6.922250              6.911150              6.911150             \n",
       "3181  6.918102              6.896897              6.904550             \n",
       "2492  6.924612              6.925300              6.927264             \n",
       "5884  6.918794              6.919881              6.921954             \n",
       "9736  6.917409              6.923432              6.919881             \n",
       "208   6.906755              6.922053              6.912643             \n",
       "31    6.912842              6.915525              6.905753             \n",
       "7357  6.911448              6.910751              6.912544             \n",
       "8077  6.913936              6.910751              6.920672             \n",
       "2713  6.918695              6.918003              6.910551             \n",
       "8641  6.923333              6.915723              6.925792             \n",
       "...   ...                   ...                   ...                  \n",
       "5924  6.918794              6.919881              6.921954             \n",
       "7799  6.924416              6.918003              6.908255             \n",
       "8795  6.924022              6.913638              6.911847             \n",
       "5849  6.918794              6.919881              6.921954             \n",
       "10045 6.917309              6.915525              6.917210             \n",
       "4937  6.908555              6.915029              6.915823             \n",
       "2767  6.907355              6.905553              6.896087             \n",
       "3346  6.919783              6.918893              6.917409             \n",
       "1922  6.916913              6.909554              6.917904             \n",
       "1717  6.918992              6.899219              6.904951             \n",
       "6697  6.921855              6.917904              6.922841             \n",
       "10100 6.910651              6.917706              6.916814             \n",
       "1520  6.916418              6.915624              6.917409             \n",
       "7591  6.921362              6.921757              6.919091             \n",
       "6409  6.913240              6.915029              6.911349             \n",
       "703   6.921362              6.921264              6.919980             \n",
       "583   6.911448              6.917904              6.908955             \n",
       "6003  6.910850              6.909853              6.906054             \n",
       "7111  6.909853              6.915823              6.920672             \n",
       "91    6.918695              6.916913              6.909454             \n",
       "831   6.913240              6.923530              6.914632             \n",
       "9711  6.917409              6.923432              6.919881             \n",
       "1968  6.916913              6.909554              6.917904             \n",
       "6659  6.909054              6.907255              6.911249             \n",
       "1605  6.922348              6.921855              6.922250             \n",
       "2110  6.922250              6.911150              6.911150             \n",
       "8038  6.913936              6.910751              6.920672             \n",
       "5163  6.911050              6.905954              6.915327             \n",
       "7948  6.911946              6.910551              6.921264             \n",
       "2209  6.922250              6.911150              6.911150             \n",
       "      Min_seaLvlPressure_W5 ... Avg_seaLvlPressure_W5 Stm_Max_W4.high\n",
       "7677  6.921954              ... 6.924961              0              \n",
       "9910  6.918893              ... 6.922738              0              \n",
       "4483  6.920573              ... 6.924338              0              \n",
       "7557  6.920375              ... 6.924096              0              \n",
       "2745  6.905052              ... 6.911593              0              \n",
       "4803  6.922939              ... 6.924697              0              \n",
       "5677  6.922151              ... 6.925175              0              \n",
       "10255 6.924612              ... 6.927715              0              \n",
       "2685  6.922151              ... 6.925214              0              \n",
       "10155 6.922348              ... 6.925026              0              \n",
       "9668  6.931960              ... 6.935436              0              \n",
       "4436  6.920573              ... 6.923128              0              \n",
       "5784  6.922151              ... 6.925175              0              \n",
       "4031  6.908455              ... 6.913116              1              \n",
       "7173  6.920968              ... 6.924064              1              \n",
       "2133  6.918992              ... 6.924457              0              \n",
       "1115  6.923136              ... 6.929031              0              \n",
       "9648  6.931960              ... 6.935436              0              \n",
       "8112  6.918102              ... 6.923641              0              \n",
       "2195  6.918992              ... 6.924457              0              \n",
       "3181  6.913041              ... 6.923543              0              \n",
       "2492  6.923333              ... 6.930020              0              \n",
       "5884  6.923038              ... 6.924520              0              \n",
       "9736  6.930495              ... 6.932444              1              \n",
       "208   6.925595              ... 6.928832              0              \n",
       "31    6.916021              ... 6.919005              0              \n",
       "7357  6.910950              ... 6.916244              0              \n",
       "8077  6.909254              ... 6.920118              0              \n",
       "2713  6.922151              ... 6.925214              0              \n",
       "8641  6.923136              ... 6.927378              0              \n",
       "...   ...                       ...                   ...            \n",
       "5924  6.923038              ... 6.924520              0              \n",
       "7799  6.910452              ... 6.918844              0              \n",
       "8795  6.919289              ... 6.926560              0              \n",
       "5849  6.923038              ... 6.924520              0              \n",
       "10045 6.931276              ... 6.936560              0              \n",
       "4937  6.922939              ... 6.924697              0              \n",
       "2767  6.905052              ... 6.911593              0              \n",
       "3346  6.927852              ... 6.930136              0              \n",
       "1922  6.908655              ... 6.916028              1              \n",
       "1717  6.923924              ... 6.934380              0              \n",
       "6697  6.921658              ... 6.926059              0              \n",
       "10100 6.935759              ... 6.938798              0              \n",
       "1520  6.927460              ... 6.929817              0              \n",
       "7591  6.920375              ... 6.924096              0              \n",
       "6409  6.912743              ... 6.918253              0              \n",
       "703   6.921066              ... 6.923547              0              \n",
       "583   6.925792              ... 6.928573              1              \n",
       "6003  6.906354              ... 6.918496              0              \n",
       "7111  6.921362              ... 6.924816              0              \n",
       "91    6.909254              ... 6.913588              0              \n",
       "831   6.922939              ... 6.927080              0              \n",
       "9711  6.930495              ... 6.932444              0              \n",
       "1968  6.908655              ... 6.916028              0              \n",
       "6659  6.906555              ... 6.917052              0              \n",
       "1605  6.920474              ... 6.922129              0              \n",
       "2110  6.918992              ... 6.924457              0              \n",
       "8038  6.909254              ... 6.920118              0              \n",
       "5163  6.918398              ... 6.920540              0              \n",
       "7948  6.904550              ... 6.917697              0              \n",
       "2209  6.918992              ... 6.924457              0              \n",
       "      Stm_Max_W5.high Stm_Min_W1.high Stm_Min_W5.high Stm_AVG_W1.high\n",
       "7677  0               0               0               0              \n",
       "9910  0               0               0               0              \n",
       "4483  0               0               0               0              \n",
       "7557  0               0               0               0              \n",
       "2745  0               0               0               0              \n",
       "4803  0               0               0               0              \n",
       "5677  0               0               0               0              \n",
       "10255 0               0               0               0              \n",
       "2685  0               0               0               0              \n",
       "10155 0               0               0               0              \n",
       "9668  0               0               0               0              \n",
       "4436  0               0               0               0              \n",
       "5784  0               0               0               0              \n",
       "4031  1               1               1               1              \n",
       "7173  1               1               0               1              \n",
       "2133  0               0               0               0              \n",
       "1115  0               0               0               0              \n",
       "9648  0               0               0               0              \n",
       "8112  0               0               0               0              \n",
       "2195  0               0               0               0              \n",
       "3181  0               0               0               0              \n",
       "2492  0               0               0               0              \n",
       "5884  0               0               0               0              \n",
       "9736  1               1               1               1              \n",
       "208   0               0               0               0              \n",
       "31    0               0               0               0              \n",
       "7357  0               0               0               0              \n",
       "8077  0               0               0               0              \n",
       "2713  0               0               0               0              \n",
       "8641  0               0               0               0              \n",
       "...   ...             ...             ...             ...            \n",
       "5924  0               0               0               0              \n",
       "7799  0               0               0               0              \n",
       "8795  0               0               0               0              \n",
       "5849  0               0               0               0              \n",
       "10045 0               0               0               0              \n",
       "4937  0               0               0               0              \n",
       "2767  0               1               0               1              \n",
       "3346  0               0               0               0              \n",
       "1922  1               1               1               1              \n",
       "1717  0               0               0               0              \n",
       "6697  0               0               0               0              \n",
       "10100 0               0               0               0              \n",
       "1520  0               0               0               0              \n",
       "7591  0               0               0               0              \n",
       "6409  0               0               0               0              \n",
       "703   0               0               0               0              \n",
       "583   1               1               1               1              \n",
       "6003  0               0               0               0              \n",
       "7111  0               0               0               0              \n",
       "91    0               0               0               0              \n",
       "831   0               0               0               0              \n",
       "9711  0               0               0               0              \n",
       "1968  0               0               0               0              \n",
       "6659  0               0               0               0              \n",
       "1605  0               0               0               0              \n",
       "2110  0               0               0               0              \n",
       "8038  0               0               0               0              \n",
       "5163  0               0               0               0              \n",
       "7948  0               0               0               0              \n",
       "2209  0               0               0               0              \n",
       "      Stm_AVG_W5.high Stm_STD_W1.high Stm_STD_W5.high El_Nxt_Mnth_Avg_OC\n",
       "7677  0               0               0               5.056964          \n",
       "9910  0               0               0               2.950513          \n",
       "4483  0               0               0               5.074206          \n",
       "7557  0               0               0               2.036789          \n",
       "2745  0               0               0               6.546848          \n",
       "4803  0               0               0               2.757656          \n",
       "5677  0               0               0               5.489663          \n",
       "10255 0               0               0               3.761563          \n",
       "2685  0               0               0               3.504075          \n",
       "10155 0               0               0               4.248132          \n",
       "9668  0               0               0               3.045477          \n",
       "4436  0               0               0               4.903720          \n",
       "5784  0               0               0               2.629650          \n",
       "4031  1               1               1               5.871892          \n",
       "7173  1               0               1               6.018842          \n",
       "2133  0               0               0               2.286244          \n",
       "1115  0               0               0               2.194619          \n",
       "9648  0               0               0               5.298849          \n",
       "8112  0               0               0               3.521189          \n",
       "2195  0               0               0               3.448667          \n",
       "3181  0               0               0               4.974181          \n",
       "2492  0               0               0               2.375354          \n",
       "5884  0               0               0               4.374128          \n",
       "9736  1               1               1               3.248122          \n",
       "208   0               1               0               4.882667          \n",
       "31    0               0               0               2.705094          \n",
       "7357  0               0               0               4.208537          \n",
       "8077  0               0               0               4.481187          \n",
       "2713  0               0               0               4.137260          \n",
       "8641  0               0               0               6.180402          \n",
       "...   ...             ...             ...             ...               \n",
       "5924  0               0               0               0.7550736         \n",
       "7799  0               0               0               3.8167370         \n",
       "8795  0               0               0               2.9269074         \n",
       "5849  0               0               0               3.5797304         \n",
       "10045 0               0               0               3.9956612         \n",
       "4937  0               0               0               3.2149959         \n",
       "2767  0               1               0               3.1289754         \n",
       "3346  0               0               0               2.5086036         \n",
       "1922  1               0               0               5.5440291         \n",
       "1717  0               0               0               4.2287699         \n",
       "6697  0               0               0               1.1096015         \n",
       "10100 0               0               0               5.0589296         \n",
       "1520  0               0               0               4.1178657         \n",
       "7591  0               0               0               5.0841300         \n",
       "6409  0               0               0               5.1706673         \n",
       "703   0               0               0               6.4219428         \n",
       "583   1               1               1               5.8301679         \n",
       "6003  0               0               0               5.1034192         \n",
       "7111  0               1               0               4.8526248         \n",
       "91    0               0               0               4.6527611         \n",
       "831   0               0               0               2.7576559         \n",
       "9711  0               0               0               3.2481216         \n",
       "1968  0               0               0               4.1641547         \n",
       "6659  0               0               0               4.9036686         \n",
       "1605  0               0               0               4.3114592         \n",
       "2110  0               0               0               0.8918730         \n",
       "8038  0               0               0               3.4232898         \n",
       "5163  0               0               0               3.7097850         \n",
       "7948  0               0               0               4.4431553         \n",
       "2209  0               0               0               5.0164804         "
      ]
     },
     "metadata": {},
     "output_type": "display_data"
    }
   ],
   "source": [
    "temp"
   ]
  },
  {
   "cell_type": "code",
   "execution_count": 50,
   "metadata": {},
   "outputs": [],
   "source": [
    "write.csv(temp, file=\"temp_train_11062022.csv\")"
   ]
  },
  {
   "cell_type": "code",
   "execution_count": 49,
   "metadata": {
    "scrolled": true
   },
   "outputs": [
    {
     "data": {
      "text/html": [
       "<table class=\"dataframe\">\n",
       "<caption>A data.frame: 2055 × 21</caption>\n",
       "<thead>\n",
       "\t<tr><th></th><th scope=col>lng</th><th scope=col>ChWt_Min_W3</th><th scope=col>ChWt_Min_W4</th><th scope=col>ChWt_Min_W5</th><th scope=col>ChWt_AVG_W1</th><th scope=col>ChWt_STD_W1</th><th scope=col>Min_seaLvlPressure_W2</th><th scope=col>Min_seaLvlPressure_W3</th><th scope=col>Min_seaLvlPressure_W4</th><th scope=col>Min_seaLvlPressure_W5</th><th scope=col>...</th><th scope=col>Avg_seaLvlPressure_W5</th><th scope=col>Stm_Max_W4.high</th><th scope=col>Stm_Max_W5.high</th><th scope=col>Stm_Min_W1.high</th><th scope=col>Stm_Min_W5.high</th><th scope=col>Stm_AVG_W1.high</th><th scope=col>Stm_AVG_W5.high</th><th scope=col>Stm_STD_W1.high</th><th scope=col>Stm_STD_W5.high</th><th scope=col>El_Nxt_Mnth_Avg_OC</th></tr>\n",
       "\t<tr><th></th><th scope=col>&lt;dbl&gt;</th><th scope=col>&lt;dbl&gt;</th><th scope=col>&lt;dbl&gt;</th><th scope=col>&lt;dbl&gt;</th><th scope=col>&lt;dbl&gt;</th><th scope=col>&lt;dbl&gt;</th><th scope=col>&lt;dbl&gt;</th><th scope=col>&lt;dbl&gt;</th><th scope=col>&lt;dbl&gt;</th><th scope=col>&lt;dbl&gt;</th><th scope=col>...</th><th scope=col>&lt;dbl&gt;</th><th scope=col>&lt;int&gt;</th><th scope=col>&lt;int&gt;</th><th scope=col>&lt;int&gt;</th><th scope=col>&lt;int&gt;</th><th scope=col>&lt;int&gt;</th><th scope=col>&lt;int&gt;</th><th scope=col>&lt;int&gt;</th><th scope=col>&lt;int&gt;</th><th scope=col>&lt;dbl&gt;</th></tr>\n",
       "</thead>\n",
       "<tbody>\n",
       "\t<tr><th scope=row>15</th><td>-75.6972</td><td>0.000000</td><td>0.000000</td><td>0.000000</td><td>1.130171</td><td>2.110233</td><td>6.912842</td><td>6.915525</td><td>6.905753</td><td>6.916021</td><td>...</td><td>6.919005</td><td>0</td><td>0</td><td>0</td><td>0</td><td>0</td><td>0</td><td>0</td><td>0</td><td>4.350355</td></tr>\n",
       "\t<tr><th scope=row>16</th><td>-75.6960</td><td>0.000000</td><td>0.000000</td><td>0.000000</td><td>0.000000</td><td>0.000000</td><td>6.912842</td><td>6.915525</td><td>6.905753</td><td>6.916021</td><td>...</td><td>6.919005</td><td>0</td><td>0</td><td>0</td><td>0</td><td>0</td><td>0</td><td>0</td><td>0</td><td>2.881710</td></tr>\n",
       "\t<tr><th scope=row>25</th><td>-74.7000</td><td>4.746037</td><td>4.263083</td><td>4.312055</td><td>6.426364</td><td>5.946383</td><td>6.912842</td><td>6.915525</td><td>6.905753</td><td>6.916021</td><td>...</td><td>6.919005</td><td>0</td><td>0</td><td>0</td><td>0</td><td>0</td><td>0</td><td>0</td><td>0</td><td>3.411631</td></tr>\n",
       "\t<tr><th scope=row>26</th><td>-75.6960</td><td>0.000000</td><td>0.000000</td><td>0.000000</td><td>0.000000</td><td>0.000000</td><td>6.912842</td><td>6.915525</td><td>6.905753</td><td>6.916021</td><td>...</td><td>6.919005</td><td>0</td><td>0</td><td>0</td><td>0</td><td>0</td><td>0</td><td>0</td><td>0</td><td>3.750666</td></tr>\n",
       "\t<tr><th scope=row>27</th><td>-74.7000</td><td>4.746037</td><td>4.263083</td><td>4.312055</td><td>6.426364</td><td>5.946383</td><td>6.912842</td><td>6.915525</td><td>6.905753</td><td>6.916021</td><td>...</td><td>6.919005</td><td>0</td><td>0</td><td>0</td><td>0</td><td>0</td><td>0</td><td>0</td><td>0</td><td>3.411631</td></tr>\n",
       "\t<tr><th scope=row>35</th><td>-97.7431</td><td>7.749075</td><td>7.728168</td><td>7.911622</td><td>7.978909</td><td>7.161285</td><td>6.918695</td><td>6.916913</td><td>6.909454</td><td>6.909254</td><td>...</td><td>6.913588</td><td>0</td><td>0</td><td>0</td><td>0</td><td>0</td><td>0</td><td>0</td><td>0</td><td>6.375366</td></tr>\n",
       "\t<tr><th scope=row>38</th><td>-97.7431</td><td>5.563970</td><td>5.630904</td><td>5.755019</td><td>5.886290</td><td>5.218613</td><td>6.918695</td><td>6.916913</td><td>6.909454</td><td>6.909254</td><td>...</td><td>6.913588</td><td>0</td><td>0</td><td>0</td><td>0</td><td>0</td><td>0</td><td>0</td><td>0</td><td>3.774313</td></tr>\n",
       "\t<tr><th scope=row>41</th><td>-97.7431</td><td>6.079322</td><td>5.974939</td><td>6.172026</td><td>6.597400</td><td>6.395672</td><td>6.918695</td><td>6.916913</td><td>6.909454</td><td>6.909254</td><td>...</td><td>6.913588</td><td>0</td><td>0</td><td>0</td><td>0</td><td>0</td><td>0</td><td>0</td><td>0</td><td>4.858941</td></tr>\n",
       "\t<tr><th scope=row>45</th><td>-97.7431</td><td>7.663735</td><td>7.765995</td><td>7.846307</td><td>7.930936</td><td>6.946824</td><td>6.918695</td><td>6.916913</td><td>6.909454</td><td>6.909254</td><td>...</td><td>6.913588</td><td>0</td><td>0</td><td>0</td><td>0</td><td>0</td><td>0</td><td>0</td><td>0</td><td>6.095678</td></tr>\n",
       "\t<tr><th scope=row>47</th><td>-97.7431</td><td>2.646919</td><td>3.080928</td><td>4.281717</td><td>5.844372</td><td>5.949552</td><td>6.918695</td><td>6.916913</td><td>6.909454</td><td>6.909254</td><td>...</td><td>6.913588</td><td>0</td><td>0</td><td>0</td><td>0</td><td>0</td><td>0</td><td>0</td><td>0</td><td>5.844016</td></tr>\n",
       "\t<tr><th scope=row>49</th><td>-97.7431</td><td>4.026043</td><td>4.104539</td><td>4.142576</td><td>4.763059</td><td>4.356178</td><td>6.918695</td><td>6.916913</td><td>6.909454</td><td>6.909254</td><td>...</td><td>6.913588</td><td>0</td><td>0</td><td>0</td><td>0</td><td>0</td><td>0</td><td>0</td><td>0</td><td>1.655781</td></tr>\n",
       "\t<tr><th scope=row>54</th><td>-97.7431</td><td>6.127692</td><td>6.138695</td><td>6.147463</td><td>6.965455</td><td>6.215258</td><td>6.918695</td><td>6.916913</td><td>6.909454</td><td>6.909254</td><td>...</td><td>6.913588</td><td>0</td><td>0</td><td>0</td><td>0</td><td>0</td><td>0</td><td>0</td><td>0</td><td>6.010733</td></tr>\n",
       "\t<tr><th scope=row>58</th><td>-97.7431</td><td>7.067437</td><td>7.216982</td><td>7.318586</td><td>7.594732</td><td>6.890082</td><td>6.918695</td><td>6.916913</td><td>6.909454</td><td>6.909254</td><td>...</td><td>6.913588</td><td>0</td><td>0</td><td>0</td><td>0</td><td>0</td><td>0</td><td>0</td><td>0</td><td>5.985792</td></tr>\n",
       "\t<tr><th scope=row>71</th><td>-97.7431</td><td>5.639734</td><td>5.630904</td><td>5.671317</td><td>5.876690</td><td>5.159554</td><td>6.918695</td><td>6.916913</td><td>6.909454</td><td>6.909254</td><td>...</td><td>6.913588</td><td>0</td><td>0</td><td>0</td><td>0</td><td>0</td><td>0</td><td>0</td><td>0</td><td>4.097569</td></tr>\n",
       "\t<tr><th scope=row>80</th><td>-97.7431</td><td>6.964359</td><td>7.032026</td><td>7.143245</td><td>7.307975</td><td>6.622383</td><td>6.918695</td><td>6.916913</td><td>6.909454</td><td>6.909254</td><td>...</td><td>6.913588</td><td>0</td><td>0</td><td>0</td><td>0</td><td>0</td><td>0</td><td>0</td><td>0</td><td>5.302348</td></tr>\n",
       "\t<tr><th scope=row>83</th><td>-97.7431</td><td>6.963775</td><td>7.304878</td><td>7.761001</td><td>7.706722</td><td>7.324834</td><td>6.918695</td><td>6.916913</td><td>6.909454</td><td>6.909254</td><td>...</td><td>6.913588</td><td>0</td><td>0</td><td>0</td><td>0</td><td>0</td><td>0</td><td>0</td><td>0</td><td>6.014783</td></tr>\n",
       "\t<tr><th scope=row>85</th><td>-97.7431</td><td>4.920351</td><td>5.436186</td><td>6.158251</td><td>7.105487</td><td>6.644906</td><td>6.918695</td><td>6.916913</td><td>6.909454</td><td>6.909254</td><td>...</td><td>6.913588</td><td>0</td><td>0</td><td>0</td><td>0</td><td>0</td><td>0</td><td>0</td><td>0</td><td>5.280301</td></tr>\n",
       "\t<tr><th scope=row>87</th><td>-97.7431</td><td>6.254486</td><td>6.308165</td><td>6.461765</td><td>6.625093</td><td>5.715279</td><td>6.918695</td><td>6.916913</td><td>6.909454</td><td>6.909254</td><td>...</td><td>6.913588</td><td>0</td><td>0</td><td>0</td><td>0</td><td>0</td><td>0</td><td>0</td><td>0</td><td>4.483576</td></tr>\n",
       "\t<tr><th scope=row>88</th><td>-97.7431</td><td>1.004924</td><td>1.280156</td><td>1.091554</td><td>4.337014</td><td>4.252740</td><td>6.918695</td><td>6.916913</td><td>6.909454</td><td>6.909254</td><td>...</td><td>6.913588</td><td>0</td><td>0</td><td>0</td><td>0</td><td>0</td><td>0</td><td>0</td><td>0</td><td>3.201490</td></tr>\n",
       "\t<tr><th scope=row>93</th><td>-97.7431</td><td>5.929602</td><td>6.499677</td><td>6.841921</td><td>7.118421</td><td>6.783216</td><td>6.918695</td><td>6.916913</td><td>6.909454</td><td>6.909254</td><td>...</td><td>6.913588</td><td>0</td><td>0</td><td>0</td><td>0</td><td>0</td><td>0</td><td>0</td><td>0</td><td>5.578631</td></tr>\n",
       "\t<tr><th scope=row>94</th><td>-97.7431</td><td>4.991742</td><td>5.080916</td><td>5.219901</td><td>5.288106</td><td>4.560771</td><td>6.918695</td><td>6.916913</td><td>6.909454</td><td>6.909254</td><td>...</td><td>6.913588</td><td>0</td><td>0</td><td>0</td><td>0</td><td>0</td><td>0</td><td>0</td><td>0</td><td>5.161109</td></tr>\n",
       "\t<tr><th scope=row>102</th><td>-97.7431</td><td>4.464014</td><td>4.248705</td><td>4.442419</td><td>5.163773</td><td>4.967925</td><td>6.918695</td><td>6.916913</td><td>6.909454</td><td>6.909254</td><td>...</td><td>6.913588</td><td>0</td><td>0</td><td>0</td><td>0</td><td>0</td><td>0</td><td>0</td><td>0</td><td>2.959515</td></tr>\n",
       "\t<tr><th scope=row>105</th><td>-97.7431</td><td>5.112685</td><td>5.337156</td><td>5.489173</td><td>5.461328</td><td>4.684001</td><td>6.918695</td><td>6.916913</td><td>6.909454</td><td>6.909254</td><td>...</td><td>6.913588</td><td>0</td><td>0</td><td>0</td><td>0</td><td>0</td><td>0</td><td>0</td><td>0</td><td>3.423662</td></tr>\n",
       "\t<tr><th scope=row>108</th><td>-97.7431</td><td>5.872755</td><td>5.936160</td><td>5.995782</td><td>5.982091</td><td>4.950470</td><td>6.918695</td><td>6.916913</td><td>6.909454</td><td>6.909254</td><td>...</td><td>6.913588</td><td>0</td><td>0</td><td>0</td><td>0</td><td>0</td><td>0</td><td>0</td><td>0</td><td>3.655749</td></tr>\n",
       "\t<tr><th scope=row>116</th><td>-97.7431</td><td>4.026043</td><td>4.104539</td><td>4.142576</td><td>4.763059</td><td>4.356178</td><td>6.918695</td><td>6.916913</td><td>6.909454</td><td>6.909254</td><td>...</td><td>6.913588</td><td>0</td><td>0</td><td>0</td><td>0</td><td>0</td><td>0</td><td>0</td><td>0</td><td>2.388211</td></tr>\n",
       "\t<tr><th scope=row>117</th><td>-97.7431</td><td>6.726975</td><td>6.736121</td><td>6.824196</td><td>6.754153</td><td>5.481125</td><td>6.918695</td><td>6.916913</td><td>6.909454</td><td>6.909254</td><td>...</td><td>6.913588</td><td>0</td><td>0</td><td>0</td><td>0</td><td>0</td><td>0</td><td>0</td><td>0</td><td>3.213067</td></tr>\n",
       "\t<tr><th scope=row>125</th><td>-97.7431</td><td>6.100340</td><td>6.289520</td><td>6.391545</td><td>6.294016</td><td>5.123976</td><td>6.918695</td><td>6.916913</td><td>6.909454</td><td>6.909254</td><td>...</td><td>6.913588</td><td>0</td><td>0</td><td>0</td><td>0</td><td>0</td><td>0</td><td>0</td><td>0</td><td>4.217137</td></tr>\n",
       "\t<tr><th scope=row>126</th><td>-97.7431</td><td>6.214230</td><td>6.721626</td><td>6.819208</td><td>6.565495</td><td>5.675709</td><td>6.918695</td><td>6.916913</td><td>6.909454</td><td>6.909254</td><td>...</td><td>6.913588</td><td>0</td><td>0</td><td>0</td><td>0</td><td>0</td><td>0</td><td>0</td><td>0</td><td>4.062334</td></tr>\n",
       "\t<tr><th scope=row>138</th><td>-97.7431</td><td>0.000000</td><td>0.000000</td><td>4.469696</td><td>5.496850</td><td>5.552669</td><td>6.918695</td><td>6.916913</td><td>6.909454</td><td>6.909254</td><td>...</td><td>6.913588</td><td>0</td><td>0</td><td>0</td><td>0</td><td>0</td><td>0</td><td>0</td><td>0</td><td>3.939464</td></tr>\n",
       "\t<tr><th scope=row>155</th><td>-97.7431</td><td>6.549210</td><td>6.618450</td><td>6.733033</td><td>6.738562</td><td>5.946602</td><td>6.918695</td><td>6.916913</td><td>6.909454</td><td>6.909254</td><td>...</td><td>6.913588</td><td>0</td><td>0</td><td>0</td><td>0</td><td>0</td><td>0</td><td>0</td><td>0</td><td>4.915893</td></tr>\n",
       "\t<tr><th scope=row>...</th><td>...</td><td>...</td><td>...</td><td>...</td><td>...</td><td>...</td><td>...</td><td>...</td><td>...</td><td>...</td><td></td><td>...</td><td>...</td><td>...</td><td>...</td><td>...</td><td>...</td><td>...</td><td>...</td><td>...</td><td>...</td></tr>\n",
       "\t<tr><th scope=row>10132</th><td>-81.37904</td><td>5.2929535</td><td>5.3532822</td><td>5.228750</td><td>6.969990</td><td>6.132469</td><td>6.921461</td><td>6.920869</td><td>6.920573</td><td>6.922348</td><td>...</td><td>6.925026</td><td>0</td><td>0</td><td>0</td><td>0</td><td>0</td><td>0</td><td>0</td><td>0</td><td>4.797500</td></tr>\n",
       "\t<tr><th scope=row>10135</th><td>-81.37904</td><td>0.0000000</td><td>0.0000000</td><td>0.000000</td><td>4.612891</td><td>4.134117</td><td>6.921461</td><td>6.920869</td><td>6.920573</td><td>6.922348</td><td>...</td><td>6.925026</td><td>0</td><td>0</td><td>0</td><td>0</td><td>0</td><td>0</td><td>0</td><td>0</td><td>1.925315</td></tr>\n",
       "\t<tr><th scope=row>10144</th><td>-81.37904</td><td>4.9205421</td><td>5.4640098</td><td>5.410178</td><td>6.284602</td><td>5.371445</td><td>6.921461</td><td>6.920869</td><td>6.920573</td><td>6.922348</td><td>...</td><td>6.925026</td><td>0</td><td>0</td><td>0</td><td>0</td><td>0</td><td>0</td><td>0</td><td>0</td><td>3.929505</td></tr>\n",
       "\t<tr><th scope=row>10145</th><td>-81.37904</td><td>0.0000000</td><td>0.0000000</td><td>0.000000</td><td>5.211231</td><td>4.134117</td><td>6.921461</td><td>6.920869</td><td>6.920573</td><td>6.922348</td><td>...</td><td>6.925026</td><td>0</td><td>0</td><td>0</td><td>0</td><td>0</td><td>0</td><td>0</td><td>0</td><td>3.889205</td></tr>\n",
       "\t<tr><th scope=row>10157</th><td>-81.37904</td><td>7.1982047</td><td>7.0908693</td><td>6.982162</td><td>7.399235</td><td>5.319447</td><td>6.921461</td><td>6.920869</td><td>6.920573</td><td>6.922348</td><td>...</td><td>6.925026</td><td>0</td><td>0</td><td>0</td><td>0</td><td>0</td><td>0</td><td>0</td><td>0</td><td>5.217999</td></tr>\n",
       "\t<tr><th scope=row>10161</th><td>-81.37904</td><td>0.0000000</td><td>0.0000000</td><td>0.000000</td><td>4.612891</td><td>4.134117</td><td>6.921461</td><td>6.920869</td><td>6.920573</td><td>6.922348</td><td>...</td><td>6.925026</td><td>0</td><td>0</td><td>0</td><td>0</td><td>0</td><td>0</td><td>0</td><td>0</td><td>3.401948</td></tr>\n",
       "\t<tr><th scope=row>10166</th><td>-81.37904</td><td>0.0000000</td><td>0.0000000</td><td>0.000000</td><td>4.612891</td><td>4.134117</td><td>6.921461</td><td>6.920869</td><td>6.920573</td><td>6.922348</td><td>...</td><td>6.925026</td><td>0</td><td>0</td><td>0</td><td>0</td><td>0</td><td>0</td><td>0</td><td>0</td><td>3.472859</td></tr>\n",
       "\t<tr><th scope=row>10167</th><td>-81.37904</td><td>4.4727171</td><td>4.3204677</td><td>4.320468</td><td>4.612891</td><td>2.531933</td><td>6.921461</td><td>6.920869</td><td>6.920573</td><td>6.922348</td><td>...</td><td>6.925026</td><td>0</td><td>0</td><td>0</td><td>0</td><td>0</td><td>0</td><td>0</td><td>0</td><td>2.751610</td></tr>\n",
       "\t<tr><th scope=row>10168</th><td>-81.37904</td><td>0.0000000</td><td>0.0000000</td><td>0.000000</td><td>5.211231</td><td>4.134117</td><td>6.921461</td><td>6.920869</td><td>6.920573</td><td>6.922348</td><td>...</td><td>6.925026</td><td>0</td><td>0</td><td>0</td><td>0</td><td>0</td><td>0</td><td>0</td><td>0</td><td>3.955782</td></tr>\n",
       "\t<tr><th scope=row>10171</th><td>-81.37904</td><td>2.5930583</td><td>3.6405266</td><td>3.248097</td><td>5.328943</td><td>4.134117</td><td>6.921461</td><td>6.920869</td><td>6.920573</td><td>6.922348</td><td>...</td><td>6.925026</td><td>0</td><td>0</td><td>0</td><td>0</td><td>0</td><td>0</td><td>0</td><td>0</td><td>3.930204</td></tr>\n",
       "\t<tr><th scope=row>10173</th><td>-81.37904</td><td>6.1284256</td><td>6.1550364</td><td>5.951917</td><td>6.284602</td><td>5.371445</td><td>6.921461</td><td>6.920869</td><td>6.920573</td><td>6.922348</td><td>...</td><td>6.925026</td><td>0</td><td>0</td><td>0</td><td>0</td><td>0</td><td>0</td><td>0</td><td>0</td><td>4.314421</td></tr>\n",
       "\t<tr><th scope=row>10177</th><td>-81.37904</td><td>4.7214917</td><td>0.0000000</td><td>2.593058</td><td>6.690223</td><td>6.132469</td><td>6.921461</td><td>6.920869</td><td>6.920573</td><td>6.922348</td><td>...</td><td>6.925026</td><td>0</td><td>0</td><td>0</td><td>0</td><td>0</td><td>0</td><td>0</td><td>0</td><td>4.644331</td></tr>\n",
       "\t<tr><th scope=row>10181</th><td>-81.37904</td><td>5.7765260</td><td>6.5421194</td><td>6.898362</td><td>7.264626</td><td>5.385009</td><td>6.921461</td><td>6.920869</td><td>6.920573</td><td>6.922348</td><td>...</td><td>6.925026</td><td>0</td><td>0</td><td>0</td><td>0</td><td>0</td><td>0</td><td>0</td><td>0</td><td>5.166264</td></tr>\n",
       "\t<tr><th scope=row>10184</th><td>-81.37904</td><td>0.0000000</td><td>0.0000000</td><td>4.881270</td><td>7.326777</td><td>5.697057</td><td>6.921461</td><td>6.920869</td><td>6.920573</td><td>6.922348</td><td>...</td><td>6.925026</td><td>0</td><td>0</td><td>0</td><td>0</td><td>0</td><td>0</td><td>0</td><td>0</td><td>3.248122</td></tr>\n",
       "\t<tr><th scope=row>10187</th><td>-81.37904</td><td>3.6405266</td><td>0.0000000</td><td>0.000000</td><td>6.616943</td><td>6.129288</td><td>6.921461</td><td>6.920869</td><td>6.920573</td><td>6.922348</td><td>...</td><td>6.925026</td><td>0</td><td>0</td><td>0</td><td>0</td><td>0</td><td>0</td><td>0</td><td>0</td><td>4.710520</td></tr>\n",
       "\t<tr><th scope=row>10194</th><td>-81.37904</td><td>0.0000000</td><td>0.0000000</td><td>0.000000</td><td>5.211231</td><td>4.134117</td><td>6.921461</td><td>6.920869</td><td>6.920573</td><td>6.922348</td><td>...</td><td>6.925026</td><td>0</td><td>0</td><td>0</td><td>0</td><td>0</td><td>0</td><td>0</td><td>0</td><td>3.259411</td></tr>\n",
       "\t<tr><th scope=row>10201</th><td>-81.37904</td><td>0.0000000</td><td>0.0000000</td><td>0.000000</td><td>4.612891</td><td>4.134117</td><td>6.921461</td><td>6.920869</td><td>6.920573</td><td>6.922348</td><td>...</td><td>6.925026</td><td>0</td><td>0</td><td>0</td><td>0</td><td>0</td><td>0</td><td>0</td><td>0</td><td>2.736780</td></tr>\n",
       "\t<tr><th scope=row>10206</th><td>-81.37904</td><td>0.0000000</td><td>0.0000000</td><td>0.000000</td><td>4.612891</td><td>4.134117</td><td>6.921461</td><td>6.920869</td><td>6.920573</td><td>6.922348</td><td>...</td><td>6.925026</td><td>0</td><td>0</td><td>0</td><td>0</td><td>0</td><td>0</td><td>0</td><td>0</td><td>1.575104</td></tr>\n",
       "\t<tr><th scope=row>10210</th><td>-74.70000</td><td>5.7865246</td><td>6.3144708</td><td>4.881270</td><td>7.119700</td><td>5.697057</td><td>6.920573</td><td>6.922841</td><td>6.919684</td><td>6.923825</td><td>...</td><td>6.926525</td><td>0</td><td>0</td><td>0</td><td>0</td><td>0</td><td>0</td><td>0</td><td>0</td><td>2.508604</td></tr>\n",
       "\t<tr><th scope=row>10214</th><td>-74.70000</td><td>5.7865246</td><td>6.3144708</td><td>4.881270</td><td>7.119700</td><td>5.697057</td><td>6.920573</td><td>6.922841</td><td>6.919684</td><td>6.923825</td><td>...</td><td>6.926525</td><td>0</td><td>0</td><td>0</td><td>0</td><td>0</td><td>0</td><td>0</td><td>0</td><td>2.508604</td></tr>\n",
       "\t<tr><th scope=row>10216</th><td>-74.70000</td><td>7.3200197</td><td>7.3200197</td><td>7.320020</td><td>7.322597</td><td>3.942016</td><td>6.920573</td><td>6.922841</td><td>6.919684</td><td>6.923825</td><td>...</td><td>6.926525</td><td>0</td><td>0</td><td>0</td><td>0</td><td>0</td><td>0</td><td>0</td><td>0</td><td>4.527178</td></tr>\n",
       "\t<tr><th scope=row>10217</th><td>-74.70000</td><td>5.4564525</td><td>5.3705003</td><td>4.505858</td><td>8.456023</td><td>6.811897</td><td>6.920573</td><td>6.922841</td><td>6.919684</td><td>6.923825</td><td>...</td><td>6.926525</td><td>0</td><td>0</td><td>0</td><td>0</td><td>0</td><td>0</td><td>0</td><td>0</td><td>6.933425</td></tr>\n",
       "\t<tr><th scope=row>10232</th><td>-74.70000</td><td>4.3065094</td><td>3.6562013</td><td>0.000000</td><td>7.480806</td><td>6.560999</td><td>6.920573</td><td>6.922841</td><td>6.919684</td><td>6.923825</td><td>...</td><td>6.926525</td><td>0</td><td>0</td><td>0</td><td>0</td><td>0</td><td>0</td><td>0</td><td>1</td><td>5.513561</td></tr>\n",
       "\t<tr><th scope=row>10233</th><td>-74.70000</td><td>0.0000000</td><td>0.0000000</td><td>0.000000</td><td>1.935885</td><td>1.682398</td><td>6.920573</td><td>6.922841</td><td>6.919684</td><td>6.923825</td><td>...</td><td>6.926525</td><td>0</td><td>0</td><td>0</td><td>0</td><td>0</td><td>0</td><td>0</td><td>0</td><td>4.130430</td></tr>\n",
       "\t<tr><th scope=row>10241</th><td>-74.70000</td><td>0.4540648</td><td>0.5054311</td><td>0.000000</td><td>6.483922</td><td>3.942016</td><td>6.920573</td><td>6.922841</td><td>6.919684</td><td>6.923825</td><td>...</td><td>6.926525</td><td>0</td><td>0</td><td>0</td><td>0</td><td>0</td><td>0</td><td>0</td><td>0</td><td>4.188316</td></tr>\n",
       "\t<tr><th scope=row>10245</th><td>-74.70000</td><td>5.4910017</td><td>5.4958830</td><td>5.113984</td><td>6.670423</td><td>5.904318</td><td>6.920573</td><td>6.922841</td><td>6.919684</td><td>6.923825</td><td>...</td><td>6.926525</td><td>0</td><td>0</td><td>0</td><td>0</td><td>0</td><td>0</td><td>0</td><td>0</td><td>5.124220</td></tr>\n",
       "\t<tr><th scope=row>10246</th><td>-74.70000</td><td>5.7865246</td><td>6.3144708</td><td>4.881270</td><td>7.119700</td><td>5.697057</td><td>6.920573</td><td>6.922841</td><td>6.919684</td><td>6.923825</td><td>...</td><td>6.926525</td><td>0</td><td>0</td><td>0</td><td>0</td><td>0</td><td>0</td><td>0</td><td>0</td><td>2.508604</td></tr>\n",
       "\t<tr><th scope=row>10253</th><td>-74.70000</td><td>6.0616928</td><td>6.5064032</td><td>6.132059</td><td>7.119700</td><td>5.816420</td><td>6.920573</td><td>6.922841</td><td>6.919684</td><td>6.923825</td><td>...</td><td>6.926525</td><td>0</td><td>0</td><td>0</td><td>0</td><td>0</td><td>0</td><td>0</td><td>0</td><td>2.508604</td></tr>\n",
       "\t<tr><th scope=row>10256</th><td>-97.74310</td><td>7.5025721</td><td>7.6996688</td><td>4.919473</td><td>7.693074</td><td>5.555519</td><td>6.919387</td><td>6.920277</td><td>6.918695</td><td>6.924612</td><td>...</td><td>6.927715</td><td>0</td><td>0</td><td>0</td><td>0</td><td>0</td><td>0</td><td>0</td><td>0</td><td>3.761563</td></tr>\n",
       "\t<tr><th scope=row>10264</th><td>-97.74310</td><td>7.5025721</td><td>7.6996688</td><td>4.919473</td><td>7.693074</td><td>5.555519</td><td>6.919387</td><td>6.920277</td><td>6.918695</td><td>6.924612</td><td>...</td><td>6.927715</td><td>0</td><td>0</td><td>0</td><td>0</td><td>0</td><td>0</td><td>0</td><td>0</td><td>3.761563</td></tr>\n",
       "</tbody>\n",
       "</table>\n"
      ],
      "text/latex": [
       "A data.frame: 2055 × 21\n",
       "\\begin{tabular}{r|lllllllllllllllllllll}\n",
       "  & lng & ChWt\\_Min\\_W3 & ChWt\\_Min\\_W4 & ChWt\\_Min\\_W5 & ChWt\\_AVG\\_W1 & ChWt\\_STD\\_W1 & Min\\_seaLvlPressure\\_W2 & Min\\_seaLvlPressure\\_W3 & Min\\_seaLvlPressure\\_W4 & Min\\_seaLvlPressure\\_W5 & ... & Avg\\_seaLvlPressure\\_W5 & Stm\\_Max\\_W4.high & Stm\\_Max\\_W5.high & Stm\\_Min\\_W1.high & Stm\\_Min\\_W5.high & Stm\\_AVG\\_W1.high & Stm\\_AVG\\_W5.high & Stm\\_STD\\_W1.high & Stm\\_STD\\_W5.high & El\\_Nxt\\_Mnth\\_Avg\\_OC\\\\\n",
       "  & <dbl> & <dbl> & <dbl> & <dbl> & <dbl> & <dbl> & <dbl> & <dbl> & <dbl> & <dbl> & ... & <dbl> & <int> & <int> & <int> & <int> & <int> & <int> & <int> & <int> & <dbl>\\\\\n",
       "\\hline\n",
       "\t15 & -75.6972 & 0.000000 & 0.000000 & 0.000000 & 1.130171 & 2.110233 & 6.912842 & 6.915525 & 6.905753 & 6.916021 & ... & 6.919005 & 0 & 0 & 0 & 0 & 0 & 0 & 0 & 0 & 4.350355\\\\\n",
       "\t16 & -75.6960 & 0.000000 & 0.000000 & 0.000000 & 0.000000 & 0.000000 & 6.912842 & 6.915525 & 6.905753 & 6.916021 & ... & 6.919005 & 0 & 0 & 0 & 0 & 0 & 0 & 0 & 0 & 2.881710\\\\\n",
       "\t25 & -74.7000 & 4.746037 & 4.263083 & 4.312055 & 6.426364 & 5.946383 & 6.912842 & 6.915525 & 6.905753 & 6.916021 & ... & 6.919005 & 0 & 0 & 0 & 0 & 0 & 0 & 0 & 0 & 3.411631\\\\\n",
       "\t26 & -75.6960 & 0.000000 & 0.000000 & 0.000000 & 0.000000 & 0.000000 & 6.912842 & 6.915525 & 6.905753 & 6.916021 & ... & 6.919005 & 0 & 0 & 0 & 0 & 0 & 0 & 0 & 0 & 3.750666\\\\\n",
       "\t27 & -74.7000 & 4.746037 & 4.263083 & 4.312055 & 6.426364 & 5.946383 & 6.912842 & 6.915525 & 6.905753 & 6.916021 & ... & 6.919005 & 0 & 0 & 0 & 0 & 0 & 0 & 0 & 0 & 3.411631\\\\\n",
       "\t35 & -97.7431 & 7.749075 & 7.728168 & 7.911622 & 7.978909 & 7.161285 & 6.918695 & 6.916913 & 6.909454 & 6.909254 & ... & 6.913588 & 0 & 0 & 0 & 0 & 0 & 0 & 0 & 0 & 6.375366\\\\\n",
       "\t38 & -97.7431 & 5.563970 & 5.630904 & 5.755019 & 5.886290 & 5.218613 & 6.918695 & 6.916913 & 6.909454 & 6.909254 & ... & 6.913588 & 0 & 0 & 0 & 0 & 0 & 0 & 0 & 0 & 3.774313\\\\\n",
       "\t41 & -97.7431 & 6.079322 & 5.974939 & 6.172026 & 6.597400 & 6.395672 & 6.918695 & 6.916913 & 6.909454 & 6.909254 & ... & 6.913588 & 0 & 0 & 0 & 0 & 0 & 0 & 0 & 0 & 4.858941\\\\\n",
       "\t45 & -97.7431 & 7.663735 & 7.765995 & 7.846307 & 7.930936 & 6.946824 & 6.918695 & 6.916913 & 6.909454 & 6.909254 & ... & 6.913588 & 0 & 0 & 0 & 0 & 0 & 0 & 0 & 0 & 6.095678\\\\\n",
       "\t47 & -97.7431 & 2.646919 & 3.080928 & 4.281717 & 5.844372 & 5.949552 & 6.918695 & 6.916913 & 6.909454 & 6.909254 & ... & 6.913588 & 0 & 0 & 0 & 0 & 0 & 0 & 0 & 0 & 5.844016\\\\\n",
       "\t49 & -97.7431 & 4.026043 & 4.104539 & 4.142576 & 4.763059 & 4.356178 & 6.918695 & 6.916913 & 6.909454 & 6.909254 & ... & 6.913588 & 0 & 0 & 0 & 0 & 0 & 0 & 0 & 0 & 1.655781\\\\\n",
       "\t54 & -97.7431 & 6.127692 & 6.138695 & 6.147463 & 6.965455 & 6.215258 & 6.918695 & 6.916913 & 6.909454 & 6.909254 & ... & 6.913588 & 0 & 0 & 0 & 0 & 0 & 0 & 0 & 0 & 6.010733\\\\\n",
       "\t58 & -97.7431 & 7.067437 & 7.216982 & 7.318586 & 7.594732 & 6.890082 & 6.918695 & 6.916913 & 6.909454 & 6.909254 & ... & 6.913588 & 0 & 0 & 0 & 0 & 0 & 0 & 0 & 0 & 5.985792\\\\\n",
       "\t71 & -97.7431 & 5.639734 & 5.630904 & 5.671317 & 5.876690 & 5.159554 & 6.918695 & 6.916913 & 6.909454 & 6.909254 & ... & 6.913588 & 0 & 0 & 0 & 0 & 0 & 0 & 0 & 0 & 4.097569\\\\\n",
       "\t80 & -97.7431 & 6.964359 & 7.032026 & 7.143245 & 7.307975 & 6.622383 & 6.918695 & 6.916913 & 6.909454 & 6.909254 & ... & 6.913588 & 0 & 0 & 0 & 0 & 0 & 0 & 0 & 0 & 5.302348\\\\\n",
       "\t83 & -97.7431 & 6.963775 & 7.304878 & 7.761001 & 7.706722 & 7.324834 & 6.918695 & 6.916913 & 6.909454 & 6.909254 & ... & 6.913588 & 0 & 0 & 0 & 0 & 0 & 0 & 0 & 0 & 6.014783\\\\\n",
       "\t85 & -97.7431 & 4.920351 & 5.436186 & 6.158251 & 7.105487 & 6.644906 & 6.918695 & 6.916913 & 6.909454 & 6.909254 & ... & 6.913588 & 0 & 0 & 0 & 0 & 0 & 0 & 0 & 0 & 5.280301\\\\\n",
       "\t87 & -97.7431 & 6.254486 & 6.308165 & 6.461765 & 6.625093 & 5.715279 & 6.918695 & 6.916913 & 6.909454 & 6.909254 & ... & 6.913588 & 0 & 0 & 0 & 0 & 0 & 0 & 0 & 0 & 4.483576\\\\\n",
       "\t88 & -97.7431 & 1.004924 & 1.280156 & 1.091554 & 4.337014 & 4.252740 & 6.918695 & 6.916913 & 6.909454 & 6.909254 & ... & 6.913588 & 0 & 0 & 0 & 0 & 0 & 0 & 0 & 0 & 3.201490\\\\\n",
       "\t93 & -97.7431 & 5.929602 & 6.499677 & 6.841921 & 7.118421 & 6.783216 & 6.918695 & 6.916913 & 6.909454 & 6.909254 & ... & 6.913588 & 0 & 0 & 0 & 0 & 0 & 0 & 0 & 0 & 5.578631\\\\\n",
       "\t94 & -97.7431 & 4.991742 & 5.080916 & 5.219901 & 5.288106 & 4.560771 & 6.918695 & 6.916913 & 6.909454 & 6.909254 & ... & 6.913588 & 0 & 0 & 0 & 0 & 0 & 0 & 0 & 0 & 5.161109\\\\\n",
       "\t102 & -97.7431 & 4.464014 & 4.248705 & 4.442419 & 5.163773 & 4.967925 & 6.918695 & 6.916913 & 6.909454 & 6.909254 & ... & 6.913588 & 0 & 0 & 0 & 0 & 0 & 0 & 0 & 0 & 2.959515\\\\\n",
       "\t105 & -97.7431 & 5.112685 & 5.337156 & 5.489173 & 5.461328 & 4.684001 & 6.918695 & 6.916913 & 6.909454 & 6.909254 & ... & 6.913588 & 0 & 0 & 0 & 0 & 0 & 0 & 0 & 0 & 3.423662\\\\\n",
       "\t108 & -97.7431 & 5.872755 & 5.936160 & 5.995782 & 5.982091 & 4.950470 & 6.918695 & 6.916913 & 6.909454 & 6.909254 & ... & 6.913588 & 0 & 0 & 0 & 0 & 0 & 0 & 0 & 0 & 3.655749\\\\\n",
       "\t116 & -97.7431 & 4.026043 & 4.104539 & 4.142576 & 4.763059 & 4.356178 & 6.918695 & 6.916913 & 6.909454 & 6.909254 & ... & 6.913588 & 0 & 0 & 0 & 0 & 0 & 0 & 0 & 0 & 2.388211\\\\\n",
       "\t117 & -97.7431 & 6.726975 & 6.736121 & 6.824196 & 6.754153 & 5.481125 & 6.918695 & 6.916913 & 6.909454 & 6.909254 & ... & 6.913588 & 0 & 0 & 0 & 0 & 0 & 0 & 0 & 0 & 3.213067\\\\\n",
       "\t125 & -97.7431 & 6.100340 & 6.289520 & 6.391545 & 6.294016 & 5.123976 & 6.918695 & 6.916913 & 6.909454 & 6.909254 & ... & 6.913588 & 0 & 0 & 0 & 0 & 0 & 0 & 0 & 0 & 4.217137\\\\\n",
       "\t126 & -97.7431 & 6.214230 & 6.721626 & 6.819208 & 6.565495 & 5.675709 & 6.918695 & 6.916913 & 6.909454 & 6.909254 & ... & 6.913588 & 0 & 0 & 0 & 0 & 0 & 0 & 0 & 0 & 4.062334\\\\\n",
       "\t138 & -97.7431 & 0.000000 & 0.000000 & 4.469696 & 5.496850 & 5.552669 & 6.918695 & 6.916913 & 6.909454 & 6.909254 & ... & 6.913588 & 0 & 0 & 0 & 0 & 0 & 0 & 0 & 0 & 3.939464\\\\\n",
       "\t155 & -97.7431 & 6.549210 & 6.618450 & 6.733033 & 6.738562 & 5.946602 & 6.918695 & 6.916913 & 6.909454 & 6.909254 & ... & 6.913588 & 0 & 0 & 0 & 0 & 0 & 0 & 0 & 0 & 4.915893\\\\\n",
       "\t... & ... & ... & ... & ... & ... & ... & ... & ... & ... & ... &  & ... & ... & ... & ... & ... & ... & ... & ... & ... & ...\\\\\n",
       "\t10132 & -81.37904 & 5.2929535 & 5.3532822 & 5.228750 & 6.969990 & 6.132469 & 6.921461 & 6.920869 & 6.920573 & 6.922348 & ... & 6.925026 & 0 & 0 & 0 & 0 & 0 & 0 & 0 & 0 & 4.797500\\\\\n",
       "\t10135 & -81.37904 & 0.0000000 & 0.0000000 & 0.000000 & 4.612891 & 4.134117 & 6.921461 & 6.920869 & 6.920573 & 6.922348 & ... & 6.925026 & 0 & 0 & 0 & 0 & 0 & 0 & 0 & 0 & 1.925315\\\\\n",
       "\t10144 & -81.37904 & 4.9205421 & 5.4640098 & 5.410178 & 6.284602 & 5.371445 & 6.921461 & 6.920869 & 6.920573 & 6.922348 & ... & 6.925026 & 0 & 0 & 0 & 0 & 0 & 0 & 0 & 0 & 3.929505\\\\\n",
       "\t10145 & -81.37904 & 0.0000000 & 0.0000000 & 0.000000 & 5.211231 & 4.134117 & 6.921461 & 6.920869 & 6.920573 & 6.922348 & ... & 6.925026 & 0 & 0 & 0 & 0 & 0 & 0 & 0 & 0 & 3.889205\\\\\n",
       "\t10157 & -81.37904 & 7.1982047 & 7.0908693 & 6.982162 & 7.399235 & 5.319447 & 6.921461 & 6.920869 & 6.920573 & 6.922348 & ... & 6.925026 & 0 & 0 & 0 & 0 & 0 & 0 & 0 & 0 & 5.217999\\\\\n",
       "\t10161 & -81.37904 & 0.0000000 & 0.0000000 & 0.000000 & 4.612891 & 4.134117 & 6.921461 & 6.920869 & 6.920573 & 6.922348 & ... & 6.925026 & 0 & 0 & 0 & 0 & 0 & 0 & 0 & 0 & 3.401948\\\\\n",
       "\t10166 & -81.37904 & 0.0000000 & 0.0000000 & 0.000000 & 4.612891 & 4.134117 & 6.921461 & 6.920869 & 6.920573 & 6.922348 & ... & 6.925026 & 0 & 0 & 0 & 0 & 0 & 0 & 0 & 0 & 3.472859\\\\\n",
       "\t10167 & -81.37904 & 4.4727171 & 4.3204677 & 4.320468 & 4.612891 & 2.531933 & 6.921461 & 6.920869 & 6.920573 & 6.922348 & ... & 6.925026 & 0 & 0 & 0 & 0 & 0 & 0 & 0 & 0 & 2.751610\\\\\n",
       "\t10168 & -81.37904 & 0.0000000 & 0.0000000 & 0.000000 & 5.211231 & 4.134117 & 6.921461 & 6.920869 & 6.920573 & 6.922348 & ... & 6.925026 & 0 & 0 & 0 & 0 & 0 & 0 & 0 & 0 & 3.955782\\\\\n",
       "\t10171 & -81.37904 & 2.5930583 & 3.6405266 & 3.248097 & 5.328943 & 4.134117 & 6.921461 & 6.920869 & 6.920573 & 6.922348 & ... & 6.925026 & 0 & 0 & 0 & 0 & 0 & 0 & 0 & 0 & 3.930204\\\\\n",
       "\t10173 & -81.37904 & 6.1284256 & 6.1550364 & 5.951917 & 6.284602 & 5.371445 & 6.921461 & 6.920869 & 6.920573 & 6.922348 & ... & 6.925026 & 0 & 0 & 0 & 0 & 0 & 0 & 0 & 0 & 4.314421\\\\\n",
       "\t10177 & -81.37904 & 4.7214917 & 0.0000000 & 2.593058 & 6.690223 & 6.132469 & 6.921461 & 6.920869 & 6.920573 & 6.922348 & ... & 6.925026 & 0 & 0 & 0 & 0 & 0 & 0 & 0 & 0 & 4.644331\\\\\n",
       "\t10181 & -81.37904 & 5.7765260 & 6.5421194 & 6.898362 & 7.264626 & 5.385009 & 6.921461 & 6.920869 & 6.920573 & 6.922348 & ... & 6.925026 & 0 & 0 & 0 & 0 & 0 & 0 & 0 & 0 & 5.166264\\\\\n",
       "\t10184 & -81.37904 & 0.0000000 & 0.0000000 & 4.881270 & 7.326777 & 5.697057 & 6.921461 & 6.920869 & 6.920573 & 6.922348 & ... & 6.925026 & 0 & 0 & 0 & 0 & 0 & 0 & 0 & 0 & 3.248122\\\\\n",
       "\t10187 & -81.37904 & 3.6405266 & 0.0000000 & 0.000000 & 6.616943 & 6.129288 & 6.921461 & 6.920869 & 6.920573 & 6.922348 & ... & 6.925026 & 0 & 0 & 0 & 0 & 0 & 0 & 0 & 0 & 4.710520\\\\\n",
       "\t10194 & -81.37904 & 0.0000000 & 0.0000000 & 0.000000 & 5.211231 & 4.134117 & 6.921461 & 6.920869 & 6.920573 & 6.922348 & ... & 6.925026 & 0 & 0 & 0 & 0 & 0 & 0 & 0 & 0 & 3.259411\\\\\n",
       "\t10201 & -81.37904 & 0.0000000 & 0.0000000 & 0.000000 & 4.612891 & 4.134117 & 6.921461 & 6.920869 & 6.920573 & 6.922348 & ... & 6.925026 & 0 & 0 & 0 & 0 & 0 & 0 & 0 & 0 & 2.736780\\\\\n",
       "\t10206 & -81.37904 & 0.0000000 & 0.0000000 & 0.000000 & 4.612891 & 4.134117 & 6.921461 & 6.920869 & 6.920573 & 6.922348 & ... & 6.925026 & 0 & 0 & 0 & 0 & 0 & 0 & 0 & 0 & 1.575104\\\\\n",
       "\t10210 & -74.70000 & 5.7865246 & 6.3144708 & 4.881270 & 7.119700 & 5.697057 & 6.920573 & 6.922841 & 6.919684 & 6.923825 & ... & 6.926525 & 0 & 0 & 0 & 0 & 0 & 0 & 0 & 0 & 2.508604\\\\\n",
       "\t10214 & -74.70000 & 5.7865246 & 6.3144708 & 4.881270 & 7.119700 & 5.697057 & 6.920573 & 6.922841 & 6.919684 & 6.923825 & ... & 6.926525 & 0 & 0 & 0 & 0 & 0 & 0 & 0 & 0 & 2.508604\\\\\n",
       "\t10216 & -74.70000 & 7.3200197 & 7.3200197 & 7.320020 & 7.322597 & 3.942016 & 6.920573 & 6.922841 & 6.919684 & 6.923825 & ... & 6.926525 & 0 & 0 & 0 & 0 & 0 & 0 & 0 & 0 & 4.527178\\\\\n",
       "\t10217 & -74.70000 & 5.4564525 & 5.3705003 & 4.505858 & 8.456023 & 6.811897 & 6.920573 & 6.922841 & 6.919684 & 6.923825 & ... & 6.926525 & 0 & 0 & 0 & 0 & 0 & 0 & 0 & 0 & 6.933425\\\\\n",
       "\t10232 & -74.70000 & 4.3065094 & 3.6562013 & 0.000000 & 7.480806 & 6.560999 & 6.920573 & 6.922841 & 6.919684 & 6.923825 & ... & 6.926525 & 0 & 0 & 0 & 0 & 0 & 0 & 0 & 1 & 5.513561\\\\\n",
       "\t10233 & -74.70000 & 0.0000000 & 0.0000000 & 0.000000 & 1.935885 & 1.682398 & 6.920573 & 6.922841 & 6.919684 & 6.923825 & ... & 6.926525 & 0 & 0 & 0 & 0 & 0 & 0 & 0 & 0 & 4.130430\\\\\n",
       "\t10241 & -74.70000 & 0.4540648 & 0.5054311 & 0.000000 & 6.483922 & 3.942016 & 6.920573 & 6.922841 & 6.919684 & 6.923825 & ... & 6.926525 & 0 & 0 & 0 & 0 & 0 & 0 & 0 & 0 & 4.188316\\\\\n",
       "\t10245 & -74.70000 & 5.4910017 & 5.4958830 & 5.113984 & 6.670423 & 5.904318 & 6.920573 & 6.922841 & 6.919684 & 6.923825 & ... & 6.926525 & 0 & 0 & 0 & 0 & 0 & 0 & 0 & 0 & 5.124220\\\\\n",
       "\t10246 & -74.70000 & 5.7865246 & 6.3144708 & 4.881270 & 7.119700 & 5.697057 & 6.920573 & 6.922841 & 6.919684 & 6.923825 & ... & 6.926525 & 0 & 0 & 0 & 0 & 0 & 0 & 0 & 0 & 2.508604\\\\\n",
       "\t10253 & -74.70000 & 6.0616928 & 6.5064032 & 6.132059 & 7.119700 & 5.816420 & 6.920573 & 6.922841 & 6.919684 & 6.923825 & ... & 6.926525 & 0 & 0 & 0 & 0 & 0 & 0 & 0 & 0 & 2.508604\\\\\n",
       "\t10256 & -97.74310 & 7.5025721 & 7.6996688 & 4.919473 & 7.693074 & 5.555519 & 6.919387 & 6.920277 & 6.918695 & 6.924612 & ... & 6.927715 & 0 & 0 & 0 & 0 & 0 & 0 & 0 & 0 & 3.761563\\\\\n",
       "\t10264 & -97.74310 & 7.5025721 & 7.6996688 & 4.919473 & 7.693074 & 5.555519 & 6.919387 & 6.920277 & 6.918695 & 6.924612 & ... & 6.927715 & 0 & 0 & 0 & 0 & 0 & 0 & 0 & 0 & 3.761563\\\\\n",
       "\\end{tabular}\n"
      ],
      "text/markdown": [
       "\n",
       "A data.frame: 2055 × 21\n",
       "\n",
       "| <!--/--> | lng &lt;dbl&gt; | ChWt_Min_W3 &lt;dbl&gt; | ChWt_Min_W4 &lt;dbl&gt; | ChWt_Min_W5 &lt;dbl&gt; | ChWt_AVG_W1 &lt;dbl&gt; | ChWt_STD_W1 &lt;dbl&gt; | Min_seaLvlPressure_W2 &lt;dbl&gt; | Min_seaLvlPressure_W3 &lt;dbl&gt; | Min_seaLvlPressure_W4 &lt;dbl&gt; | Min_seaLvlPressure_W5 &lt;dbl&gt; | ... ... | Avg_seaLvlPressure_W5 &lt;dbl&gt; | Stm_Max_W4.high &lt;int&gt; | Stm_Max_W5.high &lt;int&gt; | Stm_Min_W1.high &lt;int&gt; | Stm_Min_W5.high &lt;int&gt; | Stm_AVG_W1.high &lt;int&gt; | Stm_AVG_W5.high &lt;int&gt; | Stm_STD_W1.high &lt;int&gt; | Stm_STD_W5.high &lt;int&gt; | El_Nxt_Mnth_Avg_OC &lt;dbl&gt; |\n",
       "|---|---|---|---|---|---|---|---|---|---|---|---|---|---|---|---|---|---|---|---|---|---|\n",
       "| 15 | -75.6972 | 0.000000 | 0.000000 | 0.000000 | 1.130171 | 2.110233 | 6.912842 | 6.915525 | 6.905753 | 6.916021 | ... | 6.919005 | 0 | 0 | 0 | 0 | 0 | 0 | 0 | 0 | 4.350355 |\n",
       "| 16 | -75.6960 | 0.000000 | 0.000000 | 0.000000 | 0.000000 | 0.000000 | 6.912842 | 6.915525 | 6.905753 | 6.916021 | ... | 6.919005 | 0 | 0 | 0 | 0 | 0 | 0 | 0 | 0 | 2.881710 |\n",
       "| 25 | -74.7000 | 4.746037 | 4.263083 | 4.312055 | 6.426364 | 5.946383 | 6.912842 | 6.915525 | 6.905753 | 6.916021 | ... | 6.919005 | 0 | 0 | 0 | 0 | 0 | 0 | 0 | 0 | 3.411631 |\n",
       "| 26 | -75.6960 | 0.000000 | 0.000000 | 0.000000 | 0.000000 | 0.000000 | 6.912842 | 6.915525 | 6.905753 | 6.916021 | ... | 6.919005 | 0 | 0 | 0 | 0 | 0 | 0 | 0 | 0 | 3.750666 |\n",
       "| 27 | -74.7000 | 4.746037 | 4.263083 | 4.312055 | 6.426364 | 5.946383 | 6.912842 | 6.915525 | 6.905753 | 6.916021 | ... | 6.919005 | 0 | 0 | 0 | 0 | 0 | 0 | 0 | 0 | 3.411631 |\n",
       "| 35 | -97.7431 | 7.749075 | 7.728168 | 7.911622 | 7.978909 | 7.161285 | 6.918695 | 6.916913 | 6.909454 | 6.909254 | ... | 6.913588 | 0 | 0 | 0 | 0 | 0 | 0 | 0 | 0 | 6.375366 |\n",
       "| 38 | -97.7431 | 5.563970 | 5.630904 | 5.755019 | 5.886290 | 5.218613 | 6.918695 | 6.916913 | 6.909454 | 6.909254 | ... | 6.913588 | 0 | 0 | 0 | 0 | 0 | 0 | 0 | 0 | 3.774313 |\n",
       "| 41 | -97.7431 | 6.079322 | 5.974939 | 6.172026 | 6.597400 | 6.395672 | 6.918695 | 6.916913 | 6.909454 | 6.909254 | ... | 6.913588 | 0 | 0 | 0 | 0 | 0 | 0 | 0 | 0 | 4.858941 |\n",
       "| 45 | -97.7431 | 7.663735 | 7.765995 | 7.846307 | 7.930936 | 6.946824 | 6.918695 | 6.916913 | 6.909454 | 6.909254 | ... | 6.913588 | 0 | 0 | 0 | 0 | 0 | 0 | 0 | 0 | 6.095678 |\n",
       "| 47 | -97.7431 | 2.646919 | 3.080928 | 4.281717 | 5.844372 | 5.949552 | 6.918695 | 6.916913 | 6.909454 | 6.909254 | ... | 6.913588 | 0 | 0 | 0 | 0 | 0 | 0 | 0 | 0 | 5.844016 |\n",
       "| 49 | -97.7431 | 4.026043 | 4.104539 | 4.142576 | 4.763059 | 4.356178 | 6.918695 | 6.916913 | 6.909454 | 6.909254 | ... | 6.913588 | 0 | 0 | 0 | 0 | 0 | 0 | 0 | 0 | 1.655781 |\n",
       "| 54 | -97.7431 | 6.127692 | 6.138695 | 6.147463 | 6.965455 | 6.215258 | 6.918695 | 6.916913 | 6.909454 | 6.909254 | ... | 6.913588 | 0 | 0 | 0 | 0 | 0 | 0 | 0 | 0 | 6.010733 |\n",
       "| 58 | -97.7431 | 7.067437 | 7.216982 | 7.318586 | 7.594732 | 6.890082 | 6.918695 | 6.916913 | 6.909454 | 6.909254 | ... | 6.913588 | 0 | 0 | 0 | 0 | 0 | 0 | 0 | 0 | 5.985792 |\n",
       "| 71 | -97.7431 | 5.639734 | 5.630904 | 5.671317 | 5.876690 | 5.159554 | 6.918695 | 6.916913 | 6.909454 | 6.909254 | ... | 6.913588 | 0 | 0 | 0 | 0 | 0 | 0 | 0 | 0 | 4.097569 |\n",
       "| 80 | -97.7431 | 6.964359 | 7.032026 | 7.143245 | 7.307975 | 6.622383 | 6.918695 | 6.916913 | 6.909454 | 6.909254 | ... | 6.913588 | 0 | 0 | 0 | 0 | 0 | 0 | 0 | 0 | 5.302348 |\n",
       "| 83 | -97.7431 | 6.963775 | 7.304878 | 7.761001 | 7.706722 | 7.324834 | 6.918695 | 6.916913 | 6.909454 | 6.909254 | ... | 6.913588 | 0 | 0 | 0 | 0 | 0 | 0 | 0 | 0 | 6.014783 |\n",
       "| 85 | -97.7431 | 4.920351 | 5.436186 | 6.158251 | 7.105487 | 6.644906 | 6.918695 | 6.916913 | 6.909454 | 6.909254 | ... | 6.913588 | 0 | 0 | 0 | 0 | 0 | 0 | 0 | 0 | 5.280301 |\n",
       "| 87 | -97.7431 | 6.254486 | 6.308165 | 6.461765 | 6.625093 | 5.715279 | 6.918695 | 6.916913 | 6.909454 | 6.909254 | ... | 6.913588 | 0 | 0 | 0 | 0 | 0 | 0 | 0 | 0 | 4.483576 |\n",
       "| 88 | -97.7431 | 1.004924 | 1.280156 | 1.091554 | 4.337014 | 4.252740 | 6.918695 | 6.916913 | 6.909454 | 6.909254 | ... | 6.913588 | 0 | 0 | 0 | 0 | 0 | 0 | 0 | 0 | 3.201490 |\n",
       "| 93 | -97.7431 | 5.929602 | 6.499677 | 6.841921 | 7.118421 | 6.783216 | 6.918695 | 6.916913 | 6.909454 | 6.909254 | ... | 6.913588 | 0 | 0 | 0 | 0 | 0 | 0 | 0 | 0 | 5.578631 |\n",
       "| 94 | -97.7431 | 4.991742 | 5.080916 | 5.219901 | 5.288106 | 4.560771 | 6.918695 | 6.916913 | 6.909454 | 6.909254 | ... | 6.913588 | 0 | 0 | 0 | 0 | 0 | 0 | 0 | 0 | 5.161109 |\n",
       "| 102 | -97.7431 | 4.464014 | 4.248705 | 4.442419 | 5.163773 | 4.967925 | 6.918695 | 6.916913 | 6.909454 | 6.909254 | ... | 6.913588 | 0 | 0 | 0 | 0 | 0 | 0 | 0 | 0 | 2.959515 |\n",
       "| 105 | -97.7431 | 5.112685 | 5.337156 | 5.489173 | 5.461328 | 4.684001 | 6.918695 | 6.916913 | 6.909454 | 6.909254 | ... | 6.913588 | 0 | 0 | 0 | 0 | 0 | 0 | 0 | 0 | 3.423662 |\n",
       "| 108 | -97.7431 | 5.872755 | 5.936160 | 5.995782 | 5.982091 | 4.950470 | 6.918695 | 6.916913 | 6.909454 | 6.909254 | ... | 6.913588 | 0 | 0 | 0 | 0 | 0 | 0 | 0 | 0 | 3.655749 |\n",
       "| 116 | -97.7431 | 4.026043 | 4.104539 | 4.142576 | 4.763059 | 4.356178 | 6.918695 | 6.916913 | 6.909454 | 6.909254 | ... | 6.913588 | 0 | 0 | 0 | 0 | 0 | 0 | 0 | 0 | 2.388211 |\n",
       "| 117 | -97.7431 | 6.726975 | 6.736121 | 6.824196 | 6.754153 | 5.481125 | 6.918695 | 6.916913 | 6.909454 | 6.909254 | ... | 6.913588 | 0 | 0 | 0 | 0 | 0 | 0 | 0 | 0 | 3.213067 |\n",
       "| 125 | -97.7431 | 6.100340 | 6.289520 | 6.391545 | 6.294016 | 5.123976 | 6.918695 | 6.916913 | 6.909454 | 6.909254 | ... | 6.913588 | 0 | 0 | 0 | 0 | 0 | 0 | 0 | 0 | 4.217137 |\n",
       "| 126 | -97.7431 | 6.214230 | 6.721626 | 6.819208 | 6.565495 | 5.675709 | 6.918695 | 6.916913 | 6.909454 | 6.909254 | ... | 6.913588 | 0 | 0 | 0 | 0 | 0 | 0 | 0 | 0 | 4.062334 |\n",
       "| 138 | -97.7431 | 0.000000 | 0.000000 | 4.469696 | 5.496850 | 5.552669 | 6.918695 | 6.916913 | 6.909454 | 6.909254 | ... | 6.913588 | 0 | 0 | 0 | 0 | 0 | 0 | 0 | 0 | 3.939464 |\n",
       "| 155 | -97.7431 | 6.549210 | 6.618450 | 6.733033 | 6.738562 | 5.946602 | 6.918695 | 6.916913 | 6.909454 | 6.909254 | ... | 6.913588 | 0 | 0 | 0 | 0 | 0 | 0 | 0 | 0 | 4.915893 |\n",
       "| ... | ... | ... | ... | ... | ... | ... | ... | ... | ... | ... | <!----> | ... | ... | ... | ... | ... | ... | ... | ... | ... | ... |\n",
       "| 10132 | -81.37904 | 5.2929535 | 5.3532822 | 5.228750 | 6.969990 | 6.132469 | 6.921461 | 6.920869 | 6.920573 | 6.922348 | ... | 6.925026 | 0 | 0 | 0 | 0 | 0 | 0 | 0 | 0 | 4.797500 |\n",
       "| 10135 | -81.37904 | 0.0000000 | 0.0000000 | 0.000000 | 4.612891 | 4.134117 | 6.921461 | 6.920869 | 6.920573 | 6.922348 | ... | 6.925026 | 0 | 0 | 0 | 0 | 0 | 0 | 0 | 0 | 1.925315 |\n",
       "| 10144 | -81.37904 | 4.9205421 | 5.4640098 | 5.410178 | 6.284602 | 5.371445 | 6.921461 | 6.920869 | 6.920573 | 6.922348 | ... | 6.925026 | 0 | 0 | 0 | 0 | 0 | 0 | 0 | 0 | 3.929505 |\n",
       "| 10145 | -81.37904 | 0.0000000 | 0.0000000 | 0.000000 | 5.211231 | 4.134117 | 6.921461 | 6.920869 | 6.920573 | 6.922348 | ... | 6.925026 | 0 | 0 | 0 | 0 | 0 | 0 | 0 | 0 | 3.889205 |\n",
       "| 10157 | -81.37904 | 7.1982047 | 7.0908693 | 6.982162 | 7.399235 | 5.319447 | 6.921461 | 6.920869 | 6.920573 | 6.922348 | ... | 6.925026 | 0 | 0 | 0 | 0 | 0 | 0 | 0 | 0 | 5.217999 |\n",
       "| 10161 | -81.37904 | 0.0000000 | 0.0000000 | 0.000000 | 4.612891 | 4.134117 | 6.921461 | 6.920869 | 6.920573 | 6.922348 | ... | 6.925026 | 0 | 0 | 0 | 0 | 0 | 0 | 0 | 0 | 3.401948 |\n",
       "| 10166 | -81.37904 | 0.0000000 | 0.0000000 | 0.000000 | 4.612891 | 4.134117 | 6.921461 | 6.920869 | 6.920573 | 6.922348 | ... | 6.925026 | 0 | 0 | 0 | 0 | 0 | 0 | 0 | 0 | 3.472859 |\n",
       "| 10167 | -81.37904 | 4.4727171 | 4.3204677 | 4.320468 | 4.612891 | 2.531933 | 6.921461 | 6.920869 | 6.920573 | 6.922348 | ... | 6.925026 | 0 | 0 | 0 | 0 | 0 | 0 | 0 | 0 | 2.751610 |\n",
       "| 10168 | -81.37904 | 0.0000000 | 0.0000000 | 0.000000 | 5.211231 | 4.134117 | 6.921461 | 6.920869 | 6.920573 | 6.922348 | ... | 6.925026 | 0 | 0 | 0 | 0 | 0 | 0 | 0 | 0 | 3.955782 |\n",
       "| 10171 | -81.37904 | 2.5930583 | 3.6405266 | 3.248097 | 5.328943 | 4.134117 | 6.921461 | 6.920869 | 6.920573 | 6.922348 | ... | 6.925026 | 0 | 0 | 0 | 0 | 0 | 0 | 0 | 0 | 3.930204 |\n",
       "| 10173 | -81.37904 | 6.1284256 | 6.1550364 | 5.951917 | 6.284602 | 5.371445 | 6.921461 | 6.920869 | 6.920573 | 6.922348 | ... | 6.925026 | 0 | 0 | 0 | 0 | 0 | 0 | 0 | 0 | 4.314421 |\n",
       "| 10177 | -81.37904 | 4.7214917 | 0.0000000 | 2.593058 | 6.690223 | 6.132469 | 6.921461 | 6.920869 | 6.920573 | 6.922348 | ... | 6.925026 | 0 | 0 | 0 | 0 | 0 | 0 | 0 | 0 | 4.644331 |\n",
       "| 10181 | -81.37904 | 5.7765260 | 6.5421194 | 6.898362 | 7.264626 | 5.385009 | 6.921461 | 6.920869 | 6.920573 | 6.922348 | ... | 6.925026 | 0 | 0 | 0 | 0 | 0 | 0 | 0 | 0 | 5.166264 |\n",
       "| 10184 | -81.37904 | 0.0000000 | 0.0000000 | 4.881270 | 7.326777 | 5.697057 | 6.921461 | 6.920869 | 6.920573 | 6.922348 | ... | 6.925026 | 0 | 0 | 0 | 0 | 0 | 0 | 0 | 0 | 3.248122 |\n",
       "| 10187 | -81.37904 | 3.6405266 | 0.0000000 | 0.000000 | 6.616943 | 6.129288 | 6.921461 | 6.920869 | 6.920573 | 6.922348 | ... | 6.925026 | 0 | 0 | 0 | 0 | 0 | 0 | 0 | 0 | 4.710520 |\n",
       "| 10194 | -81.37904 | 0.0000000 | 0.0000000 | 0.000000 | 5.211231 | 4.134117 | 6.921461 | 6.920869 | 6.920573 | 6.922348 | ... | 6.925026 | 0 | 0 | 0 | 0 | 0 | 0 | 0 | 0 | 3.259411 |\n",
       "| 10201 | -81.37904 | 0.0000000 | 0.0000000 | 0.000000 | 4.612891 | 4.134117 | 6.921461 | 6.920869 | 6.920573 | 6.922348 | ... | 6.925026 | 0 | 0 | 0 | 0 | 0 | 0 | 0 | 0 | 2.736780 |\n",
       "| 10206 | -81.37904 | 0.0000000 | 0.0000000 | 0.000000 | 4.612891 | 4.134117 | 6.921461 | 6.920869 | 6.920573 | 6.922348 | ... | 6.925026 | 0 | 0 | 0 | 0 | 0 | 0 | 0 | 0 | 1.575104 |\n",
       "| 10210 | -74.70000 | 5.7865246 | 6.3144708 | 4.881270 | 7.119700 | 5.697057 | 6.920573 | 6.922841 | 6.919684 | 6.923825 | ... | 6.926525 | 0 | 0 | 0 | 0 | 0 | 0 | 0 | 0 | 2.508604 |\n",
       "| 10214 | -74.70000 | 5.7865246 | 6.3144708 | 4.881270 | 7.119700 | 5.697057 | 6.920573 | 6.922841 | 6.919684 | 6.923825 | ... | 6.926525 | 0 | 0 | 0 | 0 | 0 | 0 | 0 | 0 | 2.508604 |\n",
       "| 10216 | -74.70000 | 7.3200197 | 7.3200197 | 7.320020 | 7.322597 | 3.942016 | 6.920573 | 6.922841 | 6.919684 | 6.923825 | ... | 6.926525 | 0 | 0 | 0 | 0 | 0 | 0 | 0 | 0 | 4.527178 |\n",
       "| 10217 | -74.70000 | 5.4564525 | 5.3705003 | 4.505858 | 8.456023 | 6.811897 | 6.920573 | 6.922841 | 6.919684 | 6.923825 | ... | 6.926525 | 0 | 0 | 0 | 0 | 0 | 0 | 0 | 0 | 6.933425 |\n",
       "| 10232 | -74.70000 | 4.3065094 | 3.6562013 | 0.000000 | 7.480806 | 6.560999 | 6.920573 | 6.922841 | 6.919684 | 6.923825 | ... | 6.926525 | 0 | 0 | 0 | 0 | 0 | 0 | 0 | 1 | 5.513561 |\n",
       "| 10233 | -74.70000 | 0.0000000 | 0.0000000 | 0.000000 | 1.935885 | 1.682398 | 6.920573 | 6.922841 | 6.919684 | 6.923825 | ... | 6.926525 | 0 | 0 | 0 | 0 | 0 | 0 | 0 | 0 | 4.130430 |\n",
       "| 10241 | -74.70000 | 0.4540648 | 0.5054311 | 0.000000 | 6.483922 | 3.942016 | 6.920573 | 6.922841 | 6.919684 | 6.923825 | ... | 6.926525 | 0 | 0 | 0 | 0 | 0 | 0 | 0 | 0 | 4.188316 |\n",
       "| 10245 | -74.70000 | 5.4910017 | 5.4958830 | 5.113984 | 6.670423 | 5.904318 | 6.920573 | 6.922841 | 6.919684 | 6.923825 | ... | 6.926525 | 0 | 0 | 0 | 0 | 0 | 0 | 0 | 0 | 5.124220 |\n",
       "| 10246 | -74.70000 | 5.7865246 | 6.3144708 | 4.881270 | 7.119700 | 5.697057 | 6.920573 | 6.922841 | 6.919684 | 6.923825 | ... | 6.926525 | 0 | 0 | 0 | 0 | 0 | 0 | 0 | 0 | 2.508604 |\n",
       "| 10253 | -74.70000 | 6.0616928 | 6.5064032 | 6.132059 | 7.119700 | 5.816420 | 6.920573 | 6.922841 | 6.919684 | 6.923825 | ... | 6.926525 | 0 | 0 | 0 | 0 | 0 | 0 | 0 | 0 | 2.508604 |\n",
       "| 10256 | -97.74310 | 7.5025721 | 7.6996688 | 4.919473 | 7.693074 | 5.555519 | 6.919387 | 6.920277 | 6.918695 | 6.924612 | ... | 6.927715 | 0 | 0 | 0 | 0 | 0 | 0 | 0 | 0 | 3.761563 |\n",
       "| 10264 | -97.74310 | 7.5025721 | 7.6996688 | 4.919473 | 7.693074 | 5.555519 | 6.919387 | 6.920277 | 6.918695 | 6.924612 | ... | 6.927715 | 0 | 0 | 0 | 0 | 0 | 0 | 0 | 0 | 3.761563 |\n",
       "\n"
      ],
      "text/plain": [
       "      lng       ChWt_Min_W3 ChWt_Min_W4 ChWt_Min_W5 ChWt_AVG_W1 ChWt_STD_W1\n",
       "15    -75.6972  0.000000    0.000000    0.000000    1.130171    2.110233   \n",
       "16    -75.6960  0.000000    0.000000    0.000000    0.000000    0.000000   \n",
       "25    -74.7000  4.746037    4.263083    4.312055    6.426364    5.946383   \n",
       "26    -75.6960  0.000000    0.000000    0.000000    0.000000    0.000000   \n",
       "27    -74.7000  4.746037    4.263083    4.312055    6.426364    5.946383   \n",
       "35    -97.7431  7.749075    7.728168    7.911622    7.978909    7.161285   \n",
       "38    -97.7431  5.563970    5.630904    5.755019    5.886290    5.218613   \n",
       "41    -97.7431  6.079322    5.974939    6.172026    6.597400    6.395672   \n",
       "45    -97.7431  7.663735    7.765995    7.846307    7.930936    6.946824   \n",
       "47    -97.7431  2.646919    3.080928    4.281717    5.844372    5.949552   \n",
       "49    -97.7431  4.026043    4.104539    4.142576    4.763059    4.356178   \n",
       "54    -97.7431  6.127692    6.138695    6.147463    6.965455    6.215258   \n",
       "58    -97.7431  7.067437    7.216982    7.318586    7.594732    6.890082   \n",
       "71    -97.7431  5.639734    5.630904    5.671317    5.876690    5.159554   \n",
       "80    -97.7431  6.964359    7.032026    7.143245    7.307975    6.622383   \n",
       "83    -97.7431  6.963775    7.304878    7.761001    7.706722    7.324834   \n",
       "85    -97.7431  4.920351    5.436186    6.158251    7.105487    6.644906   \n",
       "87    -97.7431  6.254486    6.308165    6.461765    6.625093    5.715279   \n",
       "88    -97.7431  1.004924    1.280156    1.091554    4.337014    4.252740   \n",
       "93    -97.7431  5.929602    6.499677    6.841921    7.118421    6.783216   \n",
       "94    -97.7431  4.991742    5.080916    5.219901    5.288106    4.560771   \n",
       "102   -97.7431  4.464014    4.248705    4.442419    5.163773    4.967925   \n",
       "105   -97.7431  5.112685    5.337156    5.489173    5.461328    4.684001   \n",
       "108   -97.7431  5.872755    5.936160    5.995782    5.982091    4.950470   \n",
       "116   -97.7431  4.026043    4.104539    4.142576    4.763059    4.356178   \n",
       "117   -97.7431  6.726975    6.736121    6.824196    6.754153    5.481125   \n",
       "125   -97.7431  6.100340    6.289520    6.391545    6.294016    5.123976   \n",
       "126   -97.7431  6.214230    6.721626    6.819208    6.565495    5.675709   \n",
       "138   -97.7431  0.000000    0.000000    4.469696    5.496850    5.552669   \n",
       "155   -97.7431  6.549210    6.618450    6.733033    6.738562    5.946602   \n",
       "...   ...       ...         ...         ...         ...         ...        \n",
       "10132 -81.37904 5.2929535   5.3532822   5.228750    6.969990    6.132469   \n",
       "10135 -81.37904 0.0000000   0.0000000   0.000000    4.612891    4.134117   \n",
       "10144 -81.37904 4.9205421   5.4640098   5.410178    6.284602    5.371445   \n",
       "10145 -81.37904 0.0000000   0.0000000   0.000000    5.211231    4.134117   \n",
       "10157 -81.37904 7.1982047   7.0908693   6.982162    7.399235    5.319447   \n",
       "10161 -81.37904 0.0000000   0.0000000   0.000000    4.612891    4.134117   \n",
       "10166 -81.37904 0.0000000   0.0000000   0.000000    4.612891    4.134117   \n",
       "10167 -81.37904 4.4727171   4.3204677   4.320468    4.612891    2.531933   \n",
       "10168 -81.37904 0.0000000   0.0000000   0.000000    5.211231    4.134117   \n",
       "10171 -81.37904 2.5930583   3.6405266   3.248097    5.328943    4.134117   \n",
       "10173 -81.37904 6.1284256   6.1550364   5.951917    6.284602    5.371445   \n",
       "10177 -81.37904 4.7214917   0.0000000   2.593058    6.690223    6.132469   \n",
       "10181 -81.37904 5.7765260   6.5421194   6.898362    7.264626    5.385009   \n",
       "10184 -81.37904 0.0000000   0.0000000   4.881270    7.326777    5.697057   \n",
       "10187 -81.37904 3.6405266   0.0000000   0.000000    6.616943    6.129288   \n",
       "10194 -81.37904 0.0000000   0.0000000   0.000000    5.211231    4.134117   \n",
       "10201 -81.37904 0.0000000   0.0000000   0.000000    4.612891    4.134117   \n",
       "10206 -81.37904 0.0000000   0.0000000   0.000000    4.612891    4.134117   \n",
       "10210 -74.70000 5.7865246   6.3144708   4.881270    7.119700    5.697057   \n",
       "10214 -74.70000 5.7865246   6.3144708   4.881270    7.119700    5.697057   \n",
       "10216 -74.70000 7.3200197   7.3200197   7.320020    7.322597    3.942016   \n",
       "10217 -74.70000 5.4564525   5.3705003   4.505858    8.456023    6.811897   \n",
       "10232 -74.70000 4.3065094   3.6562013   0.000000    7.480806    6.560999   \n",
       "10233 -74.70000 0.0000000   0.0000000   0.000000    1.935885    1.682398   \n",
       "10241 -74.70000 0.4540648   0.5054311   0.000000    6.483922    3.942016   \n",
       "10245 -74.70000 5.4910017   5.4958830   5.113984    6.670423    5.904318   \n",
       "10246 -74.70000 5.7865246   6.3144708   4.881270    7.119700    5.697057   \n",
       "10253 -74.70000 6.0616928   6.5064032   6.132059    7.119700    5.816420   \n",
       "10256 -97.74310 7.5025721   7.6996688   4.919473    7.693074    5.555519   \n",
       "10264 -97.74310 7.5025721   7.6996688   4.919473    7.693074    5.555519   \n",
       "      Min_seaLvlPressure_W2 Min_seaLvlPressure_W3 Min_seaLvlPressure_W4\n",
       "15    6.912842              6.915525              6.905753             \n",
       "16    6.912842              6.915525              6.905753             \n",
       "25    6.912842              6.915525              6.905753             \n",
       "26    6.912842              6.915525              6.905753             \n",
       "27    6.912842              6.915525              6.905753             \n",
       "35    6.918695              6.916913              6.909454             \n",
       "38    6.918695              6.916913              6.909454             \n",
       "41    6.918695              6.916913              6.909454             \n",
       "45    6.918695              6.916913              6.909454             \n",
       "47    6.918695              6.916913              6.909454             \n",
       "49    6.918695              6.916913              6.909454             \n",
       "54    6.918695              6.916913              6.909454             \n",
       "58    6.918695              6.916913              6.909454             \n",
       "71    6.918695              6.916913              6.909454             \n",
       "80    6.918695              6.916913              6.909454             \n",
       "83    6.918695              6.916913              6.909454             \n",
       "85    6.918695              6.916913              6.909454             \n",
       "87    6.918695              6.916913              6.909454             \n",
       "88    6.918695              6.916913              6.909454             \n",
       "93    6.918695              6.916913              6.909454             \n",
       "94    6.918695              6.916913              6.909454             \n",
       "102   6.918695              6.916913              6.909454             \n",
       "105   6.918695              6.916913              6.909454             \n",
       "108   6.918695              6.916913              6.909454             \n",
       "116   6.918695              6.916913              6.909454             \n",
       "117   6.918695              6.916913              6.909454             \n",
       "125   6.918695              6.916913              6.909454             \n",
       "126   6.918695              6.916913              6.909454             \n",
       "138   6.918695              6.916913              6.909454             \n",
       "155   6.918695              6.916913              6.909454             \n",
       "...   ...                   ...                   ...                  \n",
       "10132 6.921461              6.920869              6.920573             \n",
       "10135 6.921461              6.920869              6.920573             \n",
       "10144 6.921461              6.920869              6.920573             \n",
       "10145 6.921461              6.920869              6.920573             \n",
       "10157 6.921461              6.920869              6.920573             \n",
       "10161 6.921461              6.920869              6.920573             \n",
       "10166 6.921461              6.920869              6.920573             \n",
       "10167 6.921461              6.920869              6.920573             \n",
       "10168 6.921461              6.920869              6.920573             \n",
       "10171 6.921461              6.920869              6.920573             \n",
       "10173 6.921461              6.920869              6.920573             \n",
       "10177 6.921461              6.920869              6.920573             \n",
       "10181 6.921461              6.920869              6.920573             \n",
       "10184 6.921461              6.920869              6.920573             \n",
       "10187 6.921461              6.920869              6.920573             \n",
       "10194 6.921461              6.920869              6.920573             \n",
       "10201 6.921461              6.920869              6.920573             \n",
       "10206 6.921461              6.920869              6.920573             \n",
       "10210 6.920573              6.922841              6.919684             \n",
       "10214 6.920573              6.922841              6.919684             \n",
       "10216 6.920573              6.922841              6.919684             \n",
       "10217 6.920573              6.922841              6.919684             \n",
       "10232 6.920573              6.922841              6.919684             \n",
       "10233 6.920573              6.922841              6.919684             \n",
       "10241 6.920573              6.922841              6.919684             \n",
       "10245 6.920573              6.922841              6.919684             \n",
       "10246 6.920573              6.922841              6.919684             \n",
       "10253 6.920573              6.922841              6.919684             \n",
       "10256 6.919387              6.920277              6.918695             \n",
       "10264 6.919387              6.920277              6.918695             \n",
       "      Min_seaLvlPressure_W5 ... Avg_seaLvlPressure_W5 Stm_Max_W4.high\n",
       "15    6.916021              ... 6.919005              0              \n",
       "16    6.916021              ... 6.919005              0              \n",
       "25    6.916021              ... 6.919005              0              \n",
       "26    6.916021              ... 6.919005              0              \n",
       "27    6.916021              ... 6.919005              0              \n",
       "35    6.909254              ... 6.913588              0              \n",
       "38    6.909254              ... 6.913588              0              \n",
       "41    6.909254              ... 6.913588              0              \n",
       "45    6.909254              ... 6.913588              0              \n",
       "47    6.909254              ... 6.913588              0              \n",
       "49    6.909254              ... 6.913588              0              \n",
       "54    6.909254              ... 6.913588              0              \n",
       "58    6.909254              ... 6.913588              0              \n",
       "71    6.909254              ... 6.913588              0              \n",
       "80    6.909254              ... 6.913588              0              \n",
       "83    6.909254              ... 6.913588              0              \n",
       "85    6.909254              ... 6.913588              0              \n",
       "87    6.909254              ... 6.913588              0              \n",
       "88    6.909254              ... 6.913588              0              \n",
       "93    6.909254              ... 6.913588              0              \n",
       "94    6.909254              ... 6.913588              0              \n",
       "102   6.909254              ... 6.913588              0              \n",
       "105   6.909254              ... 6.913588              0              \n",
       "108   6.909254              ... 6.913588              0              \n",
       "116   6.909254              ... 6.913588              0              \n",
       "117   6.909254              ... 6.913588              0              \n",
       "125   6.909254              ... 6.913588              0              \n",
       "126   6.909254              ... 6.913588              0              \n",
       "138   6.909254              ... 6.913588              0              \n",
       "155   6.909254              ... 6.913588              0              \n",
       "...   ...                       ...                   ...            \n",
       "10132 6.922348              ... 6.925026              0              \n",
       "10135 6.922348              ... 6.925026              0              \n",
       "10144 6.922348              ... 6.925026              0              \n",
       "10145 6.922348              ... 6.925026              0              \n",
       "10157 6.922348              ... 6.925026              0              \n",
       "10161 6.922348              ... 6.925026              0              \n",
       "10166 6.922348              ... 6.925026              0              \n",
       "10167 6.922348              ... 6.925026              0              \n",
       "10168 6.922348              ... 6.925026              0              \n",
       "10171 6.922348              ... 6.925026              0              \n",
       "10173 6.922348              ... 6.925026              0              \n",
       "10177 6.922348              ... 6.925026              0              \n",
       "10181 6.922348              ... 6.925026              0              \n",
       "10184 6.922348              ... 6.925026              0              \n",
       "10187 6.922348              ... 6.925026              0              \n",
       "10194 6.922348              ... 6.925026              0              \n",
       "10201 6.922348              ... 6.925026              0              \n",
       "10206 6.922348              ... 6.925026              0              \n",
       "10210 6.923825              ... 6.926525              0              \n",
       "10214 6.923825              ... 6.926525              0              \n",
       "10216 6.923825              ... 6.926525              0              \n",
       "10217 6.923825              ... 6.926525              0              \n",
       "10232 6.923825              ... 6.926525              0              \n",
       "10233 6.923825              ... 6.926525              0              \n",
       "10241 6.923825              ... 6.926525              0              \n",
       "10245 6.923825              ... 6.926525              0              \n",
       "10246 6.923825              ... 6.926525              0              \n",
       "10253 6.923825              ... 6.926525              0              \n",
       "10256 6.924612              ... 6.927715              0              \n",
       "10264 6.924612              ... 6.927715              0              \n",
       "      Stm_Max_W5.high Stm_Min_W1.high Stm_Min_W5.high Stm_AVG_W1.high\n",
       "15    0               0               0               0              \n",
       "16    0               0               0               0              \n",
       "25    0               0               0               0              \n",
       "26    0               0               0               0              \n",
       "27    0               0               0               0              \n",
       "35    0               0               0               0              \n",
       "38    0               0               0               0              \n",
       "41    0               0               0               0              \n",
       "45    0               0               0               0              \n",
       "47    0               0               0               0              \n",
       "49    0               0               0               0              \n",
       "54    0               0               0               0              \n",
       "58    0               0               0               0              \n",
       "71    0               0               0               0              \n",
       "80    0               0               0               0              \n",
       "83    0               0               0               0              \n",
       "85    0               0               0               0              \n",
       "87    0               0               0               0              \n",
       "88    0               0               0               0              \n",
       "93    0               0               0               0              \n",
       "94    0               0               0               0              \n",
       "102   0               0               0               0              \n",
       "105   0               0               0               0              \n",
       "108   0               0               0               0              \n",
       "116   0               0               0               0              \n",
       "117   0               0               0               0              \n",
       "125   0               0               0               0              \n",
       "126   0               0               0               0              \n",
       "138   0               0               0               0              \n",
       "155   0               0               0               0              \n",
       "...   ...             ...             ...             ...            \n",
       "10132 0               0               0               0              \n",
       "10135 0               0               0               0              \n",
       "10144 0               0               0               0              \n",
       "10145 0               0               0               0              \n",
       "10157 0               0               0               0              \n",
       "10161 0               0               0               0              \n",
       "10166 0               0               0               0              \n",
       "10167 0               0               0               0              \n",
       "10168 0               0               0               0              \n",
       "10171 0               0               0               0              \n",
       "10173 0               0               0               0              \n",
       "10177 0               0               0               0              \n",
       "10181 0               0               0               0              \n",
       "10184 0               0               0               0              \n",
       "10187 0               0               0               0              \n",
       "10194 0               0               0               0              \n",
       "10201 0               0               0               0              \n",
       "10206 0               0               0               0              \n",
       "10210 0               0               0               0              \n",
       "10214 0               0               0               0              \n",
       "10216 0               0               0               0              \n",
       "10217 0               0               0               0              \n",
       "10232 0               0               0               0              \n",
       "10233 0               0               0               0              \n",
       "10241 0               0               0               0              \n",
       "10245 0               0               0               0              \n",
       "10246 0               0               0               0              \n",
       "10253 0               0               0               0              \n",
       "10256 0               0               0               0              \n",
       "10264 0               0               0               0              \n",
       "      Stm_AVG_W5.high Stm_STD_W1.high Stm_STD_W5.high El_Nxt_Mnth_Avg_OC\n",
       "15    0               0               0               4.350355          \n",
       "16    0               0               0               2.881710          \n",
       "25    0               0               0               3.411631          \n",
       "26    0               0               0               3.750666          \n",
       "27    0               0               0               3.411631          \n",
       "35    0               0               0               6.375366          \n",
       "38    0               0               0               3.774313          \n",
       "41    0               0               0               4.858941          \n",
       "45    0               0               0               6.095678          \n",
       "47    0               0               0               5.844016          \n",
       "49    0               0               0               1.655781          \n",
       "54    0               0               0               6.010733          \n",
       "58    0               0               0               5.985792          \n",
       "71    0               0               0               4.097569          \n",
       "80    0               0               0               5.302348          \n",
       "83    0               0               0               6.014783          \n",
       "85    0               0               0               5.280301          \n",
       "87    0               0               0               4.483576          \n",
       "88    0               0               0               3.201490          \n",
       "93    0               0               0               5.578631          \n",
       "94    0               0               0               5.161109          \n",
       "102   0               0               0               2.959515          \n",
       "105   0               0               0               3.423662          \n",
       "108   0               0               0               3.655749          \n",
       "116   0               0               0               2.388211          \n",
       "117   0               0               0               3.213067          \n",
       "125   0               0               0               4.217137          \n",
       "126   0               0               0               4.062334          \n",
       "138   0               0               0               3.939464          \n",
       "155   0               0               0               4.915893          \n",
       "...   ...             ...             ...             ...               \n",
       "10132 0               0               0               4.797500          \n",
       "10135 0               0               0               1.925315          \n",
       "10144 0               0               0               3.929505          \n",
       "10145 0               0               0               3.889205          \n",
       "10157 0               0               0               5.217999          \n",
       "10161 0               0               0               3.401948          \n",
       "10166 0               0               0               3.472859          \n",
       "10167 0               0               0               2.751610          \n",
       "10168 0               0               0               3.955782          \n",
       "10171 0               0               0               3.930204          \n",
       "10173 0               0               0               4.314421          \n",
       "10177 0               0               0               4.644331          \n",
       "10181 0               0               0               5.166264          \n",
       "10184 0               0               0               3.248122          \n",
       "10187 0               0               0               4.710520          \n",
       "10194 0               0               0               3.259411          \n",
       "10201 0               0               0               2.736780          \n",
       "10206 0               0               0               1.575104          \n",
       "10210 0               0               0               2.508604          \n",
       "10214 0               0               0               2.508604          \n",
       "10216 0               0               0               4.527178          \n",
       "10217 0               0               0               6.933425          \n",
       "10232 0               0               1               5.513561          \n",
       "10233 0               0               0               4.130430          \n",
       "10241 0               0               0               4.188316          \n",
       "10245 0               0               0               5.124220          \n",
       "10246 0               0               0               2.508604          \n",
       "10253 0               0               0               2.508604          \n",
       "10256 0               0               0               3.761563          \n",
       "10264 0               0               0               3.761563          "
      ]
     },
     "metadata": {},
     "output_type": "display_data"
    }
   ],
   "source": [
    "test"
   ]
  },
  {
   "cell_type": "code",
   "execution_count": 51,
   "metadata": {},
   "outputs": [],
   "source": [
    "write.csv(test, file=\"test_train_11062022.csv\")"
   ]
  },
  {
   "cell_type": "code",
   "execution_count": 187,
   "metadata": {},
   "outputs": [
    {
     "ename": "ERROR",
     "evalue": "Error in ts(x): 'ts' object must have one or more observations\n",
     "output_type": "error",
     "traceback": [
      "Error in ts(x): 'ts' object must have one or more observations\nTraceback:\n",
      "1. filter(tab1, pval < 0.05)",
      "2. as.ts(x)",
      "3. as.ts.default(x)",
      "4. ts(x)",
      "5. stop(\"'ts' object must have one or more observations\")"
     ]
    }
   ],
   "source": [
    "filter(tab1,pval < 0.05)"
   ]
  },
  {
   "cell_type": "markdown",
   "metadata": {},
   "source": [
    "## Train and Dev"
   ]
  },
  {
   "cell_type": "code",
   "execution_count": 54,
   "metadata": {},
   "outputs": [
    {
     "name": "stdout",
     "output_type": "stream",
     "text": [
      "  |======================================================================| 100%"
     ]
    },
    {
     "name": "stderr",
     "output_type": "stream",
     "text": [
      "WARNING: The following variables are not balanced between the training and test datasets:\n",
      "\n",
      "You can try to change the seed value until you get a balanced partition.\n",
      "\n",
      "Alternatively, you can ommit this warning and exclude those variables from your model\n",
      "\n",
      " \n",
      "\n",
      "Dataset partitioned into:\n",
      "\n",
      " + Train dataset: train\n",
      "\n",
      " + Test dataset: dev\n",
      "\n"
     ]
    }
   ],
   "source": [
    "tab2 <- train_test(data = temp[,vn], train_name = \"train\", test_name = \"dev\",prop = 0.8, seed = 2, tableone=T)"
   ]
  },
  {
   "cell_type": "code",
   "execution_count": 55,
   "metadata": {},
   "outputs": [
    {
     "data": {
      "text/html": [
       "<style>\n",
       ".list-inline {list-style: none; margin:0; padding: 0}\n",
       ".list-inline>li {display: inline-block}\n",
       ".list-inline>li:not(:last-child)::after {content: \"\\00b7\"; padding: 0 .5ex}\n",
       "</style>\n",
       "<ol class=list-inline><li>6573</li><li>21</li></ol>\n"
      ],
      "text/latex": [
       "\\begin{enumerate*}\n",
       "\\item 6573\n",
       "\\item 21\n",
       "\\end{enumerate*}\n"
      ],
      "text/markdown": [
       "1. 6573\n",
       "2. 21\n",
       "\n",
       "\n"
      ],
      "text/plain": [
       "[1] 6573   21"
      ]
     },
     "metadata": {},
     "output_type": "display_data"
    },
    {
     "data": {
      "text/html": [
       "<style>\n",
       ".list-inline {list-style: none; margin:0; padding: 0}\n",
       ".list-inline>li {display: inline-block}\n",
       ".list-inline>li:not(:last-child)::after {content: \"\\00b7\"; padding: 0 .5ex}\n",
       "</style>\n",
       "<ol class=list-inline><li>1644</li><li>21</li></ol>\n"
      ],
      "text/latex": [
       "\\begin{enumerate*}\n",
       "\\item 1644\n",
       "\\item 21\n",
       "\\end{enumerate*}\n"
      ],
      "text/markdown": [
       "1. 1644\n",
       "2. 21\n",
       "\n",
       "\n"
      ],
      "text/plain": [
       "[1] 1644   21"
      ]
     },
     "metadata": {},
     "output_type": "display_data"
    }
   ],
   "source": [
    "dim(train)\n",
    "dim(dev)"
   ]
  },
  {
   "cell_type": "code",
   "execution_count": 57,
   "metadata": {},
   "outputs": [],
   "source": [
    "colnames(tab2)[6]<-'pval'"
   ]
  },
  {
   "cell_type": "code",
   "execution_count": 21,
   "metadata": {},
   "outputs": [
    {
     "data": {
      "text/html": [
       "<style>\n",
       ".list-inline {list-style: none; margin:0; padding: 0}\n",
       ".list-inline>li {display: inline-block}\n",
       ".list-inline>li:not(:last-child)::after {content: \"\\00b7\"; padding: 0 .5ex}\n",
       "</style>\n",
       "<ol class=list-inline><li>''</li><li>'0.656'</li><li>''</li><li>'0.623'</li><li>''</li><li>'0.417'</li><li>''</li><li>'0.682'</li><li>''</li><li>'0.908'</li><li>''</li><li>'0.908'</li><li>''</li><li>'0.376'</li><li>''</li><li>'0.97'</li><li>''</li><li>''</li><li>'0.402'</li><li>''</li><li>'0.53'</li><li>''</li><li>'0.66'</li><li>''</li><li>'0.333'</li><li>''</li><li>'0.644'</li><li>'0.844'</li><li>'0.647'</li><li>'0.488'</li><li>'0.95'</li><li>'0.26'</li><li>'0.656'</li><li>'0.622'</li><li>'0.69'</li></ol>\n"
      ],
      "text/latex": [
       "\\begin{enumerate*}\n",
       "\\item ''\n",
       "\\item '0.656'\n",
       "\\item ''\n",
       "\\item '0.623'\n",
       "\\item ''\n",
       "\\item '0.417'\n",
       "\\item ''\n",
       "\\item '0.682'\n",
       "\\item ''\n",
       "\\item '0.908'\n",
       "\\item ''\n",
       "\\item '0.908'\n",
       "\\item ''\n",
       "\\item '0.376'\n",
       "\\item ''\n",
       "\\item '0.97'\n",
       "\\item ''\n",
       "\\item ''\n",
       "\\item '0.402'\n",
       "\\item ''\n",
       "\\item '0.53'\n",
       "\\item ''\n",
       "\\item '0.66'\n",
       "\\item ''\n",
       "\\item '0.333'\n",
       "\\item ''\n",
       "\\item '0.644'\n",
       "\\item '0.844'\n",
       "\\item '0.647'\n",
       "\\item '0.488'\n",
       "\\item '0.95'\n",
       "\\item '0.26'\n",
       "\\item '0.656'\n",
       "\\item '0.622'\n",
       "\\item '0.69'\n",
       "\\end{enumerate*}\n"
      ],
      "text/markdown": [
       "1. ''\n",
       "2. '0.656'\n",
       "3. ''\n",
       "4. '0.623'\n",
       "5. ''\n",
       "6. '0.417'\n",
       "7. ''\n",
       "8. '0.682'\n",
       "9. ''\n",
       "10. '0.908'\n",
       "11. ''\n",
       "12. '0.908'\n",
       "13. ''\n",
       "14. '0.376'\n",
       "15. ''\n",
       "16. '0.97'\n",
       "17. ''\n",
       "18. ''\n",
       "19. '0.402'\n",
       "20. ''\n",
       "21. '0.53'\n",
       "22. ''\n",
       "23. '0.66'\n",
       "24. ''\n",
       "25. '0.333'\n",
       "26. ''\n",
       "27. '0.644'\n",
       "28. '0.844'\n",
       "29. '0.647'\n",
       "30. '0.488'\n",
       "31. '0.95'\n",
       "32. '0.26'\n",
       "33. '0.656'\n",
       "34. '0.622'\n",
       "35. '0.69'\n",
       "\n",
       "\n"
      ],
      "text/plain": [
       " [1] \"\"      \"0.656\" \"\"      \"0.623\" \"\"      \"0.417\" \"\"      \"0.682\" \"\"     \n",
       "[10] \"0.908\" \"\"      \"0.908\" \"\"      \"0.376\" \"\"      \"0.97\"  \"\"      \"\"     \n",
       "[19] \"0.402\" \"\"      \"0.53\"  \"\"      \"0.66\"  \"\"      \"0.333\" \"\"      \"0.644\"\n",
       "[28] \"0.844\" \"0.647\" \"0.488\" \"0.95\"  \"0.26\"  \"0.656\" \"0.622\" \"0.69\" "
      ]
     },
     "metadata": {},
     "output_type": "display_data"
    }
   ],
   "source": [
    "tab2$pval"
   ]
  },
  {
   "cell_type": "code",
   "execution_count": 58,
   "metadata": {
    "scrolled": true
   },
   "outputs": [
    {
     "data": {
      "text/html": [
       "<table class=\"dataframe\">\n",
       "<caption>A data.frame: 45 × 6</caption>\n",
       "<thead>\n",
       "\t<tr><th></th><th scope=col>Variables</th><th scope=col></th><th scope=col>Population</th><th scope=col>1</th><th scope=col>2</th><th scope=col>pval</th></tr>\n",
       "\t<tr><th></th><th scope=col>&lt;chr&gt;</th><th scope=col>&lt;chr&gt;</th><th scope=col>&lt;chr&gt;</th><th scope=col>&lt;chr&gt;</th><th scope=col>&lt;chr&gt;</th><th scope=col>&lt;chr&gt;</th></tr>\n",
       "</thead>\n",
       "<tbody>\n",
       "\t<tr><th scope=row>1</th><td>Avg_seaLvlPressure_W4</td><td>Mean (SD)   </td><td>6.9 (0.0)          </td><td>6.9 (0.0)          </td><td>6.9 (0.0)          </td><td>      </td></tr>\n",
       "\t<tr><th scope=row>2</th><td>Avg_seaLvlPressure_W4</td><td>Median (IQR)</td><td>6.9 (6.9-6.9)      </td><td>6.9 (6.9-6.9)      </td><td>6.9 (6.9-6.9)      </td><td>0.304 </td></tr>\n",
       "\t<tr><th scope=row>3</th><td>Avg_seaLvlPressure_W5</td><td>Mean (SD)   </td><td>6.9 (0.0)          </td><td>6.9 (0.0)          </td><td>6.9 (0.0)          </td><td>      </td></tr>\n",
       "\t<tr><th scope=row>4</th><td>Avg_seaLvlPressure_W5</td><td>Median (IQR)</td><td>6.9 (6.9-6.9)      </td><td>6.9 (6.9-6.9)      </td><td>6.9 (6.9-6.9)      </td><td>0.411 </td></tr>\n",
       "\t<tr><th scope=row>5</th><td>ChWt_AVG_W1          </td><td>Mean (SD)   </td><td>5.6 (3.3)          </td><td>5.6 (3.3)          </td><td>5.6 (3.3)          </td><td>      </td></tr>\n",
       "\t<tr><th scope=row>6</th><td>ChWt_AVG_W1          </td><td>Median (IQR)</td><td>5.8 (4.0-7.1)      </td><td>5.8 (4.0-7.1)      </td><td>5.7 (4.0-7.1)      </td><td>0.775 </td></tr>\n",
       "\t<tr><th scope=row>7</th><td>ChWt_Min_W3          </td><td>Mean (SD)   </td><td>2.9 (3.2)          </td><td>2.9 (3.2)          </td><td>2.8 (3.1)          </td><td>      </td></tr>\n",
       "\t<tr><th scope=row>8</th><td>ChWt_Min_W3          </td><td>Median (IQR)</td><td>2.1 (0.0-5.2)      </td><td>2.2 (0.0-5.2)      </td><td>1.7 (0.0-5.1)      </td><td>0.036 </td></tr>\n",
       "\t<tr><th scope=row>9</th><td>ChWt_Min_W4          </td><td>Mean (SD)   </td><td>3.0 (3.3)          </td><td>3.0 (3.3)          </td><td>2.9 (3.2)          </td><td>      </td></tr>\n",
       "\t<tr><th scope=row>10</th><td>ChWt_Min_W4          </td><td>Median (IQR)</td><td>2.4 (0.0-5.3)      </td><td>2.5 (0.0-5.4)      </td><td>2.1 (0.0-5.2)      </td><td>0.248 </td></tr>\n",
       "\t<tr><th scope=row>11</th><td>ChWt_Min_W5          </td><td>Mean (SD)   </td><td>3.0 (3.2)          </td><td>3.0 (3.2)          </td><td>3.0 (3.2)          </td><td>      </td></tr>\n",
       "\t<tr><th scope=row>12</th><td>ChWt_Min_W5          </td><td>Median (IQR)</td><td>2.5 (0.0-5.2)      </td><td>2.5 (0.0-5.2)      </td><td>2.4 (0.0-5.2)      </td><td>0.888 </td></tr>\n",
       "\t<tr><th scope=row>13</th><td>ChWt_STD_W1          </td><td>Mean (SD)   </td><td>4.9 (3.1)          </td><td>4.9 (3.0)          </td><td>4.9 (3.1)          </td><td>      </td></tr>\n",
       "\t<tr><th scope=row>14</th><td>ChWt_STD_W1          </td><td>Median (IQR)</td><td>5.0 (3.4-6.1)      </td><td>5.0 (3.4-6.1)      </td><td>4.9 (3.4-6.0)      </td><td>0.823 </td></tr>\n",
       "\t<tr><th scope=row>15</th><td>El_Nxt_Mnth_Avg_OC   </td><td>Mean (SD)   </td><td>4.3 (1.3)          </td><td>4.3 (1.3)          </td><td>4.4 (1.3)          </td><td>      </td></tr>\n",
       "\t<tr><th scope=row>16</th><td>El_Nxt_Mnth_Avg_OC   </td><td>Median (IQR)</td><td>4.4 (3.4-5.2)      </td><td>4.4 (3.4-5.2)      </td><td>4.4 (3.4-5.2)      </td><td>0.373 </td></tr>\n",
       "\t<tr><th scope=row>17</th><td>Individuals          </td><td>n           </td><td>8217               </td><td>6573               </td><td>1644               </td><td>      </td></tr>\n",
       "\t<tr><th scope=row>18</th><td>lng                  </td><td>Mean (SD)   </td><td>-89.9 (12.9)       </td><td>-90.0 (13.0)       </td><td>-89.6 (12.7)       </td><td>      </td></tr>\n",
       "\t<tr><th scope=row>19</th><td>lng                  </td><td>Median (IQR)</td><td>-93.3 (-97.7--76.5)</td><td>-93.3 (-97.7--76.5)</td><td>-93.3 (-97.7--76.5)</td><td>0.3   </td></tr>\n",
       "\t<tr><th scope=row>20</th><td>Min_seaLvlPressure_W2</td><td>Mean (SD)   </td><td>6.9 (0.0)          </td><td>6.9 (0.0)          </td><td>6.9 (0.0)          </td><td>      </td></tr>\n",
       "\t<tr><th scope=row>21</th><td>Min_seaLvlPressure_W2</td><td>Median (IQR)</td><td>6.9 (6.9-6.9)      </td><td>6.9 (6.9-6.9)      </td><td>6.9 (6.9-6.9)      </td><td>0.351 </td></tr>\n",
       "\t<tr><th scope=row>22</th><td>Min_seaLvlPressure_W3</td><td>Mean (SD)   </td><td>6.9 (0.0)          </td><td>6.9 (0.0)          </td><td>6.9 (0.0)          </td><td>      </td></tr>\n",
       "\t<tr><th scope=row>23</th><td>Min_seaLvlPressure_W3</td><td>Median (IQR)</td><td>6.9 (6.9-6.9)      </td><td>6.9 (6.9-6.9)      </td><td>6.9 (6.9-6.9)      </td><td>0.437 </td></tr>\n",
       "\t<tr><th scope=row>24</th><td>Min_seaLvlPressure_W4</td><td>Mean (SD)   </td><td>6.9 (0.0)          </td><td>6.9 (0.0)          </td><td>6.9 (0.0)          </td><td>      </td></tr>\n",
       "\t<tr><th scope=row>25</th><td>Min_seaLvlPressure_W4</td><td>Median (IQR)</td><td>6.9 (6.9-6.9)      </td><td>6.9 (6.9-6.9)      </td><td>6.9 (6.9-6.9)      </td><td>0.426 </td></tr>\n",
       "\t<tr><th scope=row>26</th><td>Min_seaLvlPressure_W5</td><td>Mean (SD)   </td><td>6.9 (0.0)          </td><td>6.9 (0.0)          </td><td>6.9 (0.0)          </td><td>      </td></tr>\n",
       "\t<tr><th scope=row>27</th><td>Min_seaLvlPressure_W5</td><td>Median (IQR)</td><td>6.9 (6.9-6.9)      </td><td>6.9 (6.9-6.9)      </td><td>6.9 (6.9-6.9)      </td><td>0.943 </td></tr>\n",
       "\t<tr><th scope=row>28</th><td>Stm_AVG_W1.high      </td><td>Mean (SD)   </td><td>0.1 (0.3)          </td><td>0.1 (0.3)          </td><td>0.1 (0.3)          </td><td>      </td></tr>\n",
       "\t<tr><th scope=row>29</th><td>Stm_AVG_W1.high      </td><td>Median (IQR)</td><td>0.0 (0.0-0.0)      </td><td>0.0 (0.0-0.0)      </td><td>0.0 (0.0-0.0)      </td><td>0.244 </td></tr>\n",
       "\t<tr><th scope=row>30</th><td>Stm_AVG_W5.high      </td><td>Mean (SD)   </td><td>0.1 (0.3)          </td><td>0.1 (0.3)          </td><td>0.1 (0.3)          </td><td>      </td></tr>\n",
       "\t<tr><th scope=row>31</th><td>Stm_AVG_W5.high      </td><td>Median (IQR)</td><td>0.0 (0.0-0.0)      </td><td>0.0 (0.0-0.0)      </td><td>0.0 (0.0-0.0)      </td><td>0.319 </td></tr>\n",
       "\t<tr><th scope=row>32</th><td>Stm_Max_W4.high      </td><td>Mean (SD)   </td><td>0.1 (0.3)          </td><td>0.1 (0.3)          </td><td>0.1 (0.3)          </td><td>      </td></tr>\n",
       "\t<tr><th scope=row>33</th><td>Stm_Max_W4.high      </td><td>Median (IQR)</td><td>0.0 (0.0-0.0)      </td><td>0.0 (0.0-0.0)      </td><td>0.0 (0.0-0.0)      </td><td>0.058 </td></tr>\n",
       "\t<tr><th scope=row>34</th><td>Stm_Max_W5.high      </td><td>Mean (SD)   </td><td>0.1 (0.3)          </td><td>0.1 (0.3)          </td><td>0.1 (0.3)          </td><td>      </td></tr>\n",
       "\t<tr><th scope=row>35</th><td>Stm_Max_W5.high      </td><td>Median (IQR)</td><td>0.0 (0.0-0.0)      </td><td>0.0 (0.0-0.0)      </td><td>0.0 (0.0-0.0)      </td><td>0.131 </td></tr>\n",
       "\t<tr><th scope=row>36</th><td>Stm_Min_W1.high      </td><td>Mean (SD)   </td><td>0.1 (0.3)          </td><td>0.1 (0.3)          </td><td>0.1 (0.3)          </td><td>      </td></tr>\n",
       "\t<tr><th scope=row>37</th><td>Stm_Min_W1.high      </td><td>Median (IQR)</td><td>0.0 (0.0-0.0)      </td><td>0.0 (0.0-0.0)      </td><td>0.0 (0.0-0.0)      </td><td>0.134 </td></tr>\n",
       "\t<tr><th scope=row>38</th><td>Stm_Min_W5.high      </td><td>Mean (SD)   </td><td>0.1 (0.3)          </td><td>0.1 (0.3)          </td><td>0.1 (0.3)          </td><td>      </td></tr>\n",
       "\t<tr><th scope=row>39</th><td>Stm_Min_W5.high      </td><td>Median (IQR)</td><td>0.0 (0.0-0.0)      </td><td>0.0 (0.0-0.0)      </td><td>0.0 (0.0-0.0)      </td><td>0.044 </td></tr>\n",
       "\t<tr><th scope=row>40</th><td>Stm_STD_W1.high      </td><td>Mean (SD)   </td><td>0.1 (0.3)          </td><td>0.1 (0.3)          </td><td>0.1 (0.3)          </td><td>      </td></tr>\n",
       "\t<tr><th scope=row>41</th><td>Stm_STD_W1.high      </td><td>Median (IQR)</td><td>0.0 (0.0-0.0)      </td><td>0.0 (0.0-0.0)      </td><td>0.0 (0.0-0.0)      </td><td>0.109 </td></tr>\n",
       "\t<tr><th scope=row>42</th><td>Stm_STD_W5.high      </td><td>Mean (SD)   </td><td>0.1 (0.3)          </td><td>0.1 (0.3)          </td><td>0.1 (0.3)          </td><td>      </td></tr>\n",
       "\t<tr><th scope=row>43</th><td>Stm_STD_W5.high      </td><td>Median (IQR)</td><td>0.0 (0.0-0.0)      </td><td>0.0 (0.0-0.0)      </td><td>0.0 (0.0-0.0)      </td><td>0.032 </td></tr>\n",
       "\t<tr><th scope=row>44</th><td>traintest_ind_       </td><td>Mean (SD)   </td><td>1.2 (0.4)          </td><td>NA                 </td><td>NA                 </td><td>      </td></tr>\n",
       "\t<tr><th scope=row>45</th><td><span style=white-space:pre-wrap>traintest_ind_       </span></td><td>Median (IQR)</td><td><span style=white-space:pre-wrap>1.0 (1.0-1.0)      </span></td><td><span style=white-space:pre-wrap>NA                 </span></td><td><span style=white-space:pre-wrap>NA                 </span></td><td>&lt;0.001</td></tr>\n",
       "</tbody>\n",
       "</table>\n"
      ],
      "text/latex": [
       "A data.frame: 45 × 6\n",
       "\\begin{tabular}{r|llllll}\n",
       "  & Variables &  & Population & 1 & 2 & pval\\\\\n",
       "  & <chr> & <chr> & <chr> & <chr> & <chr> & <chr>\\\\\n",
       "\\hline\n",
       "\t1 & Avg\\_seaLvlPressure\\_W4 & Mean (SD)    & 6.9 (0.0)           & 6.9 (0.0)           & 6.9 (0.0)           &       \\\\\n",
       "\t2 & Avg\\_seaLvlPressure\\_W4 & Median (IQR) & 6.9 (6.9-6.9)       & 6.9 (6.9-6.9)       & 6.9 (6.9-6.9)       & 0.304 \\\\\n",
       "\t3 & Avg\\_seaLvlPressure\\_W5 & Mean (SD)    & 6.9 (0.0)           & 6.9 (0.0)           & 6.9 (0.0)           &       \\\\\n",
       "\t4 & Avg\\_seaLvlPressure\\_W5 & Median (IQR) & 6.9 (6.9-6.9)       & 6.9 (6.9-6.9)       & 6.9 (6.9-6.9)       & 0.411 \\\\\n",
       "\t5 & ChWt\\_AVG\\_W1           & Mean (SD)    & 5.6 (3.3)           & 5.6 (3.3)           & 5.6 (3.3)           &       \\\\\n",
       "\t6 & ChWt\\_AVG\\_W1           & Median (IQR) & 5.8 (4.0-7.1)       & 5.8 (4.0-7.1)       & 5.7 (4.0-7.1)       & 0.775 \\\\\n",
       "\t7 & ChWt\\_Min\\_W3           & Mean (SD)    & 2.9 (3.2)           & 2.9 (3.2)           & 2.8 (3.1)           &       \\\\\n",
       "\t8 & ChWt\\_Min\\_W3           & Median (IQR) & 2.1 (0.0-5.2)       & 2.2 (0.0-5.2)       & 1.7 (0.0-5.1)       & 0.036 \\\\\n",
       "\t9 & ChWt\\_Min\\_W4           & Mean (SD)    & 3.0 (3.3)           & 3.0 (3.3)           & 2.9 (3.2)           &       \\\\\n",
       "\t10 & ChWt\\_Min\\_W4           & Median (IQR) & 2.4 (0.0-5.3)       & 2.5 (0.0-5.4)       & 2.1 (0.0-5.2)       & 0.248 \\\\\n",
       "\t11 & ChWt\\_Min\\_W5           & Mean (SD)    & 3.0 (3.2)           & 3.0 (3.2)           & 3.0 (3.2)           &       \\\\\n",
       "\t12 & ChWt\\_Min\\_W5           & Median (IQR) & 2.5 (0.0-5.2)       & 2.5 (0.0-5.2)       & 2.4 (0.0-5.2)       & 0.888 \\\\\n",
       "\t13 & ChWt\\_STD\\_W1           & Mean (SD)    & 4.9 (3.1)           & 4.9 (3.0)           & 4.9 (3.1)           &       \\\\\n",
       "\t14 & ChWt\\_STD\\_W1           & Median (IQR) & 5.0 (3.4-6.1)       & 5.0 (3.4-6.1)       & 4.9 (3.4-6.0)       & 0.823 \\\\\n",
       "\t15 & El\\_Nxt\\_Mnth\\_Avg\\_OC    & Mean (SD)    & 4.3 (1.3)           & 4.3 (1.3)           & 4.4 (1.3)           &       \\\\\n",
       "\t16 & El\\_Nxt\\_Mnth\\_Avg\\_OC    & Median (IQR) & 4.4 (3.4-5.2)       & 4.4 (3.4-5.2)       & 4.4 (3.4-5.2)       & 0.373 \\\\\n",
       "\t17 & Individuals           & n            & 8217                & 6573                & 1644                &       \\\\\n",
       "\t18 & lng                   & Mean (SD)    & -89.9 (12.9)        & -90.0 (13.0)        & -89.6 (12.7)        &       \\\\\n",
       "\t19 & lng                   & Median (IQR) & -93.3 (-97.7--76.5) & -93.3 (-97.7--76.5) & -93.3 (-97.7--76.5) & 0.3   \\\\\n",
       "\t20 & Min\\_seaLvlPressure\\_W2 & Mean (SD)    & 6.9 (0.0)           & 6.9 (0.0)           & 6.9 (0.0)           &       \\\\\n",
       "\t21 & Min\\_seaLvlPressure\\_W2 & Median (IQR) & 6.9 (6.9-6.9)       & 6.9 (6.9-6.9)       & 6.9 (6.9-6.9)       & 0.351 \\\\\n",
       "\t22 & Min\\_seaLvlPressure\\_W3 & Mean (SD)    & 6.9 (0.0)           & 6.9 (0.0)           & 6.9 (0.0)           &       \\\\\n",
       "\t23 & Min\\_seaLvlPressure\\_W3 & Median (IQR) & 6.9 (6.9-6.9)       & 6.9 (6.9-6.9)       & 6.9 (6.9-6.9)       & 0.437 \\\\\n",
       "\t24 & Min\\_seaLvlPressure\\_W4 & Mean (SD)    & 6.9 (0.0)           & 6.9 (0.0)           & 6.9 (0.0)           &       \\\\\n",
       "\t25 & Min\\_seaLvlPressure\\_W4 & Median (IQR) & 6.9 (6.9-6.9)       & 6.9 (6.9-6.9)       & 6.9 (6.9-6.9)       & 0.426 \\\\\n",
       "\t26 & Min\\_seaLvlPressure\\_W5 & Mean (SD)    & 6.9 (0.0)           & 6.9 (0.0)           & 6.9 (0.0)           &       \\\\\n",
       "\t27 & Min\\_seaLvlPressure\\_W5 & Median (IQR) & 6.9 (6.9-6.9)       & 6.9 (6.9-6.9)       & 6.9 (6.9-6.9)       & 0.943 \\\\\n",
       "\t28 & Stm\\_AVG\\_W1.high       & Mean (SD)    & 0.1 (0.3)           & 0.1 (0.3)           & 0.1 (0.3)           &       \\\\\n",
       "\t29 & Stm\\_AVG\\_W1.high       & Median (IQR) & 0.0 (0.0-0.0)       & 0.0 (0.0-0.0)       & 0.0 (0.0-0.0)       & 0.244 \\\\\n",
       "\t30 & Stm\\_AVG\\_W5.high       & Mean (SD)    & 0.1 (0.3)           & 0.1 (0.3)           & 0.1 (0.3)           &       \\\\\n",
       "\t31 & Stm\\_AVG\\_W5.high       & Median (IQR) & 0.0 (0.0-0.0)       & 0.0 (0.0-0.0)       & 0.0 (0.0-0.0)       & 0.319 \\\\\n",
       "\t32 & Stm\\_Max\\_W4.high       & Mean (SD)    & 0.1 (0.3)           & 0.1 (0.3)           & 0.1 (0.3)           &       \\\\\n",
       "\t33 & Stm\\_Max\\_W4.high       & Median (IQR) & 0.0 (0.0-0.0)       & 0.0 (0.0-0.0)       & 0.0 (0.0-0.0)       & 0.058 \\\\\n",
       "\t34 & Stm\\_Max\\_W5.high       & Mean (SD)    & 0.1 (0.3)           & 0.1 (0.3)           & 0.1 (0.3)           &       \\\\\n",
       "\t35 & Stm\\_Max\\_W5.high       & Median (IQR) & 0.0 (0.0-0.0)       & 0.0 (0.0-0.0)       & 0.0 (0.0-0.0)       & 0.131 \\\\\n",
       "\t36 & Stm\\_Min\\_W1.high       & Mean (SD)    & 0.1 (0.3)           & 0.1 (0.3)           & 0.1 (0.3)           &       \\\\\n",
       "\t37 & Stm\\_Min\\_W1.high       & Median (IQR) & 0.0 (0.0-0.0)       & 0.0 (0.0-0.0)       & 0.0 (0.0-0.0)       & 0.134 \\\\\n",
       "\t38 & Stm\\_Min\\_W5.high       & Mean (SD)    & 0.1 (0.3)           & 0.1 (0.3)           & 0.1 (0.3)           &       \\\\\n",
       "\t39 & Stm\\_Min\\_W5.high       & Median (IQR) & 0.0 (0.0-0.0)       & 0.0 (0.0-0.0)       & 0.0 (0.0-0.0)       & 0.044 \\\\\n",
       "\t40 & Stm\\_STD\\_W1.high       & Mean (SD)    & 0.1 (0.3)           & 0.1 (0.3)           & 0.1 (0.3)           &       \\\\\n",
       "\t41 & Stm\\_STD\\_W1.high       & Median (IQR) & 0.0 (0.0-0.0)       & 0.0 (0.0-0.0)       & 0.0 (0.0-0.0)       & 0.109 \\\\\n",
       "\t42 & Stm\\_STD\\_W5.high       & Mean (SD)    & 0.1 (0.3)           & 0.1 (0.3)           & 0.1 (0.3)           &       \\\\\n",
       "\t43 & Stm\\_STD\\_W5.high       & Median (IQR) & 0.0 (0.0-0.0)       & 0.0 (0.0-0.0)       & 0.0 (0.0-0.0)       & 0.032 \\\\\n",
       "\t44 & traintest\\_ind\\_        & Mean (SD)    & 1.2 (0.4)           & NA                  & NA                  &       \\\\\n",
       "\t45 & traintest\\_ind\\_        & Median (IQR) & 1.0 (1.0-1.0)       & NA                  & NA                  & <0.001\\\\\n",
       "\\end{tabular}\n"
      ],
      "text/markdown": [
       "\n",
       "A data.frame: 45 × 6\n",
       "\n",
       "| <!--/--> | Variables &lt;chr&gt; | <!----> &lt;chr&gt; | Population &lt;chr&gt; | 1 &lt;chr&gt; | 2 &lt;chr&gt; | pval &lt;chr&gt; |\n",
       "|---|---|---|---|---|---|---|\n",
       "| 1 | Avg_seaLvlPressure_W4 | Mean (SD)    | 6.9 (0.0)           | 6.9 (0.0)           | 6.9 (0.0)           | <!----> |\n",
       "| 2 | Avg_seaLvlPressure_W4 | Median (IQR) | 6.9 (6.9-6.9)       | 6.9 (6.9-6.9)       | 6.9 (6.9-6.9)       | 0.304  |\n",
       "| 3 | Avg_seaLvlPressure_W5 | Mean (SD)    | 6.9 (0.0)           | 6.9 (0.0)           | 6.9 (0.0)           | <!----> |\n",
       "| 4 | Avg_seaLvlPressure_W5 | Median (IQR) | 6.9 (6.9-6.9)       | 6.9 (6.9-6.9)       | 6.9 (6.9-6.9)       | 0.411  |\n",
       "| 5 | ChWt_AVG_W1           | Mean (SD)    | 5.6 (3.3)           | 5.6 (3.3)           | 5.6 (3.3)           | <!----> |\n",
       "| 6 | ChWt_AVG_W1           | Median (IQR) | 5.8 (4.0-7.1)       | 5.8 (4.0-7.1)       | 5.7 (4.0-7.1)       | 0.775  |\n",
       "| 7 | ChWt_Min_W3           | Mean (SD)    | 2.9 (3.2)           | 2.9 (3.2)           | 2.8 (3.1)           | <!----> |\n",
       "| 8 | ChWt_Min_W3           | Median (IQR) | 2.1 (0.0-5.2)       | 2.2 (0.0-5.2)       | 1.7 (0.0-5.1)       | 0.036  |\n",
       "| 9 | ChWt_Min_W4           | Mean (SD)    | 3.0 (3.3)           | 3.0 (3.3)           | 2.9 (3.2)           | <!----> |\n",
       "| 10 | ChWt_Min_W4           | Median (IQR) | 2.4 (0.0-5.3)       | 2.5 (0.0-5.4)       | 2.1 (0.0-5.2)       | 0.248  |\n",
       "| 11 | ChWt_Min_W5           | Mean (SD)    | 3.0 (3.2)           | 3.0 (3.2)           | 3.0 (3.2)           | <!----> |\n",
       "| 12 | ChWt_Min_W5           | Median (IQR) | 2.5 (0.0-5.2)       | 2.5 (0.0-5.2)       | 2.4 (0.0-5.2)       | 0.888  |\n",
       "| 13 | ChWt_STD_W1           | Mean (SD)    | 4.9 (3.1)           | 4.9 (3.0)           | 4.9 (3.1)           | <!----> |\n",
       "| 14 | ChWt_STD_W1           | Median (IQR) | 5.0 (3.4-6.1)       | 5.0 (3.4-6.1)       | 4.9 (3.4-6.0)       | 0.823  |\n",
       "| 15 | El_Nxt_Mnth_Avg_OC    | Mean (SD)    | 4.3 (1.3)           | 4.3 (1.3)           | 4.4 (1.3)           | <!----> |\n",
       "| 16 | El_Nxt_Mnth_Avg_OC    | Median (IQR) | 4.4 (3.4-5.2)       | 4.4 (3.4-5.2)       | 4.4 (3.4-5.2)       | 0.373  |\n",
       "| 17 | Individuals           | n            | 8217                | 6573                | 1644                | <!----> |\n",
       "| 18 | lng                   | Mean (SD)    | -89.9 (12.9)        | -90.0 (13.0)        | -89.6 (12.7)        | <!----> |\n",
       "| 19 | lng                   | Median (IQR) | -93.3 (-97.7--76.5) | -93.3 (-97.7--76.5) | -93.3 (-97.7--76.5) | 0.3    |\n",
       "| 20 | Min_seaLvlPressure_W2 | Mean (SD)    | 6.9 (0.0)           | 6.9 (0.0)           | 6.9 (0.0)           | <!----> |\n",
       "| 21 | Min_seaLvlPressure_W2 | Median (IQR) | 6.9 (6.9-6.9)       | 6.9 (6.9-6.9)       | 6.9 (6.9-6.9)       | 0.351  |\n",
       "| 22 | Min_seaLvlPressure_W3 | Mean (SD)    | 6.9 (0.0)           | 6.9 (0.0)           | 6.9 (0.0)           | <!----> |\n",
       "| 23 | Min_seaLvlPressure_W3 | Median (IQR) | 6.9 (6.9-6.9)       | 6.9 (6.9-6.9)       | 6.9 (6.9-6.9)       | 0.437  |\n",
       "| 24 | Min_seaLvlPressure_W4 | Mean (SD)    | 6.9 (0.0)           | 6.9 (0.0)           | 6.9 (0.0)           | <!----> |\n",
       "| 25 | Min_seaLvlPressure_W4 | Median (IQR) | 6.9 (6.9-6.9)       | 6.9 (6.9-6.9)       | 6.9 (6.9-6.9)       | 0.426  |\n",
       "| 26 | Min_seaLvlPressure_W5 | Mean (SD)    | 6.9 (0.0)           | 6.9 (0.0)           | 6.9 (0.0)           | <!----> |\n",
       "| 27 | Min_seaLvlPressure_W5 | Median (IQR) | 6.9 (6.9-6.9)       | 6.9 (6.9-6.9)       | 6.9 (6.9-6.9)       | 0.943  |\n",
       "| 28 | Stm_AVG_W1.high       | Mean (SD)    | 0.1 (0.3)           | 0.1 (0.3)           | 0.1 (0.3)           | <!----> |\n",
       "| 29 | Stm_AVG_W1.high       | Median (IQR) | 0.0 (0.0-0.0)       | 0.0 (0.0-0.0)       | 0.0 (0.0-0.0)       | 0.244  |\n",
       "| 30 | Stm_AVG_W5.high       | Mean (SD)    | 0.1 (0.3)           | 0.1 (0.3)           | 0.1 (0.3)           | <!----> |\n",
       "| 31 | Stm_AVG_W5.high       | Median (IQR) | 0.0 (0.0-0.0)       | 0.0 (0.0-0.0)       | 0.0 (0.0-0.0)       | 0.319  |\n",
       "| 32 | Stm_Max_W4.high       | Mean (SD)    | 0.1 (0.3)           | 0.1 (0.3)           | 0.1 (0.3)           | <!----> |\n",
       "| 33 | Stm_Max_W4.high       | Median (IQR) | 0.0 (0.0-0.0)       | 0.0 (0.0-0.0)       | 0.0 (0.0-0.0)       | 0.058  |\n",
       "| 34 | Stm_Max_W5.high       | Mean (SD)    | 0.1 (0.3)           | 0.1 (0.3)           | 0.1 (0.3)           | <!----> |\n",
       "| 35 | Stm_Max_W5.high       | Median (IQR) | 0.0 (0.0-0.0)       | 0.0 (0.0-0.0)       | 0.0 (0.0-0.0)       | 0.131  |\n",
       "| 36 | Stm_Min_W1.high       | Mean (SD)    | 0.1 (0.3)           | 0.1 (0.3)           | 0.1 (0.3)           | <!----> |\n",
       "| 37 | Stm_Min_W1.high       | Median (IQR) | 0.0 (0.0-0.0)       | 0.0 (0.0-0.0)       | 0.0 (0.0-0.0)       | 0.134  |\n",
       "| 38 | Stm_Min_W5.high       | Mean (SD)    | 0.1 (0.3)           | 0.1 (0.3)           | 0.1 (0.3)           | <!----> |\n",
       "| 39 | Stm_Min_W5.high       | Median (IQR) | 0.0 (0.0-0.0)       | 0.0 (0.0-0.0)       | 0.0 (0.0-0.0)       | 0.044  |\n",
       "| 40 | Stm_STD_W1.high       | Mean (SD)    | 0.1 (0.3)           | 0.1 (0.3)           | 0.1 (0.3)           | <!----> |\n",
       "| 41 | Stm_STD_W1.high       | Median (IQR) | 0.0 (0.0-0.0)       | 0.0 (0.0-0.0)       | 0.0 (0.0-0.0)       | 0.109  |\n",
       "| 42 | Stm_STD_W5.high       | Mean (SD)    | 0.1 (0.3)           | 0.1 (0.3)           | 0.1 (0.3)           | <!----> |\n",
       "| 43 | Stm_STD_W5.high       | Median (IQR) | 0.0 (0.0-0.0)       | 0.0 (0.0-0.0)       | 0.0 (0.0-0.0)       | 0.032  |\n",
       "| 44 | traintest_ind_        | Mean (SD)    | 1.2 (0.4)           | NA                  | NA                  | <!----> |\n",
       "| 45 | traintest_ind_        | Median (IQR) | 1.0 (1.0-1.0)       | NA                  | NA                  | &lt;0.001 |\n",
       "\n"
      ],
      "text/plain": [
       "   Variables                          Population          1                  \n",
       "1  Avg_seaLvlPressure_W4 Mean (SD)    6.9 (0.0)           6.9 (0.0)          \n",
       "2  Avg_seaLvlPressure_W4 Median (IQR) 6.9 (6.9-6.9)       6.9 (6.9-6.9)      \n",
       "3  Avg_seaLvlPressure_W5 Mean (SD)    6.9 (0.0)           6.9 (0.0)          \n",
       "4  Avg_seaLvlPressure_W5 Median (IQR) 6.9 (6.9-6.9)       6.9 (6.9-6.9)      \n",
       "5  ChWt_AVG_W1           Mean (SD)    5.6 (3.3)           5.6 (3.3)          \n",
       "6  ChWt_AVG_W1           Median (IQR) 5.8 (4.0-7.1)       5.8 (4.0-7.1)      \n",
       "7  ChWt_Min_W3           Mean (SD)    2.9 (3.2)           2.9 (3.2)          \n",
       "8  ChWt_Min_W3           Median (IQR) 2.1 (0.0-5.2)       2.2 (0.0-5.2)      \n",
       "9  ChWt_Min_W4           Mean (SD)    3.0 (3.3)           3.0 (3.3)          \n",
       "10 ChWt_Min_W4           Median (IQR) 2.4 (0.0-5.3)       2.5 (0.0-5.4)      \n",
       "11 ChWt_Min_W5           Mean (SD)    3.0 (3.2)           3.0 (3.2)          \n",
       "12 ChWt_Min_W5           Median (IQR) 2.5 (0.0-5.2)       2.5 (0.0-5.2)      \n",
       "13 ChWt_STD_W1           Mean (SD)    4.9 (3.1)           4.9 (3.0)          \n",
       "14 ChWt_STD_W1           Median (IQR) 5.0 (3.4-6.1)       5.0 (3.4-6.1)      \n",
       "15 El_Nxt_Mnth_Avg_OC    Mean (SD)    4.3 (1.3)           4.3 (1.3)          \n",
       "16 El_Nxt_Mnth_Avg_OC    Median (IQR) 4.4 (3.4-5.2)       4.4 (3.4-5.2)      \n",
       "17 Individuals           n            8217                6573               \n",
       "18 lng                   Mean (SD)    -89.9 (12.9)        -90.0 (13.0)       \n",
       "19 lng                   Median (IQR) -93.3 (-97.7--76.5) -93.3 (-97.7--76.5)\n",
       "20 Min_seaLvlPressure_W2 Mean (SD)    6.9 (0.0)           6.9 (0.0)          \n",
       "21 Min_seaLvlPressure_W2 Median (IQR) 6.9 (6.9-6.9)       6.9 (6.9-6.9)      \n",
       "22 Min_seaLvlPressure_W3 Mean (SD)    6.9 (0.0)           6.9 (0.0)          \n",
       "23 Min_seaLvlPressure_W3 Median (IQR) 6.9 (6.9-6.9)       6.9 (6.9-6.9)      \n",
       "24 Min_seaLvlPressure_W4 Mean (SD)    6.9 (0.0)           6.9 (0.0)          \n",
       "25 Min_seaLvlPressure_W4 Median (IQR) 6.9 (6.9-6.9)       6.9 (6.9-6.9)      \n",
       "26 Min_seaLvlPressure_W5 Mean (SD)    6.9 (0.0)           6.9 (0.0)          \n",
       "27 Min_seaLvlPressure_W5 Median (IQR) 6.9 (6.9-6.9)       6.9 (6.9-6.9)      \n",
       "28 Stm_AVG_W1.high       Mean (SD)    0.1 (0.3)           0.1 (0.3)          \n",
       "29 Stm_AVG_W1.high       Median (IQR) 0.0 (0.0-0.0)       0.0 (0.0-0.0)      \n",
       "30 Stm_AVG_W5.high       Mean (SD)    0.1 (0.3)           0.1 (0.3)          \n",
       "31 Stm_AVG_W5.high       Median (IQR) 0.0 (0.0-0.0)       0.0 (0.0-0.0)      \n",
       "32 Stm_Max_W4.high       Mean (SD)    0.1 (0.3)           0.1 (0.3)          \n",
       "33 Stm_Max_W4.high       Median (IQR) 0.0 (0.0-0.0)       0.0 (0.0-0.0)      \n",
       "34 Stm_Max_W5.high       Mean (SD)    0.1 (0.3)           0.1 (0.3)          \n",
       "35 Stm_Max_W5.high       Median (IQR) 0.0 (0.0-0.0)       0.0 (0.0-0.0)      \n",
       "36 Stm_Min_W1.high       Mean (SD)    0.1 (0.3)           0.1 (0.3)          \n",
       "37 Stm_Min_W1.high       Median (IQR) 0.0 (0.0-0.0)       0.0 (0.0-0.0)      \n",
       "38 Stm_Min_W5.high       Mean (SD)    0.1 (0.3)           0.1 (0.3)          \n",
       "39 Stm_Min_W5.high       Median (IQR) 0.0 (0.0-0.0)       0.0 (0.0-0.0)      \n",
       "40 Stm_STD_W1.high       Mean (SD)    0.1 (0.3)           0.1 (0.3)          \n",
       "41 Stm_STD_W1.high       Median (IQR) 0.0 (0.0-0.0)       0.0 (0.0-0.0)      \n",
       "42 Stm_STD_W5.high       Mean (SD)    0.1 (0.3)           0.1 (0.3)          \n",
       "43 Stm_STD_W5.high       Median (IQR) 0.0 (0.0-0.0)       0.0 (0.0-0.0)      \n",
       "44 traintest_ind_        Mean (SD)    1.2 (0.4)           NA                 \n",
       "45 traintest_ind_        Median (IQR) 1.0 (1.0-1.0)       NA                 \n",
       "   2                   pval  \n",
       "1  6.9 (0.0)                 \n",
       "2  6.9 (6.9-6.9)       0.304 \n",
       "3  6.9 (0.0)                 \n",
       "4  6.9 (6.9-6.9)       0.411 \n",
       "5  5.6 (3.3)                 \n",
       "6  5.7 (4.0-7.1)       0.775 \n",
       "7  2.8 (3.1)                 \n",
       "8  1.7 (0.0-5.1)       0.036 \n",
       "9  2.9 (3.2)                 \n",
       "10 2.1 (0.0-5.2)       0.248 \n",
       "11 3.0 (3.2)                 \n",
       "12 2.4 (0.0-5.2)       0.888 \n",
       "13 4.9 (3.1)                 \n",
       "14 4.9 (3.4-6.0)       0.823 \n",
       "15 4.4 (1.3)                 \n",
       "16 4.4 (3.4-5.2)       0.373 \n",
       "17 1644                      \n",
       "18 -89.6 (12.7)              \n",
       "19 -93.3 (-97.7--76.5) 0.3   \n",
       "20 6.9 (0.0)                 \n",
       "21 6.9 (6.9-6.9)       0.351 \n",
       "22 6.9 (0.0)                 \n",
       "23 6.9 (6.9-6.9)       0.437 \n",
       "24 6.9 (0.0)                 \n",
       "25 6.9 (6.9-6.9)       0.426 \n",
       "26 6.9 (0.0)                 \n",
       "27 6.9 (6.9-6.9)       0.943 \n",
       "28 0.1 (0.3)                 \n",
       "29 0.0 (0.0-0.0)       0.244 \n",
       "30 0.1 (0.3)                 \n",
       "31 0.0 (0.0-0.0)       0.319 \n",
       "32 0.1 (0.3)                 \n",
       "33 0.0 (0.0-0.0)       0.058 \n",
       "34 0.1 (0.3)                 \n",
       "35 0.0 (0.0-0.0)       0.131 \n",
       "36 0.1 (0.3)                 \n",
       "37 0.0 (0.0-0.0)       0.134 \n",
       "38 0.1 (0.3)                 \n",
       "39 0.0 (0.0-0.0)       0.044 \n",
       "40 0.1 (0.3)                 \n",
       "41 0.0 (0.0-0.0)       0.109 \n",
       "42 0.1 (0.3)                 \n",
       "43 0.0 (0.0-0.0)       0.032 \n",
       "44 NA                        \n",
       "45 NA                  <0.001"
      ]
     },
     "metadata": {},
     "output_type": "display_data"
    }
   ],
   "source": [
    "tab2"
   ]
  },
  {
   "cell_type": "code",
   "execution_count": 22,
   "metadata": {
    "scrolled": true
   },
   "outputs": [
    {
     "data": {
      "text/html": [
       "<table class=\"dataframe\">\n",
       "<caption>A Time Series: 35 × 6</caption>\n",
       "<tbody>\n",
       "\t<tr><th scope=row> 1</th><td> NA</td><td>NA</td><td> NA</td><td> NA</td><td> NA</td><td> NA</td></tr>\n",
       "\t<tr><th scope=row> 2</th><td> NA</td><td>NA</td><td> NA</td><td> NA</td><td> NA</td><td> NA</td></tr>\n",
       "\t<tr><th scope=row> 3</th><td> NA</td><td>NA</td><td> NA</td><td> NA</td><td> NA</td><td> NA</td></tr>\n",
       "\t<tr><th scope=row> 4</th><td> NA</td><td>NA</td><td> NA</td><td> NA</td><td> NA</td><td> NA</td></tr>\n",
       "\t<tr><th scope=row> 5</th><td> NA</td><td>NA</td><td> NA</td><td> NA</td><td> NA</td><td> NA</td></tr>\n",
       "\t<tr><th scope=row> 6</th><td> NA</td><td>NA</td><td> NA</td><td> NA</td><td> NA</td><td> NA</td></tr>\n",
       "\t<tr><th scope=row> 7</th><td> NA</td><td>NA</td><td> NA</td><td> NA</td><td> NA</td><td> NA</td></tr>\n",
       "\t<tr><th scope=row> 8</th><td> NA</td><td>NA</td><td> NA</td><td> NA</td><td> NA</td><td> NA</td></tr>\n",
       "\t<tr><th scope=row> 9</th><td> NA</td><td>NA</td><td> NA</td><td> NA</td><td> NA</td><td> NA</td></tr>\n",
       "\t<tr><th scope=row>10</th><td> NA</td><td>NA</td><td> NA</td><td> NA</td><td> NA</td><td> NA</td></tr>\n",
       "\t<tr><th scope=row>11</th><td> NA</td><td>NA</td><td> NA</td><td> NA</td><td> NA</td><td> NA</td></tr>\n",
       "\t<tr><th scope=row>12</th><td> NA</td><td>NA</td><td> NA</td><td> NA</td><td> NA</td><td> NA</td></tr>\n",
       "\t<tr><th scope=row>13</th><td> NA</td><td>NA</td><td> NA</td><td> NA</td><td> NA</td><td> NA</td></tr>\n",
       "\t<tr><th scope=row>14</th><td> NA</td><td>NA</td><td> NA</td><td> NA</td><td> NA</td><td> NA</td></tr>\n",
       "\t<tr><th scope=row>15</th><td> NA</td><td>NA</td><td> NA</td><td> NA</td><td> NA</td><td> NA</td></tr>\n",
       "\t<tr><th scope=row>16</th><td> NA</td><td>NA</td><td> NA</td><td> NA</td><td> NA</td><td> NA</td></tr>\n",
       "\t<tr><th scope=row>17</th><td> NA</td><td>NA</td><td> NA</td><td> NA</td><td> NA</td><td> NA</td></tr>\n",
       "\t<tr><th scope=row>18</th><td>172</td><td>33</td><td>181</td><td>202</td><td>195</td><td>162</td></tr>\n",
       "\t<tr><th scope=row>19</th><td> NA</td><td>NA</td><td> NA</td><td> NA</td><td> NA</td><td> NA</td></tr>\n",
       "\t<tr><th scope=row>20</th><td> NA</td><td>NA</td><td> NA</td><td> NA</td><td> NA</td><td> NA</td></tr>\n",
       "\t<tr><th scope=row>21</th><td> NA</td><td>NA</td><td> NA</td><td> NA</td><td> NA</td><td> NA</td></tr>\n",
       "\t<tr><th scope=row>22</th><td> NA</td><td>NA</td><td> NA</td><td> NA</td><td> NA</td><td> NA</td></tr>\n",
       "\t<tr><th scope=row>23</th><td> NA</td><td>NA</td><td> NA</td><td> NA</td><td> NA</td><td> NA</td></tr>\n",
       "\t<tr><th scope=row>24</th><td> NA</td><td>NA</td><td> NA</td><td> NA</td><td> NA</td><td> NA</td></tr>\n",
       "\t<tr><th scope=row>25</th><td> NA</td><td>NA</td><td> NA</td><td> NA</td><td> NA</td><td> NA</td></tr>\n",
       "\t<tr><th scope=row>26</th><td> NA</td><td>NA</td><td> NA</td><td> NA</td><td> NA</td><td> NA</td></tr>\n",
       "\t<tr><th scope=row>27</th><td> NA</td><td>NA</td><td> NA</td><td> NA</td><td> NA</td><td> NA</td></tr>\n",
       "\t<tr><th scope=row>28</th><td> NA</td><td>NA</td><td> NA</td><td> NA</td><td> NA</td><td> NA</td></tr>\n",
       "\t<tr><th scope=row>29</th><td> NA</td><td>NA</td><td> NA</td><td> NA</td><td> NA</td><td> NA</td></tr>\n",
       "\t<tr><th scope=row>30</th><td> NA</td><td>NA</td><td> NA</td><td> NA</td><td> NA</td><td> NA</td></tr>\n",
       "\t<tr><th scope=row>31</th><td> NA</td><td>NA</td><td> NA</td><td> NA</td><td> NA</td><td> NA</td></tr>\n",
       "\t<tr><th scope=row>32</th><td> NA</td><td>NA</td><td> NA</td><td> NA</td><td> NA</td><td> NA</td></tr>\n",
       "\t<tr><th scope=row>33</th><td> NA</td><td>NA</td><td> NA</td><td> NA</td><td> NA</td><td> NA</td></tr>\n",
       "\t<tr><th scope=row>34</th><td> NA</td><td>NA</td><td> NA</td><td> NA</td><td> NA</td><td> NA</td></tr>\n",
       "\t<tr><th scope=row>35</th><td> NA</td><td>NA</td><td> NA</td><td> NA</td><td> NA</td><td> NA</td></tr>\n",
       "</tbody>\n",
       "</table>\n"
      ],
      "text/latex": [
       "A Time Series: 35 × 6\n",
       "\\begin{tabular}{r|llllll}\n",
       "\t 1 &  NA & NA &  NA &  NA &  NA &  NA\\\\\n",
       "\t 2 &  NA & NA &  NA &  NA &  NA &  NA\\\\\n",
       "\t 3 &  NA & NA &  NA &  NA &  NA &  NA\\\\\n",
       "\t 4 &  NA & NA &  NA &  NA &  NA &  NA\\\\\n",
       "\t 5 &  NA & NA &  NA &  NA &  NA &  NA\\\\\n",
       "\t 6 &  NA & NA &  NA &  NA &  NA &  NA\\\\\n",
       "\t 7 &  NA & NA &  NA &  NA &  NA &  NA\\\\\n",
       "\t 8 &  NA & NA &  NA &  NA &  NA &  NA\\\\\n",
       "\t 9 &  NA & NA &  NA &  NA &  NA &  NA\\\\\n",
       "\t10 &  NA & NA &  NA &  NA &  NA &  NA\\\\\n",
       "\t11 &  NA & NA &  NA &  NA &  NA &  NA\\\\\n",
       "\t12 &  NA & NA &  NA &  NA &  NA &  NA\\\\\n",
       "\t13 &  NA & NA &  NA &  NA &  NA &  NA\\\\\n",
       "\t14 &  NA & NA &  NA &  NA &  NA &  NA\\\\\n",
       "\t15 &  NA & NA &  NA &  NA &  NA &  NA\\\\\n",
       "\t16 &  NA & NA &  NA &  NA &  NA &  NA\\\\\n",
       "\t17 &  NA & NA &  NA &  NA &  NA &  NA\\\\\n",
       "\t18 & 172 & 33 & 181 & 202 & 195 & 162\\\\\n",
       "\t19 &  NA & NA &  NA &  NA &  NA &  NA\\\\\n",
       "\t20 &  NA & NA &  NA &  NA &  NA &  NA\\\\\n",
       "\t21 &  NA & NA &  NA &  NA &  NA &  NA\\\\\n",
       "\t22 &  NA & NA &  NA &  NA &  NA &  NA\\\\\n",
       "\t23 &  NA & NA &  NA &  NA &  NA &  NA\\\\\n",
       "\t24 &  NA & NA &  NA &  NA &  NA &  NA\\\\\n",
       "\t25 &  NA & NA &  NA &  NA &  NA &  NA\\\\\n",
       "\t26 &  NA & NA &  NA &  NA &  NA &  NA\\\\\n",
       "\t27 &  NA & NA &  NA &  NA &  NA &  NA\\\\\n",
       "\t28 &  NA & NA &  NA &  NA &  NA &  NA\\\\\n",
       "\t29 &  NA & NA &  NA &  NA &  NA &  NA\\\\\n",
       "\t30 &  NA & NA &  NA &  NA &  NA &  NA\\\\\n",
       "\t31 &  NA & NA &  NA &  NA &  NA &  NA\\\\\n",
       "\t32 &  NA & NA &  NA &  NA &  NA &  NA\\\\\n",
       "\t33 &  NA & NA &  NA &  NA &  NA &  NA\\\\\n",
       "\t34 &  NA & NA &  NA &  NA &  NA &  NA\\\\\n",
       "\t35 &  NA & NA &  NA &  NA &  NA &  NA\\\\\n",
       "\\end{tabular}\n"
      ],
      "text/markdown": [
       "\n",
       "A Time Series: 35 × 6\n",
       "\n",
       "|  1 |  NA | NA |  NA |  NA |  NA |  NA |\n",
       "|  2 |  NA | NA |  NA |  NA |  NA |  NA |\n",
       "|  3 |  NA | NA |  NA |  NA |  NA |  NA |\n",
       "|  4 |  NA | NA |  NA |  NA |  NA |  NA |\n",
       "|  5 |  NA | NA |  NA |  NA |  NA |  NA |\n",
       "|  6 |  NA | NA |  NA |  NA |  NA |  NA |\n",
       "|  7 |  NA | NA |  NA |  NA |  NA |  NA |\n",
       "|  8 |  NA | NA |  NA |  NA |  NA |  NA |\n",
       "|  9 |  NA | NA |  NA |  NA |  NA |  NA |\n",
       "| 10 |  NA | NA |  NA |  NA |  NA |  NA |\n",
       "| 11 |  NA | NA |  NA |  NA |  NA |  NA |\n",
       "| 12 |  NA | NA |  NA |  NA |  NA |  NA |\n",
       "| 13 |  NA | NA |  NA |  NA |  NA |  NA |\n",
       "| 14 |  NA | NA |  NA |  NA |  NA |  NA |\n",
       "| 15 |  NA | NA |  NA |  NA |  NA |  NA |\n",
       "| 16 |  NA | NA |  NA |  NA |  NA |  NA |\n",
       "| 17 |  NA | NA |  NA |  NA |  NA |  NA |\n",
       "| 18 | 172 | 33 | 181 | 202 | 195 | 162 |\n",
       "| 19 |  NA | NA |  NA |  NA |  NA |  NA |\n",
       "| 20 |  NA | NA |  NA |  NA |  NA |  NA |\n",
       "| 21 |  NA | NA |  NA |  NA |  NA |  NA |\n",
       "| 22 |  NA | NA |  NA |  NA |  NA |  NA |\n",
       "| 23 |  NA | NA |  NA |  NA |  NA |  NA |\n",
       "| 24 |  NA | NA |  NA |  NA |  NA |  NA |\n",
       "| 25 |  NA | NA |  NA |  NA |  NA |  NA |\n",
       "| 26 |  NA | NA |  NA |  NA |  NA |  NA |\n",
       "| 27 |  NA | NA |  NA |  NA |  NA |  NA |\n",
       "| 28 |  NA | NA |  NA |  NA |  NA |  NA |\n",
       "| 29 |  NA | NA |  NA |  NA |  NA |  NA |\n",
       "| 30 |  NA | NA |  NA |  NA |  NA |  NA |\n",
       "| 31 |  NA | NA |  NA |  NA |  NA |  NA |\n",
       "| 32 |  NA | NA |  NA |  NA |  NA |  NA |\n",
       "| 33 |  NA | NA |  NA |  NA |  NA |  NA |\n",
       "| 34 |  NA | NA |  NA |  NA |  NA |  NA |\n",
       "| 35 |  NA | NA |  NA |  NA |  NA |  NA |\n",
       "\n"
      ],
      "text/plain": [
       "   [,1] [,2] [,3] [,4] [,5] [,6]\n",
       " 1  NA  NA    NA   NA   NA   NA \n",
       " 2  NA  NA    NA   NA   NA   NA \n",
       " 3  NA  NA    NA   NA   NA   NA \n",
       " 4  NA  NA    NA   NA   NA   NA \n",
       " 5  NA  NA    NA   NA   NA   NA \n",
       " 6  NA  NA    NA   NA   NA   NA \n",
       " 7  NA  NA    NA   NA   NA   NA \n",
       " 8  NA  NA    NA   NA   NA   NA \n",
       " 9  NA  NA    NA   NA   NA   NA \n",
       "10  NA  NA    NA   NA   NA   NA \n",
       "11  NA  NA    NA   NA   NA   NA \n",
       "12  NA  NA    NA   NA   NA   NA \n",
       "13  NA  NA    NA   NA   NA   NA \n",
       "14  NA  NA    NA   NA   NA   NA \n",
       "15  NA  NA    NA   NA   NA   NA \n",
       "16  NA  NA    NA   NA   NA   NA \n",
       "17  NA  NA    NA   NA   NA   NA \n",
       "18 172  33   181  202  195  162 \n",
       "19  NA  NA    NA   NA   NA   NA \n",
       "20  NA  NA    NA   NA   NA   NA \n",
       "21  NA  NA    NA   NA   NA   NA \n",
       "22  NA  NA    NA   NA   NA   NA \n",
       "23  NA  NA    NA   NA   NA   NA \n",
       "24  NA  NA    NA   NA   NA   NA \n",
       "25  NA  NA    NA   NA   NA   NA \n",
       "26  NA  NA    NA   NA   NA   NA \n",
       "27  NA  NA    NA   NA   NA   NA \n",
       "28  NA  NA    NA   NA   NA   NA \n",
       "29  NA  NA    NA   NA   NA   NA \n",
       "30  NA  NA    NA   NA   NA   NA \n",
       "31  NA  NA    NA   NA   NA   NA \n",
       "32  NA  NA    NA   NA   NA   NA \n",
       "33  NA  NA    NA   NA   NA   NA \n",
       "34  NA  NA    NA   NA   NA   NA \n",
       "35  NA  NA    NA   NA   NA   NA "
      ]
     },
     "metadata": {},
     "output_type": "display_data"
    }
   ],
   "source": [
    "filter(tab2, tab2$pval < 0.05)"
   ]
  },
  {
   "cell_type": "code",
   "execution_count": 22,
   "metadata": {},
   "outputs": [],
   "source": [
    "### save memeory, remove the datasets that will not be used more...\n",
    "rm(temp,data)"
   ]
  },
  {
   "cell_type": "markdown",
   "metadata": {},
   "source": [
    "Checking the distribution of the outcome on the three subsets"
   ]
  },
  {
   "cell_type": "code",
   "execution_count": null,
   "metadata": {},
   "outputs": [],
   "source": []
  },
  {
   "cell_type": "code",
   "execution_count": 2,
   "metadata": {
    "scrolled": true
   },
   "outputs": [
    {
     "name": "stderr",
     "output_type": "stream",
     "text": [
      "Loading required package: ggplot2\n",
      "\n",
      "Warning message:\n",
      "\"package 'ggplot2' was built under R version 4.1.3\"\n",
      "Error: package or namespace load failed for 'ggplot2' in loadNamespace(i, c(lib.loc, .libPaths()), versionCheck = vI[[i]]):\n",
      " namespace 'rlang' 0.4.12 is already loaded, but >= 1.0.0 is required\n",
      "\n"
     ]
    }
   ],
   "source": [
    "#install.packages(\"ggplot2\",   repos = c(\"http://rstudio.org/_packages\",   \"http://cran.rstudio.com\"))\n",
    "#install.packages(\"rlang\")\n",
    "require(ggplot2)\n",
    "#packageVersion(\"rlang\")\n",
    "#library(ggplot2)\n",
    "#install.packages(\"https://cran.r-project.org/src/contrib/Archive/rlang/rlang_4.1.2.tar.gz\", repos = NULL, type=\"source\")\n",
    "\n",
    "#options(repr.plot.width = 10, repr.plot.height = 8)\n",
    "\n",
    "#ggplot() +\n",
    "#    geom_density(aes(x=train$El_Nxt_Mnth_Avg_OC),color=\"red\",alpha=0.3) +\n",
    "#    geom_density(aes(x=dev$El_Nxt_Mnth_Avg_OC),color=\"blue\",alpha=0.3) +\n",
    "#    geom_density(aes(x=test$El_Nxt_Mnth_Avg_OC),color=\"green\",alpha=0.3)\n",
    "#library(ggplot2)\n",
    "\n",
    "#ggplot(data=temp,aes(x=temp$El_Nxt_Mnth_Avg_OC)) +\n",
    "# geom_density()\n",
    "\n",
    "\n"
   ]
  },
  {
   "cell_type": "markdown",
   "metadata": {},
   "source": [
    "# Train-Dev"
   ]
  },
  {
   "cell_type": "code",
   "execution_count": 59,
   "metadata": {},
   "outputs": [],
   "source": [
    "library(ranger)\n",
    "\n",
    "mod1 <- ranger(El_Nxt_Mnth_Avg_OC ~., data=train)\n"
   ]
  },
  {
   "cell_type": "code",
   "execution_count": 60,
   "metadata": {},
   "outputs": [
    {
     "data": {
      "text/plain": [
       "Ranger result\n",
       "\n",
       "Call:\n",
       " ranger(El_Nxt_Mnth_Avg_OC ~ ., data = train) \n",
       "\n",
       "Type:                             Regression \n",
       "Number of trees:                  500 \n",
       "Sample size:                      6573 \n",
       "Number of independent variables:  20 \n",
       "Mtry:                             4 \n",
       "Target node size:                 5 \n",
       "Variable importance mode:         none \n",
       "Splitrule:                        variance \n",
       "OOB prediction error (MSE):       0.576031 \n",
       "R squared (OOB):                  0.6370459 "
      ]
     },
     "metadata": {},
     "output_type": "display_data"
    }
   ],
   "source": [
    "mod1"
   ]
  },
  {
   "cell_type": "code",
   "execution_count": 61,
   "metadata": {},
   "outputs": [],
   "source": [
    "pred1 <- predict(mod1, data=test)\n"
   ]
  },
  {
   "cell_type": "code",
   "execution_count": 63,
   "metadata": {},
   "outputs": [
    {
     "data": {
      "image/png": "[encoded data removed]",
      "text/plain": [
       "plot without title"
      ]
     },
     "metadata": {
      "image/png": {
       "height": 420,
       "width": 420
      }
     },
     "output_type": "display_data"
    }
   ],
   "source": [
    "plot(pred1$predictions ~ test$El_Nxt_Mnth_Avg_OC)"
   ]
  },
  {
   "cell_type": "markdown",
   "metadata": {},
   "source": [
    "# Cross-Validation\n",
    "\n",
    "<img src=\"https://genome.tugraz.at/proclassify/help/pages/images/xv_folds.gif\"/>\n"
   ]
  },
  {
   "cell_type": "code",
   "execution_count": 16,
   "metadata": {},
   "outputs": [
    {
     "name": "stderr",
     "output_type": "stream",
     "text": [
      "Warning message:\n",
      "\"package 'caret' was built under R version 4.0.4\"\n",
      "Loading required package: lattice\n",
      "\n"
     ]
    }
   ],
   "source": [
    "library(caret)\n",
    "# load the iris dataset\n",
    "data(iris)"
   ]
  },
  {
   "cell_type": "code",
   "execution_count": 18,
   "metadata": {},
   "outputs": [],
   "source": [
    "set.seed(2)\n",
    "seeds <- vector(mode = \"list\", length = 51)\n",
    "for(i in 1:50) seeds[[i]] <- sample.int(1000, 22)\n",
    "\n",
    "## For the last model:\n",
    "seeds[[51]] <- sample.int(1000, 1)\n",
    "\n",
    "# define training control\n",
    "trControl <- caret::trainControl(method = \"repeatedcv\", repeats = 5, seeds = seeds)\n",
    "# train the model\n",
    "model <- train(Species~., data=iris, trControl=trControl, method=\"ctree\")"
   ]
  },
  {
   "cell_type": "code",
   "execution_count": 19,
   "metadata": {},
   "outputs": [
    {
     "name": "stdout",
     "output_type": "stream",
     "text": [
      "Conditional Inference Tree \n",
      "\n",
      "150 samples\n",
      "  4 predictor\n",
      "  3 classes: 'setosa', 'versicolor', 'virginica' \n",
      "\n",
      "No pre-processing\n",
      "Resampling: Cross-Validated (10 fold, repeated 5 times) \n",
      "Summary of sample sizes: 135, 135, 135, 135, 135, 135, ... \n",
      "Resampling results across tuning parameters:\n",
      "\n",
      "  mincriterion  Accuracy  Kappa\n",
      "  0.01          0.94      0.91 \n",
      "  0.50          0.94      0.91 \n",
      "  0.99          0.94      0.91 \n",
      "\n",
      "Accuracy was used to select the optimal model using the largest value.\n",
      "The final value used for the model was mincriterion = 0.99.\n"
     ]
    }
   ],
   "source": [
    "# summarize results\n",
    "print(model)"
   ]
  },
  {
   "cell_type": "markdown",
   "metadata": {},
   "source": [
    "# Leave-one-out Cross Validation"
   ]
  },
  {
   "cell_type": "code",
   "execution_count": 20,
   "metadata": {},
   "outputs": [],
   "source": [
    "# define training control\n",
    "train_control <- trainControl(method=\"LOOCV\")\n",
    "# train the model\n",
    "model <- train(Species~., data=iris, trControl=train_control, method=\"ctree\")"
   ]
  },
  {
   "cell_type": "code",
   "execution_count": 21,
   "metadata": {},
   "outputs": [
    {
     "name": "stdout",
     "output_type": "stream",
     "text": [
      "Conditional Inference Tree \n",
      "\n",
      "150 samples\n",
      "  4 predictor\n",
      "  3 classes: 'setosa', 'versicolor', 'virginica' \n",
      "\n",
      "No pre-processing\n",
      "Resampling: Leave-One-Out Cross-Validation \n",
      "Summary of sample sizes: 149, 149, 149, 149, 149, 149, ... \n",
      "Resampling results across tuning parameters:\n",
      "\n",
      "  mincriterion  Accuracy   Kappa\n",
      "  0.01          0.9333333  0.9  \n",
      "  0.50          0.9333333  0.9  \n",
      "  0.99          0.9333333  0.9  \n",
      "\n",
      "Accuracy was used to select the optimal model using the largest value.\n",
      "The final value used for the model was mincriterion = 0.99.\n"
     ]
    }
   ],
   "source": [
    "# summarize results\n",
    "print(model)"
   ]
  },
  {
   "cell_type": "code",
   "execution_count": 116,
   "metadata": {},
   "outputs": [],
   "source": [
    "?caret::trainControl"
   ]
  },
  {
   "cell_type": "code",
   "execution_count": 117,
   "metadata": {},
   "outputs": [
    {
     "ename": "ERROR",
     "evalue": "Error in find.package(if (is.null(package)) loadedNamespaces() else package, : there is no package called 'carer'\n",
     "output_type": "error",
     "traceback": [
      "Error in find.package(if (is.null(package)) loadedNamespaces() else package, : there is no package called 'carer'\nTraceback:\n",
      "1. `?`(carer::train)",
      "2. eval(substitute(help(TOPIC, package = PACKAGE), list(TOPIC = topic, \n .     PACKAGE = package)))",
      "3. eval(substitute(help(TOPIC, package = PACKAGE), list(TOPIC = topic, \n .     PACKAGE = package)))",
      "4. help(\"train\", package = \"carer\")",
      "5. index.search(topic, find.package(if (is.null(package)) loadedNamespaces() else package, \n .     lib.loc, verbose = verbose))",
      "6. find.package(if (is.null(package)) loadedNamespaces() else package, \n .     lib.loc, verbose = verbose)"
     ]
    }
   ],
   "source": [
    "?carer::train"
   ]
  },
  {
   "cell_type": "markdown",
   "metadata": {},
   "source": [
    "# Boostrapping\n",
    "\n"
   ]
  },
  {
   "cell_type": "code",
   "execution_count": 22,
   "metadata": {},
   "outputs": [],
   "source": [
    "# define training control\n",
    "train_control <- trainControl(method=\"boot\", number=100)\n",
    "# train the model\n",
    "model <- train(Species~., data=iris, trControl=train_control,method=\"ctree\")"
   ]
  },
  {
   "cell_type": "code",
   "execution_count": 23,
   "metadata": {},
   "outputs": [
    {
     "name": "stdout",
     "output_type": "stream",
     "text": [
      "Conditional Inference Tree \n",
      "\n",
      "150 samples\n",
      "  4 predictor\n",
      "  3 classes: 'setosa', 'versicolor', 'virginica' \n",
      "\n",
      "No pre-processing\n",
      "Resampling: Bootstrapped (100 reps) \n",
      "Summary of sample sizes: 150, 150, 150, 150, 150, 150, ... \n",
      "Resampling results across tuning parameters:\n",
      "\n",
      "  mincriterion  Accuracy   Kappa    \n",
      "  0.01          0.9393788  0.9080796\n",
      "  0.50          0.9393788  0.9080796\n",
      "  0.99          0.9393788  0.9080796\n",
      "\n",
      "Accuracy was used to select the optimal model using the largest value.\n",
      "The final value used for the model was mincriterion = 0.99.\n"
     ]
    }
   ],
   "source": [
    "# summarize results\n",
    "print(model)"
   ]
  },
  {
   "cell_type": "markdown",
   "metadata": {},
   "source": [
    "# Dataset Inbalance"
   ]
  },
  {
   "cell_type": "code",
   "execution_count": 64,
   "metadata": {},
   "outputs": [
    {
     "name": "stderr",
     "output_type": "stream",
     "text": [
      "Loading required package: imbalance\n",
      "\n",
      "Warning message in library(package, lib.loc = lib.loc, character.only = TRUE, logical.return = TRUE, :\n",
      "\"there is no package called 'imbalance'\"\n",
      "also installing the dependencies 'Cubist', 'bnlearn', 'KernelKnn', 'smotefamily', 'FNN', 'C50'\n",
      "\n",
      "\n"
     ]
    },
    {
     "name": "stdout",
     "output_type": "stream",
     "text": [
      "package 'Cubist' successfully unpacked and MD5 sums checked\n",
      "package 'bnlearn' successfully unpacked and MD5 sums checked\n",
      "package 'KernelKnn' successfully unpacked and MD5 sums checked\n",
      "package 'smotefamily' successfully unpacked and MD5 sums checked\n",
      "package 'FNN' successfully unpacked and MD5 sums checked\n",
      "package 'C50' successfully unpacked and MD5 sums checked\n",
      "package 'imbalance' successfully unpacked and MD5 sums checked\n",
      "\n",
      "The downloaded binary packages are in\n",
      "\tC:\\Users\\שם גולסט\\AppData\\Local\\Temp\\Rtmp8qgUEN\\downloaded_packages\n"
     ]
    },
    {
     "name": "stderr",
     "output_type": "stream",
     "text": [
      "Loading required package: imbalance\n",
      "\n",
      "Warning message:\n",
      "\"package 'imbalance' was built under R version 4.1.3\"\n",
      "Loading required package: ROSE\n",
      "\n",
      "Loaded ROSE 0.0-4\n",
      "\n",
      "\n"
     ]
    }
   ],
   "source": [
    "if(!require(imbalance)){install.packages(\"imbalance\");require(imbalance)}\n",
    "### ROSE = Random Over-Sampling Examples\n",
    "if(!require(ROSE)){install.packages(\"ROSE\");require(ROSE)} ## ROSE = SMOTE METHOD\n"
   ]
  },
  {
   "cell_type": "code",
   "execution_count": 25,
   "metadata": {},
   "outputs": [
    {
     "data": {
      "text/html": [
       "<table>\n",
       "<caption>A data.frame: 6 × 6</caption>\n",
       "<thead>\n",
       "\t<tr><th></th><th scope=col>T3resin</th><th scope=col>Thyroxin</th><th scope=col>Triiodothyronine</th><th scope=col>Thyroidstimulating</th><th scope=col>TSH_value</th><th scope=col>Class</th></tr>\n",
       "\t<tr><th></th><th scope=col>&lt;int&gt;</th><th scope=col>&lt;dbl&gt;</th><th scope=col>&lt;dbl&gt;</th><th scope=col>&lt;dbl&gt;</th><th scope=col>&lt;dbl&gt;</th><th scope=col>&lt;fct&gt;</th></tr>\n",
       "</thead>\n",
       "<tbody>\n",
       "\t<tr><th scope=row>1</th><td>105</td><td> 7.3</td><td>1.5</td><td>1.5</td><td>-0.1</td><td>negative</td></tr>\n",
       "\t<tr><th scope=row>2</th><td> 67</td><td>23.3</td><td>7.4</td><td>1.8</td><td>-0.6</td><td>positive</td></tr>\n",
       "\t<tr><th scope=row>3</th><td>111</td><td> 8.4</td><td>1.5</td><td>0.8</td><td> 1.2</td><td>negative</td></tr>\n",
       "\t<tr><th scope=row>4</th><td> 89</td><td>14.3</td><td>4.1</td><td>0.5</td><td> 0.2</td><td>positive</td></tr>\n",
       "\t<tr><th scope=row>5</th><td>105</td><td> 9.5</td><td>1.8</td><td>1.6</td><td> 3.6</td><td>negative</td></tr>\n",
       "\t<tr><th scope=row>6</th><td>110</td><td>20.3</td><td>3.7</td><td>0.6</td><td> 0.2</td><td>positive</td></tr>\n",
       "</tbody>\n",
       "</table>\n"
      ],
      "text/latex": [
       "A data.frame: 6 × 6\n",
       "\\begin{tabular}{r|llllll}\n",
       "  & T3resin & Thyroxin & Triiodothyronine & Thyroidstimulating & TSH\\_value & Class\\\\\n",
       "  & <int> & <dbl> & <dbl> & <dbl> & <dbl> & <fct>\\\\\n",
       "\\hline\n",
       "\t1 & 105 &  7.3 & 1.5 & 1.5 & -0.1 & negative\\\\\n",
       "\t2 &  67 & 23.3 & 7.4 & 1.8 & -0.6 & positive\\\\\n",
       "\t3 & 111 &  8.4 & 1.5 & 0.8 &  1.2 & negative\\\\\n",
       "\t4 &  89 & 14.3 & 4.1 & 0.5 &  0.2 & positive\\\\\n",
       "\t5 & 105 &  9.5 & 1.8 & 1.6 &  3.6 & negative\\\\\n",
       "\t6 & 110 & 20.3 & 3.7 & 0.6 &  0.2 & positive\\\\\n",
       "\\end{tabular}\n"
      ],
      "text/markdown": [
       "\n",
       "A data.frame: 6 × 6\n",
       "\n",
       "| <!--/--> | T3resin &lt;int&gt; | Thyroxin &lt;dbl&gt; | Triiodothyronine &lt;dbl&gt; | Thyroidstimulating &lt;dbl&gt; | TSH_value &lt;dbl&gt; | Class &lt;fct&gt; |\n",
       "|---|---|---|---|---|---|---|\n",
       "| 1 | 105 |  7.3 | 1.5 | 1.5 | -0.1 | negative |\n",
       "| 2 |  67 | 23.3 | 7.4 | 1.8 | -0.6 | positive |\n",
       "| 3 | 111 |  8.4 | 1.5 | 0.8 |  1.2 | negative |\n",
       "| 4 |  89 | 14.3 | 4.1 | 0.5 |  0.2 | positive |\n",
       "| 5 | 105 |  9.5 | 1.8 | 1.6 |  3.6 | negative |\n",
       "| 6 | 110 | 20.3 | 3.7 | 0.6 |  0.2 | positive |\n",
       "\n"
      ],
      "text/plain": [
       "  T3resin Thyroxin Triiodothyronine Thyroidstimulating TSH_value Class   \n",
       "1 105      7.3     1.5              1.5                -0.1      negative\n",
       "2  67     23.3     7.4              1.8                -0.6      positive\n",
       "3 111      8.4     1.5              0.8                 1.2      negative\n",
       "4  89     14.3     4.1              0.5                 0.2      positive\n",
       "5 105      9.5     1.8              1.6                 3.6      negative\n",
       "6 110     20.3     3.7              0.6                 0.2      positive"
      ]
     },
     "metadata": {},
     "output_type": "display_data"
    }
   ],
   "source": [
    "data(newthyroid1)\n",
    "head(newthyroid1)"
   ]
  },
  {
   "cell_type": "code",
   "execution_count": 26,
   "metadata": {},
   "outputs": [
    {
     "data": {
      "text/plain": [
       "\n",
       "negative positive \n",
       "     180       35 "
      ]
     },
     "metadata": {},
     "output_type": "display_data"
    },
    {
     "data": {
      "text/plain": [
       "\n",
       "negative positive \n",
       "83.72093 16.27907 "
      ]
     },
     "metadata": {},
     "output_type": "display_data"
    }
   ],
   "source": [
    "table(newthyroid1$Class)\n",
    "table(newthyroid1$Class)/nrow(newthyroid1)*100"
   ]
  },
  {
   "cell_type": "code",
   "execution_count": 27,
   "metadata": {},
   "outputs": [
    {
     "data": {
      "text/html": [
       "<table>\n",
       "<caption>A matrix: 1 × 3 of type int</caption>\n",
       "<thead>\n",
       "\t<tr><th scope=col>numPositive</th><th scope=col>numNegative</th><th scope=col>nInstances</th></tr>\n",
       "</thead>\n",
       "<tbody>\n",
       "\t<tr><td>35</td><td>180</td><td>145</td></tr>\n",
       "</tbody>\n",
       "</table>\n"
      ],
      "text/latex": [
       "A matrix: 1 × 3 of type int\n",
       "\\begin{tabular}{lll}\n",
       " numPositive & numNegative & nInstances\\\\\n",
       "\\hline\n",
       "\t 35 & 180 & 145\\\\\n",
       "\\end{tabular}\n"
      ],
      "text/markdown": [
       "\n",
       "A matrix: 1 × 3 of type int\n",
       "\n",
       "| numPositive | numNegative | nInstances |\n",
       "|---|---|---|\n",
       "| 35 | 180 | 145 |\n",
       "\n"
      ],
      "text/plain": [
       "     numPositive numNegative nInstances\n",
       "[1,] 35          180         145       "
      ]
     },
     "metadata": {},
     "output_type": "display_data"
    }
   ],
   "source": [
    "numPositive <- length(which(newthyroid1$Class == \"positive\"))\n",
    "numNegative <- length(which(newthyroid1$Class == \"negative\"))\n",
    "nInstances <- numNegative - numPositive\n",
    "cbind(numPositive=numPositive,numNegative=numNegative,nInstances=nInstances)"
   ]
  },
  {
   "cell_type": "markdown",
   "metadata": {},
   "source": [
    "## Under Sampling\n",
    " \n",
    "This techniques uses all the rows containing the minority class and select randomly the same number of minority class for the rows with the mayority class "
   ]
  },
  {
   "cell_type": "code",
   "execution_count": 30,
   "metadata": {},
   "outputs": [
    {
     "data": {
      "text/plain": [
       "\n",
       "negative positive \n",
       "      35       35 "
      ]
     },
     "metadata": {},
     "output_type": "display_data"
    }
   ],
   "source": [
    "data_balanced_under <- ovun.sample(Class ~ ., data = newthyroid1, method = \"under\",N = numPositive*2, seed = 1)$data\n",
    "table(data_balanced_under$Class)"
   ]
  },
  {
   "cell_type": "markdown",
   "metadata": {},
   "source": [
    "## Over Sampling\n",
    " \n",
    "Over sampling takes the number of rows of the mayority class and repeat the rows of the minority class up to the same number of the mayority class. The repeated rows are selected randomly."
   ]
  },
  {
   "cell_type": "code",
   "execution_count": 31,
   "metadata": {},
   "outputs": [
    {
     "data": {
      "text/plain": [
       "\n",
       "negative positive \n",
       "     180      180 "
      ]
     },
     "metadata": {},
     "output_type": "display_data"
    }
   ],
   "source": [
    "#over sampling\n",
    "data_balanced_over <- ovun.sample(Class ~ ., data = newthyroid1, method = \"over\",N = numNegative*2, seed = 1)$data\n",
    "table(data_balanced_over$Class)"
   ]
  },
  {
   "cell_type": "markdown",
   "metadata": {},
   "source": [
    "## Over-Under Sampling\n",
    " \n",
    "In this technique we randomly select half of the majority class rows (under sampling) and increment the minority class rows by selecting them randomly.   "
   ]
  },
  {
   "cell_type": "code",
   "execution_count": 32,
   "metadata": {},
   "outputs": [
    {
     "data": {
      "text/plain": [
       "\n",
       "negative positive \n",
       "      90       90 "
      ]
     },
     "metadata": {},
     "output_type": "display_data"
    }
   ],
   "source": [
    "#over_under sampling\n",
    "data_balanced_both <- ovun.sample(Class ~ ., data = newthyroid1, method = \"both\", p=0.5,N = 180, seed = 1)$data\n",
    "table(data_balanced_both$Class)"
   ]
  },
  {
   "cell_type": "markdown",
   "metadata": {},
   "source": [
    "## ROSE (Random Over-Sampling Examples) \n",
    " \n",
    "Creates a sample of synthetic data by enlarging the features space of minority and majority class examples. ROSE selects an observation belonging to the class k and generates new examples in its neighbourhood"
   ]
  },
  {
   "cell_type": "code",
   "execution_count": 33,
   "metadata": {
    "scrolled": true
   },
   "outputs": [
    {
     "data": {
      "text/plain": [
       "\n",
       "negative positive \n",
       "     105      110 "
      ]
     },
     "metadata": {},
     "output_type": "display_data"
    }
   ],
   "source": [
    "# Rose: \n",
    "data.rose <- ROSE(Class ~ ., data = newthyroid1, seed = 1)$data\n",
    "table(data.rose$Class)"
   ]
  },
  {
   "cell_type": "markdown",
   "metadata": {},
   "source": [
    "## Oversampling with Synthetic data\n",
    " \n",
    "Additionally to ROSE. The package 'inbalance' has the function pdfos. This function generates synthetic minority examples for a numerical dataset approximating a Gaussian multivariate distribution.\n"
   ]
  },
  {
   "cell_type": "code",
   "execution_count": 26,
   "metadata": {},
   "outputs": [
    {
     "data": {
      "text/plain": [
       "\n",
       "negative positive \n",
       "     180      180 "
      ]
     },
     "metadata": {},
     "output_type": "display_data"
    }
   ],
   "source": [
    "newSamples <- pdfos(dataset = newthyroid1, numInstances = nInstances,classAttr = \"Class\")\n",
    "newDataset <- rbind(newthyroid1, newSamples)\n",
    "table(newDataset$Class)"
   ]
  },
  {
   "cell_type": "markdown",
   "metadata": {},
   "source": [
    "# Clustering method "
   ]
  },
  {
   "cell_type": "code",
   "execution_count": 35,
   "metadata": {},
   "outputs": [
    {
     "name": "stderr",
     "output_type": "stream",
     "text": [
      "Warning message:\n",
      "\"package 'dplyr' was built under R version 4.0.2\"\n",
      "\n",
      "Attaching package: 'dplyr'\n",
      "\n",
      "\n",
      "The following objects are masked from 'package:stats':\n",
      "\n",
      "    filter, lag\n",
      "\n",
      "\n",
      "The following objects are masked from 'package:base':\n",
      "\n",
      "    intersect, setdiff, setequal, union\n",
      "\n",
      "\n"
     ]
    }
   ],
   "source": [
    "library(dplyr)"
   ]
  },
  {
   "cell_type": "code",
   "execution_count": 34,
   "metadata": {},
   "outputs": [],
   "source": [
    "df <- read.table(unz(\"creditcard.csv.zip\", \"creditcard.csv\"), header=T, quote=\"\\\"\", sep=\",\")"
   ]
  },
  {
   "cell_type": "code",
   "execution_count": 36,
   "metadata": {
    "scrolled": true
   },
   "outputs": [
    {
     "data": {
      "text/plain": [
       "      Time              V1                  V2                  V3          \n",
       " Min.   :     0   Min.   :-56.40751   Min.   :-72.71573   Min.   :-48.3256  \n",
       " 1st Qu.: 54202   1st Qu.: -0.92037   1st Qu.: -0.59855   1st Qu.: -0.8904  \n",
       " Median : 84692   Median :  0.01811   Median :  0.06549   Median :  0.1799  \n",
       " Mean   : 94814   Mean   :  0.00000   Mean   :  0.00000   Mean   :  0.0000  \n",
       " 3rd Qu.:139321   3rd Qu.:  1.31564   3rd Qu.:  0.80372   3rd Qu.:  1.0272  \n",
       " Max.   :172792   Max.   :  2.45493   Max.   : 22.05773   Max.   :  9.3826  \n",
       "       V4                 V5                   V6                 V7          \n",
       " Min.   :-5.68317   Min.   :-113.74331   Min.   :-26.1605   Min.   :-43.5572  \n",
       " 1st Qu.:-0.84864   1st Qu.:  -0.69160   1st Qu.: -0.7683   1st Qu.: -0.5541  \n",
       " Median :-0.01985   Median :  -0.05434   Median : -0.2742   Median :  0.0401  \n",
       " Mean   : 0.00000   Mean   :   0.00000   Mean   :  0.0000   Mean   :  0.0000  \n",
       " 3rd Qu.: 0.74334   3rd Qu.:   0.61193   3rd Qu.:  0.3986   3rd Qu.:  0.5704  \n",
       " Max.   :16.87534   Max.   :  34.80167   Max.   : 73.3016   Max.   :120.5895  \n",
       "       V8                  V9                 V10                 V11          \n",
       " Min.   :-73.21672   Min.   :-13.43407   Min.   :-24.58826   Min.   :-4.79747  \n",
       " 1st Qu.: -0.20863   1st Qu.: -0.64310   1st Qu.: -0.53543   1st Qu.:-0.76249  \n",
       " Median :  0.02236   Median : -0.05143   Median : -0.09292   Median :-0.03276  \n",
       " Mean   :  0.00000   Mean   :  0.00000   Mean   :  0.00000   Mean   : 0.00000  \n",
       " 3rd Qu.:  0.32735   3rd Qu.:  0.59714   3rd Qu.:  0.45392   3rd Qu.: 0.73959  \n",
       " Max.   : 20.00721   Max.   : 15.59500   Max.   : 23.74514   Max.   :12.01891  \n",
       "      V12                V13                V14                V15          \n",
       " Min.   :-18.6837   Min.   :-5.79188   Min.   :-19.2143   Min.   :-4.49894  \n",
       " 1st Qu.: -0.4056   1st Qu.:-0.64854   1st Qu.: -0.4256   1st Qu.:-0.58288  \n",
       " Median :  0.1400   Median :-0.01357   Median :  0.0506   Median : 0.04807  \n",
       " Mean   :  0.0000   Mean   : 0.00000   Mean   :  0.0000   Mean   : 0.00000  \n",
       " 3rd Qu.:  0.6182   3rd Qu.: 0.66251   3rd Qu.:  0.4931   3rd Qu.: 0.64882  \n",
       " Max.   :  7.8484   Max.   : 7.12688   Max.   : 10.5268   Max.   : 8.87774  \n",
       "      V16                 V17                 V18           \n",
       " Min.   :-14.12985   Min.   :-25.16280   Min.   :-9.498746  \n",
       " 1st Qu.: -0.46804   1st Qu.: -0.48375   1st Qu.:-0.498850  \n",
       " Median :  0.06641   Median : -0.06568   Median :-0.003636  \n",
       " Mean   :  0.00000   Mean   :  0.00000   Mean   : 0.000000  \n",
       " 3rd Qu.:  0.52330   3rd Qu.:  0.39968   3rd Qu.: 0.500807  \n",
       " Max.   : 17.31511   Max.   :  9.25353   Max.   : 5.041069  \n",
       "      V19                 V20                 V21           \n",
       " Min.   :-7.213527   Min.   :-54.49772   Min.   :-34.83038  \n",
       " 1st Qu.:-0.456299   1st Qu.: -0.21172   1st Qu.: -0.22839  \n",
       " Median : 0.003735   Median : -0.06248   Median : -0.02945  \n",
       " Mean   : 0.000000   Mean   :  0.00000   Mean   :  0.00000  \n",
       " 3rd Qu.: 0.458949   3rd Qu.:  0.13304   3rd Qu.:  0.18638  \n",
       " Max.   : 5.591971   Max.   : 39.42090   Max.   : 27.20284  \n",
       "      V22                  V23                 V24          \n",
       " Min.   :-10.933144   Min.   :-44.80774   Min.   :-2.83663  \n",
       " 1st Qu.: -0.542350   1st Qu.: -0.16185   1st Qu.:-0.35459  \n",
       " Median :  0.006782   Median : -0.01119   Median : 0.04098  \n",
       " Mean   :  0.000000   Mean   :  0.00000   Mean   : 0.00000  \n",
       " 3rd Qu.:  0.528554   3rd Qu.:  0.14764   3rd Qu.: 0.43953  \n",
       " Max.   : 10.503090   Max.   : 22.52841   Max.   : 4.58455  \n",
       "      V25                 V26                V27            \n",
       " Min.   :-10.29540   Min.   :-2.60455   Min.   :-22.565679  \n",
       " 1st Qu.: -0.31715   1st Qu.:-0.32698   1st Qu.: -0.070840  \n",
       " Median :  0.01659   Median :-0.05214   Median :  0.001342  \n",
       " Mean   :  0.00000   Mean   : 0.00000   Mean   :  0.000000  \n",
       " 3rd Qu.:  0.35072   3rd Qu.: 0.24095   3rd Qu.:  0.091045  \n",
       " Max.   :  7.51959   Max.   : 3.51735   Max.   : 31.612198  \n",
       "      V28                Amount             Class         \n",
       " Min.   :-15.43008   Min.   :    0.00   Min.   :0.000000  \n",
       " 1st Qu.: -0.05296   1st Qu.:    5.60   1st Qu.:0.000000  \n",
       " Median :  0.01124   Median :   22.00   Median :0.000000  \n",
       " Mean   :  0.00000   Mean   :   88.35   Mean   :0.001728  \n",
       " 3rd Qu.:  0.07828   3rd Qu.:   77.17   3rd Qu.:0.000000  \n",
       " Max.   : 33.84781   Max.   :25691.16   Max.   :1.000000  "
      ]
     },
     "metadata": {},
     "output_type": "display_data"
    },
    {
     "data": {
      "text/plain": [
       "\n",
       "     0      1 \n",
       "284315    492 "
      ]
     },
     "metadata": {},
     "output_type": "display_data"
    }
   ],
   "source": [
    "summary(df)\n",
    "table(df$Class)"
   ]
  },
  {
   "cell_type": "code",
   "execution_count": 37,
   "metadata": {
    "scrolled": true
   },
   "outputs": [
    {
     "name": "stderr",
     "output_type": "stream",
     "text": [
      "Dataset partitioned into:\n",
      "\n",
      " + Train dataset: train\n",
      "\n",
      " + Test dataset: test\n",
      "\n",
      "Warning message in Table1(data = df, y = \"traintest_ind_\", messages = FALSE):\n",
      "\"The following variables have unique values and will not be included in the analysis: \"\n"
     ]
    },
    {
     "name": "stdout",
     "output_type": "stream",
     "text": [
      "  |====================================================================  |  97%"
     ]
    },
    {
     "name": "stderr",
     "output_type": "stream",
     "text": [
      "WARNING: The following variables are not balanced between the training and test datasets:\n",
      "\n",
      "* V22\n",
      "\n",
      "You can try to change the seed value until you get a balanced partition.\n",
      "\n",
      "Alternatively, you can ommit this warning and exclude those variables from your model\n",
      "\n",
      " \n",
      "\n"
     ]
    },
    {
     "data": {
      "text/html": [
       "<table>\n",
       "<caption>A tibble: 65 × 6</caption>\n",
       "<thead>\n",
       "\t<tr><th scope=col>V1</th><th scope=col>V2</th><th scope=col>Pop</th><th scope=col>1</th><th scope=col>2</th><th scope=col>pval</th></tr>\n",
       "\t<tr><th scope=col>&lt;chr&gt;</th><th scope=col>&lt;chr&gt;</th><th scope=col>&lt;chr&gt;</th><th scope=col>&lt;chr&gt;</th><th scope=col>&lt;chr&gt;</th><th scope=col>&lt;chr&gt;</th></tr>\n",
       "</thead>\n",
       "<tbody>\n",
       "\t<tr><td>Individuals</td><td>n           </td><td>284807                       </td><td>199364                       </td><td>85443                        </td><td>NA   </td></tr>\n",
       "\t<tr><td>Time       </td><td>Mean (SD)   </td><td>94,813.9 (47,488.1)          </td><td>94,848.0 (47,454.6)          </td><td>94,734.2 (47,566.6)          </td><td>NA   </td></tr>\n",
       "\t<tr><td>Time       </td><td>Median (IQR)</td><td>84,692.0 (54,201.5-139,320.5)</td><td>84,703.5 (54,272.0-139,287.0)</td><td>84,672.0 (54,046.5-139,396.5)</td><td>0.558</td></tr>\n",
       "\t<tr><td>V1         </td><td>Mean (SD)   </td><td>0.0 (2.0)                    </td><td>0.0 (2.0)                    </td><td>0.0 (2.0)                    </td><td>NA   </td></tr>\n",
       "\t<tr><td>V1         </td><td>Median (IQR)</td><td>0.0 (-0.9-1.3)               </td><td>0.0 (-0.9-1.3)               </td><td>0.0 (-0.9-1.3)               </td><td>0.471</td></tr>\n",
       "\t<tr><td>V2         </td><td>Mean (SD)   </td><td>0.0 (1.7)                    </td><td>0.0 (1.6)                    </td><td>0.0 (1.7)                    </td><td>NA   </td></tr>\n",
       "\t<tr><td>V2         </td><td>Median (IQR)</td><td>0.1 (-0.6-0.8)               </td><td>0.1 (-0.6-0.8)               </td><td>0.1 (-0.6-0.8)               </td><td>0.926</td></tr>\n",
       "\t<tr><td>V3         </td><td>Mean (SD)   </td><td>0.0 (1.5)                    </td><td>0.0 (1.5)                    </td><td>0.0 (1.5)                    </td><td>NA   </td></tr>\n",
       "\t<tr><td>V3         </td><td>Median (IQR)</td><td>0.2 (-0.9-1.0)               </td><td>0.2 (-0.9-1.0)               </td><td>0.2 (-0.9-1.0)               </td><td>0.939</td></tr>\n",
       "\t<tr><td>V4         </td><td>Mean (SD)   </td><td>0.0 (1.4)                    </td><td>0.0 (1.4)                    </td><td>0.0 (1.4)                    </td><td>NA   </td></tr>\n",
       "\t<tr><td>V4         </td><td>Median (IQR)</td><td>0.0 (-0.8-0.7)               </td><td>0.0 (-0.8-0.7)               </td><td>0.0 (-0.9-0.7)               </td><td>0.05 </td></tr>\n",
       "\t<tr><td>V5         </td><td>Mean (SD)   </td><td>0.0 (1.4)                    </td><td>0.0 (1.4)                    </td><td>0.0 (1.4)                    </td><td>NA   </td></tr>\n",
       "\t<tr><td>V5         </td><td>Median (IQR)</td><td>-0.1 (-0.7-0.6)              </td><td>-0.1 (-0.7-0.6)              </td><td>-0.1 (-0.7-0.6)              </td><td>0.799</td></tr>\n",
       "\t<tr><td>V6         </td><td>Mean (SD)   </td><td>0.0 (1.3)                    </td><td>0.0 (1.3)                    </td><td>0.0 (1.3)                    </td><td>NA   </td></tr>\n",
       "\t<tr><td>V6         </td><td>Median (IQR)</td><td>-0.3 (-0.8-0.4)              </td><td>-0.3 (-0.8-0.4)              </td><td>-0.3 (-0.8-0.4)              </td><td>0.665</td></tr>\n",
       "\t<tr><td>V7         </td><td>Mean (SD)   </td><td>0.0 (1.2)                    </td><td>0.0 (1.2)                    </td><td>0.0 (1.2)                    </td><td>NA   </td></tr>\n",
       "\t<tr><td>V7         </td><td>Median (IQR)</td><td>0.0 (-0.6-0.6)               </td><td>0.0 (-0.6-0.6)               </td><td>0.0 (-0.6-0.6)               </td><td>0.98 </td></tr>\n",
       "\t<tr><td>V8         </td><td>Mean (SD)   </td><td>0.0 (1.2)                    </td><td>0.0 (1.2)                    </td><td>0.0 (1.2)                    </td><td>NA   </td></tr>\n",
       "\t<tr><td>V8         </td><td>Median (IQR)</td><td>0.0 (-0.2-0.3)               </td><td>0.0 (-0.2-0.3)               </td><td>0.0 (-0.2-0.3)               </td><td>0.56 </td></tr>\n",
       "\t<tr><td>V9         </td><td>Mean (SD)   </td><td>0.0 (1.1)                    </td><td>0.0 (1.1)                    </td><td>0.0 (1.1)                    </td><td>NA   </td></tr>\n",
       "\t<tr><td>V9         </td><td>Median (IQR)</td><td>-0.1 (-0.6-0.6)              </td><td>-0.1 (-0.6-0.6)              </td><td>0.0 (-0.6-0.6)               </td><td>0.314</td></tr>\n",
       "\t<tr><td>V10        </td><td>Mean (SD)   </td><td>0.0 (1.1)                    </td><td>0.0 (1.1)                    </td><td>0.0 (1.1)                    </td><td>NA   </td></tr>\n",
       "\t<tr><td>V10        </td><td>Median (IQR)</td><td>-0.1 (-0.5-0.5)              </td><td>-0.1 (-0.5-0.5)              </td><td>-0.1 (-0.5-0.5)              </td><td>0.813</td></tr>\n",
       "\t<tr><td>V11        </td><td>Mean (SD)   </td><td>0.0 (1.0)                    </td><td>0.0 (1.0)                    </td><td>0.0 (1.0)                    </td><td>NA   </td></tr>\n",
       "\t<tr><td>V11        </td><td>Median (IQR)</td><td>0.0 (-0.8-0.7)               </td><td>0.0 (-0.8-0.7)               </td><td>0.0 (-0.8-0.7)               </td><td>0.805</td></tr>\n",
       "\t<tr><td>V12        </td><td>Mean (SD)   </td><td>0.0 (1.0)                    </td><td>0.0 (1.0)                    </td><td>0.0 (1.0)                    </td><td>NA   </td></tr>\n",
       "\t<tr><td>V12        </td><td>Median (IQR)</td><td>0.1 (-0.4-0.6)               </td><td>0.1 (-0.4-0.6)               </td><td>0.1 (-0.4-0.6)               </td><td>0.873</td></tr>\n",
       "\t<tr><td>V13        </td><td>Mean (SD)   </td><td>0.0 (1.0)                    </td><td>0.0 (1.0)                    </td><td>0.0 (1.0)                    </td><td>NA   </td></tr>\n",
       "\t<tr><td>V13        </td><td>Median (IQR)</td><td>0.0 (-0.6-0.7)               </td><td>0.0 (-0.6-0.7)               </td><td>0.0 (-0.6-0.7)               </td><td>0.148</td></tr>\n",
       "\t<tr><td>V14        </td><td>Mean (SD)   </td><td>0.0 (1.0)                    </td><td>0.0 (1.0)                    </td><td>0.0 (1.0)                    </td><td>NA   </td></tr>\n",
       "\t<tr><td>...</td><td>...</td><td>...</td><td>...</td><td>...</td><td>...</td></tr>\n",
       "\t<tr><td>V17           </td><td>Mean (SD)   </td><td>0.0 (0.8)      </td><td>0.0 (0.9)      </td><td>0.0 (0.8)      </td><td>NA   </td></tr>\n",
       "\t<tr><td>V17           </td><td>Median (IQR)</td><td>-0.1 (-0.5-0.4)</td><td>-0.1 (-0.5-0.4)</td><td>-0.1 (-0.5-0.4)</td><td>0.751</td></tr>\n",
       "\t<tr><td>V18           </td><td>Mean (SD)   </td><td>0.0 (0.8)      </td><td>0.0 (0.8)      </td><td>0.0 (0.8)      </td><td>NA   </td></tr>\n",
       "\t<tr><td>V18           </td><td>Median (IQR)</td><td>0.0 (-0.5-0.5) </td><td>0.0 (-0.5-0.5) </td><td>0.0 (-0.5-0.5) </td><td>0.815</td></tr>\n",
       "\t<tr><td>V19           </td><td>Mean (SD)   </td><td>0.0 (0.8)      </td><td>0.0 (0.8)      </td><td>0.0 (0.8)      </td><td>NA   </td></tr>\n",
       "\t<tr><td>V19           </td><td>Median (IQR)</td><td>0.0 (-0.5-0.5) </td><td>0.0 (-0.5-0.5) </td><td>0.0 (-0.5-0.5) </td><td>0.8  </td></tr>\n",
       "\t<tr><td>V20           </td><td>Mean (SD)   </td><td>0.0 (0.8)      </td><td>0.0 (0.8)      </td><td>0.0 (0.8)      </td><td>NA   </td></tr>\n",
       "\t<tr><td>V20           </td><td>Median (IQR)</td><td>-0.1 (-0.2-0.1)</td><td>-0.1 (-0.2-0.1)</td><td>-0.1 (-0.2-0.1)</td><td>0.503</td></tr>\n",
       "\t<tr><td>V21           </td><td>Mean (SD)   </td><td>0.0 (0.7)      </td><td>0.0 (0.7)      </td><td>0.0 (0.7)      </td><td>NA   </td></tr>\n",
       "\t<tr><td>V21           </td><td>Median (IQR)</td><td>0.0 (-0.2-0.2) </td><td>0.0 (-0.2-0.2) </td><td>0.0 (-0.2-0.2) </td><td>0.958</td></tr>\n",
       "\t<tr><td>V22           </td><td>Mean (SD)   </td><td>0.0 (0.7)      </td><td>0.0 (0.7)      </td><td>0.0 (0.7)      </td><td>NA   </td></tr>\n",
       "\t<tr><td>V22           </td><td>Median (IQR)</td><td>0.0 (-0.5-0.5) </td><td>0.0 (-0.5-0.5) </td><td>0.0 (-0.5-0.5) </td><td>0.015</td></tr>\n",
       "\t<tr><td>V23           </td><td>Mean (SD)   </td><td>0.0 (0.6)      </td><td>0.0 (0.6)      </td><td>0.0 (0.6)      </td><td>NA   </td></tr>\n",
       "\t<tr><td>V23           </td><td>Median (IQR)</td><td>0.0 (-0.2-0.1) </td><td>0.0 (-0.2-0.1) </td><td>0.0 (-0.2-0.1) </td><td>0.089</td></tr>\n",
       "\t<tr><td>V24           </td><td>Mean (SD)   </td><td>0.0 (0.6)      </td><td>0.0 (0.6)      </td><td>0.0 (0.6)      </td><td>NA   </td></tr>\n",
       "\t<tr><td>V24           </td><td>Median (IQR)</td><td>0.0 (-0.4-0.4) </td><td>0.0 (-0.4-0.4) </td><td>0.0 (-0.4-0.4) </td><td>0.134</td></tr>\n",
       "\t<tr><td>V25           </td><td>Mean (SD)   </td><td>0.0 (0.5)      </td><td>0.0 (0.5)      </td><td>0.0 (0.5)      </td><td>NA   </td></tr>\n",
       "\t<tr><td>V25           </td><td>Median (IQR)</td><td>0.0 (-0.3-0.4) </td><td>0.0 (-0.3-0.4) </td><td>0.0 (-0.3-0.4) </td><td>0.969</td></tr>\n",
       "\t<tr><td>V26           </td><td>Mean (SD)   </td><td>0.0 (0.5)      </td><td>0.0 (0.5)      </td><td>0.0 (0.5)      </td><td>NA   </td></tr>\n",
       "\t<tr><td>V26           </td><td>Median (IQR)</td><td>-0.1 (-0.3-0.2)</td><td>-0.1 (-0.3-0.2)</td><td>-0.1 (-0.3-0.2)</td><td>0.937</td></tr>\n",
       "\t<tr><td>V27           </td><td>Mean (SD)   </td><td>0.0 (0.4)      </td><td>0.0 (0.4)      </td><td>0.0 (0.4)      </td><td>NA   </td></tr>\n",
       "\t<tr><td>V27           </td><td>Median (IQR)</td><td>0.0 (-0.1-0.1) </td><td>0.0 (-0.1-0.1) </td><td>0.0 (-0.1-0.1) </td><td>0.155</td></tr>\n",
       "\t<tr><td>V28           </td><td>Mean (SD)   </td><td>0.0 (0.3)      </td><td>0.0 (0.3)      </td><td>0.0 (0.4)      </td><td>NA   </td></tr>\n",
       "\t<tr><td>V28           </td><td>Median (IQR)</td><td>0.0 (-0.1-0.1) </td><td>0.0 (-0.1-0.1) </td><td>0.0 (-0.1-0.1) </td><td>0.991</td></tr>\n",
       "\t<tr><td>Amount        </td><td>Mean (SD)   </td><td>88.3 (250.1)   </td><td>88.3 (254.3)   </td><td>88.4 (240.0)   </td><td>NA   </td></tr>\n",
       "\t<tr><td>Amount        </td><td>Median (IQR)</td><td>22.0 (5.6-77.2)</td><td>22.0 (5.6-77.2)</td><td>22.0 (5.5-77.2)</td><td>0.917</td></tr>\n",
       "\t<tr><td>Class         </td><td>Mean (SD)   </td><td>0.0 (0.0)      </td><td>0.0 (0.0)      </td><td>0.0 (0.0)      </td><td>NA   </td></tr>\n",
       "\t<tr><td>Class         </td><td>Median (IQR)</td><td>0.0 (0.0-0.0)  </td><td>0.0 (0.0-0.0)  </td><td>0.0 (0.0-0.0)  </td><td>0.797</td></tr>\n",
       "\t<tr><td>traintest_ind_</td><td>Mean (SD)   </td><td>1.3 (0.5)      </td><td>NA             </td><td>NA             </td><td>NA   </td></tr>\n",
       "\t<tr><td>traintest_ind_</td><td>Median (IQR)</td><td>1.0 (1.0-2.0)  </td><td>NA             </td><td>NA             </td><td>0    </td></tr>\n",
       "</tbody>\n",
       "</table>\n"
      ],
      "text/latex": [
       "A tibble: 65 × 6\n",
       "\\begin{tabular}{llllll}\n",
       " V1 & V2 & Pop & 1 & 2 & pval\\\\\n",
       " <chr> & <chr> & <chr> & <chr> & <chr> & <chr>\\\\\n",
       "\\hline\n",
       "\t Individuals & n            & 284807                        & 199364                        & 85443                         & NA   \\\\\n",
       "\t Time        & Mean (SD)    & 94,813.9 (47,488.1)           & 94,848.0 (47,454.6)           & 94,734.2 (47,566.6)           & NA   \\\\\n",
       "\t Time        & Median (IQR) & 84,692.0 (54,201.5-139,320.5) & 84,703.5 (54,272.0-139,287.0) & 84,672.0 (54,046.5-139,396.5) & 0.558\\\\\n",
       "\t V1          & Mean (SD)    & 0.0 (2.0)                     & 0.0 (2.0)                     & 0.0 (2.0)                     & NA   \\\\\n",
       "\t V1          & Median (IQR) & 0.0 (-0.9-1.3)                & 0.0 (-0.9-1.3)                & 0.0 (-0.9-1.3)                & 0.471\\\\\n",
       "\t V2          & Mean (SD)    & 0.0 (1.7)                     & 0.0 (1.6)                     & 0.0 (1.7)                     & NA   \\\\\n",
       "\t V2          & Median (IQR) & 0.1 (-0.6-0.8)                & 0.1 (-0.6-0.8)                & 0.1 (-0.6-0.8)                & 0.926\\\\\n",
       "\t V3          & Mean (SD)    & 0.0 (1.5)                     & 0.0 (1.5)                     & 0.0 (1.5)                     & NA   \\\\\n",
       "\t V3          & Median (IQR) & 0.2 (-0.9-1.0)                & 0.2 (-0.9-1.0)                & 0.2 (-0.9-1.0)                & 0.939\\\\\n",
       "\t V4          & Mean (SD)    & 0.0 (1.4)                     & 0.0 (1.4)                     & 0.0 (1.4)                     & NA   \\\\\n",
       "\t V4          & Median (IQR) & 0.0 (-0.8-0.7)                & 0.0 (-0.8-0.7)                & 0.0 (-0.9-0.7)                & 0.05 \\\\\n",
       "\t V5          & Mean (SD)    & 0.0 (1.4)                     & 0.0 (1.4)                     & 0.0 (1.4)                     & NA   \\\\\n",
       "\t V5          & Median (IQR) & -0.1 (-0.7-0.6)               & -0.1 (-0.7-0.6)               & -0.1 (-0.7-0.6)               & 0.799\\\\\n",
       "\t V6          & Mean (SD)    & 0.0 (1.3)                     & 0.0 (1.3)                     & 0.0 (1.3)                     & NA   \\\\\n",
       "\t V6          & Median (IQR) & -0.3 (-0.8-0.4)               & -0.3 (-0.8-0.4)               & -0.3 (-0.8-0.4)               & 0.665\\\\\n",
       "\t V7          & Mean (SD)    & 0.0 (1.2)                     & 0.0 (1.2)                     & 0.0 (1.2)                     & NA   \\\\\n",
       "\t V7          & Median (IQR) & 0.0 (-0.6-0.6)                & 0.0 (-0.6-0.6)                & 0.0 (-0.6-0.6)                & 0.98 \\\\\n",
       "\t V8          & Mean (SD)    & 0.0 (1.2)                     & 0.0 (1.2)                     & 0.0 (1.2)                     & NA   \\\\\n",
       "\t V8          & Median (IQR) & 0.0 (-0.2-0.3)                & 0.0 (-0.2-0.3)                & 0.0 (-0.2-0.3)                & 0.56 \\\\\n",
       "\t V9          & Mean (SD)    & 0.0 (1.1)                     & 0.0 (1.1)                     & 0.0 (1.1)                     & NA   \\\\\n",
       "\t V9          & Median (IQR) & -0.1 (-0.6-0.6)               & -0.1 (-0.6-0.6)               & 0.0 (-0.6-0.6)                & 0.314\\\\\n",
       "\t V10         & Mean (SD)    & 0.0 (1.1)                     & 0.0 (1.1)                     & 0.0 (1.1)                     & NA   \\\\\n",
       "\t V10         & Median (IQR) & -0.1 (-0.5-0.5)               & -0.1 (-0.5-0.5)               & -0.1 (-0.5-0.5)               & 0.813\\\\\n",
       "\t V11         & Mean (SD)    & 0.0 (1.0)                     & 0.0 (1.0)                     & 0.0 (1.0)                     & NA   \\\\\n",
       "\t V11         & Median (IQR) & 0.0 (-0.8-0.7)                & 0.0 (-0.8-0.7)                & 0.0 (-0.8-0.7)                & 0.805\\\\\n",
       "\t V12         & Mean (SD)    & 0.0 (1.0)                     & 0.0 (1.0)                     & 0.0 (1.0)                     & NA   \\\\\n",
       "\t V12         & Median (IQR) & 0.1 (-0.4-0.6)                & 0.1 (-0.4-0.6)                & 0.1 (-0.4-0.6)                & 0.873\\\\\n",
       "\t V13         & Mean (SD)    & 0.0 (1.0)                     & 0.0 (1.0)                     & 0.0 (1.0)                     & NA   \\\\\n",
       "\t V13         & Median (IQR) & 0.0 (-0.6-0.7)                & 0.0 (-0.6-0.7)                & 0.0 (-0.6-0.7)                & 0.148\\\\\n",
       "\t V14         & Mean (SD)    & 0.0 (1.0)                     & 0.0 (1.0)                     & 0.0 (1.0)                     & NA   \\\\\n",
       "\t ... & ... & ... & ... & ... & ...\\\\\n",
       "\t V17            & Mean (SD)    & 0.0 (0.8)       & 0.0 (0.9)       & 0.0 (0.8)       & NA   \\\\\n",
       "\t V17            & Median (IQR) & -0.1 (-0.5-0.4) & -0.1 (-0.5-0.4) & -0.1 (-0.5-0.4) & 0.751\\\\\n",
       "\t V18            & Mean (SD)    & 0.0 (0.8)       & 0.0 (0.8)       & 0.0 (0.8)       & NA   \\\\\n",
       "\t V18            & Median (IQR) & 0.0 (-0.5-0.5)  & 0.0 (-0.5-0.5)  & 0.0 (-0.5-0.5)  & 0.815\\\\\n",
       "\t V19            & Mean (SD)    & 0.0 (0.8)       & 0.0 (0.8)       & 0.0 (0.8)       & NA   \\\\\n",
       "\t V19            & Median (IQR) & 0.0 (-0.5-0.5)  & 0.0 (-0.5-0.5)  & 0.0 (-0.5-0.5)  & 0.8  \\\\\n",
       "\t V20            & Mean (SD)    & 0.0 (0.8)       & 0.0 (0.8)       & 0.0 (0.8)       & NA   \\\\\n",
       "\t V20            & Median (IQR) & -0.1 (-0.2-0.1) & -0.1 (-0.2-0.1) & -0.1 (-0.2-0.1) & 0.503\\\\\n",
       "\t V21            & Mean (SD)    & 0.0 (0.7)       & 0.0 (0.7)       & 0.0 (0.7)       & NA   \\\\\n",
       "\t V21            & Median (IQR) & 0.0 (-0.2-0.2)  & 0.0 (-0.2-0.2)  & 0.0 (-0.2-0.2)  & 0.958\\\\\n",
       "\t V22            & Mean (SD)    & 0.0 (0.7)       & 0.0 (0.7)       & 0.0 (0.7)       & NA   \\\\\n",
       "\t V22            & Median (IQR) & 0.0 (-0.5-0.5)  & 0.0 (-0.5-0.5)  & 0.0 (-0.5-0.5)  & 0.015\\\\\n",
       "\t V23            & Mean (SD)    & 0.0 (0.6)       & 0.0 (0.6)       & 0.0 (0.6)       & NA   \\\\\n",
       "\t V23            & Median (IQR) & 0.0 (-0.2-0.1)  & 0.0 (-0.2-0.1)  & 0.0 (-0.2-0.1)  & 0.089\\\\\n",
       "\t V24            & Mean (SD)    & 0.0 (0.6)       & 0.0 (0.6)       & 0.0 (0.6)       & NA   \\\\\n",
       "\t V24            & Median (IQR) & 0.0 (-0.4-0.4)  & 0.0 (-0.4-0.4)  & 0.0 (-0.4-0.4)  & 0.134\\\\\n",
       "\t V25            & Mean (SD)    & 0.0 (0.5)       & 0.0 (0.5)       & 0.0 (0.5)       & NA   \\\\\n",
       "\t V25            & Median (IQR) & 0.0 (-0.3-0.4)  & 0.0 (-0.3-0.4)  & 0.0 (-0.3-0.4)  & 0.969\\\\\n",
       "\t V26            & Mean (SD)    & 0.0 (0.5)       & 0.0 (0.5)       & 0.0 (0.5)       & NA   \\\\\n",
       "\t V26            & Median (IQR) & -0.1 (-0.3-0.2) & -0.1 (-0.3-0.2) & -0.1 (-0.3-0.2) & 0.937\\\\\n",
       "\t V27            & Mean (SD)    & 0.0 (0.4)       & 0.0 (0.4)       & 0.0 (0.4)       & NA   \\\\\n",
       "\t V27            & Median (IQR) & 0.0 (-0.1-0.1)  & 0.0 (-0.1-0.1)  & 0.0 (-0.1-0.1)  & 0.155\\\\\n",
       "\t V28            & Mean (SD)    & 0.0 (0.3)       & 0.0 (0.3)       & 0.0 (0.4)       & NA   \\\\\n",
       "\t V28            & Median (IQR) & 0.0 (-0.1-0.1)  & 0.0 (-0.1-0.1)  & 0.0 (-0.1-0.1)  & 0.991\\\\\n",
       "\t Amount         & Mean (SD)    & 88.3 (250.1)    & 88.3 (254.3)    & 88.4 (240.0)    & NA   \\\\\n",
       "\t Amount         & Median (IQR) & 22.0 (5.6-77.2) & 22.0 (5.6-77.2) & 22.0 (5.5-77.2) & 0.917\\\\\n",
       "\t Class          & Mean (SD)    & 0.0 (0.0)       & 0.0 (0.0)       & 0.0 (0.0)       & NA   \\\\\n",
       "\t Class          & Median (IQR) & 0.0 (0.0-0.0)   & 0.0 (0.0-0.0)   & 0.0 (0.0-0.0)   & 0.797\\\\\n",
       "\t traintest\\_ind\\_ & Mean (SD)    & 1.3 (0.5)       & NA              & NA              & NA   \\\\\n",
       "\t traintest\\_ind\\_ & Median (IQR) & 1.0 (1.0-2.0)   & NA              & NA              & 0    \\\\\n",
       "\\end{tabular}\n"
      ],
      "text/markdown": [
       "\n",
       "A tibble: 65 × 6\n",
       "\n",
       "| V1 &lt;chr&gt; | V2 &lt;chr&gt; | Pop &lt;chr&gt; | 1 &lt;chr&gt; | 2 &lt;chr&gt; | pval &lt;chr&gt; |\n",
       "|---|---|---|---|---|---|\n",
       "| Individuals | n            | 284807                        | 199364                        | 85443                         | NA    |\n",
       "| Time        | Mean (SD)    | 94,813.9 (47,488.1)           | 94,848.0 (47,454.6)           | 94,734.2 (47,566.6)           | NA    |\n",
       "| Time        | Median (IQR) | 84,692.0 (54,201.5-139,320.5) | 84,703.5 (54,272.0-139,287.0) | 84,672.0 (54,046.5-139,396.5) | 0.558 |\n",
       "| V1          | Mean (SD)    | 0.0 (2.0)                     | 0.0 (2.0)                     | 0.0 (2.0)                     | NA    |\n",
       "| V1          | Median (IQR) | 0.0 (-0.9-1.3)                | 0.0 (-0.9-1.3)                | 0.0 (-0.9-1.3)                | 0.471 |\n",
       "| V2          | Mean (SD)    | 0.0 (1.7)                     | 0.0 (1.6)                     | 0.0 (1.7)                     | NA    |\n",
       "| V2          | Median (IQR) | 0.1 (-0.6-0.8)                | 0.1 (-0.6-0.8)                | 0.1 (-0.6-0.8)                | 0.926 |\n",
       "| V3          | Mean (SD)    | 0.0 (1.5)                     | 0.0 (1.5)                     | 0.0 (1.5)                     | NA    |\n",
       "| V3          | Median (IQR) | 0.2 (-0.9-1.0)                | 0.2 (-0.9-1.0)                | 0.2 (-0.9-1.0)                | 0.939 |\n",
       "| V4          | Mean (SD)    | 0.0 (1.4)                     | 0.0 (1.4)                     | 0.0 (1.4)                     | NA    |\n",
       "| V4          | Median (IQR) | 0.0 (-0.8-0.7)                | 0.0 (-0.8-0.7)                | 0.0 (-0.9-0.7)                | 0.05  |\n",
       "| V5          | Mean (SD)    | 0.0 (1.4)                     | 0.0 (1.4)                     | 0.0 (1.4)                     | NA    |\n",
       "| V5          | Median (IQR) | -0.1 (-0.7-0.6)               | -0.1 (-0.7-0.6)               | -0.1 (-0.7-0.6)               | 0.799 |\n",
       "| V6          | Mean (SD)    | 0.0 (1.3)                     | 0.0 (1.3)                     | 0.0 (1.3)                     | NA    |\n",
       "| V6          | Median (IQR) | -0.3 (-0.8-0.4)               | -0.3 (-0.8-0.4)               | -0.3 (-0.8-0.4)               | 0.665 |\n",
       "| V7          | Mean (SD)    | 0.0 (1.2)                     | 0.0 (1.2)                     | 0.0 (1.2)                     | NA    |\n",
       "| V7          | Median (IQR) | 0.0 (-0.6-0.6)                | 0.0 (-0.6-0.6)                | 0.0 (-0.6-0.6)                | 0.98  |\n",
       "| V8          | Mean (SD)    | 0.0 (1.2)                     | 0.0 (1.2)                     | 0.0 (1.2)                     | NA    |\n",
       "| V8          | Median (IQR) | 0.0 (-0.2-0.3)                | 0.0 (-0.2-0.3)                | 0.0 (-0.2-0.3)                | 0.56  |\n",
       "| V9          | Mean (SD)    | 0.0 (1.1)                     | 0.0 (1.1)                     | 0.0 (1.1)                     | NA    |\n",
       "| V9          | Median (IQR) | -0.1 (-0.6-0.6)               | -0.1 (-0.6-0.6)               | 0.0 (-0.6-0.6)                | 0.314 |\n",
       "| V10         | Mean (SD)    | 0.0 (1.1)                     | 0.0 (1.1)                     | 0.0 (1.1)                     | NA    |\n",
       "| V10         | Median (IQR) | -0.1 (-0.5-0.5)               | -0.1 (-0.5-0.5)               | -0.1 (-0.5-0.5)               | 0.813 |\n",
       "| V11         | Mean (SD)    | 0.0 (1.0)                     | 0.0 (1.0)                     | 0.0 (1.0)                     | NA    |\n",
       "| V11         | Median (IQR) | 0.0 (-0.8-0.7)                | 0.0 (-0.8-0.7)                | 0.0 (-0.8-0.7)                | 0.805 |\n",
       "| V12         | Mean (SD)    | 0.0 (1.0)                     | 0.0 (1.0)                     | 0.0 (1.0)                     | NA    |\n",
       "| V12         | Median (IQR) | 0.1 (-0.4-0.6)                | 0.1 (-0.4-0.6)                | 0.1 (-0.4-0.6)                | 0.873 |\n",
       "| V13         | Mean (SD)    | 0.0 (1.0)                     | 0.0 (1.0)                     | 0.0 (1.0)                     | NA    |\n",
       "| V13         | Median (IQR) | 0.0 (-0.6-0.7)                | 0.0 (-0.6-0.7)                | 0.0 (-0.6-0.7)                | 0.148 |\n",
       "| V14         | Mean (SD)    | 0.0 (1.0)                     | 0.0 (1.0)                     | 0.0 (1.0)                     | NA    |\n",
       "| ... | ... | ... | ... | ... | ... |\n",
       "| V17            | Mean (SD)    | 0.0 (0.8)       | 0.0 (0.9)       | 0.0 (0.8)       | NA    |\n",
       "| V17            | Median (IQR) | -0.1 (-0.5-0.4) | -0.1 (-0.5-0.4) | -0.1 (-0.5-0.4) | 0.751 |\n",
       "| V18            | Mean (SD)    | 0.0 (0.8)       | 0.0 (0.8)       | 0.0 (0.8)       | NA    |\n",
       "| V18            | Median (IQR) | 0.0 (-0.5-0.5)  | 0.0 (-0.5-0.5)  | 0.0 (-0.5-0.5)  | 0.815 |\n",
       "| V19            | Mean (SD)    | 0.0 (0.8)       | 0.0 (0.8)       | 0.0 (0.8)       | NA    |\n",
       "| V19            | Median (IQR) | 0.0 (-0.5-0.5)  | 0.0 (-0.5-0.5)  | 0.0 (-0.5-0.5)  | 0.8   |\n",
       "| V20            | Mean (SD)    | 0.0 (0.8)       | 0.0 (0.8)       | 0.0 (0.8)       | NA    |\n",
       "| V20            | Median (IQR) | -0.1 (-0.2-0.1) | -0.1 (-0.2-0.1) | -0.1 (-0.2-0.1) | 0.503 |\n",
       "| V21            | Mean (SD)    | 0.0 (0.7)       | 0.0 (0.7)       | 0.0 (0.7)       | NA    |\n",
       "| V21            | Median (IQR) | 0.0 (-0.2-0.2)  | 0.0 (-0.2-0.2)  | 0.0 (-0.2-0.2)  | 0.958 |\n",
       "| V22            | Mean (SD)    | 0.0 (0.7)       | 0.0 (0.7)       | 0.0 (0.7)       | NA    |\n",
       "| V22            | Median (IQR) | 0.0 (-0.5-0.5)  | 0.0 (-0.5-0.5)  | 0.0 (-0.5-0.5)  | 0.015 |\n",
       "| V23            | Mean (SD)    | 0.0 (0.6)       | 0.0 (0.6)       | 0.0 (0.6)       | NA    |\n",
       "| V23            | Median (IQR) | 0.0 (-0.2-0.1)  | 0.0 (-0.2-0.1)  | 0.0 (-0.2-0.1)  | 0.089 |\n",
       "| V24            | Mean (SD)    | 0.0 (0.6)       | 0.0 (0.6)       | 0.0 (0.6)       | NA    |\n",
       "| V24            | Median (IQR) | 0.0 (-0.4-0.4)  | 0.0 (-0.4-0.4)  | 0.0 (-0.4-0.4)  | 0.134 |\n",
       "| V25            | Mean (SD)    | 0.0 (0.5)       | 0.0 (0.5)       | 0.0 (0.5)       | NA    |\n",
       "| V25            | Median (IQR) | 0.0 (-0.3-0.4)  | 0.0 (-0.3-0.4)  | 0.0 (-0.3-0.4)  | 0.969 |\n",
       "| V26            | Mean (SD)    | 0.0 (0.5)       | 0.0 (0.5)       | 0.0 (0.5)       | NA    |\n",
       "| V26            | Median (IQR) | -0.1 (-0.3-0.2) | -0.1 (-0.3-0.2) | -0.1 (-0.3-0.2) | 0.937 |\n",
       "| V27            | Mean (SD)    | 0.0 (0.4)       | 0.0 (0.4)       | 0.0 (0.4)       | NA    |\n",
       "| V27            | Median (IQR) | 0.0 (-0.1-0.1)  | 0.0 (-0.1-0.1)  | 0.0 (-0.1-0.1)  | 0.155 |\n",
       "| V28            | Mean (SD)    | 0.0 (0.3)       | 0.0 (0.3)       | 0.0 (0.4)       | NA    |\n",
       "| V28            | Median (IQR) | 0.0 (-0.1-0.1)  | 0.0 (-0.1-0.1)  | 0.0 (-0.1-0.1)  | 0.991 |\n",
       "| Amount         | Mean (SD)    | 88.3 (250.1)    | 88.3 (254.3)    | 88.4 (240.0)    | NA    |\n",
       "| Amount         | Median (IQR) | 22.0 (5.6-77.2) | 22.0 (5.6-77.2) | 22.0 (5.5-77.2) | 0.917 |\n",
       "| Class          | Mean (SD)    | 0.0 (0.0)       | 0.0 (0.0)       | 0.0 (0.0)       | NA    |\n",
       "| Class          | Median (IQR) | 0.0 (0.0-0.0)   | 0.0 (0.0-0.0)   | 0.0 (0.0-0.0)   | 0.797 |\n",
       "| traintest_ind_ | Mean (SD)    | 1.3 (0.5)       | NA              | NA              | NA    |\n",
       "| traintest_ind_ | Median (IQR) | 1.0 (1.0-2.0)   | NA              | NA              | 0     |\n",
       "\n"
      ],
      "text/plain": [
       "    V1             V2           Pop                          \n",
       "1   Individuals    n            284807                       \n",
       "2   Time           Mean (SD)    94,813.9 (47,488.1)          \n",
       "3   Time           Median (IQR) 84,692.0 (54,201.5-139,320.5)\n",
       "4   V1             Mean (SD)    0.0 (2.0)                    \n",
       "5   V1             Median (IQR) 0.0 (-0.9-1.3)               \n",
       "6   V2             Mean (SD)    0.0 (1.7)                    \n",
       "7   V2             Median (IQR) 0.1 (-0.6-0.8)               \n",
       "8   V3             Mean (SD)    0.0 (1.5)                    \n",
       "9   V3             Median (IQR) 0.2 (-0.9-1.0)               \n",
       "10  V4             Mean (SD)    0.0 (1.4)                    \n",
       "11  V4             Median (IQR) 0.0 (-0.8-0.7)               \n",
       "12  V5             Mean (SD)    0.0 (1.4)                    \n",
       "13  V5             Median (IQR) -0.1 (-0.7-0.6)              \n",
       "14  V6             Mean (SD)    0.0 (1.3)                    \n",
       "15  V6             Median (IQR) -0.3 (-0.8-0.4)              \n",
       "16  V7             Mean (SD)    0.0 (1.2)                    \n",
       "17  V7             Median (IQR) 0.0 (-0.6-0.6)               \n",
       "18  V8             Mean (SD)    0.0 (1.2)                    \n",
       "19  V8             Median (IQR) 0.0 (-0.2-0.3)               \n",
       "20  V9             Mean (SD)    0.0 (1.1)                    \n",
       "21  V9             Median (IQR) -0.1 (-0.6-0.6)              \n",
       "22  V10            Mean (SD)    0.0 (1.1)                    \n",
       "23  V10            Median (IQR) -0.1 (-0.5-0.5)              \n",
       "24  V11            Mean (SD)    0.0 (1.0)                    \n",
       "25  V11            Median (IQR) 0.0 (-0.8-0.7)               \n",
       "26  V12            Mean (SD)    0.0 (1.0)                    \n",
       "27  V12            Median (IQR) 0.1 (-0.4-0.6)               \n",
       "28  V13            Mean (SD)    0.0 (1.0)                    \n",
       "29  V13            Median (IQR) 0.0 (-0.6-0.7)               \n",
       "30  V14            Mean (SD)    0.0 (1.0)                    \n",
       "... ...            ...          ...                          \n",
       "36  V17            Mean (SD)    0.0 (0.8)                    \n",
       "37  V17            Median (IQR) -0.1 (-0.5-0.4)              \n",
       "38  V18            Mean (SD)    0.0 (0.8)                    \n",
       "39  V18            Median (IQR) 0.0 (-0.5-0.5)               \n",
       "40  V19            Mean (SD)    0.0 (0.8)                    \n",
       "41  V19            Median (IQR) 0.0 (-0.5-0.5)               \n",
       "42  V20            Mean (SD)    0.0 (0.8)                    \n",
       "43  V20            Median (IQR) -0.1 (-0.2-0.1)              \n",
       "44  V21            Mean (SD)    0.0 (0.7)                    \n",
       "45  V21            Median (IQR) 0.0 (-0.2-0.2)               \n",
       "46  V22            Mean (SD)    0.0 (0.7)                    \n",
       "47  V22            Median (IQR) 0.0 (-0.5-0.5)               \n",
       "48  V23            Mean (SD)    0.0 (0.6)                    \n",
       "49  V23            Median (IQR) 0.0 (-0.2-0.1)               \n",
       "50  V24            Mean (SD)    0.0 (0.6)                    \n",
       "51  V24            Median (IQR) 0.0 (-0.4-0.4)               \n",
       "52  V25            Mean (SD)    0.0 (0.5)                    \n",
       "53  V25            Median (IQR) 0.0 (-0.3-0.4)               \n",
       "54  V26            Mean (SD)    0.0 (0.5)                    \n",
       "55  V26            Median (IQR) -0.1 (-0.3-0.2)              \n",
       "56  V27            Mean (SD)    0.0 (0.4)                    \n",
       "57  V27            Median (IQR) 0.0 (-0.1-0.1)               \n",
       "58  V28            Mean (SD)    0.0 (0.3)                    \n",
       "59  V28            Median (IQR) 0.0 (-0.1-0.1)               \n",
       "60  Amount         Mean (SD)    88.3 (250.1)                 \n",
       "61  Amount         Median (IQR) 22.0 (5.6-77.2)              \n",
       "62  Class          Mean (SD)    0.0 (0.0)                    \n",
       "63  Class          Median (IQR) 0.0 (0.0-0.0)                \n",
       "64  traintest_ind_ Mean (SD)    1.3 (0.5)                    \n",
       "65  traintest_ind_ Median (IQR) 1.0 (1.0-2.0)                \n",
       "    1                             2                             pval \n",
       "1   199364                        85443                         NA   \n",
       "2   94,848.0 (47,454.6)           94,734.2 (47,566.6)           NA   \n",
       "3   84,703.5 (54,272.0-139,287.0) 84,672.0 (54,046.5-139,396.5) 0.558\n",
       "4   0.0 (2.0)                     0.0 (2.0)                     NA   \n",
       "5   0.0 (-0.9-1.3)                0.0 (-0.9-1.3)                0.471\n",
       "6   0.0 (1.6)                     0.0 (1.7)                     NA   \n",
       "7   0.1 (-0.6-0.8)                0.1 (-0.6-0.8)                0.926\n",
       "8   0.0 (1.5)                     0.0 (1.5)                     NA   \n",
       "9   0.2 (-0.9-1.0)                0.2 (-0.9-1.0)                0.939\n",
       "10  0.0 (1.4)                     0.0 (1.4)                     NA   \n",
       "11  0.0 (-0.8-0.7)                0.0 (-0.9-0.7)                0.05 \n",
       "12  0.0 (1.4)                     0.0 (1.4)                     NA   \n",
       "13  -0.1 (-0.7-0.6)               -0.1 (-0.7-0.6)               0.799\n",
       "14  0.0 (1.3)                     0.0 (1.3)                     NA   \n",
       "15  -0.3 (-0.8-0.4)               -0.3 (-0.8-0.4)               0.665\n",
       "16  0.0 (1.2)                     0.0 (1.2)                     NA   \n",
       "17  0.0 (-0.6-0.6)                0.0 (-0.6-0.6)                0.98 \n",
       "18  0.0 (1.2)                     0.0 (1.2)                     NA   \n",
       "19  0.0 (-0.2-0.3)                0.0 (-0.2-0.3)                0.56 \n",
       "20  0.0 (1.1)                     0.0 (1.1)                     NA   \n",
       "21  -0.1 (-0.6-0.6)               0.0 (-0.6-0.6)                0.314\n",
       "22  0.0 (1.1)                     0.0 (1.1)                     NA   \n",
       "23  -0.1 (-0.5-0.5)               -0.1 (-0.5-0.5)               0.813\n",
       "24  0.0 (1.0)                     0.0 (1.0)                     NA   \n",
       "25  0.0 (-0.8-0.7)                0.0 (-0.8-0.7)                0.805\n",
       "26  0.0 (1.0)                     0.0 (1.0)                     NA   \n",
       "27  0.1 (-0.4-0.6)                0.1 (-0.4-0.6)                0.873\n",
       "28  0.0 (1.0)                     0.0 (1.0)                     NA   \n",
       "29  0.0 (-0.6-0.7)                0.0 (-0.6-0.7)                0.148\n",
       "30  0.0 (1.0)                     0.0 (1.0)                     NA   \n",
       "... ...                           ...                           ...  \n",
       "36  0.0 (0.9)                     0.0 (0.8)                     NA   \n",
       "37  -0.1 (-0.5-0.4)               -0.1 (-0.5-0.4)               0.751\n",
       "38  0.0 (0.8)                     0.0 (0.8)                     NA   \n",
       "39  0.0 (-0.5-0.5)                0.0 (-0.5-0.5)                0.815\n",
       "40  0.0 (0.8)                     0.0 (0.8)                     NA   \n",
       "41  0.0 (-0.5-0.5)                0.0 (-0.5-0.5)                0.8  \n",
       "42  0.0 (0.8)                     0.0 (0.8)                     NA   \n",
       "43  -0.1 (-0.2-0.1)               -0.1 (-0.2-0.1)               0.503\n",
       "44  0.0 (0.7)                     0.0 (0.7)                     NA   \n",
       "45  0.0 (-0.2-0.2)                0.0 (-0.2-0.2)                0.958\n",
       "46  0.0 (0.7)                     0.0 (0.7)                     NA   \n",
       "47  0.0 (-0.5-0.5)                0.0 (-0.5-0.5)                0.015\n",
       "48  0.0 (0.6)                     0.0 (0.6)                     NA   \n",
       "49  0.0 (-0.2-0.1)                0.0 (-0.2-0.1)                0.089\n",
       "50  0.0 (0.6)                     0.0 (0.6)                     NA   \n",
       "51  0.0 (-0.4-0.4)                0.0 (-0.4-0.4)                0.134\n",
       "52  0.0 (0.5)                     0.0 (0.5)                     NA   \n",
       "53  0.0 (-0.3-0.4)                0.0 (-0.3-0.4)                0.969\n",
       "54  0.0 (0.5)                     0.0 (0.5)                     NA   \n",
       "55  -0.1 (-0.3-0.2)               -0.1 (-0.3-0.2)               0.937\n",
       "56  0.0 (0.4)                     0.0 (0.4)                     NA   \n",
       "57  0.0 (-0.1-0.1)                0.0 (-0.1-0.1)                0.155\n",
       "58  0.0 (0.3)                     0.0 (0.4)                     NA   \n",
       "59  0.0 (-0.1-0.1)                0.0 (-0.1-0.1)                0.991\n",
       "60  88.3 (254.3)                  88.4 (240.0)                  NA   \n",
       "61  22.0 (5.6-77.2)               22.0 (5.5-77.2)               0.917\n",
       "62  0.0 (0.0)                     0.0 (0.0)                     NA   \n",
       "63  0.0 (0.0-0.0)                 0.0 (0.0-0.0)                 0.797\n",
       "64  NA                            NA                            NA   \n",
       "65  NA                            NA                            0    "
      ]
     },
     "metadata": {},
     "output_type": "display_data"
    }
   ],
   "source": [
    "### divide into train-test\n",
    "# seed   vars\n",
    "# 2      V22\n",
    "\n",
    "mechkar::train_test(data=df, train_name=\"train\", test_name=\"test\", prop=0.7, seed=2, tableone=T)"
   ]
  },
  {
   "cell_type": "code",
   "execution_count": 38,
   "metadata": {},
   "outputs": [
    {
     "data": {
      "text/plain": [
       "\n",
       "     0      1 \n",
       "199017    347 "
      ]
     },
     "metadata": {},
     "output_type": "display_data"
    },
    {
     "data": {
      "text/plain": [
       "\n",
       "          0           1 \n",
       "0.998259465 0.001740535 "
      ]
     },
     "metadata": {},
     "output_type": "display_data"
    },
    {
     "data": {
      "text/plain": [
       "\n",
       "    0     1 \n",
       "85298   145 "
      ]
     },
     "metadata": {},
     "output_type": "display_data"
    },
    {
     "data": {
      "text/plain": [
       "\n",
       "          0           1 \n",
       "0.998302962 0.001697038 "
      ]
     },
     "metadata": {},
     "output_type": "display_data"
    }
   ],
   "source": [
    "table(train$Class)\n",
    "table(train$Class)/nrow(train)\n",
    "\n",
    "table(test$Class)\n",
    "table(test$Class)/nrow(test)"
   ]
  },
  {
   "cell_type": "markdown",
   "metadata": {},
   "source": [
    "#### Base Models"
   ]
  },
  {
   "cell_type": "code",
   "execution_count": 40,
   "metadata": {
    "scrolled": true
   },
   "outputs": [
    {
     "data": {
      "text/plain": [
       "\n",
       "Call:\n",
       "glm(formula = Class ~ ., family = \"binomial\", data = train)\n",
       "\n",
       "Deviance Residuals: \n",
       "    Min       1Q   Median       3Q      Max  \n",
       "-4.6572  -0.0281  -0.0181  -0.0114   4.5974  \n",
       "\n",
       "Coefficients:\n",
       "              Estimate Std. Error z value Pr(>|z|)    \n",
       "(Intercept) -8.844e+00  3.199e-01 -27.643  < 2e-16 ***\n",
       "Time        -5.161e-07  2.724e-06  -0.189   0.8497    \n",
       "V1           8.079e-02  5.270e-02   1.533   0.1253    \n",
       "V2           8.302e-02  8.437e-02   0.984   0.3252    \n",
       "V3           3.351e-02  6.737e-02   0.497   0.6190    \n",
       "V4           7.065e-01  9.737e-02   7.256 3.99e-13 ***\n",
       "V5           1.178e-01  8.975e-02   1.312   0.1894    \n",
       "V6          -1.546e-01  9.641e-02  -1.604   0.1088    \n",
       "V7          -1.467e-01  8.872e-02  -1.654   0.0981 .  \n",
       "V8          -1.872e-01  3.947e-02  -4.741 2.12e-06 ***\n",
       "V9          -1.133e-01  1.423e-01  -0.796   0.4258    \n",
       "V10         -7.392e-01  1.226e-01  -6.030 1.64e-09 ***\n",
       "V11          2.101e-02  9.934e-02   0.212   0.8325    \n",
       "V12          1.257e-01  1.055e-01   1.191   0.2335    \n",
       "V13         -2.991e-01  9.969e-02  -3.000   0.0027 ** \n",
       "V14         -6.035e-01  7.596e-02  -7.944 1.95e-15 ***\n",
       "V15         -9.756e-02  1.041e-01  -0.937   0.3487    \n",
       "V16         -1.430e-01  1.675e-01  -0.854   0.3933    \n",
       "V17         -5.921e-03  8.568e-02  -0.069   0.9449    \n",
       "V18         -7.080e-02  1.680e-01  -0.422   0.6734    \n",
       "V19          1.025e-01  1.220e-01   0.841   0.4006    \n",
       "V20         -4.187e-01  1.014e-01  -4.127 3.67e-05 ***\n",
       "V21          3.474e-01  7.613e-02   4.564 5.02e-06 ***\n",
       "V22          6.860e-01  1.679e-01   4.086 4.38e-05 ***\n",
       "V23         -1.100e-01  8.050e-02  -1.366   0.1720    \n",
       "V24          1.544e-02  1.802e-01   0.086   0.9317    \n",
       "V25          1.433e-01  1.562e-01   0.917   0.3590    \n",
       "V26         -8.749e-03  2.311e-01  -0.038   0.9698    \n",
       "V27         -8.875e-01  1.334e-01  -6.655 2.83e-11 ***\n",
       "V28         -4.215e-01  1.319e-01  -3.195   0.0014 ** \n",
       "Amount       1.322e-03  5.848e-04   2.260   0.0238 *  \n",
       "---\n",
       "Signif. codes:  0 '***' 0.001 '**' 0.01 '*' 0.05 '.' 0.1 ' ' 1\n",
       "\n",
       "(Dispersion parameter for binomial family taken to be 1)\n",
       "\n",
       "    Null deviance: 5102.8  on 199363  degrees of freedom\n",
       "Residual deviance: 1504.6  on 199333  degrees of freedom\n",
       "AIC: 1566.6\n",
       "\n",
       "Number of Fisher Scoring iterations: 12\n"
      ]
     },
     "metadata": {},
     "output_type": "display_data"
    }
   ],
   "source": [
    "bm <- glm(Class ~., data=train, family=\"binomial\")\n",
    "summary(bm)"
   ]
  },
  {
   "cell_type": "code",
   "execution_count": 41,
   "metadata": {},
   "outputs": [],
   "source": [
    "predbm <- predict(bm,newdata=test,type=\"response\")"
   ]
  },
  {
   "cell_type": "code",
   "execution_count": 42,
   "metadata": {},
   "outputs": [
    {
     "name": "stderr",
     "output_type": "stream",
     "text": [
      "Setting levels: control = 0, case = 1\n",
      "\n",
      "Setting direction: controls < cases\n",
      "\n"
     ]
    },
    {
     "data": {
      "text/plain": [
       "\n",
       "Call:\n",
       "roc.default(response = test$Class, predictor = predbm)\n",
       "\n",
       "Data: predbm in 85298 controls (test$Class 0) < 145 cases (test$Class 1).\n",
       "Area under the curve: 0.9757"
      ]
     },
     "metadata": {},
     "output_type": "display_data"
    }
   ],
   "source": [
    "### AUC\n",
    "roc0 <- pROC::roc(test$Class, predbm)\n",
    "roc0"
   ]
  },
  {
   "cell_type": "code",
   "execution_count": 43,
   "metadata": {},
   "outputs": [
    {
     "data": {
      "text/plain": [
       "   pred\n",
       "obs     0     1\n",
       "  0 85287    11\n",
       "  1    65    80"
      ]
     },
     "metadata": {},
     "output_type": "display_data"
    }
   ],
   "source": [
    "table(obs=test$Class, pred=ifelse(predbm>0.5,1,0))"
   ]
  },
  {
   "cell_type": "code",
   "execution_count": 59,
   "metadata": {},
   "outputs": [
    {
     "data": {
      "text/html": [
       "<table>\n",
       "<caption>A matrix: 1 × 3 of type int</caption>\n",
       "<thead>\n",
       "\t<tr><th scope=col>numPositive</th><th scope=col>numNegative</th><th scope=col>nInstances</th></tr>\n",
       "</thead>\n",
       "<tbody>\n",
       "\t<tr><td>347</td><td>199017</td><td>198670</td></tr>\n",
       "</tbody>\n",
       "</table>\n"
      ],
      "text/latex": [
       "A matrix: 1 × 3 of type int\n",
       "\\begin{tabular}{lll}\n",
       " numPositive & numNegative & nInstances\\\\\n",
       "\\hline\n",
       "\t 347 & 199017 & 198670\\\\\n",
       "\\end{tabular}\n"
      ],
      "text/markdown": [
       "\n",
       "A matrix: 1 × 3 of type int\n",
       "\n",
       "| numPositive | numNegative | nInstances |\n",
       "|---|---|---|\n",
       "| 347 | 199017 | 198670 |\n",
       "\n"
      ],
      "text/plain": [
       "     numPositive numNegative nInstances\n",
       "[1,] 347         199017      198670    "
      ]
     },
     "metadata": {},
     "output_type": "display_data"
    }
   ],
   "source": [
    "numPositive <- length(which(train$Class == 1))\n",
    "numNegative <- length(which(train$Class == 0))\n",
    "nInstances <- numNegative - numPositive\n",
    "cbind(numPositive=numPositive,numNegative=numNegative,nInstances=nInstances)"
   ]
  },
  {
   "cell_type": "code",
   "execution_count": 61,
   "metadata": {},
   "outputs": [
    {
     "data": {
      "text/plain": [
       "\n",
       "  0   1 \n",
       "347 347 "
      ]
     },
     "metadata": {},
     "output_type": "display_data"
    },
    {
     "data": {
      "text/plain": [
       "\n",
       "     0      1 \n",
       "199017 199017 "
      ]
     },
     "metadata": {},
     "output_type": "display_data"
    },
    {
     "data": {
      "text/plain": [
       "\n",
       "    0     1 \n",
       "99526 99838 "
      ]
     },
     "metadata": {},
     "output_type": "display_data"
    },
    {
     "data": {
      "text/plain": [
       "\n",
       "    0     1 \n",
       "99526 99838 "
      ]
     },
     "metadata": {},
     "output_type": "display_data"
    }
   ],
   "source": [
    "## Under Sampling\n",
    "\n",
    "data_balanced_under <- ovun.sample(Class ~ ., data = train, method = \"under\",N = numPositive*2, seed = 1)$data\n",
    "table(data_balanced_under$Class)\n",
    "\n",
    "## Over Sampling\n",
    " \n",
    "#over sampling\n",
    "data_balanced_over <- ovun.sample(Class ~ ., data = train, method = \"over\",N = numNegative*2, seed = 1)$data\n",
    "table(data_balanced_over$Class)\n",
    "\n",
    "## Over-Under Sampling\n",
    "\n",
    "#over_under sampling\n",
    "data_balanced_both <- ovun.sample(Class ~ ., data = train, method = \"both\", p=0.5,N = nrow(train), seed = 1)$data\n",
    "table(data_balanced_both$Class)\n",
    "\n",
    "## ROSE (Random Over-Sampling Examples) \n",
    "\n",
    "# Rose: \n",
    "data.rose <- ROSE(Class ~ ., data = train, seed = 1)$data\n",
    "table(data.rose$Class)"
   ]
  },
  {
   "cell_type": "code",
   "execution_count": 62,
   "metadata": {},
   "outputs": [
    {
     "name": "stderr",
     "output_type": "stream",
     "text": [
      "Warning message:\n",
      "\"glm.fit: algorithm did not converge\"\n",
      "Warning message:\n",
      "\"glm.fit: fitted probabilities numerically 0 or 1 occurred\"\n"
     ]
    },
    {
     "data": {
      "text/plain": [
       "\n",
       "Call:\n",
       "glm(formula = Class ~ ., family = \"binomial\", data = data_balanced_under)\n",
       "\n",
       "Deviance Residuals: \n",
       "    Min       1Q   Median       3Q      Max  \n",
       "-1.6518  -0.1471   0.0000   0.0000   3.3087  \n",
       "\n",
       "Coefficients:\n",
       "              Estimate Std. Error z value Pr(>|z|)  \n",
       "(Intercept) -2.472e+01  1.968e+02  -0.126   0.9001  \n",
       "Time        -1.871e-05  9.899e-06  -1.890   0.0587 .\n",
       "V1          -8.155e+00  4.337e+01  -0.188   0.8508  \n",
       "V2           5.545e+01  2.900e+02   0.191   0.8484  \n",
       "V3          -4.921e+01  1.135e+02  -0.434   0.6645  \n",
       "V4           3.372e+01  9.208e+01   0.366   0.7142  \n",
       "V5          -2.077e+01  1.588e+01  -1.308   0.1907  \n",
       "V6          -2.681e+01  1.319e+02  -0.203   0.8390  \n",
       "V7          -1.081e+02  4.546e+02  -0.238   0.8120  \n",
       "V8           1.977e+01  7.721e+01   0.256   0.7979  \n",
       "V9          -4.166e+01  1.390e+02  -0.300   0.7644  \n",
       "V10         -9.626e+01  3.196e+02  -0.301   0.7633  \n",
       "V11          7.343e+01  2.710e+02   0.271   0.7865  \n",
       "V12         -1.326e+02  4.868e+02  -0.272   0.7853  \n",
       "V13         -1.698e+00  1.282e+01  -0.132   0.8946  \n",
       "V14         -1.415e+02  5.312e+02  -0.266   0.7900  \n",
       "V15         -4.257e+00  1.895e+01  -0.225   0.8223  \n",
       "V16         -1.255e+02  4.687e+02  -0.268   0.7889  \n",
       "V17         -2.241e+02  8.226e+02  -0.272   0.7853  \n",
       "V18         -8.429e+01  3.143e+02  -0.268   0.7886  \n",
       "V19          3.169e+01  1.303e+02   0.243   0.8079  \n",
       "V20         -5.853e+00  8.830e+01  -0.066   0.9471  \n",
       "V21          1.085e+01  2.156e+01   0.503   0.6148  \n",
       "V22          9.770e+00  5.768e+01   0.169   0.8655  \n",
       "V23          2.417e+01  1.743e+02   0.139   0.8897  \n",
       "V24         -3.007e+00  1.661e+01  -0.181   0.8564  \n",
       "V25          1.377e+01  7.940e+01   0.173   0.8623  \n",
       "V26          3.044e+00  2.001e+01   0.152   0.8791  \n",
       "V27          2.276e+01  6.270e+01   0.363   0.7166  \n",
       "V28          3.705e+01  2.115e+02   0.175   0.8609  \n",
       "Amount       2.918e-01  2.014e+00   0.145   0.8848  \n",
       "---\n",
       "Signif. codes:  0 '***' 0.001 '**' 0.01 '*' 0.05 '.' 0.1 ' ' 1\n",
       "\n",
       "(Dispersion parameter for binomial family taken to be 1)\n",
       "\n",
       "    Null deviance: 962.09  on 693  degrees of freedom\n",
       "Residual deviance: 125.21  on 663  degrees of freedom\n",
       "AIC: 187.21\n",
       "\n",
       "Number of Fisher Scoring iterations: 25\n"
      ]
     },
     "metadata": {},
     "output_type": "display_data"
    },
    {
     "name": "stderr",
     "output_type": "stream",
     "text": [
      "Setting levels: control = 0, case = 1\n",
      "\n",
      "Setting direction: controls < cases\n",
      "\n"
     ]
    },
    {
     "data": {
      "text/plain": [
       "\n",
       "Call:\n",
       "roc.default(response = test$Class, predictor = predbm)\n",
       "\n",
       "Data: predbm in 85298 controls (test$Class 0) < 145 cases (test$Class 1).\n",
       "Area under the curve: 0.9823"
      ]
     },
     "metadata": {},
     "output_type": "display_data"
    }
   ],
   "source": [
    "# data_balanced_under \n",
    "bm <- glm(Class ~., data=data_balanced_under, family=\"binomial\")\n",
    "summary(bm)\n",
    "\n",
    "predbm <- predict(bm,newdata=test,type=\"response\")\n",
    "\n",
    "### AUC\n",
    "roc0 <- pROC::roc(test$Class, predbm)\n",
    "roc0"
   ]
  },
  {
   "cell_type": "code",
   "execution_count": 63,
   "metadata": {},
   "outputs": [
    {
     "name": "stderr",
     "output_type": "stream",
     "text": [
      "Warning message:\n",
      "\"glm.fit: fitted probabilities numerically 0 or 1 occurred\"\n"
     ]
    },
    {
     "data": {
      "text/plain": [
       "\n",
       "Call:\n",
       "glm(formula = Class ~ ., family = \"binomial\", data = data_balanced_over)\n",
       "\n",
       "Deviance Residuals: \n",
       "   Min      1Q  Median      3Q     Max  \n",
       "-8.490  -0.242   0.000   0.000   2.883  \n",
       "\n",
       "Coefficients:\n",
       "              Estimate Std. Error z value Pr(>|z|)    \n",
       "(Intercept) -3.502e+00  4.227e-02 -82.833  < 2e-16 ***\n",
       "Time        -6.210e-06  2.650e-07 -23.433  < 2e-16 ***\n",
       "V1           5.370e-01  1.704e-02  31.519  < 2e-16 ***\n",
       "V2           2.890e-01  3.520e-02   8.209 2.22e-16 ***\n",
       "V3           1.551e-01  1.484e-02  10.449  < 2e-16 ***\n",
       "V4           7.683e-01  1.051e-02  73.107  < 2e-16 ***\n",
       "V5           5.125e-01  2.323e-02  22.060  < 2e-16 ***\n",
       "V6          -3.792e-01  1.559e-02 -24.319  < 2e-16 ***\n",
       "V7          -3.587e-01  2.889e-02 -12.417  < 2e-16 ***\n",
       "V8          -5.058e-01  1.202e-02 -42.076  < 2e-16 ***\n",
       "V9          -1.394e-01  1.178e-02 -11.840  < 2e-16 ***\n",
       "V10         -5.195e-01  1.679e-02 -30.937  < 2e-16 ***\n",
       "V11          4.727e-01  1.163e-02  40.632  < 2e-16 ***\n",
       "V12         -1.021e+00  1.616e-02 -63.155  < 2e-16 ***\n",
       "V13         -3.053e-01  8.186e-03 -37.296  < 2e-16 ***\n",
       "V14         -1.328e+00  1.843e-02 -72.065  < 2e-16 ***\n",
       "V15         -1.481e-01  9.200e-03 -16.096  < 2e-16 ***\n",
       "V16         -5.136e-01  1.731e-02 -29.666  < 2e-16 ***\n",
       "V17         -7.443e-01  2.267e-02 -32.824  < 2e-16 ***\n",
       "V18         -3.087e-01  1.484e-02 -20.806  < 2e-16 ***\n",
       "V19          3.713e-01  1.222e-02  30.388  < 2e-16 ***\n",
       "V20         -4.080e-01  3.010e-02 -13.554  < 2e-16 ***\n",
       "V21          6.660e-02  1.305e-02   5.102 3.35e-07 ***\n",
       "V22          7.767e-01  1.638e-02  47.408  < 2e-16 ***\n",
       "V23          1.441e-01  2.913e-02   4.948 7.49e-07 ***\n",
       "V24         -2.128e-01  1.653e-02 -12.874  < 2e-16 ***\n",
       "V25          3.906e-01  2.136e-02  18.283  < 2e-16 ***\n",
       "V26         -8.570e-01  2.389e-02 -35.866  < 2e-16 ***\n",
       "V27          1.054e+00  3.527e-02  29.883  < 2e-16 ***\n",
       "V28          8.206e-01  3.896e-02  21.062  < 2e-16 ***\n",
       "Amount       5.134e-03  3.252e-04  15.791  < 2e-16 ***\n",
       "---\n",
       "Signif. codes:  0 '***' 0.001 '**' 0.01 '*' 0.05 '.' 0.1 ' ' 1\n",
       "\n",
       "(Dispersion parameter for binomial family taken to be 1)\n",
       "\n",
       "    Null deviance: 551792  on 398033  degrees of freedom\n",
       "Residual deviance:  99050  on 398003  degrees of freedom\n",
       "AIC: 99112\n",
       "\n",
       "Number of Fisher Scoring iterations: 17\n"
      ]
     },
     "metadata": {},
     "output_type": "display_data"
    },
    {
     "name": "stderr",
     "output_type": "stream",
     "text": [
      "Setting levels: control = 0, case = 1\n",
      "\n",
      "Setting direction: controls < cases\n",
      "\n"
     ]
    },
    {
     "data": {
      "text/plain": [
       "\n",
       "Call:\n",
       "roc.default(response = test$Class, predictor = predbm)\n",
       "\n",
       "Data: predbm in 85298 controls (test$Class 0) < 145 cases (test$Class 1).\n",
       "Area under the curve: 0.9782"
      ]
     },
     "metadata": {},
     "output_type": "display_data"
    }
   ],
   "source": [
    "# data_balanced_over\n",
    "bm <- glm(Class ~., data=data_balanced_over, family=\"binomial\")\n",
    "summary(bm)\n",
    "\n",
    "predbm <- predict(bm,newdata=test,type=\"response\")\n",
    "\n",
    "### AUC\n",
    "roc0 <- pROC::roc(test$Class, predbm)\n",
    "roc0"
   ]
  },
  {
   "cell_type": "code",
   "execution_count": 64,
   "metadata": {},
   "outputs": [
    {
     "name": "stderr",
     "output_type": "stream",
     "text": [
      "Warning message:\n",
      "\"glm.fit: algorithm did not converge\"\n",
      "Warning message:\n",
      "\"glm.fit: fitted probabilities numerically 0 or 1 occurred\"\n"
     ]
    },
    {
     "data": {
      "text/plain": [
       "\n",
       "Call:\n",
       "glm(formula = Class ~ ., family = \"binomial\", data = data_balanced_both)\n",
       "\n",
       "Deviance Residuals: \n",
       "    Min       1Q   Median       3Q      Max  \n",
       "-8.4904  -0.2359   0.0000   0.0000   2.9740  \n",
       "\n",
       "Coefficients:\n",
       "              Estimate Std. Error z value Pr(>|z|)    \n",
       "(Intercept) -3.529e+00  6.512e-02 -54.190  < 2e-16 ***\n",
       "Time        -6.039e-06  3.769e-07 -16.022  < 2e-16 ***\n",
       "V1           5.380e-01  2.716e-02  19.807  < 2e-16 ***\n",
       "V2           2.579e-01  5.710e-02   4.517 6.29e-06 ***\n",
       "V3           1.459e-01  2.364e-02   6.173 6.70e-10 ***\n",
       "V4           7.876e-01  1.612e-02  48.860  < 2e-16 ***\n",
       "V5           5.048e-01  3.764e-02  13.411  < 2e-16 ***\n",
       "V6          -3.681e-01  2.440e-02 -15.085  < 2e-16 ***\n",
       "V7          -3.318e-01  4.695e-02  -7.068 1.57e-12 ***\n",
       "V8          -5.326e-01  1.828e-02 -29.134  < 2e-16 ***\n",
       "V9          -1.723e-01  1.706e-02 -10.100  < 2e-16 ***\n",
       "V10         -5.487e-01  2.490e-02 -22.038  < 2e-16 ***\n",
       "V11          4.873e-01  1.677e-02  29.062  < 2e-16 ***\n",
       "V12         -1.075e+00  2.363e-02 -45.502  < 2e-16 ***\n",
       "V13         -3.218e-01  1.173e-02 -27.445  < 2e-16 ***\n",
       "V14         -1.353e+00  2.727e-02 -49.611  < 2e-16 ***\n",
       "V15         -1.420e-01  1.315e-02 -10.798  < 2e-16 ***\n",
       "V16         -5.523e-01  2.544e-02 -21.709  < 2e-16 ***\n",
       "V17         -7.812e-01  3.354e-02 -23.292  < 2e-16 ***\n",
       "V18         -3.158e-01  2.161e-02 -14.612  < 2e-16 ***\n",
       "V19          3.461e-01  1.808e-02  19.142  < 2e-16 ***\n",
       "V20         -3.862e-01  4.684e-02  -8.246  < 2e-16 ***\n",
       "V21          6.877e-02  1.922e-02   3.579 0.000345 ***\n",
       "V22          8.120e-01  2.433e-02  33.367  < 2e-16 ***\n",
       "V23          1.120e-01  4.769e-02   2.349 0.018810 *  \n",
       "V24         -1.764e-01  2.365e-02  -7.459 8.72e-14 ***\n",
       "V25          3.758e-01  3.148e-02  11.938  < 2e-16 ***\n",
       "V26         -9.288e-01  3.456e-02 -26.873  < 2e-16 ***\n",
       "V27          9.981e-01  5.072e-02  19.677  < 2e-16 ***\n",
       "V28          8.760e-01  5.890e-02  14.872  < 2e-16 ***\n",
       "Amount       4.693e-03  5.270e-04   8.905  < 2e-16 ***\n",
       "---\n",
       "Signif. codes:  0 '***' 0.001 '**' 0.01 '*' 0.05 '.' 0.1 ' ' 1\n",
       "\n",
       "(Dispersion parameter for binomial family taken to be 1)\n",
       "\n",
       "    Null deviance: 276377  on 199363  degrees of freedom\n",
       "Residual deviance:  48949  on 199333  degrees of freedom\n",
       "AIC: 49011\n",
       "\n",
       "Number of Fisher Scoring iterations: 25\n"
      ]
     },
     "metadata": {},
     "output_type": "display_data"
    },
    {
     "name": "stderr",
     "output_type": "stream",
     "text": [
      "Setting levels: control = 0, case = 1\n",
      "\n",
      "Setting direction: controls < cases\n",
      "\n"
     ]
    },
    {
     "data": {
      "text/plain": [
       "\n",
       "Call:\n",
       "roc.default(response = test$Class, predictor = predbm)\n",
       "\n",
       "Data: predbm in 85298 controls (test$Class 0) < 145 cases (test$Class 1).\n",
       "Area under the curve: 0.9784"
      ]
     },
     "metadata": {},
     "output_type": "display_data"
    }
   ],
   "source": [
    "# data_balanced_both\n",
    "bm <- glm(Class ~., data=data_balanced_both, family=\"binomial\")\n",
    "summary(bm)\n",
    "\n",
    "predbm <- predict(bm,newdata=test,type=\"response\")\n",
    "\n",
    "### AUC\n",
    "roc0 <- pROC::roc(test$Class, predbm)\n",
    "roc0"
   ]
  },
  {
   "cell_type": "code",
   "execution_count": 65,
   "metadata": {},
   "outputs": [
    {
     "name": "stderr",
     "output_type": "stream",
     "text": [
      "Warning message:\n",
      "\"glm.fit: fitted probabilities numerically 0 or 1 occurred\"\n"
     ]
    },
    {
     "data": {
      "text/plain": [
       "\n",
       "Call:\n",
       "glm(formula = Class ~ ., family = \"binomial\", data = data.rose)\n",
       "\n",
       "Deviance Residuals: \n",
       "    Min       1Q   Median       3Q      Max  \n",
       "-6.1421  -0.3930   0.0000   0.0226   4.5485  \n",
       "\n",
       "Coefficients:\n",
       "              Estimate Std. Error  z value Pr(>|z|)    \n",
       "(Intercept) -2.448e+00  2.026e-02 -120.855  < 2e-16 ***\n",
       "Time        -8.795e-07  1.721e-07   -5.110 3.23e-07 ***\n",
       "V1          -2.989e-02  2.613e-03  -11.437  < 2e-16 ***\n",
       "V2           8.656e-02  3.803e-03   22.759  < 2e-16 ***\n",
       "V3          -7.858e-02  2.771e-03  -28.355  < 2e-16 ***\n",
       "V4           4.633e-01  4.773e-03   97.062  < 2e-16 ***\n",
       "V5           1.854e-02  3.407e-03    5.443 5.24e-08 ***\n",
       "V6          -1.567e-01  5.908e-03  -26.522  < 2e-16 ***\n",
       "V7          -4.950e-02  2.822e-03  -17.540  < 2e-16 ***\n",
       "V8          -7.019e-02  2.737e-03  -25.650  < 2e-16 ***\n",
       "V9          -1.052e-01  5.929e-03  -17.751  < 2e-16 ***\n",
       "V10         -1.650e-01  3.972e-03  -41.533  < 2e-16 ***\n",
       "V11          3.072e-01  5.770e-03   53.249  < 2e-16 ***\n",
       "V12         -2.452e-01  4.227e-03  -58.004  < 2e-16 ***\n",
       "V13         -1.874e-01  7.424e-03  -25.244  < 2e-16 ***\n",
       "V14         -4.232e-01  4.461e-03  -94.853  < 2e-16 ***\n",
       "V15         -7.292e-02  7.962e-03   -9.159  < 2e-16 ***\n",
       "V16         -1.188e-01  4.812e-03  -24.687  < 2e-16 ***\n",
       "V17         -3.013e-02  2.796e-03  -10.774  < 2e-16 ***\n",
       "V18         -7.061e-03  5.847e-03   -1.208    0.227    \n",
       "V19          9.771e-03  7.631e-03    1.280    0.200    \n",
       "V20         -8.190e-02  8.676e-03   -9.440  < 2e-16 ***\n",
       "V21          3.162e-02  4.528e-03    6.984 2.88e-12 ***\n",
       "V22          1.329e-01  8.875e-03   14.973  < 2e-16 ***\n",
       "V23         -9.877e-02  6.964e-03  -14.184  < 2e-16 ***\n",
       "V24         -1.408e-01  1.360e-02  -10.349  < 2e-16 ***\n",
       "V25          1.332e-01  1.343e-02    9.915  < 2e-16 ***\n",
       "V26         -2.306e-01  1.638e-02  -14.077  < 2e-16 ***\n",
       "V27          1.691e-01  1.188e-02   14.232  < 2e-16 ***\n",
       "V28          2.076e-01  2.139e-02    9.707  < 2e-16 ***\n",
       "Amount       6.887e-04  3.217e-05   21.407  < 2e-16 ***\n",
       "---\n",
       "Signif. codes:  0 '***' 0.001 '**' 0.01 '*' 0.05 '.' 0.1 ' ' 1\n",
       "\n",
       "(Dispersion parameter for binomial family taken to be 1)\n",
       "\n",
       "    Null deviance: 276377  on 199363  degrees of freedom\n",
       "Residual deviance:  79596  on 199333  degrees of freedom\n",
       "AIC: 79658\n",
       "\n",
       "Number of Fisher Scoring iterations: 8\n"
      ]
     },
     "metadata": {},
     "output_type": "display_data"
    },
    {
     "name": "stderr",
     "output_type": "stream",
     "text": [
      "Setting levels: control = 0, case = 1\n",
      "\n",
      "Setting direction: controls < cases\n",
      "\n"
     ]
    },
    {
     "data": {
      "text/plain": [
       "\n",
       "Call:\n",
       "roc.default(response = test$Class, predictor = predbm)\n",
       "\n",
       "Data: predbm in 85298 controls (test$Class 0) < 145 cases (test$Class 1).\n",
       "Area under the curve: 0.9816"
      ]
     },
     "metadata": {},
     "output_type": "display_data"
    }
   ],
   "source": [
    "# data.rose\n",
    "bm <- glm(Class ~., data=data.rose, family=\"binomial\")\n",
    "summary(bm)\n",
    "\n",
    "predbm <- predict(bm,newdata=test,type=\"response\")\n",
    "\n",
    "### AUC\n",
    "roc0 <- pROC::roc(test$Class, predbm)\n",
    "roc0"
   ]
  },
  {
   "cell_type": "code",
   "execution_count": null,
   "metadata": {},
   "outputs": [],
   "source": []
  },
  {
   "cell_type": "code",
   "execution_count": null,
   "metadata": {},
   "outputs": [],
   "source": []
  },
  {
   "cell_type": "code",
   "execution_count": 44,
   "metadata": {},
   "outputs": [
    {
     "data": {
      "text/plain": [
       "\n",
       "     0      1 \n",
       "199017    347 "
      ]
     },
     "metadata": {},
     "output_type": "display_data"
    }
   ],
   "source": [
    "table(train$Class)"
   ]
  },
  {
   "cell_type": "code",
   "execution_count": 45,
   "metadata": {},
   "outputs": [
    {
     "data": {
      "text/html": [
       "199017"
      ],
      "text/latex": [
       "199017"
      ],
      "text/markdown": [
       "199017"
      ],
      "text/plain": [
       "[1] 199017"
      ]
     },
     "metadata": {},
     "output_type": "display_data"
    }
   ],
   "source": [
    "tr1 <- train %>% filter(Class==0)\n",
    "nrow(tr1)"
   ]
  },
  {
   "cell_type": "code",
   "execution_count": 46,
   "metadata": {},
   "outputs": [
    {
     "name": "stderr",
     "output_type": "stream",
     "text": [
      "Warning message:\n",
      "\"Quick-TRANSfer stage steps exceeded maximum (= 9950850)\"\n"
     ]
    },
    {
     "data": {
      "text/plain": [
       "\n",
       "   1    2    3    4    5    6    7    8    9   10   11   12   13   14   15   16 \n",
       " 638  680  606  569  564  667  719  697  854  603   64  665  718   10  548  562 \n",
       "  17   18   19   20   21   22   23   24   25   26   27   28   29   30   31   32 \n",
       " 462  529  722  659  557  731  837   36  560  494  599  631  689  501  671  643 \n",
       "  33   34   35   36   37   38   39   40   41   42   43   44   45   46   47   48 \n",
       " 766   20   49  655   15  450  480  787  637  455  777  564  763  743   76  639 \n",
       "  49   50   51   52   53   54   55   56   57   58   59   60   61   62   63   64 \n",
       "  21  644  581  751  508  733   39  528  725  596  497   21  614    1  690  768 \n",
       "  65   66   67   68   69   70   71   72   73   74   75   76   77   78   79   80 \n",
       " 459  622  580  740  697  732  766  756  415  736  554   77  635  791   11  517 \n",
       "  81   82   83   84   85   86   87   88   89   90   91   92   93   94   95   96 \n",
       " 823  712  594   57  698   53  728  582  863  650  557  618  633  819  955  540 \n",
       "  97   98   99  100  101  102  103  104  105  106  107  108  109  110  111  112 \n",
       " 820  717  729   24  554  560  816  707  808  600  671  511  597  734  504  711 \n",
       " 113  114  115  116  117  118  119  120  121  122  123  124  125  126  127  128 \n",
       " 549  509  534  638  731  494  564  886  879  879  361  518  558  665  707  659 \n",
       " 129  130  131  132  133  134  135  136  137  138  139  140  141  142  143  144 \n",
       " 740  771  661  872  791  626  822  743  489   36  751  759  636  628  812  599 \n",
       " 145  146  147  148  149  150  151  152  153  154  155  156  157  158  159  160 \n",
       " 659  674  837 1051  594  477  649   60  785  714  726  540  641  727  624  431 \n",
       " 161  162  163  164  165  166  167  168  169  170  171  172  173  174  175  176 \n",
       "  61  313  660   74  749   16  659   20   93  588  582  528  710  522  674  756 \n",
       " 177  178  179  180  181  182  183  184  185  186  187  188  189  190  191  192 \n",
       " 668  611   35  721  495  996  610  351  535  830  572  850  853  634  673  762 \n",
       " 193  194  195  196  197  198  199  200  201  202  203  204  205  206  207  208 \n",
       " 566  701  477  765  717  646  675    6  595  775  449  549  644  670  736    5 \n",
       " 209  210  211  212  213  214  215  216  217  218  219  220  221  222  223  224 \n",
       " 786  603    9  566  668   24  468  792  656 1035  750  579  693  462  736 1096 \n",
       " 225  226  227  228  229  230  231  232  233  234  235  236  237  238  239  240 \n",
       " 605  505  454  701  545  472  705  863  489  661  648   78  797  539   42  681 \n",
       " 241  242  243  244  245  246  247  248  249  250  251  252  253  254  255  256 \n",
       " 500  620  557  552  793  663  547  845  612  820  621  828  615  527   49 1163 \n",
       " 257  258  259  260  261  262  263  264  265  266  267  268  269  270  271  272 \n",
       " 517  635  676  912  578   44  451  509  764  602  688  653  473   25  674  813 \n",
       " 273  274  275  276  277  278  279  280  281  282  283  284  285  286  287  288 \n",
       " 593  637  778  582  763  564  521  600  623  646   49  876  652  627  618  579 \n",
       " 289  290  291  292  293  294  295  296  297  298  299  300  301  302  303  304 \n",
       " 473  668  659  507   61   14    2  816  599  478   54  766  913  821  610  500 \n",
       " 305  306  307  308  309  310  311  312  313  314  315  316  317  318  319  320 \n",
       " 822   67   36   75   63  590  626  755  685  704    1  520  481  647  628  786 \n",
       " 321  322  323  324  325  326  327  328  329  330  331  332  333  334  335  336 \n",
       " 674   67  814  573  615  774   25  591  840  720  593  786  592   86  729  406 \n",
       " 337  338  339  340  341  342  343  344  345  346  347 \n",
       " 634  632  717  737  756   51  696  514  642  522  718 "
      ]
     },
     "metadata": {},
     "output_type": "display_data"
    }
   ],
   "source": [
    "#### k-means with 347 clusters\n",
    "kmod <- kmeans(tr1[,1:31],centers = 347)\n",
    "table(kmod$cluster)"
   ]
  },
  {
   "cell_type": "code",
   "execution_count": 47,
   "metadata": {},
   "outputs": [
    {
     "data": {
      "text/html": [
       "<table>\n",
       "<caption>A matrix: 347 × 31 of type dbl</caption>\n",
       "<thead>\n",
       "\t<tr><th></th><th scope=col>Time</th><th scope=col>V1</th><th scope=col>V2</th><th scope=col>V3</th><th scope=col>V4</th><th scope=col>V5</th><th scope=col>V6</th><th scope=col>V7</th><th scope=col>V8</th><th scope=col>V9</th><th scope=col>...</th><th scope=col>V21</th><th scope=col>V22</th><th scope=col>V23</th><th scope=col>V24</th><th scope=col>V25</th><th scope=col>V26</th><th scope=col>V27</th><th scope=col>V28</th><th scope=col>Amount</th><th scope=col>Class</th></tr>\n",
       "</thead>\n",
       "<tbody>\n",
       "\t<tr><th scope=row>1</th><td> 39078.98</td><td>-0.31072050</td><td>  0.055269695</td><td> 0.6570110</td><td> 0.14851188</td><td>-0.3332589</td><td> 0.091361135</td><td>-0.14748340</td><td> 0.1698362017</td><td>-0.185888866</td><td>...</td><td>-0.040245353</td><td>-0.114517527</td><td>-0.017870047</td><td> 0.015648685</td><td> 0.14129757</td><td> 0.022950988</td><td> 0.0318932449</td><td> 0.017862161</td><td>  89.22155</td><td>0</td></tr>\n",
       "\t<tr><th scope=row>2</th><td> 55083.77</td><td>-0.17113758</td><td> -0.138812799</td><td> 0.6288612</td><td> 0.05875734</td><td>-0.3153015</td><td> 0.084576051</td><td>-0.17078124</td><td>-0.0270790287</td><td>-0.280087909</td><td>...</td><td>-0.050822069</td><td>-0.091037768</td><td>-0.005035985</td><td> 0.046395852</td><td> 0.12723720</td><td> 0.079935954</td><td> 0.0174419812</td><td> 0.006210841</td><td>  97.67660</td><td>0</td></tr>\n",
       "\t<tr><th scope=row>3</th><td>139948.61</td><td> 0.10196330</td><td>  0.010077426</td><td>-0.7591726</td><td>-0.27668039</td><td> 0.4322285</td><td>-0.184839351</td><td> 0.03340623</td><td>-0.1208256000</td><td>-0.025929789</td><td>...</td><td> 0.088749916</td><td> 0.126872182</td><td> 0.063624352</td><td>-0.041850568</td><td>-0.14057149</td><td>-0.016632957</td><td> 0.0091200572</td><td>-0.009199069</td><td>  65.06853</td><td>0</td></tr>\n",
       "\t<tr><th scope=row>4</th><td>127080.78</td><td> 0.34076808</td><td> -0.273547924</td><td>-0.6189680</td><td>-0.20489040</td><td> 0.3227942</td><td>-0.094358138</td><td> 0.05008764</td><td>-0.0560680100</td><td> 0.003416217</td><td>...</td><td> 0.016773010</td><td> 0.160344952</td><td> 0.062956105</td><td>-0.054157136</td><td>-0.15094602</td><td>-0.046088862</td><td> 0.0316039336</td><td> 0.004905721</td><td>  80.99837</td><td>0</td></tr>\n",
       "\t<tr><th scope=row>5</th><td>151482.60</td><td> 0.27094768</td><td>  0.009461956</td><td>-0.8432279</td><td>-0.25841367</td><td> 0.3170964</td><td>-0.138634158</td><td> 0.16006181</td><td>-0.0073852039</td><td> 0.068387037</td><td>...</td><td>-0.013690442</td><td> 0.107376996</td><td> 0.045207433</td><td>-0.011786166</td><td>-0.17289271</td><td>-0.022593810</td><td>-0.0226576142</td><td>-0.004407251</td><td>  85.20200</td><td>0</td></tr>\n",
       "\t<tr><th scope=row>6</th><td>100177.27</td><td> 0.56500398</td><td>  0.038989610</td><td>-0.0484719</td><td> 0.46679774</td><td> 0.2463152</td><td> 0.234802049</td><td>-0.26604256</td><td>-0.1186282222</td><td> 1.660461472</td><td>...</td><td>-0.003330934</td><td> 0.046613289</td><td> 0.107033922</td><td>-0.064955236</td><td>-0.28343617</td><td> 0.120481520</td><td>-0.0230792200</td><td> 0.004918642</td><td>  56.99255</td><td>0</td></tr>\n",
       "\t<tr><th scope=row>7</th><td>147365.95</td><td> 0.25765694</td><td> -0.070036361</td><td>-0.7025798</td><td>-0.23086178</td><td> 0.2251348</td><td>-0.119572992</td><td> 0.01075957</td><td>-0.0085375896</td><td>-0.060269726</td><td>...</td><td>-0.011288780</td><td> 0.080489621</td><td> 0.023276979</td><td>-0.037284088</td><td>-0.13065215</td><td>-0.029352328</td><td>-0.0167739979</td><td>-0.025861119</td><td>  74.41608</td><td>0</td></tr>\n",
       "\t<tr><th scope=row>8</th><td>125574.14</td><td> 0.44678505</td><td> -0.135248648</td><td>-0.7170618</td><td>-0.16585135</td><td> 0.3811659</td><td> 0.050819777</td><td> 0.15210375</td><td>-0.0750534464</td><td>-0.041755484</td><td>...</td><td> 0.081653290</td><td> 0.173034343</td><td> 0.035947371</td><td>-0.035243641</td><td>-0.07840398</td><td>-0.029323333</td><td>-0.0088405866</td><td>-0.001651591</td><td>  85.13479</td><td>0</td></tr>\n",
       "\t<tr><th scope=row>9</th><td> 61766.53</td><td>-0.27186346</td><td>  0.044227461</td><td> 0.6753161</td><td> 0.10962633</td><td>-0.2396407</td><td> 0.070630611</td><td>-0.13183650</td><td> 0.0718748046</td><td>-0.169643092</td><td>...</td><td>-0.062553226</td><td>-0.162791773</td><td>-0.022140505</td><td>-0.003851591</td><td> 0.12825905</td><td> 0.053671787</td><td> 0.0198783253</td><td> 0.010468859</td><td>  82.32230</td><td>0</td></tr>\n",
       "\t<tr><th scope=row>10</th><td>130116.18</td><td> 0.33663040</td><td> -0.057992010</td><td>-0.6854160</td><td> 0.05750246</td><td> 0.3613115</td><td>-0.062259696</td><td> 0.12347195</td><td>-0.0884401101</td><td>-0.039683817</td><td>...</td><td> 0.009626657</td><td> 0.213908031</td><td> 0.027617244</td><td> 0.016017197</td><td>-0.08971119</td><td>-0.027889309</td><td>-0.0479709458</td><td> 0.019984861</td><td>  78.04430</td><td>0</td></tr>\n",
       "\t<tr><th scope=row>11</th><td> 73396.61</td><td>-2.15118965</td><td> -3.644059695</td><td>-0.7452464</td><td> 1.02242066</td><td>-2.4928228</td><td> 1.035987417</td><td> 2.13415611</td><td>-0.2487314697</td><td>-0.309985890</td><td>...</td><td> 0.380775564</td><td>-0.482488761</td><td> 0.090233905</td><td> 0.020528730</td><td> 0.12582753</td><td> 0.184029156</td><td>-0.1407953034</td><td> 0.131253432</td><td>1133.88016</td><td>0</td></tr>\n",
       "\t<tr><th scope=row>12</th><td>133334.20</td><td> 0.48000602</td><td> -0.004436456</td><td>-0.7057114</td><td>-0.18113097</td><td> 0.3567141</td><td>-0.125424769</td><td> 0.15043415</td><td>-0.0975592259</td><td> 0.024491188</td><td>...</td><td> 0.061413398</td><td> 0.222789678</td><td> 0.023468884</td><td>-0.061368155</td><td>-0.11633736</td><td>-0.034161829</td><td>-0.0208342090</td><td>-0.030420856</td><td>  64.33611</td><td>0</td></tr>\n",
       "\t<tr><th scope=row>13</th><td> 40821.12</td><td>-0.20202927</td><td> -0.086320588</td><td> 0.7528472</td><td> 0.21418139</td><td>-0.2816654</td><td> 0.114476164</td><td>-0.15697680</td><td> 0.1700860471</td><td>-0.232640903</td><td>...</td><td>-0.034938549</td><td>-0.045973018</td><td> 0.002464308</td><td> 0.073082352</td><td> 0.14855830</td><td> 0.021953663</td><td> 0.0113850730</td><td>-0.011136600</td><td>  80.67816</td><td>0</td></tr>\n",
       "\t<tr><th scope=row>14</th><td> 81572.80</td><td>-5.28390094</td><td>-10.386157642</td><td>-3.4657736</td><td> 2.64339121</td><td>-4.9818087</td><td> 1.879140498</td><td> 5.19829379</td><td>-0.8585215556</td><td>-0.418635599</td><td>...</td><td> 1.728673673</td><td>-1.727522437</td><td>-1.889411220</td><td> 0.372502657</td><td>-0.56507391</td><td>-0.228195695</td><td>-0.5451730764</td><td> 0.471706266</td><td>3383.31100</td><td>0</td></tr>\n",
       "\t<tr><th scope=row>15</th><td>139598.09</td><td> 0.24611470</td><td>  0.068779172</td><td>-0.7346061</td><td>-0.27551264</td><td> 0.2810595</td><td>-0.100862190</td><td>-0.03924137</td><td>-0.1335610973</td><td> 0.001799951</td><td>...</td><td> 0.113726379</td><td> 0.153593558</td><td> 0.061064594</td><td>-0.030328751</td><td>-0.08729945</td><td> 0.002055738</td><td>-0.0125506712</td><td> 0.005293952</td><td>  54.13942</td><td>0</td></tr>\n",
       "\t<tr><th scope=row>16</th><td>150293.97</td><td> 0.51529566</td><td> -0.082065179</td><td>-0.5854776</td><td>-0.12550441</td><td> 0.2940718</td><td> 0.015390359</td><td> 0.03222041</td><td>-0.0539914881</td><td> 0.014896875</td><td>...</td><td> 0.064123174</td><td> 0.083400152</td><td> 0.058013191</td><td>-0.039952248</td><td>-0.16831834</td><td>-0.052807325</td><td>-0.0180242472</td><td>-0.012075035</td><td>  68.90123</td><td>0</td></tr>\n",
       "\t<tr><th scope=row>17</th><td>106034.06</td><td> 0.04128552</td><td>  0.303876007</td><td> 0.3776083</td><td> 0.10368239</td><td> 0.4534444</td><td>-0.127133074</td><td> 0.21922832</td><td>-0.2046951316</td><td> 1.650690597</td><td>...</td><td>-0.156771221</td><td>-0.084758655</td><td> 0.031927062</td><td>-0.167150398</td><td>-0.11119324</td><td>-0.362069511</td><td>-0.0029705073</td><td>-0.043740305</td><td>  41.65494</td><td>0</td></tr>\n",
       "\t<tr><th scope=row>18</th><td>155368.43</td><td> 0.60698390</td><td> -0.128672119</td><td>-0.6506240</td><td>-0.20087091</td><td> 0.1123113</td><td>-0.159585782</td><td>-0.05110556</td><td> 0.0008906534</td><td>-0.047306266</td><td>...</td><td>-0.000532708</td><td> 0.031562356</td><td> 0.081656696</td><td> 0.038574205</td><td>-0.19304970</td><td>-0.073360593</td><td>-0.0234598002</td><td>-0.005701046</td><td>  63.43403</td><td>0</td></tr>\n",
       "\t<tr><th scope=row>19</th><td>148197.06</td><td> 0.19639856</td><td> -0.045136306</td><td>-0.7917665</td><td>-0.16193919</td><td> 0.3171426</td><td> 0.024919140</td><td> 0.15115080</td><td>-0.0744691097</td><td>-0.041017935</td><td>...</td><td> 0.001827494</td><td> 0.130235556</td><td>-0.027711844</td><td> 0.013810287</td><td>-0.16145473</td><td>-0.010572352</td><td>-0.0077120153</td><td>-0.016710415</td><td>  75.46382</td><td>0</td></tr>\n",
       "\t<tr><th scope=row>20</th><td>144632.51</td><td> 0.31284073</td><td>  0.014354643</td><td>-0.6999302</td><td>-0.27406115</td><td> 0.2258706</td><td>-0.120589669</td><td> 0.03846316</td><td>-0.0653453568</td><td>-0.056011129</td><td>...</td><td> 0.029894044</td><td> 0.131874797</td><td> 0.069173064</td><td>-0.007710451</td><td>-0.14099996</td><td>-0.049865096</td><td> 0.0073845347</td><td>-0.003187561</td><td>  67.79171</td><td>0</td></tr>\n",
       "\t<tr><th scope=row>21</th><td> 84091.26</td><td>-0.48470627</td><td>  0.363300551</td><td> 0.6918710</td><td> 0.31360372</td><td>-0.2417138</td><td> 0.086276730</td><td>-0.06801120</td><td> 0.0381242259</td><td>-0.275561199</td><td>...</td><td>-0.077933853</td><td>-0.126133477</td><td> 0.016793304</td><td> 0.019103762</td><td> 0.12446545</td><td> 0.007386605</td><td>-0.0117404171</td><td>-0.001570810</td><td>  75.87524</td><td>0</td></tr>\n",
       "\t<tr><th scope=row>22</th><td>135573.13</td><td> 0.40257424</td><td> -0.079226775</td><td>-0.7668593</td><td>-0.28009990</td><td> 0.3944061</td><td> 0.005904673</td><td> 0.08797375</td><td>-0.1224628410</td><td> 0.003599094</td><td>...</td><td> 0.056536314</td><td> 0.144268314</td><td> 0.016129300</td><td>-0.008730191</td><td>-0.11120264</td><td>-0.036374960</td><td>-0.0075287386</td><td>-0.015379721</td><td>  69.50514</td><td>0</td></tr>\n",
       "\t<tr><th scope=row>23</th><td>163506.39</td><td> 0.34394494</td><td>  0.041669171</td><td>-0.4505507</td><td>-0.16290402</td><td> 0.2150273</td><td>-0.219546356</td><td> 0.05630249</td><td> 0.0196621812</td><td> 0.097090089</td><td>...</td><td>-0.027903864</td><td> 0.031913899</td><td> 0.005021856</td><td>-0.022495403</td><td>-0.15182086</td><td>-0.116236364</td><td> 0.0167857944</td><td>-0.014636713</td><td>  57.69996</td><td>0</td></tr>\n",
       "\t<tr><th scope=row>24</th><td>161650.75</td><td>-3.45282340</td><td> -5.920166907</td><td>-4.2279920</td><td> 1.26526413</td><td>-4.0459536</td><td> 2.140177534</td><td> 5.23675252</td><td>-1.1712173381</td><td>-0.596636854</td><td>...</td><td> 0.428142284</td><td>-0.190163992</td><td>-0.539311303</td><td> 0.003237059</td><td>-0.46468505</td><td> 0.063886754</td><td>-0.0883103640</td><td> 0.322731757</td><td>2042.62500</td><td>0</td></tr>\n",
       "\t<tr><th scope=row>25</th><td>166870.85</td><td> 0.28846445</td><td>  0.121156104</td><td>-0.7400385</td><td>-0.12148491</td><td> 0.3078815</td><td>-0.102639679</td><td> 0.09777787</td><td> 0.0351644984</td><td>-0.013473057</td><td>...</td><td> 0.004966801</td><td> 0.005241996</td><td> 0.071725033</td><td>-0.034149250</td><td>-0.17669926</td><td> 0.020209569</td><td>-0.0282418574</td><td>-0.045021825</td><td>  65.62034</td><td>0</td></tr>\n",
       "\t<tr><th scope=row>26</th><td>115419.98</td><td> 0.39494874</td><td>  0.027865985</td><td>-0.3606408</td><td>-0.10081224</td><td> 0.3214060</td><td>-0.049263148</td><td> 0.06467626</td><td>-0.1643488627</td><td> 0.049114375</td><td>...</td><td> 0.055710611</td><td> 0.225714152</td><td>-0.001273862</td><td>-0.018699264</td><td>-0.12429317</td><td> 0.021154191</td><td>-0.0006231861</td><td>-0.013296749</td><td>  57.09933</td><td>0</td></tr>\n",
       "\t<tr><th scope=row>27</th><td>132497.05</td><td> 0.37155768</td><td> -0.076027532</td><td>-0.6633128</td><td>-0.35778045</td><td> 0.3413603</td><td>-0.086764124</td><td> 0.06780735</td><td>-0.0826542204</td><td>-0.045193445</td><td>...</td><td> 0.064810840</td><td> 0.210411411</td><td> 0.025079773</td><td>-0.003576407</td><td>-0.14109594</td><td>-0.019518069</td><td> 0.0085319281</td><td>-0.009931232</td><td>  70.17639</td><td>0</td></tr>\n",
       "\t<tr><th scope=row>28</th><td> 77653.09</td><td>-0.22781108</td><td>  0.062725205</td><td> 0.6100392</td><td> 0.02476184</td><td>-0.2954482</td><td> 0.089103711</td><td>-0.17018044</td><td> 0.0807979952</td><td>-0.352431299</td><td>...</td><td>-0.059167626</td><td>-0.163296997</td><td>-0.015055271</td><td> 0.035652647</td><td> 0.10952493</td><td> 0.028959576</td><td>-0.0120784678</td><td> 0.008536335</td><td>  87.81984</td><td>0</td></tr>\n",
       "\t<tr><th scope=row>29</th><td>134145.40</td><td> 0.33064037</td><td> -0.165887594</td><td>-0.8386293</td><td>-0.05238871</td><td> 0.3975371</td><td>-0.050944442</td><td> 0.17557580</td><td>-0.1150324120</td><td>-0.003307413</td><td>...</td><td> 0.008594455</td><td> 0.147088822</td><td>-0.003125795</td><td>-0.011913646</td><td>-0.11251917</td><td>-0.007692189</td><td>-0.0300361702</td><td> 0.045154632</td><td>  86.24985</td><td>0</td></tr>\n",
       "\t<tr><th scope=row>30</th><td>153136.04</td><td> 0.19271528</td><td>  0.128351634</td><td>-0.7343868</td><td>-0.22377460</td><td> 0.2118647</td><td>-0.166743783</td><td>-0.03047790</td><td>-0.0786457493</td><td>-0.012345096</td><td>...</td><td> 0.151813664</td><td> 0.107385766</td><td> 0.045896207</td><td>-0.009721877</td><td>-0.15160079</td><td> 0.011801284</td><td>-0.0043024938</td><td>-0.017200457</td><td>  63.33619</td><td>0</td></tr>\n",
       "\t<tr><th scope=row>...</th><td>...</td><td>...</td><td>...</td><td>...</td><td>...</td><td>...</td><td>...</td><td>...</td><td>...</td><td>...</td><td></td><td>...</td><td>...</td><td>...</td><td>...</td><td>...</td><td>...</td><td>...</td><td>...</td><td>...</td><td>...</td></tr>\n",
       "\t<tr><th scope=row>318</th><td>124779.36</td><td> 0.279449281</td><td>-0.092407223</td><td>-0.6757250</td><td>-0.13441463</td><td> 0.33490337</td><td>-0.036700725</td><td> 0.131356158</td><td>-0.003347133</td><td> 0.039472153</td><td>...</td><td> 9.728918e-02</td><td> 0.18837233</td><td> 0.028654431</td><td>-0.0058770968</td><td>-0.12432230</td><td>-0.020084616</td><td> 1.370529e-02</td><td> 0.0116633270</td><td>  81.72320</td><td>0</td></tr>\n",
       "\t<tr><th scope=row>319</th><td> 39483.30</td><td>-0.484486025</td><td> 0.006013945</td><td> 0.6389719</td><td> 0.05596226</td><td>-0.36434206</td><td> 0.089896657</td><td>-0.137202942</td><td> 0.198247248</td><td>-0.172972550</td><td>...</td><td>-9.280885e-04</td><td>-0.06153854</td><td>-0.028891864</td><td> 0.0139635233</td><td> 0.14941015</td><td> 0.055726674</td><td>-3.590185e-02</td><td> 0.0055895454</td><td>  92.95901</td><td>0</td></tr>\n",
       "\t<tr><th scope=row>320</th><td> 70672.22</td><td>-0.135636695</td><td> 0.053382094</td><td> 0.6537638</td><td> 0.11171120</td><td>-0.31000081</td><td>-0.011749109</td><td>-0.104738827</td><td> 0.017407717</td><td>-0.267967725</td><td>...</td><td>-1.204099e-01</td><td>-0.23021304</td><td>-0.035853919</td><td> 0.0298658200</td><td> 0.10168575</td><td> 0.038357386</td><td> 1.545671e-02</td><td>-0.0036709774</td><td>  78.60936</td><td>0</td></tr>\n",
       "\t<tr><th scope=row>321</th><td>170876.66</td><td>-0.117174259</td><td> 0.492780495</td><td>-0.8572556</td><td>-0.02498184</td><td> 0.21120548</td><td>-0.216129632</td><td> 0.007563428</td><td> 0.049169256</td><td> 0.002005380</td><td>...</td><td> 2.730091e-02</td><td> 0.09301047</td><td> 0.060386405</td><td> 0.0126026185</td><td>-0.13308230</td><td> 0.009102818</td><td> 5.981618e-03</td><td> 0.0175099315</td><td>  60.14093</td><td>0</td></tr>\n",
       "\t<tr><th scope=row>322</th><td> 35427.39</td><td>-1.477988195</td><td>-3.229167789</td><td>-0.4294787</td><td> 0.52133875</td><td>-2.52336301</td><td> 1.159695493</td><td> 1.986559370</td><td>-0.319921089</td><td>-0.380313253</td><td>...</td><td> 3.841866e-01</td><td>-0.27305711</td><td>-0.314103226</td><td> 0.1385241054</td><td> 0.01378948</td><td> 0.132786091</td><td>-4.432101e-02</td><td> 0.0201572698</td><td>1104.86164</td><td>0</td></tr>\n",
       "\t<tr><th scope=row>323</th><td> 65431.88</td><td>-0.206630248</td><td> 0.146263967</td><td> 0.6398639</td><td> 0.19467829</td><td>-0.24934598</td><td> 0.130417078</td><td>-0.156674319</td><td> 0.193333617</td><td>-0.213725880</td><td>...</td><td>-6.474668e-02</td><td>-0.16826633</td><td>-0.024470928</td><td>-0.0061431283</td><td> 0.12176602</td><td> 0.003770032</td><td> 5.559926e-03</td><td> 0.0097225101</td><td>  72.87043</td><td>0</td></tr>\n",
       "\t<tr><th scope=row>324</th><td> 80357.66</td><td>-0.238249227</td><td> 0.304198934</td><td> 0.6192614</td><td> 0.10486312</td><td>-0.28737911</td><td>-0.032253062</td><td>-0.077476317</td><td> 0.130533362</td><td>-0.260405742</td><td>...</td><td>-4.793740e-02</td><td>-0.13360767</td><td>-0.047301278</td><td> 0.0324986335</td><td> 0.12686301</td><td> 0.006207444</td><td>-3.213933e-02</td><td> 0.0003573302</td><td>  69.20822</td><td>0</td></tr>\n",
       "\t<tr><th scope=row>325</th><td>131263.40</td><td> 0.192668019</td><td>-0.045670153</td><td>-0.7922564</td><td>-0.23949586</td><td> 0.32294029</td><td>-0.072792902</td><td> 0.120415787</td><td>-0.075105371</td><td>-0.047446384</td><td>...</td><td> 6.776713e-02</td><td> 0.14703849</td><td> 0.064908942</td><td>-0.0081639775</td><td>-0.14419543</td><td>-0.034821010</td><td> 4.171267e-02</td><td>-0.0151574961</td><td>  84.57995</td><td>0</td></tr>\n",
       "\t<tr><th scope=row>326</th><td>145077.70</td><td> 0.297021822</td><td>-0.084754858</td><td>-0.6394100</td><td>-0.16513192</td><td> 0.30793006</td><td>-0.157327677</td><td> 0.076934409</td><td>-0.094011645</td><td> 0.037215338</td><td>...</td><td>-1.035687e-02</td><td> 0.07572437</td><td> 0.046450001</td><td>-0.0176264779</td><td>-0.18448813</td><td>-0.013855316</td><td>-3.614169e-02</td><td>-0.0095209190</td><td>  74.26434</td><td>0</td></tr>\n",
       "\t<tr><th scope=row>327</th><td>130100.60</td><td>-3.733415061</td><td>-7.631392412</td><td>-3.9777130</td><td> 1.11648203</td><td>-3.39228182</td><td> 1.638727889</td><td> 4.112043478</td><td>-1.668802480</td><td>-0.608340607</td><td>...</td><td> 1.008842e+00</td><td>-0.92242912</td><td>-1.739337876</td><td> 0.2179008526</td><td>-0.70752398</td><td>-0.231670874</td><td> 2.958668e-01</td><td>-0.0302437428</td><td>2468.74280</td><td>0</td></tr>\n",
       "\t<tr><th scope=row>328</th><td>167824.23</td><td> 0.215197555</td><td> 0.302248813</td><td>-0.8044695</td><td>-0.15770847</td><td> 0.33217974</td><td>-0.111497049</td><td> 0.119225020</td><td> 0.038154470</td><td>-0.003279694</td><td>...</td><td>-4.250156e-02</td><td> 0.07272891</td><td> 0.049599785</td><td>-0.0203688654</td><td>-0.15226393</td><td> 0.007557170</td><td>-1.477507e-02</td><td>-0.0239687638</td><td>  58.35601</td><td>0</td></tr>\n",
       "\t<tr><th scope=row>329</th><td>162419.85</td><td> 0.235019920</td><td> 0.176116171</td><td>-0.6361090</td><td>-0.29049016</td><td> 0.28831680</td><td>-0.162176361</td><td> 0.107558585</td><td>-0.027458455</td><td> 0.013220216</td><td>...</td><td> 3.169551e-02</td><td> 0.04373496</td><td> 0.055950579</td><td> 0.0116630623</td><td>-0.15096473</td><td>-0.060202745</td><td>-5.286077e-05</td><td> 0.0048987011</td><td>  58.29520</td><td>0</td></tr>\n",
       "\t<tr><th scope=row>330</th><td> 30294.18</td><td>-0.331751811</td><td> 0.147043387</td><td> 0.5524052</td><td> 0.15962275</td><td>-0.22018964</td><td>-0.045447374</td><td>-0.123461068</td><td> 0.119412678</td><td>-0.185699547</td><td>...</td><td>-2.185871e-03</td><td>-0.14097889</td><td>-0.029082876</td><td>-0.0382147043</td><td> 0.15295331</td><td>-0.014093754</td><td> 1.332937e-02</td><td>-0.0069808604</td><td>  73.04461</td><td>0</td></tr>\n",
       "\t<tr><th scope=row>331</th><td>132913.23</td><td> 0.156511237</td><td>-0.020986691</td><td>-0.7649310</td><td>-0.31377170</td><td> 0.25499858</td><td>-0.065148067</td><td> 0.089738947</td><td>-0.123902836</td><td> 0.080378589</td><td>...</td><td>-2.732455e-04</td><td> 0.21002475</td><td>-0.012933703</td><td>-0.0344462117</td><td>-0.10479374</td><td>-0.059580901</td><td>-1.664895e-02</td><td>-0.0113868168</td><td>  82.69454</td><td>0</td></tr>\n",
       "\t<tr><th scope=row>332</th><td> 72112.21</td><td>-0.180423178</td><td> 0.283286488</td><td> 0.6310595</td><td> 0.14519828</td><td>-0.23147528</td><td> 0.048554887</td><td>-0.098398760</td><td> 0.089691053</td><td>-0.262203656</td><td>...</td><td>-9.948733e-02</td><td>-0.17370501</td><td>-0.008208614</td><td> 0.0377391154</td><td> 0.13027795</td><td> 0.052453411</td><td>-1.046897e-02</td><td>-0.0014038377</td><td>  62.94589</td><td>0</td></tr>\n",
       "\t<tr><th scope=row>333</th><td>133737.76</td><td> 0.362159281</td><td>-0.107103792</td><td>-0.7930587</td><td>-0.13763953</td><td> 0.32474373</td><td>-0.080532362</td><td> 0.157493797</td><td>-0.024108888</td><td> 0.093240056</td><td>...</td><td> 5.911986e-02</td><td> 0.11620636</td><td> 0.041092861</td><td>-0.0193783842</td><td>-0.12757109</td><td>-0.027091561</td><td>-9.274473e-03</td><td>-0.0053472400</td><td>  93.55215</td><td>0</td></tr>\n",
       "\t<tr><th scope=row>334</th><td>128204.21</td><td>-1.380915774</td><td>-3.949048910</td><td>-2.2555313</td><td> 0.54048820</td><td>-1.24105141</td><td> 0.428418636</td><td> 1.758670007</td><td>-0.630546058</td><td>-0.158769956</td><td>...</td><td> 4.506733e-01</td><td> 0.03760630</td><td>-0.442494383</td><td> 0.0735500567</td><td>-0.21263663</td><td> 0.007712545</td><td>-7.410327e-03</td><td> 0.1407588809</td><td>1054.76419</td><td>0</td></tr>\n",
       "\t<tr><th scope=row>335</th><td> 63846.45</td><td>-0.309530807</td><td> 0.021678702</td><td> 0.6472431</td><td> 0.18959149</td><td>-0.27941272</td><td> 0.036090645</td><td>-0.181872947</td><td> 0.155608919</td><td>-0.134461951</td><td>...</td><td>-5.348485e-02</td><td>-0.09721593</td><td>-0.013908208</td><td> 0.0200457705</td><td> 0.12016415</td><td> 0.037712828</td><td>-5.966536e-04</td><td>-0.0134696707</td><td>  79.59298</td><td>0</td></tr>\n",
       "\t<tr><th scope=row>336</th><td> 12075.68</td><td>-0.302454884</td><td> 0.140638902</td><td> 0.9806182</td><td> 0.38820202</td><td>-0.02225473</td><td>-0.108997183</td><td>-0.160936351</td><td>-0.136690511</td><td> 1.555705517</td><td>...</td><td>-5.309444e-02</td><td>-0.17940579</td><td>-0.031809651</td><td> 0.0437097165</td><td> 0.11681963</td><td> 0.421036214</td><td>-1.193948e-02</td><td> 0.0203306631</td><td>  60.17244</td><td>0</td></tr>\n",
       "\t<tr><th scope=row>337</th><td> 35390.19</td><td>-0.009342361</td><td>-0.163838548</td><td> 0.7275296</td><td> 0.03347798</td><td>-0.21130127</td><td> 0.097258563</td><td>-0.156478813</td><td> 0.109169013</td><td>-0.314547062</td><td>...</td><td>-2.241576e-02</td><td>-0.09577182</td><td>-0.023291685</td><td> 0.0071002001</td><td> 0.16183141</td><td> 0.010457979</td><td> 4.699004e-03</td><td> 0.0134878172</td><td>  77.92246</td><td>0</td></tr>\n",
       "\t<tr><th scope=row>338</th><td> 75988.53</td><td>-0.202839415</td><td> 0.227868915</td><td> 0.6967660</td><td> 0.06378875</td><td>-0.30421498</td><td> 0.005554039</td><td>-0.099440466</td><td> 0.118991416</td><td>-0.197082594</td><td>...</td><td>-6.860085e-02</td><td>-0.17592190</td><td>-0.029473956</td><td> 0.0140134360</td><td> 0.09264141</td><td> 0.053389815</td><td>-1.008539e-02</td><td>-0.0184647419</td><td>  66.07065</td><td>0</td></tr>\n",
       "\t<tr><th scope=row>339</th><td> 19727.49</td><td> 0.223788852</td><td> 0.048809427</td><td> 0.8442920</td><td> 0.06255267</td><td>-0.34723036</td><td> 0.085301205</td><td>-0.392189041</td><td>-0.008040155</td><td> 1.494891669</td><td>...</td><td>-7.971978e-02</td><td>-0.13143077</td><td>-0.041382719</td><td> 0.0002221518</td><td> 0.26066495</td><td>-0.277453042</td><td> 3.143383e-03</td><td>-0.0148270099</td><td>  47.73119</td><td>0</td></tr>\n",
       "\t<tr><th scope=row>340</th><td> 46833.46</td><td>-0.201522357</td><td>-0.186477498</td><td> 0.6207552</td><td> 0.08269236</td><td>-0.26933851</td><td> 0.130038143</td><td>-0.097689259</td><td> 0.083982655</td><td>-0.201376052</td><td>...</td><td>-1.146879e-05</td><td>-0.11733364</td><td>-0.061269790</td><td> 0.0046846072</td><td> 0.14323130</td><td> 0.026238658</td><td>-1.437259e-02</td><td> 0.0003536026</td><td> 116.76898</td><td>0</td></tr>\n",
       "\t<tr><th scope=row>341</th><td>137030.67</td><td> 0.307894782</td><td> 0.014338834</td><td>-0.7673968</td><td>-0.13446991</td><td> 0.28157734</td><td>-0.116445655</td><td> 0.121822933</td><td>-0.085011388</td><td>-0.068722117</td><td>...</td><td> 1.055273e-01</td><td> 0.18158812</td><td> 0.003914649</td><td>-0.0355249260</td><td>-0.13554487</td><td>-0.045497182</td><td>-7.406539e-03</td><td>-0.0039067117</td><td>  79.21343</td><td>0</td></tr>\n",
       "\t<tr><th scope=row>342</th><td>149848.14</td><td>-2.042274100</td><td>-4.148959084</td><td>-3.1681400</td><td> 0.60183583</td><td>-2.78486943</td><td> 1.240051954</td><td> 3.479712604</td><td>-1.081474939</td><td>-0.603122103</td><td>...</td><td> 3.555675e-01</td><td>-0.02515760</td><td>-0.576028888</td><td> 0.2858866042</td><td>-0.33603235</td><td> 0.040798130</td><td> 1.068026e-01</td><td> 0.0130779334</td><td>1543.71843</td><td>0</td></tr>\n",
       "\t<tr><th scope=row>343</th><td>123525.65</td><td> 0.246148474</td><td>-0.157992836</td><td>-0.7275043</td><td>-0.24732643</td><td> 0.31380951</td><td>-0.089292216</td><td> 0.134202728</td><td>-0.045940896</td><td>-0.025356669</td><td>...</td><td> 3.176765e-02</td><td> 0.19396865</td><td> 0.007119514</td><td>-0.0155261124</td><td>-0.09537763</td><td>-0.015354452</td><td>-1.789762e-02</td><td>-0.0193635412</td><td>  84.01861</td><td>0</td></tr>\n",
       "\t<tr><th scope=row>344</th><td>142548.34</td><td> 0.250887663</td><td> 0.020016760</td><td>-0.8145771</td><td>-0.24225073</td><td> 0.23487529</td><td>-0.141071668</td><td>-0.059695545</td><td> 0.048002163</td><td>-0.091126816</td><td>...</td><td> 7.439966e-02</td><td> 0.20911488</td><td> 0.069579819</td><td>-0.0610372498</td><td>-0.10000059</td><td>-0.030877896</td><td> 2.958778e-02</td><td> 0.0185430355</td><td>  61.15331</td><td>0</td></tr>\n",
       "\t<tr><th scope=row>345</th><td> 51826.08</td><td>-0.223508417</td><td>-0.182743081</td><td> 0.6856308</td><td> 0.03759015</td><td>-0.30474912</td><td> 0.032539030</td><td>-0.204755577</td><td>-0.038481339</td><td>-0.264614488</td><td>...</td><td>-3.587567e-02</td><td>-0.08225595</td><td>-0.028123481</td><td>-0.0206236202</td><td> 0.13735203</td><td> 0.060346276</td><td> 2.785315e-02</td><td> 0.0003974320</td><td>  96.47938</td><td>0</td></tr>\n",
       "\t<tr><th scope=row>346</th><td>140637.46</td><td> 0.278818408</td><td>-0.027646932</td><td>-0.7183844</td><td>-0.23910639</td><td> 0.36284362</td><td>-0.102931010</td><td> 0.066531963</td><td>-0.131325622</td><td>-0.103003220</td><td>...</td><td> 5.875362e-02</td><td> 0.12548200</td><td> 0.066790259</td><td> 0.0054194690</td><td>-0.11781734</td><td>-0.018127357</td><td>-1.516537e-02</td><td>-0.0048819681</td><td>  66.24404</td><td>0</td></tr>\n",
       "\t<tr><th scope=row>347</th><td>145541.79</td><td> 0.312795382</td><td>-0.042002432</td><td>-0.7200377</td><td>-0.23187042</td><td> 0.31621683</td><td>-0.171445744</td><td> 0.077855280</td><td>-0.063373938</td><td> 0.010152459</td><td>...</td><td> 5.488529e-02</td><td> 0.14116526</td><td> 0.046801627</td><td>-0.0140671689</td><td>-0.14312454</td><td>-0.029513720</td><td>-1.013624e-02</td><td>-0.0360934673</td><td>  67.15422</td><td>0</td></tr>\n",
       "</tbody>\n",
       "</table>\n"
      ],
      "text/latex": [
       "A matrix: 347 × 31 of type dbl\n",
       "\\begin{tabular}{r|lllllllllllllllllllll}\n",
       "  & Time & V1 & V2 & V3 & V4 & V5 & V6 & V7 & V8 & V9 & ... & V21 & V22 & V23 & V24 & V25 & V26 & V27 & V28 & Amount & Class\\\\\n",
       "\\hline\n",
       "\t1 &  39078.98 & -0.31072050 &   0.055269695 &  0.6570110 &  0.14851188 & -0.3332589 &  0.091361135 & -0.14748340 &  0.1698362017 & -0.185888866 & ... & -0.040245353 & -0.114517527 & -0.017870047 &  0.015648685 &  0.14129757 &  0.022950988 &  0.0318932449 &  0.017862161 &   89.22155 & 0\\\\\n",
       "\t2 &  55083.77 & -0.17113758 &  -0.138812799 &  0.6288612 &  0.05875734 & -0.3153015 &  0.084576051 & -0.17078124 & -0.0270790287 & -0.280087909 & ... & -0.050822069 & -0.091037768 & -0.005035985 &  0.046395852 &  0.12723720 &  0.079935954 &  0.0174419812 &  0.006210841 &   97.67660 & 0\\\\\n",
       "\t3 & 139948.61 &  0.10196330 &   0.010077426 & -0.7591726 & -0.27668039 &  0.4322285 & -0.184839351 &  0.03340623 & -0.1208256000 & -0.025929789 & ... &  0.088749916 &  0.126872182 &  0.063624352 & -0.041850568 & -0.14057149 & -0.016632957 &  0.0091200572 & -0.009199069 &   65.06853 & 0\\\\\n",
       "\t4 & 127080.78 &  0.34076808 &  -0.273547924 & -0.6189680 & -0.20489040 &  0.3227942 & -0.094358138 &  0.05008764 & -0.0560680100 &  0.003416217 & ... &  0.016773010 &  0.160344952 &  0.062956105 & -0.054157136 & -0.15094602 & -0.046088862 &  0.0316039336 &  0.004905721 &   80.99837 & 0\\\\\n",
       "\t5 & 151482.60 &  0.27094768 &   0.009461956 & -0.8432279 & -0.25841367 &  0.3170964 & -0.138634158 &  0.16006181 & -0.0073852039 &  0.068387037 & ... & -0.013690442 &  0.107376996 &  0.045207433 & -0.011786166 & -0.17289271 & -0.022593810 & -0.0226576142 & -0.004407251 &   85.20200 & 0\\\\\n",
       "\t6 & 100177.27 &  0.56500398 &   0.038989610 & -0.0484719 &  0.46679774 &  0.2463152 &  0.234802049 & -0.26604256 & -0.1186282222 &  1.660461472 & ... & -0.003330934 &  0.046613289 &  0.107033922 & -0.064955236 & -0.28343617 &  0.120481520 & -0.0230792200 &  0.004918642 &   56.99255 & 0\\\\\n",
       "\t7 & 147365.95 &  0.25765694 &  -0.070036361 & -0.7025798 & -0.23086178 &  0.2251348 & -0.119572992 &  0.01075957 & -0.0085375896 & -0.060269726 & ... & -0.011288780 &  0.080489621 &  0.023276979 & -0.037284088 & -0.13065215 & -0.029352328 & -0.0167739979 & -0.025861119 &   74.41608 & 0\\\\\n",
       "\t8 & 125574.14 &  0.44678505 &  -0.135248648 & -0.7170618 & -0.16585135 &  0.3811659 &  0.050819777 &  0.15210375 & -0.0750534464 & -0.041755484 & ... &  0.081653290 &  0.173034343 &  0.035947371 & -0.035243641 & -0.07840398 & -0.029323333 & -0.0088405866 & -0.001651591 &   85.13479 & 0\\\\\n",
       "\t9 &  61766.53 & -0.27186346 &   0.044227461 &  0.6753161 &  0.10962633 & -0.2396407 &  0.070630611 & -0.13183650 &  0.0718748046 & -0.169643092 & ... & -0.062553226 & -0.162791773 & -0.022140505 & -0.003851591 &  0.12825905 &  0.053671787 &  0.0198783253 &  0.010468859 &   82.32230 & 0\\\\\n",
       "\t10 & 130116.18 &  0.33663040 &  -0.057992010 & -0.6854160 &  0.05750246 &  0.3613115 & -0.062259696 &  0.12347195 & -0.0884401101 & -0.039683817 & ... &  0.009626657 &  0.213908031 &  0.027617244 &  0.016017197 & -0.08971119 & -0.027889309 & -0.0479709458 &  0.019984861 &   78.04430 & 0\\\\\n",
       "\t11 &  73396.61 & -2.15118965 &  -3.644059695 & -0.7452464 &  1.02242066 & -2.4928228 &  1.035987417 &  2.13415611 & -0.2487314697 & -0.309985890 & ... &  0.380775564 & -0.482488761 &  0.090233905 &  0.020528730 &  0.12582753 &  0.184029156 & -0.1407953034 &  0.131253432 & 1133.88016 & 0\\\\\n",
       "\t12 & 133334.20 &  0.48000602 &  -0.004436456 & -0.7057114 & -0.18113097 &  0.3567141 & -0.125424769 &  0.15043415 & -0.0975592259 &  0.024491188 & ... &  0.061413398 &  0.222789678 &  0.023468884 & -0.061368155 & -0.11633736 & -0.034161829 & -0.0208342090 & -0.030420856 &   64.33611 & 0\\\\\n",
       "\t13 &  40821.12 & -0.20202927 &  -0.086320588 &  0.7528472 &  0.21418139 & -0.2816654 &  0.114476164 & -0.15697680 &  0.1700860471 & -0.232640903 & ... & -0.034938549 & -0.045973018 &  0.002464308 &  0.073082352 &  0.14855830 &  0.021953663 &  0.0113850730 & -0.011136600 &   80.67816 & 0\\\\\n",
       "\t14 &  81572.80 & -5.28390094 & -10.386157642 & -3.4657736 &  2.64339121 & -4.9818087 &  1.879140498 &  5.19829379 & -0.8585215556 & -0.418635599 & ... &  1.728673673 & -1.727522437 & -1.889411220 &  0.372502657 & -0.56507391 & -0.228195695 & -0.5451730764 &  0.471706266 & 3383.31100 & 0\\\\\n",
       "\t15 & 139598.09 &  0.24611470 &   0.068779172 & -0.7346061 & -0.27551264 &  0.2810595 & -0.100862190 & -0.03924137 & -0.1335610973 &  0.001799951 & ... &  0.113726379 &  0.153593558 &  0.061064594 & -0.030328751 & -0.08729945 &  0.002055738 & -0.0125506712 &  0.005293952 &   54.13942 & 0\\\\\n",
       "\t16 & 150293.97 &  0.51529566 &  -0.082065179 & -0.5854776 & -0.12550441 &  0.2940718 &  0.015390359 &  0.03222041 & -0.0539914881 &  0.014896875 & ... &  0.064123174 &  0.083400152 &  0.058013191 & -0.039952248 & -0.16831834 & -0.052807325 & -0.0180242472 & -0.012075035 &   68.90123 & 0\\\\\n",
       "\t17 & 106034.06 &  0.04128552 &   0.303876007 &  0.3776083 &  0.10368239 &  0.4534444 & -0.127133074 &  0.21922832 & -0.2046951316 &  1.650690597 & ... & -0.156771221 & -0.084758655 &  0.031927062 & -0.167150398 & -0.11119324 & -0.362069511 & -0.0029705073 & -0.043740305 &   41.65494 & 0\\\\\n",
       "\t18 & 155368.43 &  0.60698390 &  -0.128672119 & -0.6506240 & -0.20087091 &  0.1123113 & -0.159585782 & -0.05110556 &  0.0008906534 & -0.047306266 & ... & -0.000532708 &  0.031562356 &  0.081656696 &  0.038574205 & -0.19304970 & -0.073360593 & -0.0234598002 & -0.005701046 &   63.43403 & 0\\\\\n",
       "\t19 & 148197.06 &  0.19639856 &  -0.045136306 & -0.7917665 & -0.16193919 &  0.3171426 &  0.024919140 &  0.15115080 & -0.0744691097 & -0.041017935 & ... &  0.001827494 &  0.130235556 & -0.027711844 &  0.013810287 & -0.16145473 & -0.010572352 & -0.0077120153 & -0.016710415 &   75.46382 & 0\\\\\n",
       "\t20 & 144632.51 &  0.31284073 &   0.014354643 & -0.6999302 & -0.27406115 &  0.2258706 & -0.120589669 &  0.03846316 & -0.0653453568 & -0.056011129 & ... &  0.029894044 &  0.131874797 &  0.069173064 & -0.007710451 & -0.14099996 & -0.049865096 &  0.0073845347 & -0.003187561 &   67.79171 & 0\\\\\n",
       "\t21 &  84091.26 & -0.48470627 &   0.363300551 &  0.6918710 &  0.31360372 & -0.2417138 &  0.086276730 & -0.06801120 &  0.0381242259 & -0.275561199 & ... & -0.077933853 & -0.126133477 &  0.016793304 &  0.019103762 &  0.12446545 &  0.007386605 & -0.0117404171 & -0.001570810 &   75.87524 & 0\\\\\n",
       "\t22 & 135573.13 &  0.40257424 &  -0.079226775 & -0.7668593 & -0.28009990 &  0.3944061 &  0.005904673 &  0.08797375 & -0.1224628410 &  0.003599094 & ... &  0.056536314 &  0.144268314 &  0.016129300 & -0.008730191 & -0.11120264 & -0.036374960 & -0.0075287386 & -0.015379721 &   69.50514 & 0\\\\\n",
       "\t23 & 163506.39 &  0.34394494 &   0.041669171 & -0.4505507 & -0.16290402 &  0.2150273 & -0.219546356 &  0.05630249 &  0.0196621812 &  0.097090089 & ... & -0.027903864 &  0.031913899 &  0.005021856 & -0.022495403 & -0.15182086 & -0.116236364 &  0.0167857944 & -0.014636713 &   57.69996 & 0\\\\\n",
       "\t24 & 161650.75 & -3.45282340 &  -5.920166907 & -4.2279920 &  1.26526413 & -4.0459536 &  2.140177534 &  5.23675252 & -1.1712173381 & -0.596636854 & ... &  0.428142284 & -0.190163992 & -0.539311303 &  0.003237059 & -0.46468505 &  0.063886754 & -0.0883103640 &  0.322731757 & 2042.62500 & 0\\\\\n",
       "\t25 & 166870.85 &  0.28846445 &   0.121156104 & -0.7400385 & -0.12148491 &  0.3078815 & -0.102639679 &  0.09777787 &  0.0351644984 & -0.013473057 & ... &  0.004966801 &  0.005241996 &  0.071725033 & -0.034149250 & -0.17669926 &  0.020209569 & -0.0282418574 & -0.045021825 &   65.62034 & 0\\\\\n",
       "\t26 & 115419.98 &  0.39494874 &   0.027865985 & -0.3606408 & -0.10081224 &  0.3214060 & -0.049263148 &  0.06467626 & -0.1643488627 &  0.049114375 & ... &  0.055710611 &  0.225714152 & -0.001273862 & -0.018699264 & -0.12429317 &  0.021154191 & -0.0006231861 & -0.013296749 &   57.09933 & 0\\\\\n",
       "\t27 & 132497.05 &  0.37155768 &  -0.076027532 & -0.6633128 & -0.35778045 &  0.3413603 & -0.086764124 &  0.06780735 & -0.0826542204 & -0.045193445 & ... &  0.064810840 &  0.210411411 &  0.025079773 & -0.003576407 & -0.14109594 & -0.019518069 &  0.0085319281 & -0.009931232 &   70.17639 & 0\\\\\n",
       "\t28 &  77653.09 & -0.22781108 &   0.062725205 &  0.6100392 &  0.02476184 & -0.2954482 &  0.089103711 & -0.17018044 &  0.0807979952 & -0.352431299 & ... & -0.059167626 & -0.163296997 & -0.015055271 &  0.035652647 &  0.10952493 &  0.028959576 & -0.0120784678 &  0.008536335 &   87.81984 & 0\\\\\n",
       "\t29 & 134145.40 &  0.33064037 &  -0.165887594 & -0.8386293 & -0.05238871 &  0.3975371 & -0.050944442 &  0.17557580 & -0.1150324120 & -0.003307413 & ... &  0.008594455 &  0.147088822 & -0.003125795 & -0.011913646 & -0.11251917 & -0.007692189 & -0.0300361702 &  0.045154632 &   86.24985 & 0\\\\\n",
       "\t30 & 153136.04 &  0.19271528 &   0.128351634 & -0.7343868 & -0.22377460 &  0.2118647 & -0.166743783 & -0.03047790 & -0.0786457493 & -0.012345096 & ... &  0.151813664 &  0.107385766 &  0.045896207 & -0.009721877 & -0.15160079 &  0.011801284 & -0.0043024938 & -0.017200457 &   63.33619 & 0\\\\\n",
       "\t... & ... & ... & ... & ... & ... & ... & ... & ... & ... & ... &  & ... & ... & ... & ... & ... & ... & ... & ... & ... & ...\\\\\n",
       "\t318 & 124779.36 &  0.279449281 & -0.092407223 & -0.6757250 & -0.13441463 &  0.33490337 & -0.036700725 &  0.131356158 & -0.003347133 &  0.039472153 & ... &  9.728918e-02 &  0.18837233 &  0.028654431 & -0.0058770968 & -0.12432230 & -0.020084616 &  1.370529e-02 &  0.0116633270 &   81.72320 & 0\\\\\n",
       "\t319 &  39483.30 & -0.484486025 &  0.006013945 &  0.6389719 &  0.05596226 & -0.36434206 &  0.089896657 & -0.137202942 &  0.198247248 & -0.172972550 & ... & -9.280885e-04 & -0.06153854 & -0.028891864 &  0.0139635233 &  0.14941015 &  0.055726674 & -3.590185e-02 &  0.0055895454 &   92.95901 & 0\\\\\n",
       "\t320 &  70672.22 & -0.135636695 &  0.053382094 &  0.6537638 &  0.11171120 & -0.31000081 & -0.011749109 & -0.104738827 &  0.017407717 & -0.267967725 & ... & -1.204099e-01 & -0.23021304 & -0.035853919 &  0.0298658200 &  0.10168575 &  0.038357386 &  1.545671e-02 & -0.0036709774 &   78.60936 & 0\\\\\n",
       "\t321 & 170876.66 & -0.117174259 &  0.492780495 & -0.8572556 & -0.02498184 &  0.21120548 & -0.216129632 &  0.007563428 &  0.049169256 &  0.002005380 & ... &  2.730091e-02 &  0.09301047 &  0.060386405 &  0.0126026185 & -0.13308230 &  0.009102818 &  5.981618e-03 &  0.0175099315 &   60.14093 & 0\\\\\n",
       "\t322 &  35427.39 & -1.477988195 & -3.229167789 & -0.4294787 &  0.52133875 & -2.52336301 &  1.159695493 &  1.986559370 & -0.319921089 & -0.380313253 & ... &  3.841866e-01 & -0.27305711 & -0.314103226 &  0.1385241054 &  0.01378948 &  0.132786091 & -4.432101e-02 &  0.0201572698 & 1104.86164 & 0\\\\\n",
       "\t323 &  65431.88 & -0.206630248 &  0.146263967 &  0.6398639 &  0.19467829 & -0.24934598 &  0.130417078 & -0.156674319 &  0.193333617 & -0.213725880 & ... & -6.474668e-02 & -0.16826633 & -0.024470928 & -0.0061431283 &  0.12176602 &  0.003770032 &  5.559926e-03 &  0.0097225101 &   72.87043 & 0\\\\\n",
       "\t324 &  80357.66 & -0.238249227 &  0.304198934 &  0.6192614 &  0.10486312 & -0.28737911 & -0.032253062 & -0.077476317 &  0.130533362 & -0.260405742 & ... & -4.793740e-02 & -0.13360767 & -0.047301278 &  0.0324986335 &  0.12686301 &  0.006207444 & -3.213933e-02 &  0.0003573302 &   69.20822 & 0\\\\\n",
       "\t325 & 131263.40 &  0.192668019 & -0.045670153 & -0.7922564 & -0.23949586 &  0.32294029 & -0.072792902 &  0.120415787 & -0.075105371 & -0.047446384 & ... &  6.776713e-02 &  0.14703849 &  0.064908942 & -0.0081639775 & -0.14419543 & -0.034821010 &  4.171267e-02 & -0.0151574961 &   84.57995 & 0\\\\\n",
       "\t326 & 145077.70 &  0.297021822 & -0.084754858 & -0.6394100 & -0.16513192 &  0.30793006 & -0.157327677 &  0.076934409 & -0.094011645 &  0.037215338 & ... & -1.035687e-02 &  0.07572437 &  0.046450001 & -0.0176264779 & -0.18448813 & -0.013855316 & -3.614169e-02 & -0.0095209190 &   74.26434 & 0\\\\\n",
       "\t327 & 130100.60 & -3.733415061 & -7.631392412 & -3.9777130 &  1.11648203 & -3.39228182 &  1.638727889 &  4.112043478 & -1.668802480 & -0.608340607 & ... &  1.008842e+00 & -0.92242912 & -1.739337876 &  0.2179008526 & -0.70752398 & -0.231670874 &  2.958668e-01 & -0.0302437428 & 2468.74280 & 0\\\\\n",
       "\t328 & 167824.23 &  0.215197555 &  0.302248813 & -0.8044695 & -0.15770847 &  0.33217974 & -0.111497049 &  0.119225020 &  0.038154470 & -0.003279694 & ... & -4.250156e-02 &  0.07272891 &  0.049599785 & -0.0203688654 & -0.15226393 &  0.007557170 & -1.477507e-02 & -0.0239687638 &   58.35601 & 0\\\\\n",
       "\t329 & 162419.85 &  0.235019920 &  0.176116171 & -0.6361090 & -0.29049016 &  0.28831680 & -0.162176361 &  0.107558585 & -0.027458455 &  0.013220216 & ... &  3.169551e-02 &  0.04373496 &  0.055950579 &  0.0116630623 & -0.15096473 & -0.060202745 & -5.286077e-05 &  0.0048987011 &   58.29520 & 0\\\\\n",
       "\t330 &  30294.18 & -0.331751811 &  0.147043387 &  0.5524052 &  0.15962275 & -0.22018964 & -0.045447374 & -0.123461068 &  0.119412678 & -0.185699547 & ... & -2.185871e-03 & -0.14097889 & -0.029082876 & -0.0382147043 &  0.15295331 & -0.014093754 &  1.332937e-02 & -0.0069808604 &   73.04461 & 0\\\\\n",
       "\t331 & 132913.23 &  0.156511237 & -0.020986691 & -0.7649310 & -0.31377170 &  0.25499858 & -0.065148067 &  0.089738947 & -0.123902836 &  0.080378589 & ... & -2.732455e-04 &  0.21002475 & -0.012933703 & -0.0344462117 & -0.10479374 & -0.059580901 & -1.664895e-02 & -0.0113868168 &   82.69454 & 0\\\\\n",
       "\t332 &  72112.21 & -0.180423178 &  0.283286488 &  0.6310595 &  0.14519828 & -0.23147528 &  0.048554887 & -0.098398760 &  0.089691053 & -0.262203656 & ... & -9.948733e-02 & -0.17370501 & -0.008208614 &  0.0377391154 &  0.13027795 &  0.052453411 & -1.046897e-02 & -0.0014038377 &   62.94589 & 0\\\\\n",
       "\t333 & 133737.76 &  0.362159281 & -0.107103792 & -0.7930587 & -0.13763953 &  0.32474373 & -0.080532362 &  0.157493797 & -0.024108888 &  0.093240056 & ... &  5.911986e-02 &  0.11620636 &  0.041092861 & -0.0193783842 & -0.12757109 & -0.027091561 & -9.274473e-03 & -0.0053472400 &   93.55215 & 0\\\\\n",
       "\t334 & 128204.21 & -1.380915774 & -3.949048910 & -2.2555313 &  0.54048820 & -1.24105141 &  0.428418636 &  1.758670007 & -0.630546058 & -0.158769956 & ... &  4.506733e-01 &  0.03760630 & -0.442494383 &  0.0735500567 & -0.21263663 &  0.007712545 & -7.410327e-03 &  0.1407588809 & 1054.76419 & 0\\\\\n",
       "\t335 &  63846.45 & -0.309530807 &  0.021678702 &  0.6472431 &  0.18959149 & -0.27941272 &  0.036090645 & -0.181872947 &  0.155608919 & -0.134461951 & ... & -5.348485e-02 & -0.09721593 & -0.013908208 &  0.0200457705 &  0.12016415 &  0.037712828 & -5.966536e-04 & -0.0134696707 &   79.59298 & 0\\\\\n",
       "\t336 &  12075.68 & -0.302454884 &  0.140638902 &  0.9806182 &  0.38820202 & -0.02225473 & -0.108997183 & -0.160936351 & -0.136690511 &  1.555705517 & ... & -5.309444e-02 & -0.17940579 & -0.031809651 &  0.0437097165 &  0.11681963 &  0.421036214 & -1.193948e-02 &  0.0203306631 &   60.17244 & 0\\\\\n",
       "\t337 &  35390.19 & -0.009342361 & -0.163838548 &  0.7275296 &  0.03347798 & -0.21130127 &  0.097258563 & -0.156478813 &  0.109169013 & -0.314547062 & ... & -2.241576e-02 & -0.09577182 & -0.023291685 &  0.0071002001 &  0.16183141 &  0.010457979 &  4.699004e-03 &  0.0134878172 &   77.92246 & 0\\\\\n",
       "\t338 &  75988.53 & -0.202839415 &  0.227868915 &  0.6967660 &  0.06378875 & -0.30421498 &  0.005554039 & -0.099440466 &  0.118991416 & -0.197082594 & ... & -6.860085e-02 & -0.17592190 & -0.029473956 &  0.0140134360 &  0.09264141 &  0.053389815 & -1.008539e-02 & -0.0184647419 &   66.07065 & 0\\\\\n",
       "\t339 &  19727.49 &  0.223788852 &  0.048809427 &  0.8442920 &  0.06255267 & -0.34723036 &  0.085301205 & -0.392189041 & -0.008040155 &  1.494891669 & ... & -7.971978e-02 & -0.13143077 & -0.041382719 &  0.0002221518 &  0.26066495 & -0.277453042 &  3.143383e-03 & -0.0148270099 &   47.73119 & 0\\\\\n",
       "\t340 &  46833.46 & -0.201522357 & -0.186477498 &  0.6207552 &  0.08269236 & -0.26933851 &  0.130038143 & -0.097689259 &  0.083982655 & -0.201376052 & ... & -1.146879e-05 & -0.11733364 & -0.061269790 &  0.0046846072 &  0.14323130 &  0.026238658 & -1.437259e-02 &  0.0003536026 &  116.76898 & 0\\\\\n",
       "\t341 & 137030.67 &  0.307894782 &  0.014338834 & -0.7673968 & -0.13446991 &  0.28157734 & -0.116445655 &  0.121822933 & -0.085011388 & -0.068722117 & ... &  1.055273e-01 &  0.18158812 &  0.003914649 & -0.0355249260 & -0.13554487 & -0.045497182 & -7.406539e-03 & -0.0039067117 &   79.21343 & 0\\\\\n",
       "\t342 & 149848.14 & -2.042274100 & -4.148959084 & -3.1681400 &  0.60183583 & -2.78486943 &  1.240051954 &  3.479712604 & -1.081474939 & -0.603122103 & ... &  3.555675e-01 & -0.02515760 & -0.576028888 &  0.2858866042 & -0.33603235 &  0.040798130 &  1.068026e-01 &  0.0130779334 & 1543.71843 & 0\\\\\n",
       "\t343 & 123525.65 &  0.246148474 & -0.157992836 & -0.7275043 & -0.24732643 &  0.31380951 & -0.089292216 &  0.134202728 & -0.045940896 & -0.025356669 & ... &  3.176765e-02 &  0.19396865 &  0.007119514 & -0.0155261124 & -0.09537763 & -0.015354452 & -1.789762e-02 & -0.0193635412 &   84.01861 & 0\\\\\n",
       "\t344 & 142548.34 &  0.250887663 &  0.020016760 & -0.8145771 & -0.24225073 &  0.23487529 & -0.141071668 & -0.059695545 &  0.048002163 & -0.091126816 & ... &  7.439966e-02 &  0.20911488 &  0.069579819 & -0.0610372498 & -0.10000059 & -0.030877896 &  2.958778e-02 &  0.0185430355 &   61.15331 & 0\\\\\n",
       "\t345 &  51826.08 & -0.223508417 & -0.182743081 &  0.6856308 &  0.03759015 & -0.30474912 &  0.032539030 & -0.204755577 & -0.038481339 & -0.264614488 & ... & -3.587567e-02 & -0.08225595 & -0.028123481 & -0.0206236202 &  0.13735203 &  0.060346276 &  2.785315e-02 &  0.0003974320 &   96.47938 & 0\\\\\n",
       "\t346 & 140637.46 &  0.278818408 & -0.027646932 & -0.7183844 & -0.23910639 &  0.36284362 & -0.102931010 &  0.066531963 & -0.131325622 & -0.103003220 & ... &  5.875362e-02 &  0.12548200 &  0.066790259 &  0.0054194690 & -0.11781734 & -0.018127357 & -1.516537e-02 & -0.0048819681 &   66.24404 & 0\\\\\n",
       "\t347 & 145541.79 &  0.312795382 & -0.042002432 & -0.7200377 & -0.23187042 &  0.31621683 & -0.171445744 &  0.077855280 & -0.063373938 &  0.010152459 & ... &  5.488529e-02 &  0.14116526 &  0.046801627 & -0.0140671689 & -0.14312454 & -0.029513720 & -1.013624e-02 & -0.0360934673 &   67.15422 & 0\\\\\n",
       "\\end{tabular}\n"
      ],
      "text/markdown": [
       "\n",
       "A matrix: 347 × 31 of type dbl\n",
       "\n",
       "| <!--/--> | Time | V1 | V2 | V3 | V4 | V5 | V6 | V7 | V8 | V9 | ... | V21 | V22 | V23 | V24 | V25 | V26 | V27 | V28 | Amount | Class |\n",
       "|---|---|---|---|---|---|---|---|---|---|---|---|---|---|---|---|---|---|---|---|---|---|\n",
       "| 1 |  39078.98 | -0.31072050 |   0.055269695 |  0.6570110 |  0.14851188 | -0.3332589 |  0.091361135 | -0.14748340 |  0.1698362017 | -0.185888866 | ... | -0.040245353 | -0.114517527 | -0.017870047 |  0.015648685 |  0.14129757 |  0.022950988 |  0.0318932449 |  0.017862161 |   89.22155 | 0 |\n",
       "| 2 |  55083.77 | -0.17113758 |  -0.138812799 |  0.6288612 |  0.05875734 | -0.3153015 |  0.084576051 | -0.17078124 | -0.0270790287 | -0.280087909 | ... | -0.050822069 | -0.091037768 | -0.005035985 |  0.046395852 |  0.12723720 |  0.079935954 |  0.0174419812 |  0.006210841 |   97.67660 | 0 |\n",
       "| 3 | 139948.61 |  0.10196330 |   0.010077426 | -0.7591726 | -0.27668039 |  0.4322285 | -0.184839351 |  0.03340623 | -0.1208256000 | -0.025929789 | ... |  0.088749916 |  0.126872182 |  0.063624352 | -0.041850568 | -0.14057149 | -0.016632957 |  0.0091200572 | -0.009199069 |   65.06853 | 0 |\n",
       "| 4 | 127080.78 |  0.34076808 |  -0.273547924 | -0.6189680 | -0.20489040 |  0.3227942 | -0.094358138 |  0.05008764 | -0.0560680100 |  0.003416217 | ... |  0.016773010 |  0.160344952 |  0.062956105 | -0.054157136 | -0.15094602 | -0.046088862 |  0.0316039336 |  0.004905721 |   80.99837 | 0 |\n",
       "| 5 | 151482.60 |  0.27094768 |   0.009461956 | -0.8432279 | -0.25841367 |  0.3170964 | -0.138634158 |  0.16006181 | -0.0073852039 |  0.068387037 | ... | -0.013690442 |  0.107376996 |  0.045207433 | -0.011786166 | -0.17289271 | -0.022593810 | -0.0226576142 | -0.004407251 |   85.20200 | 0 |\n",
       "| 6 | 100177.27 |  0.56500398 |   0.038989610 | -0.0484719 |  0.46679774 |  0.2463152 |  0.234802049 | -0.26604256 | -0.1186282222 |  1.660461472 | ... | -0.003330934 |  0.046613289 |  0.107033922 | -0.064955236 | -0.28343617 |  0.120481520 | -0.0230792200 |  0.004918642 |   56.99255 | 0 |\n",
       "| 7 | 147365.95 |  0.25765694 |  -0.070036361 | -0.7025798 | -0.23086178 |  0.2251348 | -0.119572992 |  0.01075957 | -0.0085375896 | -0.060269726 | ... | -0.011288780 |  0.080489621 |  0.023276979 | -0.037284088 | -0.13065215 | -0.029352328 | -0.0167739979 | -0.025861119 |   74.41608 | 0 |\n",
       "| 8 | 125574.14 |  0.44678505 |  -0.135248648 | -0.7170618 | -0.16585135 |  0.3811659 |  0.050819777 |  0.15210375 | -0.0750534464 | -0.041755484 | ... |  0.081653290 |  0.173034343 |  0.035947371 | -0.035243641 | -0.07840398 | -0.029323333 | -0.0088405866 | -0.001651591 |   85.13479 | 0 |\n",
       "| 9 |  61766.53 | -0.27186346 |   0.044227461 |  0.6753161 |  0.10962633 | -0.2396407 |  0.070630611 | -0.13183650 |  0.0718748046 | -0.169643092 | ... | -0.062553226 | -0.162791773 | -0.022140505 | -0.003851591 |  0.12825905 |  0.053671787 |  0.0198783253 |  0.010468859 |   82.32230 | 0 |\n",
       "| 10 | 130116.18 |  0.33663040 |  -0.057992010 | -0.6854160 |  0.05750246 |  0.3613115 | -0.062259696 |  0.12347195 | -0.0884401101 | -0.039683817 | ... |  0.009626657 |  0.213908031 |  0.027617244 |  0.016017197 | -0.08971119 | -0.027889309 | -0.0479709458 |  0.019984861 |   78.04430 | 0 |\n",
       "| 11 |  73396.61 | -2.15118965 |  -3.644059695 | -0.7452464 |  1.02242066 | -2.4928228 |  1.035987417 |  2.13415611 | -0.2487314697 | -0.309985890 | ... |  0.380775564 | -0.482488761 |  0.090233905 |  0.020528730 |  0.12582753 |  0.184029156 | -0.1407953034 |  0.131253432 | 1133.88016 | 0 |\n",
       "| 12 | 133334.20 |  0.48000602 |  -0.004436456 | -0.7057114 | -0.18113097 |  0.3567141 | -0.125424769 |  0.15043415 | -0.0975592259 |  0.024491188 | ... |  0.061413398 |  0.222789678 |  0.023468884 | -0.061368155 | -0.11633736 | -0.034161829 | -0.0208342090 | -0.030420856 |   64.33611 | 0 |\n",
       "| 13 |  40821.12 | -0.20202927 |  -0.086320588 |  0.7528472 |  0.21418139 | -0.2816654 |  0.114476164 | -0.15697680 |  0.1700860471 | -0.232640903 | ... | -0.034938549 | -0.045973018 |  0.002464308 |  0.073082352 |  0.14855830 |  0.021953663 |  0.0113850730 | -0.011136600 |   80.67816 | 0 |\n",
       "| 14 |  81572.80 | -5.28390094 | -10.386157642 | -3.4657736 |  2.64339121 | -4.9818087 |  1.879140498 |  5.19829379 | -0.8585215556 | -0.418635599 | ... |  1.728673673 | -1.727522437 | -1.889411220 |  0.372502657 | -0.56507391 | -0.228195695 | -0.5451730764 |  0.471706266 | 3383.31100 | 0 |\n",
       "| 15 | 139598.09 |  0.24611470 |   0.068779172 | -0.7346061 | -0.27551264 |  0.2810595 | -0.100862190 | -0.03924137 | -0.1335610973 |  0.001799951 | ... |  0.113726379 |  0.153593558 |  0.061064594 | -0.030328751 | -0.08729945 |  0.002055738 | -0.0125506712 |  0.005293952 |   54.13942 | 0 |\n",
       "| 16 | 150293.97 |  0.51529566 |  -0.082065179 | -0.5854776 | -0.12550441 |  0.2940718 |  0.015390359 |  0.03222041 | -0.0539914881 |  0.014896875 | ... |  0.064123174 |  0.083400152 |  0.058013191 | -0.039952248 | -0.16831834 | -0.052807325 | -0.0180242472 | -0.012075035 |   68.90123 | 0 |\n",
       "| 17 | 106034.06 |  0.04128552 |   0.303876007 |  0.3776083 |  0.10368239 |  0.4534444 | -0.127133074 |  0.21922832 | -0.2046951316 |  1.650690597 | ... | -0.156771221 | -0.084758655 |  0.031927062 | -0.167150398 | -0.11119324 | -0.362069511 | -0.0029705073 | -0.043740305 |   41.65494 | 0 |\n",
       "| 18 | 155368.43 |  0.60698390 |  -0.128672119 | -0.6506240 | -0.20087091 |  0.1123113 | -0.159585782 | -0.05110556 |  0.0008906534 | -0.047306266 | ... | -0.000532708 |  0.031562356 |  0.081656696 |  0.038574205 | -0.19304970 | -0.073360593 | -0.0234598002 | -0.005701046 |   63.43403 | 0 |\n",
       "| 19 | 148197.06 |  0.19639856 |  -0.045136306 | -0.7917665 | -0.16193919 |  0.3171426 |  0.024919140 |  0.15115080 | -0.0744691097 | -0.041017935 | ... |  0.001827494 |  0.130235556 | -0.027711844 |  0.013810287 | -0.16145473 | -0.010572352 | -0.0077120153 | -0.016710415 |   75.46382 | 0 |\n",
       "| 20 | 144632.51 |  0.31284073 |   0.014354643 | -0.6999302 | -0.27406115 |  0.2258706 | -0.120589669 |  0.03846316 | -0.0653453568 | -0.056011129 | ... |  0.029894044 |  0.131874797 |  0.069173064 | -0.007710451 | -0.14099996 | -0.049865096 |  0.0073845347 | -0.003187561 |   67.79171 | 0 |\n",
       "| 21 |  84091.26 | -0.48470627 |   0.363300551 |  0.6918710 |  0.31360372 | -0.2417138 |  0.086276730 | -0.06801120 |  0.0381242259 | -0.275561199 | ... | -0.077933853 | -0.126133477 |  0.016793304 |  0.019103762 |  0.12446545 |  0.007386605 | -0.0117404171 | -0.001570810 |   75.87524 | 0 |\n",
       "| 22 | 135573.13 |  0.40257424 |  -0.079226775 | -0.7668593 | -0.28009990 |  0.3944061 |  0.005904673 |  0.08797375 | -0.1224628410 |  0.003599094 | ... |  0.056536314 |  0.144268314 |  0.016129300 | -0.008730191 | -0.11120264 | -0.036374960 | -0.0075287386 | -0.015379721 |   69.50514 | 0 |\n",
       "| 23 | 163506.39 |  0.34394494 |   0.041669171 | -0.4505507 | -0.16290402 |  0.2150273 | -0.219546356 |  0.05630249 |  0.0196621812 |  0.097090089 | ... | -0.027903864 |  0.031913899 |  0.005021856 | -0.022495403 | -0.15182086 | -0.116236364 |  0.0167857944 | -0.014636713 |   57.69996 | 0 |\n",
       "| 24 | 161650.75 | -3.45282340 |  -5.920166907 | -4.2279920 |  1.26526413 | -4.0459536 |  2.140177534 |  5.23675252 | -1.1712173381 | -0.596636854 | ... |  0.428142284 | -0.190163992 | -0.539311303 |  0.003237059 | -0.46468505 |  0.063886754 | -0.0883103640 |  0.322731757 | 2042.62500 | 0 |\n",
       "| 25 | 166870.85 |  0.28846445 |   0.121156104 | -0.7400385 | -0.12148491 |  0.3078815 | -0.102639679 |  0.09777787 |  0.0351644984 | -0.013473057 | ... |  0.004966801 |  0.005241996 |  0.071725033 | -0.034149250 | -0.17669926 |  0.020209569 | -0.0282418574 | -0.045021825 |   65.62034 | 0 |\n",
       "| 26 | 115419.98 |  0.39494874 |   0.027865985 | -0.3606408 | -0.10081224 |  0.3214060 | -0.049263148 |  0.06467626 | -0.1643488627 |  0.049114375 | ... |  0.055710611 |  0.225714152 | -0.001273862 | -0.018699264 | -0.12429317 |  0.021154191 | -0.0006231861 | -0.013296749 |   57.09933 | 0 |\n",
       "| 27 | 132497.05 |  0.37155768 |  -0.076027532 | -0.6633128 | -0.35778045 |  0.3413603 | -0.086764124 |  0.06780735 | -0.0826542204 | -0.045193445 | ... |  0.064810840 |  0.210411411 |  0.025079773 | -0.003576407 | -0.14109594 | -0.019518069 |  0.0085319281 | -0.009931232 |   70.17639 | 0 |\n",
       "| 28 |  77653.09 | -0.22781108 |   0.062725205 |  0.6100392 |  0.02476184 | -0.2954482 |  0.089103711 | -0.17018044 |  0.0807979952 | -0.352431299 | ... | -0.059167626 | -0.163296997 | -0.015055271 |  0.035652647 |  0.10952493 |  0.028959576 | -0.0120784678 |  0.008536335 |   87.81984 | 0 |\n",
       "| 29 | 134145.40 |  0.33064037 |  -0.165887594 | -0.8386293 | -0.05238871 |  0.3975371 | -0.050944442 |  0.17557580 | -0.1150324120 | -0.003307413 | ... |  0.008594455 |  0.147088822 | -0.003125795 | -0.011913646 | -0.11251917 | -0.007692189 | -0.0300361702 |  0.045154632 |   86.24985 | 0 |\n",
       "| 30 | 153136.04 |  0.19271528 |   0.128351634 | -0.7343868 | -0.22377460 |  0.2118647 | -0.166743783 | -0.03047790 | -0.0786457493 | -0.012345096 | ... |  0.151813664 |  0.107385766 |  0.045896207 | -0.009721877 | -0.15160079 |  0.011801284 | -0.0043024938 | -0.017200457 |   63.33619 | 0 |\n",
       "| ... | ... | ... | ... | ... | ... | ... | ... | ... | ... | ... | <!----> | ... | ... | ... | ... | ... | ... | ... | ... | ... | ... |\n",
       "| 318 | 124779.36 |  0.279449281 | -0.092407223 | -0.6757250 | -0.13441463 |  0.33490337 | -0.036700725 |  0.131356158 | -0.003347133 |  0.039472153 | ... |  9.728918e-02 |  0.18837233 |  0.028654431 | -0.0058770968 | -0.12432230 | -0.020084616 |  1.370529e-02 |  0.0116633270 |   81.72320 | 0 |\n",
       "| 319 |  39483.30 | -0.484486025 |  0.006013945 |  0.6389719 |  0.05596226 | -0.36434206 |  0.089896657 | -0.137202942 |  0.198247248 | -0.172972550 | ... | -9.280885e-04 | -0.06153854 | -0.028891864 |  0.0139635233 |  0.14941015 |  0.055726674 | -3.590185e-02 |  0.0055895454 |   92.95901 | 0 |\n",
       "| 320 |  70672.22 | -0.135636695 |  0.053382094 |  0.6537638 |  0.11171120 | -0.31000081 | -0.011749109 | -0.104738827 |  0.017407717 | -0.267967725 | ... | -1.204099e-01 | -0.23021304 | -0.035853919 |  0.0298658200 |  0.10168575 |  0.038357386 |  1.545671e-02 | -0.0036709774 |   78.60936 | 0 |\n",
       "| 321 | 170876.66 | -0.117174259 |  0.492780495 | -0.8572556 | -0.02498184 |  0.21120548 | -0.216129632 |  0.007563428 |  0.049169256 |  0.002005380 | ... |  2.730091e-02 |  0.09301047 |  0.060386405 |  0.0126026185 | -0.13308230 |  0.009102818 |  5.981618e-03 |  0.0175099315 |   60.14093 | 0 |\n",
       "| 322 |  35427.39 | -1.477988195 | -3.229167789 | -0.4294787 |  0.52133875 | -2.52336301 |  1.159695493 |  1.986559370 | -0.319921089 | -0.380313253 | ... |  3.841866e-01 | -0.27305711 | -0.314103226 |  0.1385241054 |  0.01378948 |  0.132786091 | -4.432101e-02 |  0.0201572698 | 1104.86164 | 0 |\n",
       "| 323 |  65431.88 | -0.206630248 |  0.146263967 |  0.6398639 |  0.19467829 | -0.24934598 |  0.130417078 | -0.156674319 |  0.193333617 | -0.213725880 | ... | -6.474668e-02 | -0.16826633 | -0.024470928 | -0.0061431283 |  0.12176602 |  0.003770032 |  5.559926e-03 |  0.0097225101 |   72.87043 | 0 |\n",
       "| 324 |  80357.66 | -0.238249227 |  0.304198934 |  0.6192614 |  0.10486312 | -0.28737911 | -0.032253062 | -0.077476317 |  0.130533362 | -0.260405742 | ... | -4.793740e-02 | -0.13360767 | -0.047301278 |  0.0324986335 |  0.12686301 |  0.006207444 | -3.213933e-02 |  0.0003573302 |   69.20822 | 0 |\n",
       "| 325 | 131263.40 |  0.192668019 | -0.045670153 | -0.7922564 | -0.23949586 |  0.32294029 | -0.072792902 |  0.120415787 | -0.075105371 | -0.047446384 | ... |  6.776713e-02 |  0.14703849 |  0.064908942 | -0.0081639775 | -0.14419543 | -0.034821010 |  4.171267e-02 | -0.0151574961 |   84.57995 | 0 |\n",
       "| 326 | 145077.70 |  0.297021822 | -0.084754858 | -0.6394100 | -0.16513192 |  0.30793006 | -0.157327677 |  0.076934409 | -0.094011645 |  0.037215338 | ... | -1.035687e-02 |  0.07572437 |  0.046450001 | -0.0176264779 | -0.18448813 | -0.013855316 | -3.614169e-02 | -0.0095209190 |   74.26434 | 0 |\n",
       "| 327 | 130100.60 | -3.733415061 | -7.631392412 | -3.9777130 |  1.11648203 | -3.39228182 |  1.638727889 |  4.112043478 | -1.668802480 | -0.608340607 | ... |  1.008842e+00 | -0.92242912 | -1.739337876 |  0.2179008526 | -0.70752398 | -0.231670874 |  2.958668e-01 | -0.0302437428 | 2468.74280 | 0 |\n",
       "| 328 | 167824.23 |  0.215197555 |  0.302248813 | -0.8044695 | -0.15770847 |  0.33217974 | -0.111497049 |  0.119225020 |  0.038154470 | -0.003279694 | ... | -4.250156e-02 |  0.07272891 |  0.049599785 | -0.0203688654 | -0.15226393 |  0.007557170 | -1.477507e-02 | -0.0239687638 |   58.35601 | 0 |\n",
       "| 329 | 162419.85 |  0.235019920 |  0.176116171 | -0.6361090 | -0.29049016 |  0.28831680 | -0.162176361 |  0.107558585 | -0.027458455 |  0.013220216 | ... |  3.169551e-02 |  0.04373496 |  0.055950579 |  0.0116630623 | -0.15096473 | -0.060202745 | -5.286077e-05 |  0.0048987011 |   58.29520 | 0 |\n",
       "| 330 |  30294.18 | -0.331751811 |  0.147043387 |  0.5524052 |  0.15962275 | -0.22018964 | -0.045447374 | -0.123461068 |  0.119412678 | -0.185699547 | ... | -2.185871e-03 | -0.14097889 | -0.029082876 | -0.0382147043 |  0.15295331 | -0.014093754 |  1.332937e-02 | -0.0069808604 |   73.04461 | 0 |\n",
       "| 331 | 132913.23 |  0.156511237 | -0.020986691 | -0.7649310 | -0.31377170 |  0.25499858 | -0.065148067 |  0.089738947 | -0.123902836 |  0.080378589 | ... | -2.732455e-04 |  0.21002475 | -0.012933703 | -0.0344462117 | -0.10479374 | -0.059580901 | -1.664895e-02 | -0.0113868168 |   82.69454 | 0 |\n",
       "| 332 |  72112.21 | -0.180423178 |  0.283286488 |  0.6310595 |  0.14519828 | -0.23147528 |  0.048554887 | -0.098398760 |  0.089691053 | -0.262203656 | ... | -9.948733e-02 | -0.17370501 | -0.008208614 |  0.0377391154 |  0.13027795 |  0.052453411 | -1.046897e-02 | -0.0014038377 |   62.94589 | 0 |\n",
       "| 333 | 133737.76 |  0.362159281 | -0.107103792 | -0.7930587 | -0.13763953 |  0.32474373 | -0.080532362 |  0.157493797 | -0.024108888 |  0.093240056 | ... |  5.911986e-02 |  0.11620636 |  0.041092861 | -0.0193783842 | -0.12757109 | -0.027091561 | -9.274473e-03 | -0.0053472400 |   93.55215 | 0 |\n",
       "| 334 | 128204.21 | -1.380915774 | -3.949048910 | -2.2555313 |  0.54048820 | -1.24105141 |  0.428418636 |  1.758670007 | -0.630546058 | -0.158769956 | ... |  4.506733e-01 |  0.03760630 | -0.442494383 |  0.0735500567 | -0.21263663 |  0.007712545 | -7.410327e-03 |  0.1407588809 | 1054.76419 | 0 |\n",
       "| 335 |  63846.45 | -0.309530807 |  0.021678702 |  0.6472431 |  0.18959149 | -0.27941272 |  0.036090645 | -0.181872947 |  0.155608919 | -0.134461951 | ... | -5.348485e-02 | -0.09721593 | -0.013908208 |  0.0200457705 |  0.12016415 |  0.037712828 | -5.966536e-04 | -0.0134696707 |   79.59298 | 0 |\n",
       "| 336 |  12075.68 | -0.302454884 |  0.140638902 |  0.9806182 |  0.38820202 | -0.02225473 | -0.108997183 | -0.160936351 | -0.136690511 |  1.555705517 | ... | -5.309444e-02 | -0.17940579 | -0.031809651 |  0.0437097165 |  0.11681963 |  0.421036214 | -1.193948e-02 |  0.0203306631 |   60.17244 | 0 |\n",
       "| 337 |  35390.19 | -0.009342361 | -0.163838548 |  0.7275296 |  0.03347798 | -0.21130127 |  0.097258563 | -0.156478813 |  0.109169013 | -0.314547062 | ... | -2.241576e-02 | -0.09577182 | -0.023291685 |  0.0071002001 |  0.16183141 |  0.010457979 |  4.699004e-03 |  0.0134878172 |   77.92246 | 0 |\n",
       "| 338 |  75988.53 | -0.202839415 |  0.227868915 |  0.6967660 |  0.06378875 | -0.30421498 |  0.005554039 | -0.099440466 |  0.118991416 | -0.197082594 | ... | -6.860085e-02 | -0.17592190 | -0.029473956 |  0.0140134360 |  0.09264141 |  0.053389815 | -1.008539e-02 | -0.0184647419 |   66.07065 | 0 |\n",
       "| 339 |  19727.49 |  0.223788852 |  0.048809427 |  0.8442920 |  0.06255267 | -0.34723036 |  0.085301205 | -0.392189041 | -0.008040155 |  1.494891669 | ... | -7.971978e-02 | -0.13143077 | -0.041382719 |  0.0002221518 |  0.26066495 | -0.277453042 |  3.143383e-03 | -0.0148270099 |   47.73119 | 0 |\n",
       "| 340 |  46833.46 | -0.201522357 | -0.186477498 |  0.6207552 |  0.08269236 | -0.26933851 |  0.130038143 | -0.097689259 |  0.083982655 | -0.201376052 | ... | -1.146879e-05 | -0.11733364 | -0.061269790 |  0.0046846072 |  0.14323130 |  0.026238658 | -1.437259e-02 |  0.0003536026 |  116.76898 | 0 |\n",
       "| 341 | 137030.67 |  0.307894782 |  0.014338834 | -0.7673968 | -0.13446991 |  0.28157734 | -0.116445655 |  0.121822933 | -0.085011388 | -0.068722117 | ... |  1.055273e-01 |  0.18158812 |  0.003914649 | -0.0355249260 | -0.13554487 | -0.045497182 | -7.406539e-03 | -0.0039067117 |   79.21343 | 0 |\n",
       "| 342 | 149848.14 | -2.042274100 | -4.148959084 | -3.1681400 |  0.60183583 | -2.78486943 |  1.240051954 |  3.479712604 | -1.081474939 | -0.603122103 | ... |  3.555675e-01 | -0.02515760 | -0.576028888 |  0.2858866042 | -0.33603235 |  0.040798130 |  1.068026e-01 |  0.0130779334 | 1543.71843 | 0 |\n",
       "| 343 | 123525.65 |  0.246148474 | -0.157992836 | -0.7275043 | -0.24732643 |  0.31380951 | -0.089292216 |  0.134202728 | -0.045940896 | -0.025356669 | ... |  3.176765e-02 |  0.19396865 |  0.007119514 | -0.0155261124 | -0.09537763 | -0.015354452 | -1.789762e-02 | -0.0193635412 |   84.01861 | 0 |\n",
       "| 344 | 142548.34 |  0.250887663 |  0.020016760 | -0.8145771 | -0.24225073 |  0.23487529 | -0.141071668 | -0.059695545 |  0.048002163 | -0.091126816 | ... |  7.439966e-02 |  0.20911488 |  0.069579819 | -0.0610372498 | -0.10000059 | -0.030877896 |  2.958778e-02 |  0.0185430355 |   61.15331 | 0 |\n",
       "| 345 |  51826.08 | -0.223508417 | -0.182743081 |  0.6856308 |  0.03759015 | -0.30474912 |  0.032539030 | -0.204755577 | -0.038481339 | -0.264614488 | ... | -3.587567e-02 | -0.08225595 | -0.028123481 | -0.0206236202 |  0.13735203 |  0.060346276 |  2.785315e-02 |  0.0003974320 |   96.47938 | 0 |\n",
       "| 346 | 140637.46 |  0.278818408 | -0.027646932 | -0.7183844 | -0.23910639 |  0.36284362 | -0.102931010 |  0.066531963 | -0.131325622 | -0.103003220 | ... |  5.875362e-02 |  0.12548200 |  0.066790259 |  0.0054194690 | -0.11781734 | -0.018127357 | -1.516537e-02 | -0.0048819681 |   66.24404 | 0 |\n",
       "| 347 | 145541.79 |  0.312795382 | -0.042002432 | -0.7200377 | -0.23187042 |  0.31621683 | -0.171445744 |  0.077855280 | -0.063373938 |  0.010152459 | ... |  5.488529e-02 |  0.14116526 |  0.046801627 | -0.0140671689 | -0.14312454 | -0.029513720 | -1.013624e-02 | -0.0360934673 |   67.15422 | 0 |\n",
       "\n"
      ],
      "text/plain": [
       "    Time      V1           V2            V3         V4          V5         \n",
       "1    39078.98 -0.31072050    0.055269695  0.6570110  0.14851188 -0.3332589 \n",
       "2    55083.77 -0.17113758   -0.138812799  0.6288612  0.05875734 -0.3153015 \n",
       "3   139948.61  0.10196330    0.010077426 -0.7591726 -0.27668039  0.4322285 \n",
       "4   127080.78  0.34076808   -0.273547924 -0.6189680 -0.20489040  0.3227942 \n",
       "5   151482.60  0.27094768    0.009461956 -0.8432279 -0.25841367  0.3170964 \n",
       "6   100177.27  0.56500398    0.038989610 -0.0484719  0.46679774  0.2463152 \n",
       "7   147365.95  0.25765694   -0.070036361 -0.7025798 -0.23086178  0.2251348 \n",
       "8   125574.14  0.44678505   -0.135248648 -0.7170618 -0.16585135  0.3811659 \n",
       "9    61766.53 -0.27186346    0.044227461  0.6753161  0.10962633 -0.2396407 \n",
       "10  130116.18  0.33663040   -0.057992010 -0.6854160  0.05750246  0.3613115 \n",
       "11   73396.61 -2.15118965   -3.644059695 -0.7452464  1.02242066 -2.4928228 \n",
       "12  133334.20  0.48000602   -0.004436456 -0.7057114 -0.18113097  0.3567141 \n",
       "13   40821.12 -0.20202927   -0.086320588  0.7528472  0.21418139 -0.2816654 \n",
       "14   81572.80 -5.28390094  -10.386157642 -3.4657736  2.64339121 -4.9818087 \n",
       "15  139598.09  0.24611470    0.068779172 -0.7346061 -0.27551264  0.2810595 \n",
       "16  150293.97  0.51529566   -0.082065179 -0.5854776 -0.12550441  0.2940718 \n",
       "17  106034.06  0.04128552    0.303876007  0.3776083  0.10368239  0.4534444 \n",
       "18  155368.43  0.60698390   -0.128672119 -0.6506240 -0.20087091  0.1123113 \n",
       "19  148197.06  0.19639856   -0.045136306 -0.7917665 -0.16193919  0.3171426 \n",
       "20  144632.51  0.31284073    0.014354643 -0.6999302 -0.27406115  0.2258706 \n",
       "21   84091.26 -0.48470627    0.363300551  0.6918710  0.31360372 -0.2417138 \n",
       "22  135573.13  0.40257424   -0.079226775 -0.7668593 -0.28009990  0.3944061 \n",
       "23  163506.39  0.34394494    0.041669171 -0.4505507 -0.16290402  0.2150273 \n",
       "24  161650.75 -3.45282340   -5.920166907 -4.2279920  1.26526413 -4.0459536 \n",
       "25  166870.85  0.28846445    0.121156104 -0.7400385 -0.12148491  0.3078815 \n",
       "26  115419.98  0.39494874    0.027865985 -0.3606408 -0.10081224  0.3214060 \n",
       "27  132497.05  0.37155768   -0.076027532 -0.6633128 -0.35778045  0.3413603 \n",
       "28   77653.09 -0.22781108    0.062725205  0.6100392  0.02476184 -0.2954482 \n",
       "29  134145.40  0.33064037   -0.165887594 -0.8386293 -0.05238871  0.3975371 \n",
       "30  153136.04  0.19271528    0.128351634 -0.7343868 -0.22377460  0.2118647 \n",
       "... ...       ...          ...           ...        ...         ...        \n",
       "318 124779.36  0.279449281 -0.092407223  -0.6757250 -0.13441463  0.33490337\n",
       "319  39483.30 -0.484486025  0.006013945   0.6389719  0.05596226 -0.36434206\n",
       "320  70672.22 -0.135636695  0.053382094   0.6537638  0.11171120 -0.31000081\n",
       "321 170876.66 -0.117174259  0.492780495  -0.8572556 -0.02498184  0.21120548\n",
       "322  35427.39 -1.477988195 -3.229167789  -0.4294787  0.52133875 -2.52336301\n",
       "323  65431.88 -0.206630248  0.146263967   0.6398639  0.19467829 -0.24934598\n",
       "324  80357.66 -0.238249227  0.304198934   0.6192614  0.10486312 -0.28737911\n",
       "325 131263.40  0.192668019 -0.045670153  -0.7922564 -0.23949586  0.32294029\n",
       "326 145077.70  0.297021822 -0.084754858  -0.6394100 -0.16513192  0.30793006\n",
       "327 130100.60 -3.733415061 -7.631392412  -3.9777130  1.11648203 -3.39228182\n",
       "328 167824.23  0.215197555  0.302248813  -0.8044695 -0.15770847  0.33217974\n",
       "329 162419.85  0.235019920  0.176116171  -0.6361090 -0.29049016  0.28831680\n",
       "330  30294.18 -0.331751811  0.147043387   0.5524052  0.15962275 -0.22018964\n",
       "331 132913.23  0.156511237 -0.020986691  -0.7649310 -0.31377170  0.25499858\n",
       "332  72112.21 -0.180423178  0.283286488   0.6310595  0.14519828 -0.23147528\n",
       "333 133737.76  0.362159281 -0.107103792  -0.7930587 -0.13763953  0.32474373\n",
       "334 128204.21 -1.380915774 -3.949048910  -2.2555313  0.54048820 -1.24105141\n",
       "335  63846.45 -0.309530807  0.021678702   0.6472431  0.18959149 -0.27941272\n",
       "336  12075.68 -0.302454884  0.140638902   0.9806182  0.38820202 -0.02225473\n",
       "337  35390.19 -0.009342361 -0.163838548   0.7275296  0.03347798 -0.21130127\n",
       "338  75988.53 -0.202839415  0.227868915   0.6967660  0.06378875 -0.30421498\n",
       "339  19727.49  0.223788852  0.048809427   0.8442920  0.06255267 -0.34723036\n",
       "340  46833.46 -0.201522357 -0.186477498   0.6207552  0.08269236 -0.26933851\n",
       "341 137030.67  0.307894782  0.014338834  -0.7673968 -0.13446991  0.28157734\n",
       "342 149848.14 -2.042274100 -4.148959084  -3.1681400  0.60183583 -2.78486943\n",
       "343 123525.65  0.246148474 -0.157992836  -0.7275043 -0.24732643  0.31380951\n",
       "344 142548.34  0.250887663  0.020016760  -0.8145771 -0.24225073  0.23487529\n",
       "345  51826.08 -0.223508417 -0.182743081   0.6856308  0.03759015 -0.30474912\n",
       "346 140637.46  0.278818408 -0.027646932  -0.7183844 -0.23910639  0.36284362\n",
       "347 145541.79  0.312795382 -0.042002432  -0.7200377 -0.23187042  0.31621683\n",
       "    V6           V7           V8            V9           ... V21          \n",
       "1    0.091361135 -0.14748340   0.1698362017 -0.185888866 ... -0.040245353 \n",
       "2    0.084576051 -0.17078124  -0.0270790287 -0.280087909 ... -0.050822069 \n",
       "3   -0.184839351  0.03340623  -0.1208256000 -0.025929789 ...  0.088749916 \n",
       "4   -0.094358138  0.05008764  -0.0560680100  0.003416217 ...  0.016773010 \n",
       "5   -0.138634158  0.16006181  -0.0073852039  0.068387037 ... -0.013690442 \n",
       "6    0.234802049 -0.26604256  -0.1186282222  1.660461472 ... -0.003330934 \n",
       "7   -0.119572992  0.01075957  -0.0085375896 -0.060269726 ... -0.011288780 \n",
       "8    0.050819777  0.15210375  -0.0750534464 -0.041755484 ...  0.081653290 \n",
       "9    0.070630611 -0.13183650   0.0718748046 -0.169643092 ... -0.062553226 \n",
       "10  -0.062259696  0.12347195  -0.0884401101 -0.039683817 ...  0.009626657 \n",
       "11   1.035987417  2.13415611  -0.2487314697 -0.309985890 ...  0.380775564 \n",
       "12  -0.125424769  0.15043415  -0.0975592259  0.024491188 ...  0.061413398 \n",
       "13   0.114476164 -0.15697680   0.1700860471 -0.232640903 ... -0.034938549 \n",
       "14   1.879140498  5.19829379  -0.8585215556 -0.418635599 ...  1.728673673 \n",
       "15  -0.100862190 -0.03924137  -0.1335610973  0.001799951 ...  0.113726379 \n",
       "16   0.015390359  0.03222041  -0.0539914881  0.014896875 ...  0.064123174 \n",
       "17  -0.127133074  0.21922832  -0.2046951316  1.650690597 ... -0.156771221 \n",
       "18  -0.159585782 -0.05110556   0.0008906534 -0.047306266 ... -0.000532708 \n",
       "19   0.024919140  0.15115080  -0.0744691097 -0.041017935 ...  0.001827494 \n",
       "20  -0.120589669  0.03846316  -0.0653453568 -0.056011129 ...  0.029894044 \n",
       "21   0.086276730 -0.06801120   0.0381242259 -0.275561199 ... -0.077933853 \n",
       "22   0.005904673  0.08797375  -0.1224628410  0.003599094 ...  0.056536314 \n",
       "23  -0.219546356  0.05630249   0.0196621812  0.097090089 ... -0.027903864 \n",
       "24   2.140177534  5.23675252  -1.1712173381 -0.596636854 ...  0.428142284 \n",
       "25  -0.102639679  0.09777787   0.0351644984 -0.013473057 ...  0.004966801 \n",
       "26  -0.049263148  0.06467626  -0.1643488627  0.049114375 ...  0.055710611 \n",
       "27  -0.086764124  0.06780735  -0.0826542204 -0.045193445 ...  0.064810840 \n",
       "28   0.089103711 -0.17018044   0.0807979952 -0.352431299 ... -0.059167626 \n",
       "29  -0.050944442  0.17557580  -0.1150324120 -0.003307413 ...  0.008594455 \n",
       "30  -0.166743783 -0.03047790  -0.0786457493 -0.012345096 ...  0.151813664 \n",
       "... ...          ...          ...           ...              ...          \n",
       "318 -0.036700725  0.131356158 -0.003347133   0.039472153 ...  9.728918e-02\n",
       "319  0.089896657 -0.137202942  0.198247248  -0.172972550 ... -9.280885e-04\n",
       "320 -0.011749109 -0.104738827  0.017407717  -0.267967725 ... -1.204099e-01\n",
       "321 -0.216129632  0.007563428  0.049169256   0.002005380 ...  2.730091e-02\n",
       "322  1.159695493  1.986559370 -0.319921089  -0.380313253 ...  3.841866e-01\n",
       "323  0.130417078 -0.156674319  0.193333617  -0.213725880 ... -6.474668e-02\n",
       "324 -0.032253062 -0.077476317  0.130533362  -0.260405742 ... -4.793740e-02\n",
       "325 -0.072792902  0.120415787 -0.075105371  -0.047446384 ...  6.776713e-02\n",
       "326 -0.157327677  0.076934409 -0.094011645   0.037215338 ... -1.035687e-02\n",
       "327  1.638727889  4.112043478 -1.668802480  -0.608340607 ...  1.008842e+00\n",
       "328 -0.111497049  0.119225020  0.038154470  -0.003279694 ... -4.250156e-02\n",
       "329 -0.162176361  0.107558585 -0.027458455   0.013220216 ...  3.169551e-02\n",
       "330 -0.045447374 -0.123461068  0.119412678  -0.185699547 ... -2.185871e-03\n",
       "331 -0.065148067  0.089738947 -0.123902836   0.080378589 ... -2.732455e-04\n",
       "332  0.048554887 -0.098398760  0.089691053  -0.262203656 ... -9.948733e-02\n",
       "333 -0.080532362  0.157493797 -0.024108888   0.093240056 ...  5.911986e-02\n",
       "334  0.428418636  1.758670007 -0.630546058  -0.158769956 ...  4.506733e-01\n",
       "335  0.036090645 -0.181872947  0.155608919  -0.134461951 ... -5.348485e-02\n",
       "336 -0.108997183 -0.160936351 -0.136690511   1.555705517 ... -5.309444e-02\n",
       "337  0.097258563 -0.156478813  0.109169013  -0.314547062 ... -2.241576e-02\n",
       "338  0.005554039 -0.099440466  0.118991416  -0.197082594 ... -6.860085e-02\n",
       "339  0.085301205 -0.392189041 -0.008040155   1.494891669 ... -7.971978e-02\n",
       "340  0.130038143 -0.097689259  0.083982655  -0.201376052 ... -1.146879e-05\n",
       "341 -0.116445655  0.121822933 -0.085011388  -0.068722117 ...  1.055273e-01\n",
       "342  1.240051954  3.479712604 -1.081474939  -0.603122103 ...  3.555675e-01\n",
       "343 -0.089292216  0.134202728 -0.045940896  -0.025356669 ...  3.176765e-02\n",
       "344 -0.141071668 -0.059695545  0.048002163  -0.091126816 ...  7.439966e-02\n",
       "345  0.032539030 -0.204755577 -0.038481339  -0.264614488 ... -3.587567e-02\n",
       "346 -0.102931010  0.066531963 -0.131325622  -0.103003220 ...  5.875362e-02\n",
       "347 -0.171445744  0.077855280 -0.063373938   0.010152459 ...  5.488529e-02\n",
       "    V22          V23          V24           V25         V26         \n",
       "1   -0.114517527 -0.017870047  0.015648685   0.14129757  0.022950988\n",
       "2   -0.091037768 -0.005035985  0.046395852   0.12723720  0.079935954\n",
       "3    0.126872182  0.063624352 -0.041850568  -0.14057149 -0.016632957\n",
       "4    0.160344952  0.062956105 -0.054157136  -0.15094602 -0.046088862\n",
       "5    0.107376996  0.045207433 -0.011786166  -0.17289271 -0.022593810\n",
       "6    0.046613289  0.107033922 -0.064955236  -0.28343617  0.120481520\n",
       "7    0.080489621  0.023276979 -0.037284088  -0.13065215 -0.029352328\n",
       "8    0.173034343  0.035947371 -0.035243641  -0.07840398 -0.029323333\n",
       "9   -0.162791773 -0.022140505 -0.003851591   0.12825905  0.053671787\n",
       "10   0.213908031  0.027617244  0.016017197  -0.08971119 -0.027889309\n",
       "11  -0.482488761  0.090233905  0.020528730   0.12582753  0.184029156\n",
       "12   0.222789678  0.023468884 -0.061368155  -0.11633736 -0.034161829\n",
       "13  -0.045973018  0.002464308  0.073082352   0.14855830  0.021953663\n",
       "14  -1.727522437 -1.889411220  0.372502657  -0.56507391 -0.228195695\n",
       "15   0.153593558  0.061064594 -0.030328751  -0.08729945  0.002055738\n",
       "16   0.083400152  0.058013191 -0.039952248  -0.16831834 -0.052807325\n",
       "17  -0.084758655  0.031927062 -0.167150398  -0.11119324 -0.362069511\n",
       "18   0.031562356  0.081656696  0.038574205  -0.19304970 -0.073360593\n",
       "19   0.130235556 -0.027711844  0.013810287  -0.16145473 -0.010572352\n",
       "20   0.131874797  0.069173064 -0.007710451  -0.14099996 -0.049865096\n",
       "21  -0.126133477  0.016793304  0.019103762   0.12446545  0.007386605\n",
       "22   0.144268314  0.016129300 -0.008730191  -0.11120264 -0.036374960\n",
       "23   0.031913899  0.005021856 -0.022495403  -0.15182086 -0.116236364\n",
       "24  -0.190163992 -0.539311303  0.003237059  -0.46468505  0.063886754\n",
       "25   0.005241996  0.071725033 -0.034149250  -0.17669926  0.020209569\n",
       "26   0.225714152 -0.001273862 -0.018699264  -0.12429317  0.021154191\n",
       "27   0.210411411  0.025079773 -0.003576407  -0.14109594 -0.019518069\n",
       "28  -0.163296997 -0.015055271  0.035652647   0.10952493  0.028959576\n",
       "29   0.147088822 -0.003125795 -0.011913646  -0.11251917 -0.007692189\n",
       "30   0.107385766  0.045896207 -0.009721877  -0.15160079  0.011801284\n",
       "... ...          ...          ...           ...         ...         \n",
       "318  0.18837233   0.028654431 -0.0058770968 -0.12432230 -0.020084616\n",
       "319 -0.06153854  -0.028891864  0.0139635233  0.14941015  0.055726674\n",
       "320 -0.23021304  -0.035853919  0.0298658200  0.10168575  0.038357386\n",
       "321  0.09301047   0.060386405  0.0126026185 -0.13308230  0.009102818\n",
       "322 -0.27305711  -0.314103226  0.1385241054  0.01378948  0.132786091\n",
       "323 -0.16826633  -0.024470928 -0.0061431283  0.12176602  0.003770032\n",
       "324 -0.13360767  -0.047301278  0.0324986335  0.12686301  0.006207444\n",
       "325  0.14703849   0.064908942 -0.0081639775 -0.14419543 -0.034821010\n",
       "326  0.07572437   0.046450001 -0.0176264779 -0.18448813 -0.013855316\n",
       "327 -0.92242912  -1.739337876  0.2179008526 -0.70752398 -0.231670874\n",
       "328  0.07272891   0.049599785 -0.0203688654 -0.15226393  0.007557170\n",
       "329  0.04373496   0.055950579  0.0116630623 -0.15096473 -0.060202745\n",
       "330 -0.14097889  -0.029082876 -0.0382147043  0.15295331 -0.014093754\n",
       "331  0.21002475  -0.012933703 -0.0344462117 -0.10479374 -0.059580901\n",
       "332 -0.17370501  -0.008208614  0.0377391154  0.13027795  0.052453411\n",
       "333  0.11620636   0.041092861 -0.0193783842 -0.12757109 -0.027091561\n",
       "334  0.03760630  -0.442494383  0.0735500567 -0.21263663  0.007712545\n",
       "335 -0.09721593  -0.013908208  0.0200457705  0.12016415  0.037712828\n",
       "336 -0.17940579  -0.031809651  0.0437097165  0.11681963  0.421036214\n",
       "337 -0.09577182  -0.023291685  0.0071002001  0.16183141  0.010457979\n",
       "338 -0.17592190  -0.029473956  0.0140134360  0.09264141  0.053389815\n",
       "339 -0.13143077  -0.041382719  0.0002221518  0.26066495 -0.277453042\n",
       "340 -0.11733364  -0.061269790  0.0046846072  0.14323130  0.026238658\n",
       "341  0.18158812   0.003914649 -0.0355249260 -0.13554487 -0.045497182\n",
       "342 -0.02515760  -0.576028888  0.2858866042 -0.33603235  0.040798130\n",
       "343  0.19396865   0.007119514 -0.0155261124 -0.09537763 -0.015354452\n",
       "344  0.20911488   0.069579819 -0.0610372498 -0.10000059 -0.030877896\n",
       "345 -0.08225595  -0.028123481 -0.0206236202  0.13735203  0.060346276\n",
       "346  0.12548200   0.066790259  0.0054194690 -0.11781734 -0.018127357\n",
       "347  0.14116526   0.046801627 -0.0140671689 -0.14312454 -0.029513720\n",
       "    V27           V28           Amount     Class\n",
       "1    0.0318932449  0.017862161    89.22155 0    \n",
       "2    0.0174419812  0.006210841    97.67660 0    \n",
       "3    0.0091200572 -0.009199069    65.06853 0    \n",
       "4    0.0316039336  0.004905721    80.99837 0    \n",
       "5   -0.0226576142 -0.004407251    85.20200 0    \n",
       "6   -0.0230792200  0.004918642    56.99255 0    \n",
       "7   -0.0167739979 -0.025861119    74.41608 0    \n",
       "8   -0.0088405866 -0.001651591    85.13479 0    \n",
       "9    0.0198783253  0.010468859    82.32230 0    \n",
       "10  -0.0479709458  0.019984861    78.04430 0    \n",
       "11  -0.1407953034  0.131253432  1133.88016 0    \n",
       "12  -0.0208342090 -0.030420856    64.33611 0    \n",
       "13   0.0113850730 -0.011136600    80.67816 0    \n",
       "14  -0.5451730764  0.471706266  3383.31100 0    \n",
       "15  -0.0125506712  0.005293952    54.13942 0    \n",
       "16  -0.0180242472 -0.012075035    68.90123 0    \n",
       "17  -0.0029705073 -0.043740305    41.65494 0    \n",
       "18  -0.0234598002 -0.005701046    63.43403 0    \n",
       "19  -0.0077120153 -0.016710415    75.46382 0    \n",
       "20   0.0073845347 -0.003187561    67.79171 0    \n",
       "21  -0.0117404171 -0.001570810    75.87524 0    \n",
       "22  -0.0075287386 -0.015379721    69.50514 0    \n",
       "23   0.0167857944 -0.014636713    57.69996 0    \n",
       "24  -0.0883103640  0.322731757  2042.62500 0    \n",
       "25  -0.0282418574 -0.045021825    65.62034 0    \n",
       "26  -0.0006231861 -0.013296749    57.09933 0    \n",
       "27   0.0085319281 -0.009931232    70.17639 0    \n",
       "28  -0.0120784678  0.008536335    87.81984 0    \n",
       "29  -0.0300361702  0.045154632    86.24985 0    \n",
       "30  -0.0043024938 -0.017200457    63.33619 0    \n",
       "... ...           ...           ...        ...  \n",
       "318  1.370529e-02  0.0116633270   81.72320 0    \n",
       "319 -3.590185e-02  0.0055895454   92.95901 0    \n",
       "320  1.545671e-02 -0.0036709774   78.60936 0    \n",
       "321  5.981618e-03  0.0175099315   60.14093 0    \n",
       "322 -4.432101e-02  0.0201572698 1104.86164 0    \n",
       "323  5.559926e-03  0.0097225101   72.87043 0    \n",
       "324 -3.213933e-02  0.0003573302   69.20822 0    \n",
       "325  4.171267e-02 -0.0151574961   84.57995 0    \n",
       "326 -3.614169e-02 -0.0095209190   74.26434 0    \n",
       "327  2.958668e-01 -0.0302437428 2468.74280 0    \n",
       "328 -1.477507e-02 -0.0239687638   58.35601 0    \n",
       "329 -5.286077e-05  0.0048987011   58.29520 0    \n",
       "330  1.332937e-02 -0.0069808604   73.04461 0    \n",
       "331 -1.664895e-02 -0.0113868168   82.69454 0    \n",
       "332 -1.046897e-02 -0.0014038377   62.94589 0    \n",
       "333 -9.274473e-03 -0.0053472400   93.55215 0    \n",
       "334 -7.410327e-03  0.1407588809 1054.76419 0    \n",
       "335 -5.966536e-04 -0.0134696707   79.59298 0    \n",
       "336 -1.193948e-02  0.0203306631   60.17244 0    \n",
       "337  4.699004e-03  0.0134878172   77.92246 0    \n",
       "338 -1.008539e-02 -0.0184647419   66.07065 0    \n",
       "339  3.143383e-03 -0.0148270099   47.73119 0    \n",
       "340 -1.437259e-02  0.0003536026  116.76898 0    \n",
       "341 -7.406539e-03 -0.0039067117   79.21343 0    \n",
       "342  1.068026e-01  0.0130779334 1543.71843 0    \n",
       "343 -1.789762e-02 -0.0193635412   84.01861 0    \n",
       "344  2.958778e-02  0.0185430355   61.15331 0    \n",
       "345  2.785315e-02  0.0003974320   96.47938 0    \n",
       "346 -1.516537e-02 -0.0048819681   66.24404 0    \n",
       "347 -1.013624e-02 -0.0360934673   67.15422 0    "
      ]
     },
     "metadata": {},
     "output_type": "display_data"
    }
   ],
   "source": [
    "kmod$centers"
   ]
  },
  {
   "cell_type": "code",
   "execution_count": 48,
   "metadata": {},
   "outputs": [],
   "source": [
    "tr2 <- train %>% filter(Class==1)\n",
    "tr2$cluster <- NULL\n",
    "train.kmod <- rbind(kmod$centers, tr2)"
   ]
  },
  {
   "cell_type": "code",
   "execution_count": 49,
   "metadata": {},
   "outputs": [
    {
     "data": {
      "text/plain": [
       "\n",
       "  0   1 \n",
       "347 347 "
      ]
     },
     "metadata": {},
     "output_type": "display_data"
    }
   ],
   "source": [
    "table(train.kmod$Class)"
   ]
  },
  {
   "cell_type": "code",
   "execution_count": 50,
   "metadata": {},
   "outputs": [
    {
     "data": {
      "text/plain": [
       "\n",
       "\t Conditional inference tree with 8 terminal nodes\n",
       "\n",
       "Response:  Class \n",
       "Inputs:  Time, V1, V2, V3, V4, V5, V6, V7, V8, V9, V10, V11, V12, V13, V14, V15, V16, V17, V18, V19, V20, V21, V22, V23, V24, V25, V26, V27, V28, Amount \n",
       "Number of observations:  694 \n",
       "\n",
       "1) V14 <= -0.4985218; criterion = 1, statistic = 411.054\n",
       "  2) Amount <= 829.41; criterion = 1, statistic = 319.912\n",
       "    3)*  weights = 322 \n",
       "  2) Amount > 829.41\n",
       "    4)*  weights = 7 \n",
       "1) V14 > -0.4985218\n",
       "  5) V12 <= -0.2400563; criterion = 1, statistic = 38.868\n",
       "    6) V13 <= -0.4480679; criterion = 0.999, statistic = 18.083\n",
       "      7)*  weights = 8 \n",
       "    6) V13 > -0.4480679\n",
       "      8)*  weights = 37 \n",
       "  5) V12 > -0.2400563\n",
       "    9) V14 <= 0.6452406; criterion = 1, statistic = 30.403\n",
       "      10) V13 <= 0.172352; criterion = 1, statistic = 67.068\n",
       "        11) V26 <= 0.09458274; criterion = 1, statistic = 62.964\n",
       "          12)*  weights = 299 \n",
       "        11) V26 > 0.09458274\n",
       "          13)*  weights = 7 \n",
       "      10) V13 > 0.172352\n",
       "        14)*  weights = 7 \n",
       "    9) V14 > 0.6452406\n",
       "      15)*  weights = 7 "
      ]
     },
     "metadata": {},
     "output_type": "display_data"
    }
   ],
   "source": [
    "#mod.kmod <- glm(Class ~., data=train.kmod, family=\"binomial\")\n",
    "#summary(mod.kmod)\n",
    "mod.kmod <- party::ctree(Class ~., data=train.kmod)\n",
    "mod.kmod"
   ]
  },
  {
   "cell_type": "code",
   "execution_count": 51,
   "metadata": {},
   "outputs": [
    {
     "data": {
      "text/html": [
       "85443"
      ],
      "text/latex": [
       "85443"
      ],
      "text/markdown": [
       "85443"
      ],
      "text/plain": [
       "[1] 85443"
      ]
     },
     "metadata": {},
     "output_type": "display_data"
    },
    {
     "data": {
      "image/png": "[encoded data removed]",
      "text/plain": [
       "Plot with title \"Histogram of pred.kmod\""
      ]
     },
     "metadata": {
      "image/png": {
       "height": 480,
       "width": 600
      }
     },
     "output_type": "display_data"
    }
   ],
   "source": [
    "pred.kmod <- predict(mod.kmod,newdata=test,type=\"response\")\n",
    "hist(pred.kmod)\n",
    "nrow(pred.kmod)"
   ]
  },
  {
   "cell_type": "code",
   "execution_count": 54,
   "metadata": {},
   "outputs": [
    {
     "data": {
      "text/plain": [
       "obs\n",
       "    0     1 \n",
       "85298   145 "
      ]
     },
     "metadata": {},
     "output_type": "display_data"
    },
    {
     "data": {
      "text/plain": [
       "pred\n",
       "    0     1 \n",
       "57493 27950 "
      ]
     },
     "metadata": {},
     "output_type": "display_data"
    },
    {
     "data": {
      "text/plain": [
       "   pred\n",
       "obs     0     1\n",
       "  0 57482 27816\n",
       "  1    11   134"
      ]
     },
     "metadata": {},
     "output_type": "display_data"
    }
   ],
   "source": [
    "table(obs=test$Class)\n",
    "table(pred=ifelse(pred.kmod>0.5,1,0))\n",
    "table(obs=test$Class, pred=ifelse(pred.kmod>0.5,1,0))"
   ]
  },
  {
   "cell_type": "code",
   "execution_count": 57,
   "metadata": {},
   "outputs": [
    {
     "name": "stderr",
     "output_type": "stream",
     "text": [
      "Setting levels: control = 0, case = 1\n",
      "\n",
      "Warning message in roc.default(test$Class, pred.kmod):\n",
      "\"Deprecated use a matrix as predictor. Unexpected results may be produced, please pass a numeric vector.\"\n",
      "Setting direction: controls < cases\n",
      "\n"
     ]
    },
    {
     "data": {
      "text/plain": [
       "\n",
       "Call:\n",
       "roc.default(response = test$Class, predictor = pred.kmod)\n",
       "\n",
       "Data: pred.kmod in 85298 controls (test$Class 0) < 145 cases (test$Class 1).\n",
       "Area under the curve: 0.7992"
      ]
     },
     "metadata": {},
     "output_type": "display_data"
    }
   ],
   "source": [
    "### AUC\n",
    "roc1 <- pROC::roc(test$Class, pred.kmod)\n",
    "roc1\n"
   ]
  },
  {
   "cell_type": "code",
   "execution_count": null,
   "metadata": {},
   "outputs": [],
   "source": []
  },
  {
   "cell_type": "code",
   "execution_count": 40,
   "metadata": {},
   "outputs": [
    {
     "name": "stderr",
     "output_type": "stream",
     "text": [
      "Warning message:\n",
      "\"Quick-TRANSfer stage steps exceeded maximum (= 9968200)\"\n"
     ]
    },
    {
     "data": {
      "text/html": [
       "<table>\n",
       "<caption>A data.frame: 2000 × 3</caption>\n",
       "<thead>\n",
       "\t<tr><th scope=col>clust</th><th scope=col>class</th><th scope=col>Freq</th></tr>\n",
       "\t<tr><th scope=col>&lt;fct&gt;</th><th scope=col>&lt;fct&gt;</th><th scope=col>&lt;int&gt;</th></tr>\n",
       "</thead>\n",
       "<tbody>\n",
       "\t<tr><td>1 </td><td>0</td><td>237</td></tr>\n",
       "\t<tr><td>2 </td><td>0</td><td>315</td></tr>\n",
       "\t<tr><td>3 </td><td>0</td><td> 56</td></tr>\n",
       "\t<tr><td>4 </td><td>0</td><td>197</td></tr>\n",
       "\t<tr><td>5 </td><td>0</td><td>273</td></tr>\n",
       "\t<tr><td>6 </td><td>0</td><td>254</td></tr>\n",
       "\t<tr><td>7 </td><td>0</td><td>196</td></tr>\n",
       "\t<tr><td>8 </td><td>0</td><td> 21</td></tr>\n",
       "\t<tr><td>9 </td><td>0</td><td>275</td></tr>\n",
       "\t<tr><td>10</td><td>0</td><td>252</td></tr>\n",
       "\t<tr><td>11</td><td>0</td><td>337</td></tr>\n",
       "\t<tr><td>12</td><td>0</td><td>324</td></tr>\n",
       "\t<tr><td>13</td><td>0</td><td> 72</td></tr>\n",
       "\t<tr><td>14</td><td>0</td><td> 20</td></tr>\n",
       "\t<tr><td>15</td><td>0</td><td>221</td></tr>\n",
       "\t<tr><td>16</td><td>0</td><td>378</td></tr>\n",
       "\t<tr><td>17</td><td>0</td><td>312</td></tr>\n",
       "\t<tr><td>18</td><td>0</td><td>351</td></tr>\n",
       "\t<tr><td>19</td><td>0</td><td>249</td></tr>\n",
       "\t<tr><td>20</td><td>0</td><td>256</td></tr>\n",
       "\t<tr><td>21</td><td>0</td><td> 63</td></tr>\n",
       "\t<tr><td>22</td><td>0</td><td> 22</td></tr>\n",
       "\t<tr><td>23</td><td>0</td><td> 15</td></tr>\n",
       "\t<tr><td>24</td><td>0</td><td>132</td></tr>\n",
       "\t<tr><td>25</td><td>0</td><td>277</td></tr>\n",
       "\t<tr><td>26</td><td>0</td><td>307</td></tr>\n",
       "\t<tr><td>27</td><td>0</td><td>289</td></tr>\n",
       "\t<tr><td>28</td><td>0</td><td>331</td></tr>\n",
       "\t<tr><td>29</td><td>0</td><td> 49</td></tr>\n",
       "\t<tr><td>30</td><td>0</td><td> 42</td></tr>\n",
       "\t<tr><td>...</td><td>...</td><td>...</td></tr>\n",
       "\t<tr><td>971 </td><td>1</td><td>0</td></tr>\n",
       "\t<tr><td>972 </td><td>1</td><td>0</td></tr>\n",
       "\t<tr><td>973 </td><td>1</td><td>1</td></tr>\n",
       "\t<tr><td>974 </td><td>1</td><td>1</td></tr>\n",
       "\t<tr><td>975 </td><td>1</td><td>0</td></tr>\n",
       "\t<tr><td>976 </td><td>1</td><td>0</td></tr>\n",
       "\t<tr><td>977 </td><td>1</td><td>0</td></tr>\n",
       "\t<tr><td>978 </td><td>1</td><td>0</td></tr>\n",
       "\t<tr><td>979 </td><td>1</td><td>7</td></tr>\n",
       "\t<tr><td>980 </td><td>1</td><td>0</td></tr>\n",
       "\t<tr><td>981 </td><td>1</td><td>1</td></tr>\n",
       "\t<tr><td>982 </td><td>1</td><td>0</td></tr>\n",
       "\t<tr><td>983 </td><td>1</td><td>0</td></tr>\n",
       "\t<tr><td>984 </td><td>1</td><td>0</td></tr>\n",
       "\t<tr><td>985 </td><td>1</td><td>0</td></tr>\n",
       "\t<tr><td>986 </td><td>1</td><td>3</td></tr>\n",
       "\t<tr><td>987 </td><td>1</td><td>0</td></tr>\n",
       "\t<tr><td>988 </td><td>1</td><td>0</td></tr>\n",
       "\t<tr><td>989 </td><td>1</td><td>0</td></tr>\n",
       "\t<tr><td>990 </td><td>1</td><td>0</td></tr>\n",
       "\t<tr><td>991 </td><td>1</td><td>1</td></tr>\n",
       "\t<tr><td>992 </td><td>1</td><td>2</td></tr>\n",
       "\t<tr><td>993 </td><td>1</td><td>0</td></tr>\n",
       "\t<tr><td>994 </td><td>1</td><td>1</td></tr>\n",
       "\t<tr><td>995 </td><td>1</td><td>0</td></tr>\n",
       "\t<tr><td>996 </td><td>1</td><td>0</td></tr>\n",
       "\t<tr><td>997 </td><td>1</td><td>0</td></tr>\n",
       "\t<tr><td>998 </td><td>1</td><td>1</td></tr>\n",
       "\t<tr><td>999 </td><td>1</td><td>0</td></tr>\n",
       "\t<tr><td>1000</td><td>1</td><td>0</td></tr>\n",
       "</tbody>\n",
       "</table>\n"
      ],
      "text/latex": [
       "A data.frame: 2000 × 3\n",
       "\\begin{tabular}{lll}\n",
       " clust & class & Freq\\\\\n",
       " <fct> & <fct> & <int>\\\\\n",
       "\\hline\n",
       "\t 1  & 0 & 237\\\\\n",
       "\t 2  & 0 & 315\\\\\n",
       "\t 3  & 0 &  56\\\\\n",
       "\t 4  & 0 & 197\\\\\n",
       "\t 5  & 0 & 273\\\\\n",
       "\t 6  & 0 & 254\\\\\n",
       "\t 7  & 0 & 196\\\\\n",
       "\t 8  & 0 &  21\\\\\n",
       "\t 9  & 0 & 275\\\\\n",
       "\t 10 & 0 & 252\\\\\n",
       "\t 11 & 0 & 337\\\\\n",
       "\t 12 & 0 & 324\\\\\n",
       "\t 13 & 0 &  72\\\\\n",
       "\t 14 & 0 &  20\\\\\n",
       "\t 15 & 0 & 221\\\\\n",
       "\t 16 & 0 & 378\\\\\n",
       "\t 17 & 0 & 312\\\\\n",
       "\t 18 & 0 & 351\\\\\n",
       "\t 19 & 0 & 249\\\\\n",
       "\t 20 & 0 & 256\\\\\n",
       "\t 21 & 0 &  63\\\\\n",
       "\t 22 & 0 &  22\\\\\n",
       "\t 23 & 0 &  15\\\\\n",
       "\t 24 & 0 & 132\\\\\n",
       "\t 25 & 0 & 277\\\\\n",
       "\t 26 & 0 & 307\\\\\n",
       "\t 27 & 0 & 289\\\\\n",
       "\t 28 & 0 & 331\\\\\n",
       "\t 29 & 0 &  49\\\\\n",
       "\t 30 & 0 &  42\\\\\n",
       "\t ... & ... & ...\\\\\n",
       "\t 971  & 1 & 0\\\\\n",
       "\t 972  & 1 & 0\\\\\n",
       "\t 973  & 1 & 1\\\\\n",
       "\t 974  & 1 & 1\\\\\n",
       "\t 975  & 1 & 0\\\\\n",
       "\t 976  & 1 & 0\\\\\n",
       "\t 977  & 1 & 0\\\\\n",
       "\t 978  & 1 & 0\\\\\n",
       "\t 979  & 1 & 7\\\\\n",
       "\t 980  & 1 & 0\\\\\n",
       "\t 981  & 1 & 1\\\\\n",
       "\t 982  & 1 & 0\\\\\n",
       "\t 983  & 1 & 0\\\\\n",
       "\t 984  & 1 & 0\\\\\n",
       "\t 985  & 1 & 0\\\\\n",
       "\t 986  & 1 & 3\\\\\n",
       "\t 987  & 1 & 0\\\\\n",
       "\t 988  & 1 & 0\\\\\n",
       "\t 989  & 1 & 0\\\\\n",
       "\t 990  & 1 & 0\\\\\n",
       "\t 991  & 1 & 1\\\\\n",
       "\t 992  & 1 & 2\\\\\n",
       "\t 993  & 1 & 0\\\\\n",
       "\t 994  & 1 & 1\\\\\n",
       "\t 995  & 1 & 0\\\\\n",
       "\t 996  & 1 & 0\\\\\n",
       "\t 997  & 1 & 0\\\\\n",
       "\t 998  & 1 & 1\\\\\n",
       "\t 999  & 1 & 0\\\\\n",
       "\t 1000 & 1 & 0\\\\\n",
       "\\end{tabular}\n"
      ],
      "text/markdown": [
       "\n",
       "A data.frame: 2000 × 3\n",
       "\n",
       "| clust &lt;fct&gt; | class &lt;fct&gt; | Freq &lt;int&gt; |\n",
       "|---|---|---|\n",
       "| 1  | 0 | 237 |\n",
       "| 2  | 0 | 315 |\n",
       "| 3  | 0 |  56 |\n",
       "| 4  | 0 | 197 |\n",
       "| 5  | 0 | 273 |\n",
       "| 6  | 0 | 254 |\n",
       "| 7  | 0 | 196 |\n",
       "| 8  | 0 |  21 |\n",
       "| 9  | 0 | 275 |\n",
       "| 10 | 0 | 252 |\n",
       "| 11 | 0 | 337 |\n",
       "| 12 | 0 | 324 |\n",
       "| 13 | 0 |  72 |\n",
       "| 14 | 0 |  20 |\n",
       "| 15 | 0 | 221 |\n",
       "| 16 | 0 | 378 |\n",
       "| 17 | 0 | 312 |\n",
       "| 18 | 0 | 351 |\n",
       "| 19 | 0 | 249 |\n",
       "| 20 | 0 | 256 |\n",
       "| 21 | 0 |  63 |\n",
       "| 22 | 0 |  22 |\n",
       "| 23 | 0 |  15 |\n",
       "| 24 | 0 | 132 |\n",
       "| 25 | 0 | 277 |\n",
       "| 26 | 0 | 307 |\n",
       "| 27 | 0 | 289 |\n",
       "| 28 | 0 | 331 |\n",
       "| 29 | 0 |  49 |\n",
       "| 30 | 0 |  42 |\n",
       "| ... | ... | ... |\n",
       "| 971  | 1 | 0 |\n",
       "| 972  | 1 | 0 |\n",
       "| 973  | 1 | 1 |\n",
       "| 974  | 1 | 1 |\n",
       "| 975  | 1 | 0 |\n",
       "| 976  | 1 | 0 |\n",
       "| 977  | 1 | 0 |\n",
       "| 978  | 1 | 0 |\n",
       "| 979  | 1 | 7 |\n",
       "| 980  | 1 | 0 |\n",
       "| 981  | 1 | 1 |\n",
       "| 982  | 1 | 0 |\n",
       "| 983  | 1 | 0 |\n",
       "| 984  | 1 | 0 |\n",
       "| 985  | 1 | 0 |\n",
       "| 986  | 1 | 3 |\n",
       "| 987  | 1 | 0 |\n",
       "| 988  | 1 | 0 |\n",
       "| 989  | 1 | 0 |\n",
       "| 990  | 1 | 0 |\n",
       "| 991  | 1 | 1 |\n",
       "| 992  | 1 | 2 |\n",
       "| 993  | 1 | 0 |\n",
       "| 994  | 1 | 1 |\n",
       "| 995  | 1 | 0 |\n",
       "| 996  | 1 | 0 |\n",
       "| 997  | 1 | 0 |\n",
       "| 998  | 1 | 1 |\n",
       "| 999  | 1 | 0 |\n",
       "| 1000 | 1 | 0 |\n",
       "\n"
      ],
      "text/plain": [
       "     clust class Freq\n",
       "1    1     0     237 \n",
       "2    2     0     315 \n",
       "3    3     0      56 \n",
       "4    4     0     197 \n",
       "5    5     0     273 \n",
       "6    6     0     254 \n",
       "7    7     0     196 \n",
       "8    8     0      21 \n",
       "9    9     0     275 \n",
       "10   10    0     252 \n",
       "11   11    0     337 \n",
       "12   12    0     324 \n",
       "13   13    0      72 \n",
       "14   14    0      20 \n",
       "15   15    0     221 \n",
       "16   16    0     378 \n",
       "17   17    0     312 \n",
       "18   18    0     351 \n",
       "19   19    0     249 \n",
       "20   20    0     256 \n",
       "21   21    0      63 \n",
       "22   22    0      22 \n",
       "23   23    0      15 \n",
       "24   24    0     132 \n",
       "25   25    0     277 \n",
       "26   26    0     307 \n",
       "27   27    0     289 \n",
       "28   28    0     331 \n",
       "29   29    0      49 \n",
       "30   30    0      42 \n",
       "...  ...   ...   ... \n",
       "1971 971   1     0   \n",
       "1972 972   1     0   \n",
       "1973 973   1     1   \n",
       "1974 974   1     1   \n",
       "1975 975   1     0   \n",
       "1976 976   1     0   \n",
       "1977 977   1     0   \n",
       "1978 978   1     0   \n",
       "1979 979   1     7   \n",
       "1980 980   1     0   \n",
       "1981 981   1     1   \n",
       "1982 982   1     0   \n",
       "1983 983   1     0   \n",
       "1984 984   1     0   \n",
       "1985 985   1     0   \n",
       "1986 986   1     3   \n",
       "1987 987   1     0   \n",
       "1988 988   1     0   \n",
       "1989 989   1     0   \n",
       "1990 990   1     0   \n",
       "1991 991   1     1   \n",
       "1992 992   1     2   \n",
       "1993 993   1     0   \n",
       "1994 994   1     1   \n",
       "1995 995   1     0   \n",
       "1996 996   1     0   \n",
       "1997 997   1     0   \n",
       "1998 998   1     1   \n",
       "1999 999   1     0   \n",
       "2000 1000  1     0   "
      ]
     },
     "metadata": {},
     "output_type": "display_data"
    }
   ],
   "source": [
    "#### k-means with 1000 clusters\n",
    "kmod <- kmeans(train[,1:31],centers = 1000)\n",
    "ktab <- data.frame(table(clust=kmod$cluster, class=train$Class))\n",
    "ktab"
   ]
  },
  {
   "cell_type": "code",
   "execution_count": 34,
   "metadata": {},
   "outputs": [
    {
     "data": {
      "text/html": [
       "<table>\n",
       "<caption>A data.frame: 1 × 1</caption>\n",
       "<thead>\n",
       "\t<tr><th scope=col>n</th></tr>\n",
       "\t<tr><th scope=col>&lt;int&gt;</th></tr>\n",
       "</thead>\n",
       "<tbody>\n",
       "\t<tr><td>217</td></tr>\n",
       "</tbody>\n",
       "</table>\n"
      ],
      "text/latex": [
       "A data.frame: 1 × 1\n",
       "\\begin{tabular}{l}\n",
       " n\\\\\n",
       " <int>\\\\\n",
       "\\hline\n",
       "\t 217\\\\\n",
       "\\end{tabular}\n"
      ],
      "text/markdown": [
       "\n",
       "A data.frame: 1 × 1\n",
       "\n",
       "| n &lt;int&gt; |\n",
       "|---|\n",
       "| 217 |\n",
       "\n"
      ],
      "text/plain": [
       "  n  \n",
       "1 217"
      ]
     },
     "metadata": {},
     "output_type": "display_data"
    }
   ],
   "source": [
    "#### select clusters having at least one minority class (1)\n",
    "ktab %>% filter(class==1 & Freq >0) %>% select(clust) %>% tally()"
   ]
  },
  {
   "cell_type": "code",
   "execution_count": 35,
   "metadata": {},
   "outputs": [],
   "source": [
    "clust <- ktab %>% filter(class==1 & Freq >0) %>% select(clust) "
   ]
  },
  {
   "cell_type": "code",
   "execution_count": 36,
   "metadata": {},
   "outputs": [],
   "source": [
    "train$cluster <- kmod$cluster\n",
    "\n",
    "train2 <- train %>% filter(cluster %in% as.numeric(clust$clust))"
   ]
  },
  {
   "cell_type": "code",
   "execution_count": 37,
   "metadata": {
    "scrolled": false
   },
   "outputs": [
    {
     "data": {
      "text/plain": [
       "      Time              V1                  V2                 V3           \n",
       " Min.   :   402   Min.   :-40.47014   Min.   :-38.4368   Min.   :-33.68098  \n",
       " 1st Qu.: 48428   1st Qu.: -0.91665   1st Qu.: -0.5196   1st Qu.: -0.71862  \n",
       " Median : 78858   Median :  0.02396   Median :  0.1054   Median :  0.29135  \n",
       " Mean   : 89049   Mean   : -0.00270   Mean   :  0.1066   Mean   :  0.09007  \n",
       " 3rd Qu.:139088   3rd Qu.:  1.28729   3rd Qu.:  0.8318   3rd Qu.:  1.10921  \n",
       " Max.   :170467   Max.   :  2.45189   Max.   : 19.1672   Max.   :  4.22611  \n",
       "       V4                 V5                  V6                  V7           \n",
       " Min.   :-5.41631   Min.   :-23.66973   Min.   :-23.49671   Min.   :-37.06031  \n",
       " 1st Qu.:-0.80737   1st Qu.: -0.67791   1st Qu.: -0.76051   1st Qu.: -0.58485  \n",
       " Median : 0.03668   Median : -0.07334   Median : -0.27130   Median : -0.00054  \n",
       " Mean   : 0.07009   Mean   :  0.00323   Mean   : -0.02189   Mean   : -0.09109  \n",
       " 3rd Qu.: 0.81024   3rd Qu.:  0.58901   3rd Qu.:  0.37416   3rd Qu.:  0.51632  \n",
       " Max.   :12.69954   Max.   : 34.09931   Max.   :  9.91117   Max.   : 13.72371  \n",
       "       V8                  V9                  V10           \n",
       " Min.   :-41.48482   Min.   :-11.126624   Min.   :-23.22826  \n",
       " 1st Qu.: -0.19979   1st Qu.: -0.601528   1st Qu.: -0.54127  \n",
       " Median :  0.02938   Median : -0.006786   Median : -0.11176  \n",
       " Mean   :  0.01195   Mean   :  0.090812   Mean   : -0.03703  \n",
       " 3rd Qu.:  0.32435   3rd Qu.:  0.751144   3rd Qu.:  0.43310  \n",
       " Max.   : 20.00721   Max.   : 10.370658   Max.   : 15.24569  \n",
       "      V11                V12                 V13                V14           \n",
       " Min.   :-4.11026   Min.   :-18.68371   Min.   :-3.96176   Min.   :-19.21432  \n",
       " 1st Qu.:-0.69697   1st Qu.: -0.62814   1st Qu.:-0.58946   1st Qu.: -0.38449  \n",
       " Median : 0.04725   Median :  0.06158   Median : 0.06713   Median :  0.10305  \n",
       " Mean   : 0.10269   Mean   : -0.20096   Mean   : 0.11228   Mean   :  0.05459  \n",
       " 3rd Qu.: 0.85997   3rd Qu.:  0.57039   3rd Qu.: 0.81320   3rd Qu.:  0.58859  \n",
       " Max.   :12.01891   Max.   :  4.84645   Max.   : 4.26285   Max.   :  7.66773  \n",
       "      V15                V16                 V17                 V18           \n",
       " Min.   :-4.49894   Min.   :-14.12985   Min.   :-25.16280   Min.   :-9.498746  \n",
       " 1st Qu.:-0.63300   1st Qu.: -0.47651   1st Qu.: -0.44704   1st Qu.:-0.493533  \n",
       " Median : 0.02288   Median :  0.06960   Median : -0.03140   Median :-0.000325  \n",
       " Mean   :-0.03438   Mean   : -0.01571   Mean   :  0.00541   Mean   :-0.004617  \n",
       " 3rd Qu.: 0.64211   3rd Qu.:  0.53334   3rd Qu.:  0.43828   3rd Qu.: 0.505059  \n",
       " Max.   : 5.68590   Max.   :  5.72032   Max.   :  9.25353   Max.   : 4.295648  \n",
       "      V19                 V20                 V21           \n",
       " Min.   :-4.932733   Min.   :-21.02482   Min.   :-20.26205  \n",
       " 1st Qu.:-0.468736   1st Qu.: -0.21018   1st Qu.: -0.23179  \n",
       " Median :-0.009095   Median : -0.06696   Median : -0.04482  \n",
       " Mean   :-0.006026   Mean   : -0.01929   Mean   : -0.01264  \n",
       " 3rd Qu.: 0.457559   3rd Qu.:  0.12076   3rd Qu.:  0.16188  \n",
       " Max.   : 5.228342   Max.   : 13.53072   Max.   : 27.20284  \n",
       "      V22                 V23                  V24           \n",
       " Min.   :-8.887017   Min.   :-25.356744   Min.   :-2.824849  \n",
       " 1st Qu.:-0.534090   1st Qu.: -0.154453   1st Qu.:-0.351375  \n",
       " Median : 0.008462   Median : -0.011226   Median : 0.043105  \n",
       " Mean   :-0.008929   Mean   :  0.007058   Mean   : 0.003335  \n",
       " 3rd Qu.: 0.497599   3rd Qu.:  0.143208   3rd Qu.: 0.433508  \n",
       " Max.   : 5.812739   Max.   : 19.002942   Max.   : 3.951679  \n",
       "      V25                 V26                V27                 V28           \n",
       " Min.   :-6.035054   Min.   :-1.69702   Min.   :-9.845808   Min.   :-8.307955  \n",
       " 1st Qu.:-0.309689   1st Qu.:-0.31742   1st Qu.:-0.069229   1st Qu.:-0.051849  \n",
       " Median : 0.029983   Median :-0.03360   Median : 0.001711   Median : 0.012148  \n",
       " Mean   : 0.009162   Mean   : 0.01166   Mean   : 0.000966   Mean   : 0.000108  \n",
       " 3rd Qu.: 0.356612   3rd Qu.: 0.26491   3rd Qu.: 0.089288   3rd Qu.: 0.075816  \n",
       " Max.   : 5.541598   Max.   : 3.11929   Max.   : 9.879903   Max.   :15.942151  \n",
       "     Amount            Class             cluster   \n",
       " Min.   :   0.00   Min.   :0.000000   Min.   :  6  \n",
       " 1st Qu.:   5.94   1st Qu.:0.000000   1st Qu.:212  \n",
       " Median :  20.00   Median :0.000000   Median :470  \n",
       " Mean   :  65.98   Mean   :0.006627   Mean   :480  \n",
       " 3rd Qu.:  68.70   3rd Qu.:0.000000   3rd Qu.:737  \n",
       " Max.   :5707.82   Max.   :1.000000   Max.   :999  "
      ]
     },
     "metadata": {},
     "output_type": "display_data"
    },
    {
     "data": {
      "text/plain": [
       "      Time                V1                 V2                  V3          \n",
       " Min.   :   190.1   Min.   :-36.8023   Min.   :-63.34470   Min.   :-48.3256  \n",
       " 1st Qu.: 53627.0   1st Qu.: -0.4801   1st Qu.: -1.27736   1st Qu.: -0.7643  \n",
       " Median : 84747.4   Median : -0.1459   Median :  0.05154   Median : -0.5043  \n",
       " Mean   : 94789.1   Mean   : -0.6807   Mean   : -1.19966   Mean   : -0.5213  \n",
       " 3rd Qu.:141170.7   3rd Qu.:  0.2660   3rd Qu.:  0.22567   3rd Qu.:  0.6694  \n",
       " Max.   :172650.8   Max.   :  1.2142   Max.   :  1.11963   Max.   :  1.2982  \n",
       "       V4                 V5                  V6                 V7           \n",
       " Min.   :-1.20980   Min.   :-113.7433   Min.   :-0.74605   Min.   : -0.88012  \n",
       " 1st Qu.:-0.15522   1st Qu.:  -0.5185   1st Qu.:-0.09999   1st Qu.: -0.14242  \n",
       " Median : 0.07495   Median :  -0.1634   Median : 0.01973   Median :  0.03004  \n",
       " Mean   : 0.26626   Mean   :  -0.7888   Mean   : 0.43132   Mean   :  0.82749  \n",
       " 3rd Qu.: 0.24277   3rd Qu.:   0.3088   3rd Qu.: 0.28413   3rd Qu.:  0.33232  \n",
       " Max.   :16.87534   Max.   :   0.8975   Max.   :73.30163   Max.   :120.58949  \n",
       "       V8                  V9                V10                 V11          \n",
       " Min.   :-27.34736   Min.   :-4.21064   Min.   :-12.00549   Min.   :-1.31134  \n",
       " 1st Qu.: -0.17203   1st Qu.:-0.25684   1st Qu.: -0.17864   1st Qu.:-0.27387  \n",
       " Median : -0.01692   Median :-0.11883   Median :  0.01132   Median : 0.01253  \n",
       " Mean   : -0.19864   Mean   :-0.06263   Mean   : -0.17861   Mean   : 0.01301  \n",
       " 3rd Qu.:  0.07430   3rd Qu.: 0.01381   3rd Qu.:  0.08419   3rd Qu.: 0.16458  \n",
       " Max.   :  0.48873   Max.   : 2.12467   Max.   :  0.69983   Max.   : 6.85390  \n",
       "      V12                V13                 V14                V15          \n",
       " Min.   :-9.18942   Min.   :-0.634253   Min.   :-6.79594   Min.   :-1.61155  \n",
       " 1st Qu.: 0.06387   1st Qu.:-0.168617   1st Qu.:-0.13492   1st Qu.:-0.21274  \n",
       " Median : 0.16175   Median :-0.093576   Median :-0.05649   Median :-0.07730  \n",
       " Mean   :-0.03973   Mean   : 0.041895   Mean   : 0.05864   Mean   : 0.01363  \n",
       " 3rd Qu.: 0.23395   3rd Qu.:-0.005316   3rd Qu.: 0.03829   3rd Qu.: 0.26721  \n",
       " Max.   : 1.87998   Max.   : 7.126883   Max.   : 5.98921   Max.   : 8.87774  \n",
       "      V16                 V17                 V18                V19           \n",
       " Min.   :-0.889877   Min.   :-7.173805   Min.   :-1.96804   Min.   :-7.213527  \n",
       " 1st Qu.:-0.074254   1st Qu.:-0.080519   1st Qu.:-0.09125   1st Qu.:-0.085242  \n",
       " Median :-0.002359   Median :-0.027815   Median : 0.01270   Median :-0.008305  \n",
       " Mean   : 0.032705   Mean   : 0.006238   Mean   : 0.04063   Mean   :-0.069911  \n",
       " 3rd Qu.: 0.050649   3rd Qu.: 0.048528   3rd Qu.: 0.11327   3rd Qu.: 0.046215  \n",
       " Max.   :17.315112   Max.   : 1.413407   Max.   : 5.04107   Max.   : 5.501747  \n",
       "      V20                 V21                 V22           \n",
       " Min.   :-54.49772   Min.   :-21.62012   Min.   :-10.93314  \n",
       " 1st Qu.: -0.06985   1st Qu.: -0.05241   1st Qu.: -0.15271  \n",
       " Median : -0.00981   Median :  0.01118   Median : -0.04145  \n",
       " Mean   :  0.40443   Mean   :  0.10752   Mean   : -0.09088  \n",
       " 3rd Qu.:  0.18855   3rd Qu.:  0.10622   3rd Qu.:  0.12099  \n",
       " Max.   : 39.42090   Max.   : 11.50258   Max.   :  5.71230  \n",
       "      V23                  V24                 V25          \n",
       " Min.   :-17.173665   Min.   :-0.519404   Min.   :-7.08132  \n",
       " 1st Qu.: -0.044254   1st Qu.:-0.037959   1st Qu.:-0.14592  \n",
       " Median : -0.002681   Median : 0.002042   Median :-0.04118  \n",
       " Mean   : -0.119886   Mean   : 0.015377   Mean   :-0.04633  \n",
       " 3rd Qu.:  0.045468   3rd Qu.: 0.039946   3rd Qu.: 0.12921  \n",
       " Max.   :  7.040028   Max.   : 4.584549   Max.   : 4.55468  \n",
       "      V26                 V27                V28                 Amount        \n",
       " Min.   :-2.604551   Min.   :-3.60248   Min.   :-15.430084   Min.   :   17.47  \n",
       " 1st Qu.:-0.033185   1st Qu.:-0.02631   1st Qu.: -0.016383   1st Qu.:   43.56  \n",
       " Median : 0.003407   Median : 0.00043   Median : -0.001188   Median :   56.70  \n",
       " Mean   : 0.000872   Mean   : 0.03720   Mean   : -0.003998   Mean   :  471.84  \n",
       " 3rd Qu.: 0.043836   3rd Qu.: 0.02274   3rd Qu.:  0.015376   3rd Qu.:  343.74  \n",
       " Max.   : 3.415636   Max.   :31.61220   Max.   :  3.450224   Max.   :25691.16  \n",
       "     Class         \n",
       " Min.   :0.000000  \n",
       " 1st Qu.:0.000000  \n",
       " Median :0.000000  \n",
       " Mean   :0.001916  \n",
       " 3rd Qu.:0.000000  \n",
       " Max.   :0.076923  "
      ]
     },
     "metadata": {},
     "output_type": "display_data"
    }
   ],
   "source": [
    "summary(train2)\n",
    "summary(kmod$centers)"
   ]
  },
  {
   "cell_type": "code",
   "execution_count": 41,
   "metadata": {},
   "outputs": [],
   "source": [
    "train2$cluster <- NULL"
   ]
  },
  {
   "cell_type": "code",
   "execution_count": 42,
   "metadata": {},
   "outputs": [
    {
     "data": {
      "text/plain": [
       "\n",
       "Call:\n",
       "glm(formula = Class ~ ., family = \"binomial\", data = train2)\n",
       "\n",
       "Deviance Residuals: \n",
       "    Min       1Q   Median       3Q      Max  \n",
       "-5.0083  -0.0486  -0.0306  -0.0186   4.2068  \n",
       "\n",
       "Coefficients:\n",
       "              Estimate Std. Error z value Pr(>|z|)    \n",
       "(Intercept) -7.861e+00  3.547e-01 -22.164  < 2e-16 ***\n",
       "Time        -7.659e-09  2.964e-06  -0.003 0.997938    \n",
       "V1           1.116e-01  6.236e-02   1.789 0.073633 .  \n",
       "V2           2.031e-01  1.014e-01   2.003 0.045185 *  \n",
       "V3           2.517e-02  7.446e-02   0.338 0.735341    \n",
       "V4           6.539e-01  1.022e-01   6.399 1.56e-10 ***\n",
       "V5           1.671e-01  1.010e-01   1.655 0.097962 .  \n",
       "V6          -2.385e-01  1.089e-01  -2.190 0.028509 *  \n",
       "V7          -1.933e-01  1.052e-01  -1.838 0.066094 .  \n",
       "V8          -2.101e-01  4.961e-02  -4.236 2.28e-05 ***\n",
       "V9          -1.110e-01  1.527e-01  -0.727 0.467264    \n",
       "V10         -5.606e-01  1.419e-01  -3.951 7.77e-05 ***\n",
       "V11         -2.879e-02  1.107e-01  -0.260 0.794755    \n",
       "V12          8.830e-02  1.103e-01   0.800 0.423566    \n",
       "V13         -3.783e-01  1.059e-01  -3.571 0.000356 ***\n",
       "V14         -6.860e-01  8.628e-02  -7.951 1.86e-15 ***\n",
       "V15         -4.508e-02  1.171e-01  -0.385 0.700161    \n",
       "V16         -1.457e-01  1.735e-01  -0.840 0.401115    \n",
       "V17         -5.528e-02  9.317e-02  -0.593 0.552948    \n",
       "V18         -3.008e-02  1.743e-01  -0.173 0.863003    \n",
       "V19          2.776e-02  1.357e-01   0.205 0.837894    \n",
       "V20         -4.783e-01  1.387e-01  -3.449 0.000562 ***\n",
       "V21          2.557e-01  8.683e-02   2.945 0.003226 ** \n",
       "V22          6.499e-01  1.841e-01   3.529 0.000416 ***\n",
       "V23         -8.293e-02  9.753e-02  -0.850 0.395162    \n",
       "V24         -3.912e-02  2.037e-01  -0.192 0.847717    \n",
       "V25          3.198e-01  1.879e-01   1.702 0.088765 .  \n",
       "V26         -1.515e-01  2.541e-01  -0.596 0.550951    \n",
       "V27         -7.321e-01  1.987e-01  -3.685 0.000229 ***\n",
       "V28         -3.027e-01  1.812e-01  -1.671 0.094805 .  \n",
       "Amount       3.733e-03  8.478e-04   4.404 1.06e-05 ***\n",
       "---\n",
       "Signif. codes:  0 '***' 0.001 '**' 0.01 '*' 0.05 '.' 0.1 ' ' 1\n",
       "\n",
       "(Dispersion parameter for binomial family taken to be 1)\n",
       "\n",
       "    Null deviance: 4173.2  on 52360  degrees of freedom\n",
       "Residual deviance: 1054.1  on 52330  degrees of freedom\n",
       "AIC: 1116.1\n",
       "\n",
       "Number of Fisher Scoring iterations: 10\n"
      ]
     },
     "metadata": {},
     "output_type": "display_data"
    }
   ],
   "source": [
    "#### run logistic regression model\n",
    "mod4 <- glm(Class ~., data=train2, family=\"binomial\")\n",
    "summary(mod4)"
   ]
  },
  {
   "cell_type": "code",
   "execution_count": 43,
   "metadata": {},
   "outputs": [],
   "source": [
    "pred4 <- predict(mod4,newdata=test,type=\"response\")"
   ]
  },
  {
   "cell_type": "code",
   "execution_count": 44,
   "metadata": {},
   "outputs": [
    {
     "data": {
      "image/png": "[encoded data removed]",
      "text/plain": [
       "Plot with title \"Histogram of pred4\""
      ]
     },
     "metadata": {
      "image/png": {
       "height": 420,
       "width": 420
      }
     },
     "output_type": "display_data"
    }
   ],
   "source": [
    "hist(pred4)"
   ]
  },
  {
   "cell_type": "code",
   "execution_count": 45,
   "metadata": {},
   "outputs": [
    {
     "data": {
      "text/plain": [
       "   pred\n",
       "obs     0     1\n",
       "  0 85228    70\n",
       "  1    49    96"
      ]
     },
     "metadata": {},
     "output_type": "display_data"
    }
   ],
   "source": [
    "table(obs=test$Class, pred=ifelse(pred4>0.5,1,0))"
   ]
  },
  {
   "cell_type": "code",
   "execution_count": 51,
   "metadata": {},
   "outputs": [
    {
     "name": "stderr",
     "output_type": "stream",
     "text": [
      "Setting levels: control = 0, case = 1\n",
      "\n",
      "Setting direction: controls < cases\n",
      "\n"
     ]
    },
    {
     "data": {
      "text/plain": [
       "\n",
       "Call:\n",
       "roc.default(response = test$Class, predictor = pred4)\n",
       "\n",
       "Data: pred4 in 85298 controls (test$Class 0) < 145 cases (test$Class 1).\n",
       "Area under the curve: 0.9783"
      ]
     },
     "metadata": {},
     "output_type": "display_data"
    }
   ],
   "source": [
    "### AUC\n",
    "roc1 <- pROC::roc(test$Class, pred4)\n",
    "roc1"
   ]
  },
  {
   "cell_type": "code",
   "execution_count": 46,
   "metadata": {},
   "outputs": [
    {
     "name": "stdout",
     "output_type": "stream",
     "text": [
      "Growing trees.. Progress: 74%. Estimated remaining time: 10 seconds.\n"
     ]
    },
    {
     "data": {
      "text/plain": [
       "Ranger result\n",
       "\n",
       "Call:\n",
       " ranger::ranger(Class ~ ., data = train2) \n",
       "\n",
       "Type:                             Regression \n",
       "Number of trees:                  500 \n",
       "Sample size:                      52361 \n",
       "Number of independent variables:  30 \n",
       "Mtry:                             5 \n",
       "Target node size:                 5 \n",
       "Variable importance mode:         none \n",
       "Splitrule:                        variance \n",
       "OOB prediction error (MSE):       0.001232496 \n",
       "R squared (OOB):                  0.8127839 "
      ]
     },
     "metadata": {},
     "output_type": "display_data"
    }
   ],
   "source": [
    "#### run random forest model\n",
    "mod5 <- ranger::ranger(Class ~., data=train2)\n",
    "mod5"
   ]
  },
  {
   "cell_type": "code",
   "execution_count": 47,
   "metadata": {},
   "outputs": [
    {
     "data": {
      "image/png": "[encoded data removed]",
      "text/plain": [
       "Plot with title \"Histogram of pred5$predictions\""
      ]
     },
     "metadata": {
      "image/png": {
       "height": 420,
       "width": 420
      }
     },
     "output_type": "display_data"
    }
   ],
   "source": [
    "pred5 <- predict(mod5,data=test)\n",
    "hist(pred5$predictions)"
   ]
  },
  {
   "cell_type": "code",
   "execution_count": 48,
   "metadata": {},
   "outputs": [
    {
     "data": {
      "text/plain": [
       "   pred\n",
       "obs     0     1\n",
       "  0 85277    21\n",
       "  1    34   111"
      ]
     },
     "metadata": {},
     "output_type": "display_data"
    }
   ],
   "source": [
    "table(obs=test$Class, pred=ifelse(pred5$predictions>0.5,1,0))"
   ]
  },
  {
   "cell_type": "code",
   "execution_count": 52,
   "metadata": {},
   "outputs": [
    {
     "name": "stderr",
     "output_type": "stream",
     "text": [
      "Setting levels: control = 0, case = 1\n",
      "\n",
      "Setting direction: controls < cases\n",
      "\n"
     ]
    },
    {
     "data": {
      "text/plain": [
       "\n",
       "Call:\n",
       "roc.default(response = test$Class, predictor = pred5$predictions)\n",
       "\n",
       "Data: pred5$predictions in 85298 controls (test$Class 0) < 145 cases (test$Class 1).\n",
       "Area under the curve: 0.9567"
      ]
     },
     "metadata": {},
     "output_type": "display_data"
    }
   ],
   "source": [
    "### AUC\n",
    "roc2 <- pROC::roc(test$Class, pred5$predictions)\n",
    "roc2"
   ]
  },
  {
   "cell_type": "code",
   "execution_count": 53,
   "metadata": {},
   "outputs": [
    {
     "data": {
      "text/plain": [
       "   pred\n",
       "obs      0      1\n",
       "  0 284268     47\n",
       "  1     38    454"
      ]
     },
     "metadata": {},
     "output_type": "display_data"
    },
    {
     "data": {
      "image/png": "[encoded data removed]",
      "text/plain": [
       "Plot with title \"Histogram of pred5a$predictions\""
      ]
     },
     "metadata": {
      "image/png": {
       "height": 420,
       "width": 420
      }
     },
     "output_type": "display_data"
    }
   ],
   "source": [
    "### Predict on whole dataset\n",
    "pred5a <- predict(mod5,data=df)\n",
    "hist(pred5a$predictions)\n",
    "table(obs=df$Class, pred=ifelse(pred5a$predictions>0.5,1,0))"
   ]
  },
  {
   "cell_type": "code",
   "execution_count": 54,
   "metadata": {},
   "outputs": [
    {
     "name": "stderr",
     "output_type": "stream",
     "text": [
      "Setting levels: control = 0, case = 1\n",
      "\n",
      "Setting direction: controls < cases\n",
      "\n"
     ]
    },
    {
     "data": {
      "text/plain": [
       "\n",
       "Call:\n",
       "roc.default(response = df$Class, predictor = pred5a$predictions)\n",
       "\n",
       "Data: pred5a$predictions in 284315 controls (df$Class 0) < 492 cases (df$Class 1).\n",
       "Area under the curve: 0.9874"
      ]
     },
     "metadata": {},
     "output_type": "display_data"
    }
   ],
   "source": [
    "roc1 <- pROC::roc(df$Class, pred5a$predictions)\n",
    "roc1"
   ]
  },
  {
   "cell_type": "code",
   "execution_count": null,
   "metadata": {},
   "outputs": [],
   "source": []
  },
  {
   "cell_type": "code",
   "execution_count": null,
   "metadata": {},
   "outputs": [],
   "source": []
  }
 ],
 "metadata": {
  "kernelspec": {
   "display_name": "R",
   "language": "R",
   "name": "ir"
  },
  "language_info": {
   "codemirror_mode": "r",
   "file_extension": ".r",
   "mimetype": "text/x-r-source",
   "name": "R",
   "pygments_lexer": "r",
   "version": "4.1.2"
  }
 },
 "nbformat": 4,
 "nbformat_minor": 2
}
